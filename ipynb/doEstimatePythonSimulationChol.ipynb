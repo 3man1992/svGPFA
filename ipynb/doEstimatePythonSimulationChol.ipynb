{
  "nbformat": 4,
  "nbformat_minor": 0,
  "metadata": {
    "kernelspec": {
      "display_name": "Python 3",
      "language": "python",
      "name": "python3"
    },
    "language_info": {
      "codemirror_mode": {
        "name": "ipython",
        "version": 3
      },
      "file_extension": ".py",
      "mimetype": "text/x-python",
      "name": "python",
      "nbconvert_exporter": "python",
      "pygments_lexer": "ipython3",
      "version": "3.7.4"
    },
    "colab": {
      "name": "doEstimatePythonSimulationChol.ipynb",
      "provenance": [],
      "collapsed_sections": [],
      "include_colab_link": true
    }
  },
  "cells": [
    {
      "cell_type": "markdown",
      "metadata": {
        "id": "view-in-github",
        "colab_type": "text"
      },
      "source": [
        "<a href=\"https://colab.research.google.com/github/joacorapela/svGPFA/blob/master/ipynb/doEstimatePythonSimulationChol.ipynb\" target=\"_parent\"><img src=\"https://colab.research.google.com/assets/colab-badge.svg\" alt=\"Open In Colab\"/></a>"
      ]
    },
    {
      "cell_type": "markdown",
      "metadata": {
        "id": "fN6ELszFC3Hp"
      },
      "source": [
        "# Clone repository"
      ]
    },
    {
      "cell_type": "code",
      "metadata": {
        "id": "ymMmBCac_NDp",
        "colab": {
          "base_uri": "https://localhost:8080/"
        },
        "outputId": "629e1cd9-6dc1-4d74-82fd-d68b36517160"
      },
      "source": [
        "!git clone https://github.com/joacorapela/svGPFA.git\n",
        "%cd /content/svGPFA/ipynb"
      ],
      "execution_count": 1,
      "outputs": [
        {
          "output_type": "stream",
          "text": [
            "Cloning into 'svGPFA'...\n",
            "remote: Enumerating objects: 6424, done.\u001b[K\n",
            "remote: Counting objects: 100% (631/631), done.\u001b[K\n",
            "remote: Compressing objects: 100% (332/332), done.\u001b[K\n",
            "remote: Total 6424 (delta 412), reused 489 (delta 293), pack-reused 5793\u001b[K\n",
            "Receiving objects: 100% (6424/6424), 204.48 MiB | 32.93 MiB/s, done.\n",
            "Resolving deltas: 100% (3821/3821), done.\n",
            "/content/svGPFA/ipynb\n"
          ],
          "name": "stdout"
        }
      ]
    },
    {
      "cell_type": "markdown",
      "metadata": {
        "id": "DoqMvR5j_HzN"
      },
      "source": [
        "# Import requirements"
      ]
    },
    {
      "cell_type": "code",
      "metadata": {
        "id": "MeHQdcLB_HzO",
        "colab": {
          "base_uri": "https://localhost:8080/"
        },
        "outputId": "dfaa65c9-8294-4e2b-edaa-d4b3394d6e08"
      },
      "source": [
        "import sys\n",
        "import os\n",
        "import pdb\n",
        "import math\n",
        "import random\n",
        "import torch\n",
        "import pickle\n",
        "import configparser\n",
        "import pandas as pd\n",
        "import statsmodels.tsa.stattools\n",
        "import sklearn.metrics\n",
        "import matplotlib.pyplot as plt\n",
        "\n",
        "sys.path.append(\"../src\")\n",
        "sys.path.append(\"../scripts\")\n",
        "import stats.svGPFA.svGPFAModelFactory\n",
        "import stats.svGPFA.svEM\n",
        "import plot.svGPFA.plotUtilsPlotly\n",
        "import utils.svGPFA.configUtils\n",
        "import stats.svGPFA.svGPFAModelFactory\n",
        "\n",
        "import stats.pointProcess.tests\n",
        "import utils.svGPFA.miscUtils\n",
        "import utils.svGPFA.initUtils"
      ],
      "execution_count": 2,
      "outputs": [
        {
          "output_type": "stream",
          "text": [
            "/usr/local/lib/python3.7/dist-packages/statsmodels/tools/_testing.py:19: FutureWarning: pandas.util.testing is deprecated. Use the functions in the public API at pandas.testing instead.\n",
            "  import pandas.util.testing as tm\n"
          ],
          "name": "stderr"
        }
      ]
    },
    {
      "cell_type": "code",
      "metadata": {
        "colab": {
          "base_uri": "https://localhost:8080/",
          "height": 35
        },
        "id": "TJmyZ5Gpsf8T",
        "outputId": "2606012a-b6a7-4ed1-c20e-13a10e526749"
      },
      "source": [
        "%pwd"
      ],
      "execution_count": 3,
      "outputs": [
        {
          "output_type": "execute_result",
          "data": {
            "application/vnd.google.colaboratory.intrinsic+json": {
              "type": "string"
            },
            "text/plain": [
              "'/content/svGPFA/ipynb'"
            ]
          },
          "metadata": {
            "tags": []
          },
          "execution_count": 3
        }
      ]
    },
    {
      "cell_type": "code",
      "metadata": {
        "colab": {
          "base_uri": "https://localhost:8080/"
        },
        "id": "lcVv_fpquyyN",
        "outputId": "a7496208-01e8-421f-a407-36771a112029"
      },
      "source": [
        "print(sys.path)"
      ],
      "execution_count": 4,
      "outputs": [
        {
          "output_type": "stream",
          "text": [
            "['', '/content', '/env/python', '/usr/lib/python37.zip', '/usr/lib/python3.7', '/usr/lib/python3.7/lib-dynload', '/usr/local/lib/python3.7/dist-packages', '/usr/lib/python3/dist-packages', '/usr/local/lib/python3.7/dist-packages/IPython/extensions', '/root/.ipython', '../src', '../scripts']\n"
          ],
          "name": "stdout"
        }
      ]
    },
    {
      "cell_type": "code",
      "metadata": {
        "id": "W7ya3y0JvCj9"
      },
      "source": [
        "sys.path.insert(0, '../src')\n",
        "import stats.svGPFA.svGPFAModelFactory"
      ],
      "execution_count": 5,
      "outputs": []
    },
    {
      "cell_type": "code",
      "metadata": {
        "colab": {
          "base_uri": "https://localhost:8080/"
        },
        "id": "uFqo_huNwYpf",
        "outputId": "ce1c9043-2689-4788-cce6-98d7d6ce0c9e"
      },
      "source": [
        "print(sys.path)"
      ],
      "execution_count": 6,
      "outputs": [
        {
          "output_type": "stream",
          "text": [
            "['../src', '', '/content', '/env/python', '/usr/lib/python37.zip', '/usr/lib/python3.7', '/usr/lib/python3.7/lib-dynload', '/usr/local/lib/python3.7/dist-packages', '/usr/lib/python3/dist-packages', '/usr/local/lib/python3.7/dist-packages/IPython/extensions', '/root/.ipython', '../src', '../scripts']\n"
          ],
          "name": "stdout"
        }
      ]
    },
    {
      "cell_type": "code",
      "metadata": {
        "colab": {
          "base_uri": "https://localhost:8080/"
        },
        "id": "x24sfdccwdjB",
        "outputId": "d180e0e6-244a-4eee-93b0-72f7f5466a37"
      },
      "source": [
        "%ls ../src/stats/svGPFA"
      ],
      "execution_count": 7,
      "outputs": [
        {
          "output_type": "stream",
          "text": [
            "expectedLogLikelihood.py  svEmbedding.py         svPosteriorOnIndPoints.py\n",
            "kernelsMatricesStore.py   svEM.py                svPosteriorOnLatents.py\n",
            "klDivergence.py           svGPFAModelFactory.py\n",
            "\u001b[0m\u001b[01;34m__pycache__\u001b[0m/              svLowerBound.py\n"
          ],
          "name": "stdout"
        }
      ]
    },
    {
      "cell_type": "markdown",
      "metadata": {
        "id": "_TVSULk5_HzT"
      },
      "source": [
        "# Load data and initial values"
      ]
    },
    {
      "cell_type": "code",
      "metadata": {
        "id": "mmFWGAgK_HzU",
        "colab": {
          "base_uri": "https://localhost:8080/"
        },
        "outputId": "5967e95f-0ac7-4e5f-e722-9962b8d2ebbc"
      },
      "source": [
        "    %cd /content/svGPFA/scripts\n",
        "    \n",
        "    simResNumber = 96652136\n",
        "    estInitNumber = 464\n",
        "    em_max_iter = 3\n",
        "    nTestPoints = 2000\n",
        "\n",
        "    estInitConfigFilename = \"data/{:08d}_estimation_metaData.ini\".format(estInitNumber)\n",
        "    estInitConfig = configparser.ConfigParser()\n",
        "    estInitConfig.read(estInitConfigFilename)\n",
        "    nQuad = int(estInitConfig[\"control_variables\"][\"nQuad\"])\n",
        "    indPointsLocsKMSRegEpsilon = float(estInitConfig[\"control_variables\"][\"indPointsLocsKMSRegEpsilon\"])\n",
        "\n",
        "    optimParamsConfig = estInitConfig._sections[\"optim_params\"]\n",
        "    optimMethod = optimParamsConfig[\"em_method\"]\n",
        "    optimParams = {}\n",
        "#     optimParams[\"em_max_iter\"] = int(optimParamsConfig[\"em_max_iter\"])\n",
        "    optimParams[\"em_max_iter\"] = em_max_iter\n",
        "    steps = [\"estep\", \"mstep_embedding\", \"mstep_kernels\", \"mstep_indpointslocs\"]\n",
        "    for step in steps:\n",
        "        optimParams[\"{:s}_estimate\".format(step)] = optimParamsConfig[\"{:s}_estimate\".format(step)]==\"True\"\n",
        "        optimParams[\"{:s}_optim_params\".format(step)] = {\n",
        "            \"max_iter\": int(optimParamsConfig[\"{:s}_max_iter\".format(step)]),\n",
        "            \"lr\": float(optimParamsConfig[\"{:s}_lr\".format(step)]),\n",
        "            \"tolerance_grad\": float(optimParamsConfig[\"{:s}_tolerance_grad\".format(step)]),\n",
        "            \"tolerance_change\": float(optimParamsConfig[\"{:s}_tolerance_change\".format(step)]),\n",
        "            \"line_search_fn\": optimParamsConfig[\"{:s}_line_search_fn\".format(step)],\n",
        "        }\n",
        "    optimParams[\"verbose\"] = optimParamsConfig[\"verbose\"]==\"True\"\n",
        "\n",
        "    # load data and initial values\n",
        "    simResConfigFilename = \"results/{:08d}_simulation_metaData.ini\".format(simResNumber)\n",
        "    simResConfig = configparser.ConfigParser()\n",
        "    simResConfig.read(simResConfigFilename)\n",
        "    simInitConfigFilename = simResConfig[\"simulation_params\"][\"simInitConfigFilename\"]\n",
        "    simResFilename = simResConfig[\"simulation_results\"][\"simResFilename\"]\n",
        "\n",
        "    simInitConfig = configparser.ConfigParser()\n",
        "    simInitConfig.read(simInitConfigFilename)\n",
        "    nLatents = int(simInitConfig[\"control_variables\"][\"nLatents\"])\n",
        "    nNeurons = int(simInitConfig[\"control_variables\"][\"nNeurons\"])\n",
        "    trialsLengths = [float(str) for str in simInitConfig[\"control_variables\"][\"trialsLengths\"][1:-1].split(\",\")]\n",
        "    nTrials = len(trialsLengths)\n",
        "\n",
        "    with open(simResFilename, \"rb\") as f: simRes = pickle.load(f)\n",
        "    spikesTimes = simRes[\"spikes\"]\n",
        "    trueLatentsTimes = simRes[\"times\"]\n",
        "    trueLatentsSamples = simRes[\"latents\"]\n",
        "    trueLatentsMeans = simRes[\"latentsMeans\"]\n",
        "    trueLatentsSTDs = simRes[\"latentsSTDs\"]\n",
        "    trueLatentsSamples = [trueLatentsSamples[r][:nLatents,:] for r in range(nTrials)]\n",
        "    trueLatentsMeans = [trueLatentsMeans[r][:nLatents,:] for r in range(nTrials)]\n",
        "    trueLatentsSTDs = [trueLatentsSTDs[r][:nLatents,:] for r in range(nTrials)]\n",
        "    timesTrueValues = torch.linspace(0, torch.max(torch.tensor(trialsLengths)), trueLatentsSamples[0].shape[1])\n",
        "    testTimes = torch.linspace(0, torch.max(torch.tensor(spikesTimes[0][0])), nTestPoints)\n",
        "    tIndPointsLocs = utils.svGPFA.configUtils.getIndPointsLocs0(nLatents=nLatents, nTrials=nTrials, config=simInitConfig)\n",
        "\n",
        "    randomEmbedding = estInitConfig[\"control_variables\"][\"randomEmbedding\"].lower()==\"true\"\n",
        "    if randomEmbedding:\n",
        "        C0 = torch.rand(nNeurons, nLatents, dtype=torch.double).contiguous()\n",
        "        d0 = torch.rand(nNeurons, 1, dtype=torch.double).contiguous()\n",
        "    else:\n",
        "        CFilename = estInitConfig[\"embedding_params\"][\"C_filename\"]\n",
        "        dFilename = estInitConfig[\"embedding_params\"][\"d_filename\"]\n",
        "        C, d = utils.svGPFA.configUtils.getLinearEmbeddingParams(CFilename=CFilename, dFilename=dFilename)\n",
        "        initCondEmbeddingSTD = float(estInitConfig[\"control_variables\"][\"initCondEmbeddingSTD\"])\n",
        "        C0 = (C + torch.randn(C.shape)*initCondEmbeddingSTD).contiguous()\n",
        "        d0 = (d + torch.randn(d.shape)*initCondEmbeddingSTD).contiguous()\n",
        "\n",
        "    legQuadPoints, legQuadWeights = utils.svGPFA.miscUtils.getLegQuadPointsAndWeights(nQuad=nQuad, trialsLengths=trialsLengths)\n",
        "\n",
        "    kernels = utils.svGPFA.configUtils.getKernels(nLatents=nLatents, config=estInitConfig, forceUnitScale=True)\n",
        "    kernelsScaledParams0 = utils.svGPFA.initUtils.getKernelsScaledParams0(kernels=kernels, noiseSTD=0.0)\n",
        "    Z0 = utils.svGPFA.configUtils.getIndPointsLocs0(nLatents=nLatents, nTrials=nTrials, config=estInitConfig)\n",
        "    nIndPointsPerLatent = [Z0[k].shape[1] for k in range(nLatents)]\n",
        "\n",
        "    qMu0 = utils.svGPFA.configUtils.getVariationalMean0(nLatents=nLatents, nTrials=nTrials, config=estInitConfig)\n",
        "\n",
        "    qSigma0 = utils.svGPFA.configUtils.getVariationalCov0(nLatents=nLatents, nTrials=nTrials, config=estInitConfig)\n",
        "    srQSigma0Vecs = utils.svGPFA.initUtils.getSRQSigmaVecsFromSRMatrices(srMatrices=qSigma0)\n",
        "\n",
        "    qUParams0 = {\"qMu0\": qMu0, \"srQSigma0Vecs\": srQSigma0Vecs}\n",
        "    kmsParams0 = {\"kernelsParams0\": kernelsScaledParams0,\n",
        "                  \"inducingPointsLocs0\": Z0}\n",
        "    qKParams0 = {\"svPosteriorOnIndPoints\": qUParams0,\n",
        "                 \"kernelsMatricesStore\": kmsParams0}\n",
        "    qHParams0 = {\"C0\": C0, \"d0\": d0}\n",
        "    initialParams = {\"svPosteriorOnLatents\": qKParams0,\n",
        "                     \"svEmbedding\": qHParams0}\n",
        "    quadParams = {\"legQuadPoints\": legQuadPoints,\n",
        "                  \"legQuadWeights\": legQuadWeights}\n",
        "\n"
      ],
      "execution_count": 8,
      "outputs": [
        {
          "output_type": "stream",
          "text": [
            "/content/svGPFA/scripts\n"
          ],
          "name": "stdout"
        },
        {
          "output_type": "stream",
          "text": [
            "/usr/local/lib/python3.7/dist-packages/ipykernel_launcher.py:55: UserWarning:\n",
            "\n",
            "To copy construct from a tensor, it is recommended to use sourceTensor.clone().detach() or sourceTensor.clone().detach().requires_grad_(True), rather than torch.tensor(sourceTensor).\n",
            "\n"
          ],
          "name": "stderr"
        }
      ]
    },
    {
      "cell_type": "markdown",
      "metadata": {
        "id": "cXayKbg__HzZ"
      },
      "source": [
        "# Create model"
      ]
    },
    {
      "cell_type": "code",
      "metadata": {
        "id": "GOH2JKRN_Hza",
        "colab": {
          "base_uri": "https://localhost:8080/"
        },
        "outputId": "ea848a79-2302-476e-863b-e5c095cc3486"
      },
      "source": [
        "    # create model\n",
        "    model = stats.svGPFA.svGPFAModelFactory.SVGPFAModelFactory.buildModel(\n",
        "        conditionalDist=stats.svGPFA.svGPFAModelFactory.PointProcess,\n",
        "        linkFunction=stats.svGPFA.svGPFAModelFactory.ExponentialLink,\n",
        "        embeddingType=stats.svGPFA.svGPFAModelFactory.LinearEmbedding,\n",
        "        kernels=kernels)\n",
        "\n",
        "    model.setInitialParamsAndData(measurements=spikesTimes,\n",
        "                                  initialParams=initialParams,\n",
        "                                  quadParams=quadParams,\n",
        "                                  indPointsLocsKMSRegEpsilon=indPointsLocsKMSRegEpsilon)\n"
      ],
      "execution_count": 9,
      "outputs": [
        {
          "output_type": "stream",
          "text": [
            "../src/utils/svGPFA/miscUtils.py:156: UserWarning:\n",
            "\n",
            "torch.cholesky is deprecated in favor of torch.linalg.cholesky and will be removed in a future PyTorch release.\n",
            "L = torch.cholesky(A)\n",
            "should be replaced with\n",
            "L = torch.linalg.cholesky(A)\n",
            "and\n",
            "U = torch.cholesky(A, upper=True)\n",
            "should be replaced with\n",
            "U = torch.linalg.cholesky(A.transpose(-2, -1).conj()).transpose(-2, -1).conj() (Triggered internally at  /pytorch/aten/src/ATen/native/BatchLinearAlgebra.cpp:1284.)\n",
            "\n"
          ],
          "name": "stderr"
        }
      ]
    },
    {
      "cell_type": "markdown",
      "metadata": {
        "id": "rB6s0so2_Hze"
      },
      "source": [
        "# Maximize the Lower Bound\n",
        "<span style=\"color:red\">(Warning: with the parameters above, this step takes around 15 minutes)</span>"
      ]
    },
    {
      "cell_type": "code",
      "metadata": {
        "scrolled": false,
        "id": "ykvsp7cW_Hzf",
        "colab": {
          "base_uri": "https://localhost:8080/"
        },
        "outputId": "f5358c89-74a7-4d84-95ce-b8bd67f4769b"
      },
      "source": [
        "    svEM = stats.svGPFA.svEM.SVEM()\n",
        "    lowerBoundHist, elapsedTimeHist, terminationInfo, iterationsModelParams  = svEM.maximize(model=model, optimParams=optimParams, method=optimMethod)\n"
      ],
      "execution_count": 10,
      "outputs": [
        {
          "output_type": "stream",
          "text": [
            "Iteration 01, estep start: -inf\n",
            "Iteration 01, estep end: 145.800326, niter: 15, nfeval: 25\n",
            "Iteration 01, mstep_embedding start: 145.800326\n",
            "Iteration 01, mstep_embedding end: 135598.706180, niter: 18, nfeval: 25\n",
            "Iteration 01, mstep_kernels start: 135598.706180\n",
            "Kernel params: [tensor([1.2235], dtype=torch.float64), tensor([0.0773], dtype=torch.float64)]\n",
            "Iteration 01, mstep_kernels end: 134159.216221, niter: 18, nfeval: 19\n",
            "Iteration 01, mstep_indpointslocs start: 134159.216221\n",
            "Iteration 01, mstep_indpointslocs end: 134355.248594, niter: 20, nfeval: 25\n",
            "Iteration 02, estep start: 134355.248594\n",
            "Iteration 02, estep end: 145614.030206, niter: 15, nfeval: 25\n",
            "Iteration 02, mstep_embedding start: 145614.030206\n",
            "Iteration 02, mstep_embedding end: 150711.882524, niter: 20, nfeval: 23\n",
            "Iteration 02, mstep_kernels start: 150711.882524\n",
            "Kernel params: [tensor([0.6720], dtype=torch.float64), tensor([0.0660], dtype=torch.float64)]\n",
            "Iteration 02, mstep_kernels end: 149461.244929, niter: 19, nfeval: 20\n",
            "Iteration 02, mstep_indpointslocs start: 149461.244929\n",
            "Iteration 02, mstep_indpointslocs end: 150523.702447, niter: 20, nfeval: 23\n"
          ],
          "name": "stdout"
        }
      ]
    },
    {
      "cell_type": "markdown",
      "metadata": {
        "id": "Hljb2Rb6_Hzk"
      },
      "source": [
        "# Plot lower bound history"
      ]
    },
    {
      "cell_type": "code",
      "metadata": {
        "id": "7MGmhNbv_Hzk",
        "colab": {
          "base_uri": "https://localhost:8080/",
          "height": 341
        },
        "outputId": "853629a9-af68-40eb-9e3f-5cfd6b47e5e9"
      },
      "source": [
        "import plotly.io as pio \n",
        "pio.renderers.default = \"firefox\"\n",
        "fig = plot.svGPFA.plotUtilsPlotly.getPlotLowerBoundHist(lowerBoundHist=lowerBoundHist)\n",
        "fig.show()"
      ],
      "execution_count": 14,
      "outputs": [
        {
          "output_type": "error",
          "ename": "Error",
          "evalue": "ignored",
          "traceback": [
            "\u001b[0;31m---------------------------------------------------------------------------\u001b[0m",
            "\u001b[0;31mError\u001b[0m                                     Traceback (most recent call last)",
            "\u001b[0;32m<ipython-input-14-204f443e1ee0>\u001b[0m in \u001b[0;36m<module>\u001b[0;34m()\u001b[0m\n\u001b[1;32m      2\u001b[0m \u001b[0mpio\u001b[0m\u001b[0;34m.\u001b[0m\u001b[0mrenderers\u001b[0m\u001b[0;34m.\u001b[0m\u001b[0mdefault\u001b[0m \u001b[0;34m=\u001b[0m \u001b[0;34m\"firefox\"\u001b[0m\u001b[0;34m\u001b[0m\u001b[0;34m\u001b[0m\u001b[0m\n\u001b[1;32m      3\u001b[0m \u001b[0mfig\u001b[0m \u001b[0;34m=\u001b[0m \u001b[0mplot\u001b[0m\u001b[0;34m.\u001b[0m\u001b[0msvGPFA\u001b[0m\u001b[0;34m.\u001b[0m\u001b[0mplotUtilsPlotly\u001b[0m\u001b[0;34m.\u001b[0m\u001b[0mgetPlotLowerBoundHist\u001b[0m\u001b[0;34m(\u001b[0m\u001b[0mlowerBoundHist\u001b[0m\u001b[0;34m=\u001b[0m\u001b[0mlowerBoundHist\u001b[0m\u001b[0;34m)\u001b[0m\u001b[0;34m\u001b[0m\u001b[0;34m\u001b[0m\u001b[0m\n\u001b[0;32m----> 4\u001b[0;31m \u001b[0mfig\u001b[0m\u001b[0;34m.\u001b[0m\u001b[0mshow\u001b[0m\u001b[0;34m(\u001b[0m\u001b[0;34m)\u001b[0m\u001b[0;34m\u001b[0m\u001b[0;34m\u001b[0m\u001b[0m\n\u001b[0m",
            "\u001b[0;32m/usr/local/lib/python3.7/dist-packages/plotly/basedatatypes.py\u001b[0m in \u001b[0;36mshow\u001b[0;34m(self, *args, **kwargs)\u001b[0m\n\u001b[1;32m   2792\u001b[0m         \u001b[0;32mimport\u001b[0m \u001b[0mplotly\u001b[0m\u001b[0;34m.\u001b[0m\u001b[0mio\u001b[0m \u001b[0;32mas\u001b[0m \u001b[0mpio\u001b[0m\u001b[0;34m\u001b[0m\u001b[0;34m\u001b[0m\u001b[0m\n\u001b[1;32m   2793\u001b[0m \u001b[0;34m\u001b[0m\u001b[0m\n\u001b[0;32m-> 2794\u001b[0;31m         \u001b[0;32mreturn\u001b[0m \u001b[0mpio\u001b[0m\u001b[0;34m.\u001b[0m\u001b[0mshow\u001b[0m\u001b[0;34m(\u001b[0m\u001b[0mself\u001b[0m\u001b[0;34m,\u001b[0m \u001b[0;34m*\u001b[0m\u001b[0margs\u001b[0m\u001b[0;34m,\u001b[0m \u001b[0;34m**\u001b[0m\u001b[0mkwargs\u001b[0m\u001b[0;34m)\u001b[0m\u001b[0;34m\u001b[0m\u001b[0;34m\u001b[0m\u001b[0m\n\u001b[0m\u001b[1;32m   2795\u001b[0m \u001b[0;34m\u001b[0m\u001b[0m\n\u001b[1;32m   2796\u001b[0m     \u001b[0;32mdef\u001b[0m \u001b[0mto_json\u001b[0m\u001b[0;34m(\u001b[0m\u001b[0mself\u001b[0m\u001b[0;34m,\u001b[0m \u001b[0;34m*\u001b[0m\u001b[0margs\u001b[0m\u001b[0;34m,\u001b[0m \u001b[0;34m**\u001b[0m\u001b[0mkwargs\u001b[0m\u001b[0;34m)\u001b[0m\u001b[0;34m:\u001b[0m\u001b[0;34m\u001b[0m\u001b[0;34m\u001b[0m\u001b[0m\n",
            "\u001b[0;32m/usr/local/lib/python3.7/dist-packages/plotly/io/_renderers.py\u001b[0m in \u001b[0;36mshow\u001b[0;34m(fig, renderer, validate, **kwargs)\u001b[0m\n\u001b[1;32m    389\u001b[0m \u001b[0;34m\u001b[0m\u001b[0m\n\u001b[1;32m    390\u001b[0m     \u001b[0;31m# external renderers\u001b[0m\u001b[0;34m\u001b[0m\u001b[0;34m\u001b[0m\u001b[0;34m\u001b[0m\u001b[0m\n\u001b[0;32m--> 391\u001b[0;31m     \u001b[0mrenderers\u001b[0m\u001b[0;34m.\u001b[0m\u001b[0m_perform_external_rendering\u001b[0m\u001b[0;34m(\u001b[0m\u001b[0mfig_dict\u001b[0m\u001b[0;34m,\u001b[0m \u001b[0mrenderers_string\u001b[0m\u001b[0;34m=\u001b[0m\u001b[0mrenderer\u001b[0m\u001b[0;34m,\u001b[0m \u001b[0;34m**\u001b[0m\u001b[0mkwargs\u001b[0m\u001b[0;34m)\u001b[0m\u001b[0;34m\u001b[0m\u001b[0;34m\u001b[0m\u001b[0m\n\u001b[0m\u001b[1;32m    392\u001b[0m \u001b[0;34m\u001b[0m\u001b[0m\n\u001b[1;32m    393\u001b[0m \u001b[0;34m\u001b[0m\u001b[0m\n",
            "\u001b[0;32m/usr/local/lib/python3.7/dist-packages/plotly/io/_renderers.py\u001b[0m in \u001b[0;36m_perform_external_rendering\u001b[0;34m(self, fig_dict, renderers_string, **kwargs)\u001b[0m\n\u001b[1;32m    338\u001b[0m                         \u001b[0msetattr\u001b[0m\u001b[0;34m(\u001b[0m\u001b[0mrenderer\u001b[0m\u001b[0;34m,\u001b[0m \u001b[0mk\u001b[0m\u001b[0;34m,\u001b[0m \u001b[0mv\u001b[0m\u001b[0;34m)\u001b[0m\u001b[0;34m\u001b[0m\u001b[0;34m\u001b[0m\u001b[0m\n\u001b[1;32m    339\u001b[0m \u001b[0;34m\u001b[0m\u001b[0m\n\u001b[0;32m--> 340\u001b[0;31m                 \u001b[0mrenderer\u001b[0m\u001b[0;34m.\u001b[0m\u001b[0mrender\u001b[0m\u001b[0;34m(\u001b[0m\u001b[0mfig_dict\u001b[0m\u001b[0;34m)\u001b[0m\u001b[0;34m\u001b[0m\u001b[0;34m\u001b[0m\u001b[0m\n\u001b[0m\u001b[1;32m    341\u001b[0m \u001b[0;34m\u001b[0m\u001b[0m\n\u001b[1;32m    342\u001b[0m \u001b[0;34m\u001b[0m\u001b[0m\n",
            "\u001b[0;32m/usr/local/lib/python3.7/dist-packages/plotly/io/_base_renderers.py\u001b[0m in \u001b[0;36mrender\u001b[0;34m(self, fig_dict)\u001b[0m\n\u001b[1;32m    734\u001b[0m             \u001b[0mvalidate\u001b[0m\u001b[0;34m=\u001b[0m\u001b[0;32mFalse\u001b[0m\u001b[0;34m,\u001b[0m\u001b[0;34m\u001b[0m\u001b[0;34m\u001b[0m\u001b[0m\n\u001b[1;32m    735\u001b[0m         )\n\u001b[0;32m--> 736\u001b[0;31m         \u001b[0mopen_html_in_browser\u001b[0m\u001b[0;34m(\u001b[0m\u001b[0mhtml\u001b[0m\u001b[0;34m,\u001b[0m \u001b[0mself\u001b[0m\u001b[0;34m.\u001b[0m\u001b[0musing\u001b[0m\u001b[0;34m,\u001b[0m \u001b[0mself\u001b[0m\u001b[0;34m.\u001b[0m\u001b[0mnew\u001b[0m\u001b[0;34m,\u001b[0m \u001b[0mself\u001b[0m\u001b[0;34m.\u001b[0m\u001b[0mautoraise\u001b[0m\u001b[0;34m)\u001b[0m\u001b[0;34m\u001b[0m\u001b[0;34m\u001b[0m\u001b[0m\n\u001b[0m\u001b[1;32m    737\u001b[0m \u001b[0;34m\u001b[0m\u001b[0m\n\u001b[1;32m    738\u001b[0m \u001b[0;34m\u001b[0m\u001b[0m\n",
            "\u001b[0;32m/usr/local/lib/python3.7/dist-packages/plotly/io/_base_renderers.py\u001b[0m in \u001b[0;36mopen_html_in_browser\u001b[0;34m(html, using, new, autoraise)\u001b[0m\n\u001b[1;32m    679\u001b[0m \u001b[0;34m\u001b[0m\u001b[0m\n\u001b[1;32m    680\u001b[0m     \u001b[0mserver\u001b[0m \u001b[0;34m=\u001b[0m \u001b[0mHTTPServer\u001b[0m\u001b[0;34m(\u001b[0m\u001b[0;34m(\u001b[0m\u001b[0;34m\"127.0.0.1\"\u001b[0m\u001b[0;34m,\u001b[0m \u001b[0;36m0\u001b[0m\u001b[0;34m)\u001b[0m\u001b[0;34m,\u001b[0m \u001b[0mOneShotRequestHandler\u001b[0m\u001b[0;34m)\u001b[0m\u001b[0;34m\u001b[0m\u001b[0;34m\u001b[0m\u001b[0m\n\u001b[0;32m--> 681\u001b[0;31m     webbrowser.get(using).open(\n\u001b[0m\u001b[1;32m    682\u001b[0m         \u001b[0;34m\"http://127.0.0.1:%s\"\u001b[0m \u001b[0;34m%\u001b[0m \u001b[0mserver\u001b[0m\u001b[0;34m.\u001b[0m\u001b[0mserver_port\u001b[0m\u001b[0;34m,\u001b[0m \u001b[0mnew\u001b[0m\u001b[0;34m=\u001b[0m\u001b[0mnew\u001b[0m\u001b[0;34m,\u001b[0m \u001b[0mautoraise\u001b[0m\u001b[0;34m=\u001b[0m\u001b[0mautoraise\u001b[0m\u001b[0;34m\u001b[0m\u001b[0;34m\u001b[0m\u001b[0m\n\u001b[1;32m    683\u001b[0m     )\n",
            "\u001b[0;32m/usr/lib/python3.7/webbrowser.py\u001b[0m in \u001b[0;36mget\u001b[0;34m(using)\u001b[0m\n\u001b[1;32m     63\u001b[0m             \u001b[0;32melif\u001b[0m \u001b[0mcommand\u001b[0m\u001b[0;34m[\u001b[0m\u001b[0;36m0\u001b[0m\u001b[0;34m]\u001b[0m \u001b[0;32mis\u001b[0m \u001b[0;32mnot\u001b[0m \u001b[0;32mNone\u001b[0m\u001b[0;34m:\u001b[0m\u001b[0;34m\u001b[0m\u001b[0;34m\u001b[0m\u001b[0m\n\u001b[1;32m     64\u001b[0m                 \u001b[0;32mreturn\u001b[0m \u001b[0mcommand\u001b[0m\u001b[0;34m[\u001b[0m\u001b[0;36m0\u001b[0m\u001b[0;34m]\u001b[0m\u001b[0;34m(\u001b[0m\u001b[0;34m)\u001b[0m\u001b[0;34m\u001b[0m\u001b[0;34m\u001b[0m\u001b[0m\n\u001b[0;32m---> 65\u001b[0;31m     \u001b[0;32mraise\u001b[0m \u001b[0mError\u001b[0m\u001b[0;34m(\u001b[0m\u001b[0;34m\"could not locate runnable browser\"\u001b[0m\u001b[0;34m)\u001b[0m\u001b[0;34m\u001b[0m\u001b[0;34m\u001b[0m\u001b[0m\n\u001b[0m\u001b[1;32m     66\u001b[0m \u001b[0;34m\u001b[0m\u001b[0m\n\u001b[1;32m     67\u001b[0m \u001b[0;31m# Please note: the following definition hides a builtin function.\u001b[0m\u001b[0;34m\u001b[0m\u001b[0;34m\u001b[0m\u001b[0;34m\u001b[0m\u001b[0m\n",
            "\u001b[0;31mError\u001b[0m: could not locate runnable browser"
          ]
        }
      ]
    },
    {
      "cell_type": "code",
      "metadata": {
        "colab": {
          "base_uri": "https://localhost:8080/",
          "height": 341
        },
        "id": "1GGlhPoNDwmJ",
        "outputId": "c93ce0ac-5e6b-4526-a3ce-a9cd8713ae1a"
      },
      "source": [
        "import plotly.graph_objects as go\n",
        "fig = go.Figure({\n",
        "    \"data\": [{\"type\": \"bar\",\n",
        "              \"x\": [1, 2, 3],\n",
        "              \"y\": [1, 3, 2]}],\n",
        "    \"layout\": {\"title\": {\"text\": \"A Bar Chart\"}}\n",
        "})\n",
        "fig.show()"
      ],
      "execution_count": 15,
      "outputs": [
        {
          "output_type": "error",
          "ename": "Error",
          "evalue": "ignored",
          "traceback": [
            "\u001b[0;31m---------------------------------------------------------------------------\u001b[0m",
            "\u001b[0;31mError\u001b[0m                                     Traceback (most recent call last)",
            "\u001b[0;32m<ipython-input-15-6ca989d54411>\u001b[0m in \u001b[0;36m<module>\u001b[0;34m()\u001b[0m\n\u001b[1;32m      6\u001b[0m     \u001b[0;34m\"layout\"\u001b[0m\u001b[0;34m:\u001b[0m \u001b[0;34m{\u001b[0m\u001b[0;34m\"title\"\u001b[0m\u001b[0;34m:\u001b[0m \u001b[0;34m{\u001b[0m\u001b[0;34m\"text\"\u001b[0m\u001b[0;34m:\u001b[0m \u001b[0;34m\"A Bar Chart\"\u001b[0m\u001b[0;34m}\u001b[0m\u001b[0;34m}\u001b[0m\u001b[0;34m\u001b[0m\u001b[0;34m\u001b[0m\u001b[0m\n\u001b[1;32m      7\u001b[0m })\n\u001b[0;32m----> 8\u001b[0;31m \u001b[0mfig\u001b[0m\u001b[0;34m.\u001b[0m\u001b[0mshow\u001b[0m\u001b[0;34m(\u001b[0m\u001b[0;34m)\u001b[0m\u001b[0;34m\u001b[0m\u001b[0;34m\u001b[0m\u001b[0m\n\u001b[0m",
            "\u001b[0;32m/usr/local/lib/python3.7/dist-packages/plotly/basedatatypes.py\u001b[0m in \u001b[0;36mshow\u001b[0;34m(self, *args, **kwargs)\u001b[0m\n\u001b[1;32m   2792\u001b[0m         \u001b[0;32mimport\u001b[0m \u001b[0mplotly\u001b[0m\u001b[0;34m.\u001b[0m\u001b[0mio\u001b[0m \u001b[0;32mas\u001b[0m \u001b[0mpio\u001b[0m\u001b[0;34m\u001b[0m\u001b[0;34m\u001b[0m\u001b[0m\n\u001b[1;32m   2793\u001b[0m \u001b[0;34m\u001b[0m\u001b[0m\n\u001b[0;32m-> 2794\u001b[0;31m         \u001b[0;32mreturn\u001b[0m \u001b[0mpio\u001b[0m\u001b[0;34m.\u001b[0m\u001b[0mshow\u001b[0m\u001b[0;34m(\u001b[0m\u001b[0mself\u001b[0m\u001b[0;34m,\u001b[0m \u001b[0;34m*\u001b[0m\u001b[0margs\u001b[0m\u001b[0;34m,\u001b[0m \u001b[0;34m**\u001b[0m\u001b[0mkwargs\u001b[0m\u001b[0;34m)\u001b[0m\u001b[0;34m\u001b[0m\u001b[0;34m\u001b[0m\u001b[0m\n\u001b[0m\u001b[1;32m   2795\u001b[0m \u001b[0;34m\u001b[0m\u001b[0m\n\u001b[1;32m   2796\u001b[0m     \u001b[0;32mdef\u001b[0m \u001b[0mto_json\u001b[0m\u001b[0;34m(\u001b[0m\u001b[0mself\u001b[0m\u001b[0;34m,\u001b[0m \u001b[0;34m*\u001b[0m\u001b[0margs\u001b[0m\u001b[0;34m,\u001b[0m \u001b[0;34m**\u001b[0m\u001b[0mkwargs\u001b[0m\u001b[0;34m)\u001b[0m\u001b[0;34m:\u001b[0m\u001b[0;34m\u001b[0m\u001b[0;34m\u001b[0m\u001b[0m\n",
            "\u001b[0;32m/usr/local/lib/python3.7/dist-packages/plotly/io/_renderers.py\u001b[0m in \u001b[0;36mshow\u001b[0;34m(fig, renderer, validate, **kwargs)\u001b[0m\n\u001b[1;32m    389\u001b[0m \u001b[0;34m\u001b[0m\u001b[0m\n\u001b[1;32m    390\u001b[0m     \u001b[0;31m# external renderers\u001b[0m\u001b[0;34m\u001b[0m\u001b[0;34m\u001b[0m\u001b[0;34m\u001b[0m\u001b[0m\n\u001b[0;32m--> 391\u001b[0;31m     \u001b[0mrenderers\u001b[0m\u001b[0;34m.\u001b[0m\u001b[0m_perform_external_rendering\u001b[0m\u001b[0;34m(\u001b[0m\u001b[0mfig_dict\u001b[0m\u001b[0;34m,\u001b[0m \u001b[0mrenderers_string\u001b[0m\u001b[0;34m=\u001b[0m\u001b[0mrenderer\u001b[0m\u001b[0;34m,\u001b[0m \u001b[0;34m**\u001b[0m\u001b[0mkwargs\u001b[0m\u001b[0;34m)\u001b[0m\u001b[0;34m\u001b[0m\u001b[0;34m\u001b[0m\u001b[0m\n\u001b[0m\u001b[1;32m    392\u001b[0m \u001b[0;34m\u001b[0m\u001b[0m\n\u001b[1;32m    393\u001b[0m \u001b[0;34m\u001b[0m\u001b[0m\n",
            "\u001b[0;32m/usr/local/lib/python3.7/dist-packages/plotly/io/_renderers.py\u001b[0m in \u001b[0;36m_perform_external_rendering\u001b[0;34m(self, fig_dict, renderers_string, **kwargs)\u001b[0m\n\u001b[1;32m    338\u001b[0m                         \u001b[0msetattr\u001b[0m\u001b[0;34m(\u001b[0m\u001b[0mrenderer\u001b[0m\u001b[0;34m,\u001b[0m \u001b[0mk\u001b[0m\u001b[0;34m,\u001b[0m \u001b[0mv\u001b[0m\u001b[0;34m)\u001b[0m\u001b[0;34m\u001b[0m\u001b[0;34m\u001b[0m\u001b[0m\n\u001b[1;32m    339\u001b[0m \u001b[0;34m\u001b[0m\u001b[0m\n\u001b[0;32m--> 340\u001b[0;31m                 \u001b[0mrenderer\u001b[0m\u001b[0;34m.\u001b[0m\u001b[0mrender\u001b[0m\u001b[0;34m(\u001b[0m\u001b[0mfig_dict\u001b[0m\u001b[0;34m)\u001b[0m\u001b[0;34m\u001b[0m\u001b[0;34m\u001b[0m\u001b[0m\n\u001b[0m\u001b[1;32m    341\u001b[0m \u001b[0;34m\u001b[0m\u001b[0m\n\u001b[1;32m    342\u001b[0m \u001b[0;34m\u001b[0m\u001b[0m\n",
            "\u001b[0;32m/usr/local/lib/python3.7/dist-packages/plotly/io/_base_renderers.py\u001b[0m in \u001b[0;36mrender\u001b[0;34m(self, fig_dict)\u001b[0m\n\u001b[1;32m    734\u001b[0m             \u001b[0mvalidate\u001b[0m\u001b[0;34m=\u001b[0m\u001b[0;32mFalse\u001b[0m\u001b[0;34m,\u001b[0m\u001b[0;34m\u001b[0m\u001b[0;34m\u001b[0m\u001b[0m\n\u001b[1;32m    735\u001b[0m         )\n\u001b[0;32m--> 736\u001b[0;31m         \u001b[0mopen_html_in_browser\u001b[0m\u001b[0;34m(\u001b[0m\u001b[0mhtml\u001b[0m\u001b[0;34m,\u001b[0m \u001b[0mself\u001b[0m\u001b[0;34m.\u001b[0m\u001b[0musing\u001b[0m\u001b[0;34m,\u001b[0m \u001b[0mself\u001b[0m\u001b[0;34m.\u001b[0m\u001b[0mnew\u001b[0m\u001b[0;34m,\u001b[0m \u001b[0mself\u001b[0m\u001b[0;34m.\u001b[0m\u001b[0mautoraise\u001b[0m\u001b[0;34m)\u001b[0m\u001b[0;34m\u001b[0m\u001b[0;34m\u001b[0m\u001b[0m\n\u001b[0m\u001b[1;32m    737\u001b[0m \u001b[0;34m\u001b[0m\u001b[0m\n\u001b[1;32m    738\u001b[0m \u001b[0;34m\u001b[0m\u001b[0m\n",
            "\u001b[0;32m/usr/local/lib/python3.7/dist-packages/plotly/io/_base_renderers.py\u001b[0m in \u001b[0;36mopen_html_in_browser\u001b[0;34m(html, using, new, autoraise)\u001b[0m\n\u001b[1;32m    679\u001b[0m \u001b[0;34m\u001b[0m\u001b[0m\n\u001b[1;32m    680\u001b[0m     \u001b[0mserver\u001b[0m \u001b[0;34m=\u001b[0m \u001b[0mHTTPServer\u001b[0m\u001b[0;34m(\u001b[0m\u001b[0;34m(\u001b[0m\u001b[0;34m\"127.0.0.1\"\u001b[0m\u001b[0;34m,\u001b[0m \u001b[0;36m0\u001b[0m\u001b[0;34m)\u001b[0m\u001b[0;34m,\u001b[0m \u001b[0mOneShotRequestHandler\u001b[0m\u001b[0;34m)\u001b[0m\u001b[0;34m\u001b[0m\u001b[0;34m\u001b[0m\u001b[0m\n\u001b[0;32m--> 681\u001b[0;31m     webbrowser.get(using).open(\n\u001b[0m\u001b[1;32m    682\u001b[0m         \u001b[0;34m\"http://127.0.0.1:%s\"\u001b[0m \u001b[0;34m%\u001b[0m \u001b[0mserver\u001b[0m\u001b[0;34m.\u001b[0m\u001b[0mserver_port\u001b[0m\u001b[0;34m,\u001b[0m \u001b[0mnew\u001b[0m\u001b[0;34m=\u001b[0m\u001b[0mnew\u001b[0m\u001b[0;34m,\u001b[0m \u001b[0mautoraise\u001b[0m\u001b[0;34m=\u001b[0m\u001b[0mautoraise\u001b[0m\u001b[0;34m\u001b[0m\u001b[0;34m\u001b[0m\u001b[0m\n\u001b[1;32m    683\u001b[0m     )\n",
            "\u001b[0;32m/usr/lib/python3.7/webbrowser.py\u001b[0m in \u001b[0;36mget\u001b[0;34m(using)\u001b[0m\n\u001b[1;32m     63\u001b[0m             \u001b[0;32melif\u001b[0m \u001b[0mcommand\u001b[0m\u001b[0;34m[\u001b[0m\u001b[0;36m0\u001b[0m\u001b[0;34m]\u001b[0m \u001b[0;32mis\u001b[0m \u001b[0;32mnot\u001b[0m \u001b[0;32mNone\u001b[0m\u001b[0;34m:\u001b[0m\u001b[0;34m\u001b[0m\u001b[0;34m\u001b[0m\u001b[0m\n\u001b[1;32m     64\u001b[0m                 \u001b[0;32mreturn\u001b[0m \u001b[0mcommand\u001b[0m\u001b[0;34m[\u001b[0m\u001b[0;36m0\u001b[0m\u001b[0;34m]\u001b[0m\u001b[0;34m(\u001b[0m\u001b[0;34m)\u001b[0m\u001b[0;34m\u001b[0m\u001b[0;34m\u001b[0m\u001b[0m\n\u001b[0;32m---> 65\u001b[0;31m     \u001b[0;32mraise\u001b[0m \u001b[0mError\u001b[0m\u001b[0;34m(\u001b[0m\u001b[0;34m\"could not locate runnable browser\"\u001b[0m\u001b[0;34m)\u001b[0m\u001b[0;34m\u001b[0m\u001b[0;34m\u001b[0m\u001b[0m\n\u001b[0m\u001b[1;32m     66\u001b[0m \u001b[0;34m\u001b[0m\u001b[0m\n\u001b[1;32m     67\u001b[0m \u001b[0;31m# Please note: the following definition hides a builtin function.\u001b[0m\u001b[0;34m\u001b[0m\u001b[0;34m\u001b[0m\u001b[0;34m\u001b[0m\u001b[0m\n",
            "\u001b[0;31mError\u001b[0m: could not locate runnable browser"
          ]
        }
      ]
    },
    {
      "cell_type": "code",
      "metadata": {
        "colab": {
          "base_uri": "https://localhost:8080/",
          "height": 341
        },
        "id": "cFp7hgs3F1OI",
        "outputId": "5a9a944b-551a-4879-dad4-c67226d987c2"
      },
      "source": [
        "import plotly.graph_objects as go\n",
        "fig = go.Figure(data=go.Bar(y=[2, 3, 1]))\n",
        "fig.show()"
      ],
      "execution_count": 17,
      "outputs": [
        {
          "output_type": "error",
          "ename": "Error",
          "evalue": "ignored",
          "traceback": [
            "\u001b[0;31m---------------------------------------------------------------------------\u001b[0m",
            "\u001b[0;31mError\u001b[0m                                     Traceback (most recent call last)",
            "\u001b[0;32m<ipython-input-17-0172a8e35604>\u001b[0m in \u001b[0;36m<module>\u001b[0;34m()\u001b[0m\n\u001b[1;32m      1\u001b[0m \u001b[0;32mimport\u001b[0m \u001b[0mplotly\u001b[0m\u001b[0;34m.\u001b[0m\u001b[0mgraph_objects\u001b[0m \u001b[0;32mas\u001b[0m \u001b[0mgo\u001b[0m\u001b[0;34m\u001b[0m\u001b[0;34m\u001b[0m\u001b[0m\n\u001b[1;32m      2\u001b[0m \u001b[0mfig\u001b[0m \u001b[0;34m=\u001b[0m \u001b[0mgo\u001b[0m\u001b[0;34m.\u001b[0m\u001b[0mFigure\u001b[0m\u001b[0;34m(\u001b[0m\u001b[0mdata\u001b[0m\u001b[0;34m=\u001b[0m\u001b[0mgo\u001b[0m\u001b[0;34m.\u001b[0m\u001b[0mBar\u001b[0m\u001b[0;34m(\u001b[0m\u001b[0my\u001b[0m\u001b[0;34m=\u001b[0m\u001b[0;34m[\u001b[0m\u001b[0;36m2\u001b[0m\u001b[0;34m,\u001b[0m \u001b[0;36m3\u001b[0m\u001b[0;34m,\u001b[0m \u001b[0;36m1\u001b[0m\u001b[0;34m]\u001b[0m\u001b[0;34m)\u001b[0m\u001b[0;34m)\u001b[0m\u001b[0;34m\u001b[0m\u001b[0;34m\u001b[0m\u001b[0m\n\u001b[0;32m----> 3\u001b[0;31m \u001b[0mfig\u001b[0m\u001b[0;34m.\u001b[0m\u001b[0mshow\u001b[0m\u001b[0;34m(\u001b[0m\u001b[0;34m)\u001b[0m\u001b[0;34m\u001b[0m\u001b[0;34m\u001b[0m\u001b[0m\n\u001b[0m",
            "\u001b[0;32m/usr/local/lib/python3.7/dist-packages/plotly/basedatatypes.py\u001b[0m in \u001b[0;36mshow\u001b[0;34m(self, *args, **kwargs)\u001b[0m\n\u001b[1;32m   2792\u001b[0m         \u001b[0;32mimport\u001b[0m \u001b[0mplotly\u001b[0m\u001b[0;34m.\u001b[0m\u001b[0mio\u001b[0m \u001b[0;32mas\u001b[0m \u001b[0mpio\u001b[0m\u001b[0;34m\u001b[0m\u001b[0;34m\u001b[0m\u001b[0m\n\u001b[1;32m   2793\u001b[0m \u001b[0;34m\u001b[0m\u001b[0m\n\u001b[0;32m-> 2794\u001b[0;31m         \u001b[0;32mreturn\u001b[0m \u001b[0mpio\u001b[0m\u001b[0;34m.\u001b[0m\u001b[0mshow\u001b[0m\u001b[0;34m(\u001b[0m\u001b[0mself\u001b[0m\u001b[0;34m,\u001b[0m \u001b[0;34m*\u001b[0m\u001b[0margs\u001b[0m\u001b[0;34m,\u001b[0m \u001b[0;34m**\u001b[0m\u001b[0mkwargs\u001b[0m\u001b[0;34m)\u001b[0m\u001b[0;34m\u001b[0m\u001b[0;34m\u001b[0m\u001b[0m\n\u001b[0m\u001b[1;32m   2795\u001b[0m \u001b[0;34m\u001b[0m\u001b[0m\n\u001b[1;32m   2796\u001b[0m     \u001b[0;32mdef\u001b[0m \u001b[0mto_json\u001b[0m\u001b[0;34m(\u001b[0m\u001b[0mself\u001b[0m\u001b[0;34m,\u001b[0m \u001b[0;34m*\u001b[0m\u001b[0margs\u001b[0m\u001b[0;34m,\u001b[0m \u001b[0;34m**\u001b[0m\u001b[0mkwargs\u001b[0m\u001b[0;34m)\u001b[0m\u001b[0;34m:\u001b[0m\u001b[0;34m\u001b[0m\u001b[0;34m\u001b[0m\u001b[0m\n",
            "\u001b[0;32m/usr/local/lib/python3.7/dist-packages/plotly/io/_renderers.py\u001b[0m in \u001b[0;36mshow\u001b[0;34m(fig, renderer, validate, **kwargs)\u001b[0m\n\u001b[1;32m    389\u001b[0m \u001b[0;34m\u001b[0m\u001b[0m\n\u001b[1;32m    390\u001b[0m     \u001b[0;31m# external renderers\u001b[0m\u001b[0;34m\u001b[0m\u001b[0;34m\u001b[0m\u001b[0;34m\u001b[0m\u001b[0m\n\u001b[0;32m--> 391\u001b[0;31m     \u001b[0mrenderers\u001b[0m\u001b[0;34m.\u001b[0m\u001b[0m_perform_external_rendering\u001b[0m\u001b[0;34m(\u001b[0m\u001b[0mfig_dict\u001b[0m\u001b[0;34m,\u001b[0m \u001b[0mrenderers_string\u001b[0m\u001b[0;34m=\u001b[0m\u001b[0mrenderer\u001b[0m\u001b[0;34m,\u001b[0m \u001b[0;34m**\u001b[0m\u001b[0mkwargs\u001b[0m\u001b[0;34m)\u001b[0m\u001b[0;34m\u001b[0m\u001b[0;34m\u001b[0m\u001b[0m\n\u001b[0m\u001b[1;32m    392\u001b[0m \u001b[0;34m\u001b[0m\u001b[0m\n\u001b[1;32m    393\u001b[0m \u001b[0;34m\u001b[0m\u001b[0m\n",
            "\u001b[0;32m/usr/local/lib/python3.7/dist-packages/plotly/io/_renderers.py\u001b[0m in \u001b[0;36m_perform_external_rendering\u001b[0;34m(self, fig_dict, renderers_string, **kwargs)\u001b[0m\n\u001b[1;32m    338\u001b[0m                         \u001b[0msetattr\u001b[0m\u001b[0;34m(\u001b[0m\u001b[0mrenderer\u001b[0m\u001b[0;34m,\u001b[0m \u001b[0mk\u001b[0m\u001b[0;34m,\u001b[0m \u001b[0mv\u001b[0m\u001b[0;34m)\u001b[0m\u001b[0;34m\u001b[0m\u001b[0;34m\u001b[0m\u001b[0m\n\u001b[1;32m    339\u001b[0m \u001b[0;34m\u001b[0m\u001b[0m\n\u001b[0;32m--> 340\u001b[0;31m                 \u001b[0mrenderer\u001b[0m\u001b[0;34m.\u001b[0m\u001b[0mrender\u001b[0m\u001b[0;34m(\u001b[0m\u001b[0mfig_dict\u001b[0m\u001b[0;34m)\u001b[0m\u001b[0;34m\u001b[0m\u001b[0;34m\u001b[0m\u001b[0m\n\u001b[0m\u001b[1;32m    341\u001b[0m \u001b[0;34m\u001b[0m\u001b[0m\n\u001b[1;32m    342\u001b[0m \u001b[0;34m\u001b[0m\u001b[0m\n",
            "\u001b[0;32m/usr/local/lib/python3.7/dist-packages/plotly/io/_base_renderers.py\u001b[0m in \u001b[0;36mrender\u001b[0;34m(self, fig_dict)\u001b[0m\n\u001b[1;32m    734\u001b[0m             \u001b[0mvalidate\u001b[0m\u001b[0;34m=\u001b[0m\u001b[0;32mFalse\u001b[0m\u001b[0;34m,\u001b[0m\u001b[0;34m\u001b[0m\u001b[0;34m\u001b[0m\u001b[0m\n\u001b[1;32m    735\u001b[0m         )\n\u001b[0;32m--> 736\u001b[0;31m         \u001b[0mopen_html_in_browser\u001b[0m\u001b[0;34m(\u001b[0m\u001b[0mhtml\u001b[0m\u001b[0;34m,\u001b[0m \u001b[0mself\u001b[0m\u001b[0;34m.\u001b[0m\u001b[0musing\u001b[0m\u001b[0;34m,\u001b[0m \u001b[0mself\u001b[0m\u001b[0;34m.\u001b[0m\u001b[0mnew\u001b[0m\u001b[0;34m,\u001b[0m \u001b[0mself\u001b[0m\u001b[0;34m.\u001b[0m\u001b[0mautoraise\u001b[0m\u001b[0;34m)\u001b[0m\u001b[0;34m\u001b[0m\u001b[0;34m\u001b[0m\u001b[0m\n\u001b[0m\u001b[1;32m    737\u001b[0m \u001b[0;34m\u001b[0m\u001b[0m\n\u001b[1;32m    738\u001b[0m \u001b[0;34m\u001b[0m\u001b[0m\n",
            "\u001b[0;32m/usr/local/lib/python3.7/dist-packages/plotly/io/_base_renderers.py\u001b[0m in \u001b[0;36mopen_html_in_browser\u001b[0;34m(html, using, new, autoraise)\u001b[0m\n\u001b[1;32m    679\u001b[0m \u001b[0;34m\u001b[0m\u001b[0m\n\u001b[1;32m    680\u001b[0m     \u001b[0mserver\u001b[0m \u001b[0;34m=\u001b[0m \u001b[0mHTTPServer\u001b[0m\u001b[0;34m(\u001b[0m\u001b[0;34m(\u001b[0m\u001b[0;34m\"127.0.0.1\"\u001b[0m\u001b[0;34m,\u001b[0m \u001b[0;36m0\u001b[0m\u001b[0;34m)\u001b[0m\u001b[0;34m,\u001b[0m \u001b[0mOneShotRequestHandler\u001b[0m\u001b[0;34m)\u001b[0m\u001b[0;34m\u001b[0m\u001b[0;34m\u001b[0m\u001b[0m\n\u001b[0;32m--> 681\u001b[0;31m     webbrowser.get(using).open(\n\u001b[0m\u001b[1;32m    682\u001b[0m         \u001b[0;34m\"http://127.0.0.1:%s\"\u001b[0m \u001b[0;34m%\u001b[0m \u001b[0mserver\u001b[0m\u001b[0;34m.\u001b[0m\u001b[0mserver_port\u001b[0m\u001b[0;34m,\u001b[0m \u001b[0mnew\u001b[0m\u001b[0;34m=\u001b[0m\u001b[0mnew\u001b[0m\u001b[0;34m,\u001b[0m \u001b[0mautoraise\u001b[0m\u001b[0;34m=\u001b[0m\u001b[0mautoraise\u001b[0m\u001b[0;34m\u001b[0m\u001b[0;34m\u001b[0m\u001b[0m\n\u001b[1;32m    683\u001b[0m     )\n",
            "\u001b[0;32m/usr/lib/python3.7/webbrowser.py\u001b[0m in \u001b[0;36mget\u001b[0;34m(using)\u001b[0m\n\u001b[1;32m     63\u001b[0m             \u001b[0;32melif\u001b[0m \u001b[0mcommand\u001b[0m\u001b[0;34m[\u001b[0m\u001b[0;36m0\u001b[0m\u001b[0;34m]\u001b[0m \u001b[0;32mis\u001b[0m \u001b[0;32mnot\u001b[0m \u001b[0;32mNone\u001b[0m\u001b[0;34m:\u001b[0m\u001b[0;34m\u001b[0m\u001b[0;34m\u001b[0m\u001b[0m\n\u001b[1;32m     64\u001b[0m                 \u001b[0;32mreturn\u001b[0m \u001b[0mcommand\u001b[0m\u001b[0;34m[\u001b[0m\u001b[0;36m0\u001b[0m\u001b[0;34m]\u001b[0m\u001b[0;34m(\u001b[0m\u001b[0;34m)\u001b[0m\u001b[0;34m\u001b[0m\u001b[0;34m\u001b[0m\u001b[0m\n\u001b[0;32m---> 65\u001b[0;31m     \u001b[0;32mraise\u001b[0m \u001b[0mError\u001b[0m\u001b[0;34m(\u001b[0m\u001b[0;34m\"could not locate runnable browser\"\u001b[0m\u001b[0;34m)\u001b[0m\u001b[0;34m\u001b[0m\u001b[0;34m\u001b[0m\u001b[0m\n\u001b[0m\u001b[1;32m     66\u001b[0m \u001b[0;34m\u001b[0m\u001b[0m\n\u001b[1;32m     67\u001b[0m \u001b[0;31m# Please note: the following definition hides a builtin function.\u001b[0m\u001b[0;34m\u001b[0m\u001b[0;34m\u001b[0m\u001b[0;34m\u001b[0m\u001b[0m\n",
            "\u001b[0;31mError\u001b[0m: could not locate runnable browser"
          ]
        }
      ]
    },
    {
      "cell_type": "code",
      "metadata": {
        "colab": {
          "base_uri": "https://localhost:8080/",
          "height": 35
        },
        "id": "Uj3npOJQEGSY",
        "outputId": "ef0bdfb8-7c4b-4bb8-ebbf-9e404dac323a"
      },
      "source": [
        "import plotly.io as pio\n",
        "pio.renderers.default"
      ],
      "execution_count": 16,
      "outputs": [
        {
          "output_type": "execute_result",
          "data": {
            "application/vnd.google.colaboratory.intrinsic+json": {
              "type": "string"
            },
            "text/plain": [
              "'firefox'"
            ]
          },
          "metadata": {
            "tags": []
          },
          "execution_count": 16
        }
      ]
    },
    {
      "cell_type": "markdown",
      "metadata": {
        "id": "R2jvMBqj_Hzp"
      },
      "source": [
        "# Predict true and estimated latents"
      ]
    },
    {
      "cell_type": "code",
      "metadata": {
        "id": "479iGUsX_Hzq",
        "colab": {
          "base_uri": "https://localhost:8080/",
          "height": 341
        },
        "outputId": "dacb1d09-927d-4c11-9fde-307a712d06eb"
      },
      "source": [
        "    trialToPlot = 0\n",
        "\n",
        "    testMuK, testVarK = model.predictLatents(newTimes=trueLatentsTimes[0])                                                                                              \n",
        "    eIndPointsLocs = model.getIndPointsLocs()\n",
        "\n",
        "    fig = plot.svGPFA.plotUtilsPlotly.getPlotTrueAndEstimatedLatents(\n",
        "        tTimes=trueLatentsTimes[0],\n",
        "        tLatentsSamples=trueLatentsSamples,\n",
        "        tLatentsMeans=trueLatentsMeans,\n",
        "        tLatentsSTDs=trueLatentsSTDs,\n",
        "        tIndPointsLocs=tIndPointsLocs,\n",
        "        eTimes=trueLatentsTimes[0],\n",
        "        eLatentsMeans=testMuK,\n",
        "        eLatentsSTDs=torch.sqrt(testVarK),\n",
        "        eIndPointsLocs=eIndPointsLocs,\n",
        "        trialToPlot=trialToPlot)                                                                                                                                         \n",
        "\n",
        "    fig.show()"
      ],
      "execution_count": 11,
      "outputs": [
        {
          "output_type": "error",
          "ename": "Error",
          "evalue": "ignored",
          "traceback": [
            "\u001b[0;31m---------------------------------------------------------------------------\u001b[0m",
            "\u001b[0;31mError\u001b[0m                                     Traceback (most recent call last)",
            "\u001b[0;32m<ipython-input-11-b224f6ab023d>\u001b[0m in \u001b[0;36m<module>\u001b[0;34m()\u001b[0m\n\u001b[1;32m     16\u001b[0m     trialToPlot=trialToPlot)                                                                                                                                         \n\u001b[1;32m     17\u001b[0m \u001b[0;34m\u001b[0m\u001b[0m\n\u001b[0;32m---> 18\u001b[0;31m \u001b[0mfig\u001b[0m\u001b[0;34m.\u001b[0m\u001b[0mshow\u001b[0m\u001b[0;34m(\u001b[0m\u001b[0;34m)\u001b[0m\u001b[0;34m\u001b[0m\u001b[0;34m\u001b[0m\u001b[0m\n\u001b[0m",
            "\u001b[0;32m/usr/local/lib/python3.7/dist-packages/plotly/basedatatypes.py\u001b[0m in \u001b[0;36mshow\u001b[0;34m(self, *args, **kwargs)\u001b[0m\n\u001b[1;32m   2792\u001b[0m         \u001b[0;32mimport\u001b[0m \u001b[0mplotly\u001b[0m\u001b[0;34m.\u001b[0m\u001b[0mio\u001b[0m \u001b[0;32mas\u001b[0m \u001b[0mpio\u001b[0m\u001b[0;34m\u001b[0m\u001b[0;34m\u001b[0m\u001b[0m\n\u001b[1;32m   2793\u001b[0m \u001b[0;34m\u001b[0m\u001b[0m\n\u001b[0;32m-> 2794\u001b[0;31m         \u001b[0;32mreturn\u001b[0m \u001b[0mpio\u001b[0m\u001b[0;34m.\u001b[0m\u001b[0mshow\u001b[0m\u001b[0;34m(\u001b[0m\u001b[0mself\u001b[0m\u001b[0;34m,\u001b[0m \u001b[0;34m*\u001b[0m\u001b[0margs\u001b[0m\u001b[0;34m,\u001b[0m \u001b[0;34m**\u001b[0m\u001b[0mkwargs\u001b[0m\u001b[0;34m)\u001b[0m\u001b[0;34m\u001b[0m\u001b[0;34m\u001b[0m\u001b[0m\n\u001b[0m\u001b[1;32m   2795\u001b[0m \u001b[0;34m\u001b[0m\u001b[0m\n\u001b[1;32m   2796\u001b[0m     \u001b[0;32mdef\u001b[0m \u001b[0mto_json\u001b[0m\u001b[0;34m(\u001b[0m\u001b[0mself\u001b[0m\u001b[0;34m,\u001b[0m \u001b[0;34m*\u001b[0m\u001b[0margs\u001b[0m\u001b[0;34m,\u001b[0m \u001b[0;34m**\u001b[0m\u001b[0mkwargs\u001b[0m\u001b[0;34m)\u001b[0m\u001b[0;34m:\u001b[0m\u001b[0;34m\u001b[0m\u001b[0;34m\u001b[0m\u001b[0m\n",
            "\u001b[0;32m/usr/local/lib/python3.7/dist-packages/plotly/io/_renderers.py\u001b[0m in \u001b[0;36mshow\u001b[0;34m(fig, renderer, validate, **kwargs)\u001b[0m\n\u001b[1;32m    389\u001b[0m \u001b[0;34m\u001b[0m\u001b[0m\n\u001b[1;32m    390\u001b[0m     \u001b[0;31m# external renderers\u001b[0m\u001b[0;34m\u001b[0m\u001b[0;34m\u001b[0m\u001b[0;34m\u001b[0m\u001b[0m\n\u001b[0;32m--> 391\u001b[0;31m     \u001b[0mrenderers\u001b[0m\u001b[0;34m.\u001b[0m\u001b[0m_perform_external_rendering\u001b[0m\u001b[0;34m(\u001b[0m\u001b[0mfig_dict\u001b[0m\u001b[0;34m,\u001b[0m \u001b[0mrenderers_string\u001b[0m\u001b[0;34m=\u001b[0m\u001b[0mrenderer\u001b[0m\u001b[0;34m,\u001b[0m \u001b[0;34m**\u001b[0m\u001b[0mkwargs\u001b[0m\u001b[0;34m)\u001b[0m\u001b[0;34m\u001b[0m\u001b[0;34m\u001b[0m\u001b[0m\n\u001b[0m\u001b[1;32m    392\u001b[0m \u001b[0;34m\u001b[0m\u001b[0m\n\u001b[1;32m    393\u001b[0m \u001b[0;34m\u001b[0m\u001b[0m\n",
            "\u001b[0;32m/usr/local/lib/python3.7/dist-packages/plotly/io/_renderers.py\u001b[0m in \u001b[0;36m_perform_external_rendering\u001b[0;34m(self, fig_dict, renderers_string, **kwargs)\u001b[0m\n\u001b[1;32m    338\u001b[0m                         \u001b[0msetattr\u001b[0m\u001b[0;34m(\u001b[0m\u001b[0mrenderer\u001b[0m\u001b[0;34m,\u001b[0m \u001b[0mk\u001b[0m\u001b[0;34m,\u001b[0m \u001b[0mv\u001b[0m\u001b[0;34m)\u001b[0m\u001b[0;34m\u001b[0m\u001b[0;34m\u001b[0m\u001b[0m\n\u001b[1;32m    339\u001b[0m \u001b[0;34m\u001b[0m\u001b[0m\n\u001b[0;32m--> 340\u001b[0;31m                 \u001b[0mrenderer\u001b[0m\u001b[0;34m.\u001b[0m\u001b[0mrender\u001b[0m\u001b[0;34m(\u001b[0m\u001b[0mfig_dict\u001b[0m\u001b[0;34m)\u001b[0m\u001b[0;34m\u001b[0m\u001b[0;34m\u001b[0m\u001b[0m\n\u001b[0m\u001b[1;32m    341\u001b[0m \u001b[0;34m\u001b[0m\u001b[0m\n\u001b[1;32m    342\u001b[0m \u001b[0;34m\u001b[0m\u001b[0m\n",
            "\u001b[0;32m/usr/local/lib/python3.7/dist-packages/plotly/io/_base_renderers.py\u001b[0m in \u001b[0;36mrender\u001b[0;34m(self, fig_dict)\u001b[0m\n\u001b[1;32m    734\u001b[0m             \u001b[0mvalidate\u001b[0m\u001b[0;34m=\u001b[0m\u001b[0;32mFalse\u001b[0m\u001b[0;34m,\u001b[0m\u001b[0;34m\u001b[0m\u001b[0;34m\u001b[0m\u001b[0m\n\u001b[1;32m    735\u001b[0m         )\n\u001b[0;32m--> 736\u001b[0;31m         \u001b[0mopen_html_in_browser\u001b[0m\u001b[0;34m(\u001b[0m\u001b[0mhtml\u001b[0m\u001b[0;34m,\u001b[0m \u001b[0mself\u001b[0m\u001b[0;34m.\u001b[0m\u001b[0musing\u001b[0m\u001b[0;34m,\u001b[0m \u001b[0mself\u001b[0m\u001b[0;34m.\u001b[0m\u001b[0mnew\u001b[0m\u001b[0;34m,\u001b[0m \u001b[0mself\u001b[0m\u001b[0;34m.\u001b[0m\u001b[0mautoraise\u001b[0m\u001b[0;34m)\u001b[0m\u001b[0;34m\u001b[0m\u001b[0;34m\u001b[0m\u001b[0m\n\u001b[0m\u001b[1;32m    737\u001b[0m \u001b[0;34m\u001b[0m\u001b[0m\n\u001b[1;32m    738\u001b[0m \u001b[0;34m\u001b[0m\u001b[0m\n",
            "\u001b[0;32m/usr/local/lib/python3.7/dist-packages/plotly/io/_base_renderers.py\u001b[0m in \u001b[0;36mopen_html_in_browser\u001b[0;34m(html, using, new, autoraise)\u001b[0m\n\u001b[1;32m    679\u001b[0m \u001b[0;34m\u001b[0m\u001b[0m\n\u001b[1;32m    680\u001b[0m     \u001b[0mserver\u001b[0m \u001b[0;34m=\u001b[0m \u001b[0mHTTPServer\u001b[0m\u001b[0;34m(\u001b[0m\u001b[0;34m(\u001b[0m\u001b[0;34m\"127.0.0.1\"\u001b[0m\u001b[0;34m,\u001b[0m \u001b[0;36m0\u001b[0m\u001b[0;34m)\u001b[0m\u001b[0;34m,\u001b[0m \u001b[0mOneShotRequestHandler\u001b[0m\u001b[0;34m)\u001b[0m\u001b[0;34m\u001b[0m\u001b[0;34m\u001b[0m\u001b[0m\n\u001b[0;32m--> 681\u001b[0;31m     webbrowser.get(using).open(\n\u001b[0m\u001b[1;32m    682\u001b[0m         \u001b[0;34m\"http://127.0.0.1:%s\"\u001b[0m \u001b[0;34m%\u001b[0m \u001b[0mserver\u001b[0m\u001b[0;34m.\u001b[0m\u001b[0mserver_port\u001b[0m\u001b[0;34m,\u001b[0m \u001b[0mnew\u001b[0m\u001b[0;34m=\u001b[0m\u001b[0mnew\u001b[0m\u001b[0;34m,\u001b[0m \u001b[0mautoraise\u001b[0m\u001b[0;34m=\u001b[0m\u001b[0mautoraise\u001b[0m\u001b[0;34m\u001b[0m\u001b[0;34m\u001b[0m\u001b[0m\n\u001b[1;32m    683\u001b[0m     )\n",
            "\u001b[0;32m/usr/lib/python3.7/webbrowser.py\u001b[0m in \u001b[0;36mget\u001b[0;34m(using)\u001b[0m\n\u001b[1;32m     63\u001b[0m             \u001b[0;32melif\u001b[0m \u001b[0mcommand\u001b[0m\u001b[0;34m[\u001b[0m\u001b[0;36m0\u001b[0m\u001b[0;34m]\u001b[0m \u001b[0;32mis\u001b[0m \u001b[0;32mnot\u001b[0m \u001b[0;32mNone\u001b[0m\u001b[0;34m:\u001b[0m\u001b[0;34m\u001b[0m\u001b[0;34m\u001b[0m\u001b[0m\n\u001b[1;32m     64\u001b[0m                 \u001b[0;32mreturn\u001b[0m \u001b[0mcommand\u001b[0m\u001b[0;34m[\u001b[0m\u001b[0;36m0\u001b[0m\u001b[0;34m]\u001b[0m\u001b[0;34m(\u001b[0m\u001b[0;34m)\u001b[0m\u001b[0;34m\u001b[0m\u001b[0;34m\u001b[0m\u001b[0m\n\u001b[0;32m---> 65\u001b[0;31m     \u001b[0;32mraise\u001b[0m \u001b[0mError\u001b[0m\u001b[0;34m(\u001b[0m\u001b[0;34m\"could not locate runnable browser\"\u001b[0m\u001b[0;34m)\u001b[0m\u001b[0;34m\u001b[0m\u001b[0;34m\u001b[0m\u001b[0m\n\u001b[0m\u001b[1;32m     66\u001b[0m \u001b[0;34m\u001b[0m\u001b[0m\n\u001b[1;32m     67\u001b[0m \u001b[0;31m# Please note: the following definition hides a builtin function.\u001b[0m\u001b[0;34m\u001b[0m\u001b[0;34m\u001b[0m\u001b[0;34m\u001b[0m\u001b[0m\n",
            "\u001b[0;31mError\u001b[0m: could not locate runnable browser"
          ]
        }
      ]
    },
    {
      "cell_type": "markdown",
      "metadata": {
        "id": "NhA77H8s_Hzu"
      },
      "source": [
        "# Plot true and estimated kernels parameters"
      ]
    },
    {
      "cell_type": "code",
      "metadata": {
        "id": "2ynUe0sw_Hzv",
        "colab": {
          "base_uri": "https://localhost:8080/",
          "height": 265
        },
        "outputId": "68fac852-349e-406c-942a-874caa0e3020"
      },
      "source": [
        "    kernelsParams = model.getKernelsParams()\n",
        "    plot.svGPFA.plotUtils.getPlotTrueAndEstimatedKernelsParams(trueKernels=kernels, estimatedKernelsParams=kernelsParams)\n",
        "    plt.show()"
      ],
      "execution_count": 21,
      "outputs": [
        {
          "output_type": "display_data",
          "data": {
            "image/png": "[encoded data removed]",
            "text/plain": [
              "<Figure size 432x288 with 2 Axes>"
            ]
          },
          "metadata": {
            "tags": [],
            "needs_background": "light"
          }
        }
      ]
    },
    {
      "cell_type": "markdown",
      "metadata": {
        "id": "agXaOVc8_Hzz"
      },
      "source": [
        "# Plot true and estimated latents means"
      ]
    },
    {
      "cell_type": "code",
      "metadata": {
        "id": "ww8dkWag_Hz0"
      },
      "source": [
        "    tLatentsMeansFuncs = utils.svGPFA.configUtils.getLatentsMeansFuncs(nLatents=nLatents, nTrials=nTrials, config=simInitConfig)\n",
        "    trialsTimes = utils.svGPFA.miscUtils.getTrialsTimes(trialsLengths=trialsLengths, dt=dtSimulate)\n",
        "    tLatentsMeans = utils.svGPFA.miscUtils.getLatentsMeanFuncsSamples(latentsMeansFuncs=tLatentsMeansFuncs, trialsTimes=trialsTimes, dtype=C.dtype)\n",
        "    with torch.no_grad(): latentsMeans, _ = model.predictLatents(newTimes=trialsTimes[0])\n",
        "    trueLatentsMeans = simRes[\"latentsMeans\"]\n",
        "    trueLatentsSTDs = simRes[\"latentsSTDs\"]\n",
        "    trueLatentsSTDs = [trueLatentsSTDs[r][:nLatents,:] for r in range(nTrials)]\n",
        "\n",
        "    plot.svGPFA.plotUtils.plotTrueAndEstimatedLatentsMeans(trueLatentsMeans=tLatentsMeans, estimatedLatentsMeans=latentsMeans, trialsTimes=trialsTimes)"
      ],
      "execution_count": null,
      "outputs": []
    },
    {
      "cell_type": "markdown",
      "metadata": {
        "id": "96ysODIs_Hz4"
      },
      "source": [
        "# Plot true and estimated linear embedding parameters"
      ]
    },
    {
      "cell_type": "code",
      "metadata": {
        "scrolled": true,
        "id": "GzAgotSH_Hz4"
      },
      "source": [
        "    with torch.no_grad(): estimatedC, estimatedD = model.getSVEmbeddingParams()\n",
        "    plt.figure()\n",
        "    plot.svGPFA.plotUtils.plotTrueAndEstimatedEmbeddingParams(trueC=C, trueD=d, estimatedC=estimatedC, estimatedD=estimatedD)\n"
      ],
      "execution_count": null,
      "outputs": []
    },
    {
      "cell_type": "markdown",
      "metadata": {
        "id": "_Cf_cCkY_Hz8"
      },
      "source": [
        "# Plot true and estimated CIF"
      ]
    },
    {
      "cell_type": "code",
      "metadata": {
        "id": "AKOZtPMd_Hz9"
      },
      "source": [
        "    title = \"Trial {:d}, Neuron {:d}\".format(trialToPlot, neuronToPlot)                                                                       \n",
        "    # CIF\n",
        "    T = torch.tensor(trialsLengths).max().item()\n",
        "    oneTrialCIFTimes = torch.arange(0, T, dtCIF)\n",
        "    cifTimes = torch.unsqueeze(torch.ger(torch.ones(nTrials), oneTrialCIFTimes), dim=2)\n",
        "    with torch.no_grad(): cifValues = model.computeMeanCIFs(times=cifTimes)\n",
        "    plt.figure()\n",
        "    plot.svGPFA.plotUtils.plotSimulatedAndEstimatedCIFs(times=cifTimes[trialToPlot, :, 0], simCIFValues=simCIFsValues[trialToPlot][neuronToPlot], estCIFValues=cifValues[trialToPlot][neuronToPlot], title=title)"
      ],
      "execution_count": null,
      "outputs": []
    },
    {
      "cell_type": "markdown",
      "metadata": {
        "id": "8VTtBxNZ_H0D"
      },
      "source": [
        "# KS time-rescaling GOF test -- numerical correction"
      ]
    },
    {
      "cell_type": "code",
      "metadata": {
        "id": "uctwu7A4_H0E"
      },
      "source": [
        "    gamma = 10 # number of resamples\n",
        "    spikesTimesKS = spikesTimes[trialToPlot][neuronToPlot]\n",
        "    cifTimesKS = cifTimes[trialToPlot,:,0]\n",
        "    cifValuesKS = cifValues[trialToPlot][neuronToPlot]\n",
        "\n",
        "    title = \"Trial {:d}, Neuron {:d} ({:d} spikes)\".format(trialToPlot, neuronToPlot, len(spikesTimesKS))\n",
        "\n",
        "    diffECDFsX, diffECDFsY, estECDFx, estECDFy, simECDFx, simECDFy, cb = stats.pointProcess.tests.KSTestTimeRescalingNumericalCorrection(spikesTimes=spikesTimesKS, cifTimes=cifTimesKS, cifValues=cifValuesKS, gamma=gamma)\n",
        "    plt.figure()\n",
        "    plot.svGPFA.plotUtils.plotResKSTestTimeRescalingNumericalCorrection(diffECDFsX=diffECDFsX, diffECDFsY=diffECDFsY, estECDFx=estECDFx, estECDFy=estECDFy, simECDFx=simECDFx, simECDFy=simECDFy, cb=cb, title=title)"
      ],
      "execution_count": null,
      "outputs": []
    },
    {
      "cell_type": "markdown",
      "metadata": {
        "id": "TYeT1uSe_H0I"
      },
      "source": [
        "# KS time-rescaling GOF test -- analytical correction"
      ]
    },
    {
      "cell_type": "code",
      "metadata": {
        "id": "l45h-6Fo_H0I"
      },
      "source": [
        "    t0 = math.floor(cifTimesKS.min())\n",
        "    tf = math.ceil(cifTimesKS.max())\n",
        "    dt = (cifTimesKS[1]-cifTimesKS[0]).item()\n",
        "    utSRISIs, uCDF, cb, utRISIs = stats.pointProcess.tests.KSTestTimeRescalingAnalyticalCorrectionUnbinned(spikesTimes=spikesTimesKS, cifValues=cifValuesKS, t0=t0, tf=tf, dt=dt)\n",
        "    sUTRISIs, _ = torch.sort(utSRISIs)\n",
        "\n",
        "    plt.figure()\n",
        "    plot.svGPFA.plotUtils.plotResKSTestTimeRescalingAnalyticalCorrection(sUTRISIs=sUTRISIs, uCDF=uCDF, cb=cb, title=title)\n"
      ],
      "execution_count": null,
      "outputs": []
    },
    {
      "cell_type": "markdown",
      "metadata": {
        "id": "ldA2wXRn_H0M"
      },
      "source": [
        "## Plot rescaled ISIs 1-lag scatter plot"
      ]
    },
    {
      "cell_type": "code",
      "metadata": {
        "id": "oDxTpLhs_H0N"
      },
      "source": [
        "    plt.figure()\n",
        "    plot.svGPFA.plotUtils.plotScatter1Lag(x=utRISIs, title=title)"
      ],
      "execution_count": null,
      "outputs": []
    },
    {
      "cell_type": "markdown",
      "metadata": {
        "id": "EWaxZACW_H0Q"
      },
      "source": [
        "## Plot rescaled ISIs autorocorrelogram"
      ]
    },
    {
      "cell_type": "code",
      "metadata": {
        "id": "o42cqN_b_H0R"
      },
      "source": [
        "    acfRes, confint = statsmodels.tsa.stattools.acf(x=utRISIs, unbiased=True, alpha=0.05)\n",
        "    plt.figure()\n",
        "    plot.svGPFA.plotUtils.plotACF(acf=acfRes, Fs=1/dt, confint=confint, title=title)"
      ],
      "execution_count": null,
      "outputs": []
    },
    {
      "cell_type": "markdown",
      "metadata": {
        "id": "-AG9VXQq_H0V"
      },
      "source": [
        "# ROC predictive analysis"
      ]
    },
    {
      "cell_type": "code",
      "metadata": {
        "id": "AlGSJWp9_H0W"
      },
      "source": [
        "    pk = cifValuesKS*dtCIF\n",
        "    bins = pd.interval_range(start=0, end=T, periods=len(pk))\n",
        "    cutRes, _ = pd.cut(spikesTimesKS, bins=bins, retbins=True)\n",
        "    Y = torch.from_numpy(cutRes.value_counts().values)\n",
        "    fpr, tpr, thresholds = sklearn.metrics.roc_curve(Y, pk, pos_label=1)\n",
        "    roc_auc = sklearn.metrics.auc(fpr, tpr)\n",
        "    plt.figure()\n",
        "    plot.svGPFA.plotUtils.plotResROCAnalysis(fpr=fpr, tpr=tpr, auc=roc_auc, title=title)\n"
      ],
      "execution_count": null,
      "outputs": []
    },
    {
      "cell_type": "code",
      "metadata": {
        "id": "_WlSMqxnlPDi"
      },
      "source": [
        ""
      ],
      "execution_count": null,
      "outputs": []
    }
  ]
}