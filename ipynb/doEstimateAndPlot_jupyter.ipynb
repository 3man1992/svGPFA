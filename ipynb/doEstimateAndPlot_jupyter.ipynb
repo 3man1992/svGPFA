{
 "cells": [
  {
   "cell_type": "markdown",
   "metadata": {},
   "source": [
    "# Run from ../scripts"
   ]
  },
  {
   "cell_type": "code",
   "execution_count": 31,
   "metadata": {},
   "outputs": [
    {
     "name": "stdout",
     "output_type": "stream",
     "text": [
      "/nfs/ghome/live/rapela/dev/research/gatsby-swc/gatsby/svGPFA/pythonCode/scripts\n"
     ]
    }
   ],
   "source": [
    "%cd ../scripts"
   ]
  },
  {
   "cell_type": "markdown",
   "metadata": {
    "id": "DoqMvR5j_HzN"
   },
   "source": [
    "# Import requirements"
   ]
  },
  {
   "cell_type": "code",
   "execution_count": 32,
   "metadata": {
    "colab": {
     "base_uri": "https://localhost:8080/"
    },
    "id": "MeHQdcLB_HzO",
    "outputId": "e7fdcaaf-4b75-453a-ebba-83d6bda1d14a"
   },
   "outputs": [],
   "source": [
    "import sys\n",
    "import os\n",
    "import pdb\n",
    "import math\n",
    "import random\n",
    "import torch\n",
    "import pickle\n",
    "import configparser\n",
    "import pandas as pd\n",
    "import sklearn.metrics\n",
    "import matplotlib.pyplot as plt\n",
    "import IPython.core.display\n",
    "\n",
    "sys.path.append(\"../src\")\n",
    "import stats.svGPFA.svGPFAModelFactory\n",
    "import stats.svGPFA.svEM\n",
    "import plot.svGPFA.plotUtils\n",
    "import plot.svGPFA.plotUtilsPlotly\n",
    "import utils.svGPFA.configUtils\n",
    "import stats.svGPFA.svGPFAModelFactory\n",
    "\n",
    "import stats.pointProcess.tests\n",
    "import utils.svGPFA.miscUtils\n",
    "import utils.svGPFA.initUtils"
   ]
  },
  {
   "cell_type": "markdown",
   "metadata": {
    "id": "OwSbGk_Do1E9"
   },
   "source": []
  },
  {
   "cell_type": "markdown",
   "metadata": {
    "id": "_TVSULk5_HzT"
   },
   "source": [
    "# Load data"
   ]
  },
  {
   "cell_type": "code",
   "execution_count": 33,
   "metadata": {
    "id": "mmFWGAgK_HzU"
   },
   "outputs": [],
   "source": [
    "simResNumber = 96652136\n",
    "simResConfigFilename = \"results/{:08d}_simulation_metaData.ini\".format(simResNumber)\n",
    "simResConfig = configparser.ConfigParser()\n",
    "simResConfig.read(simResConfigFilename)\n",
    "simInitConfigFilename = simResConfig[\"simulation_params\"][\"simInitConfigFilename\"]\n",
    "simResFilename = simResConfig[\"simulation_results\"][\"simResFilename\"]\n",
    "\n",
    "simInitConfig = configparser.ConfigParser()\n",
    "simInitConfig.read(simInitConfigFilename)\n",
    "nLatents = int(simInitConfig[\"control_variables\"][\"nLatents\"])\n",
    "nNeurons = int(simInitConfig[\"control_variables\"][\"nNeurons\"])\n",
    "dtCIF = float(simInitConfig[\"control_variables\"][\"dtCIF\"])                                                                          \n",
    "CFilename = simInitConfig[\"embedding_params\"][\"C_filename\"]\n",
    "dFilename = simInitConfig[\"embedding_params\"][\"d_filename\"]\n",
    "trueC, trueD = utils.svGPFA.configUtils.getLinearEmbeddingParams(CFilename=CFilename, dFilename=dFilename)                                \n",
    "trialsLengths = [float(str) for str in simInitConfig[\"control_variables\"][\"trialsLengths\"][1:-1].split(\",\")]\n",
    "nTrials = len(trialsLengths)\n",
    "\n",
    "with open(simResFilename, \"rb\") as f: simRes = pickle.load(f)\n",
    "spikesTimes = simRes[\"spikes\"]\n",
    "trueCIFValues = simRes[\"cifValues\"]\n",
    "trueLatentsTimes = simRes[\"times\"]\n",
    "trueLatentsSamples = simRes[\"latents\"]\n",
    "trueLatentsMeans = simRes[\"latentsMeans\"]\n",
    "trueLatentsSTDs = simRes[\"latentsSTDs\"]\n",
    "trueLatentsSamples = [trueLatentsSamples[r][:nLatents,:] for r in range(nTrials)]\n",
    "trueLatentsMeans = [trueLatentsMeans[r][:nLatents,:] for r in range(nTrials)]\n",
    "trueLatentsSTDs = [trueLatentsSTDs[r][:nLatents,:] for r in range(nTrials)]\n",
    "trueIndPointsLocs = utils.svGPFA.configUtils.getIndPointsLocs0(nLatents=nLatents, nTrials=nTrials, config=simInitConfig)\n",
    "trueKernels = utils.svGPFA.configUtils.getKernels(nLatents=nLatents, config=simInitConfig, forceUnitScale=False)\n",
    "\n",
    "# tEmbeddingSamples[r], tEmbeddingMeans[r], tEmbeddingSTDs \\in nNeurons x nSamples\n",
    "trueEmbeddingSamples = [torch.matmul(trueC, trueLatentsSamples[r])+trueD for r in range(nTrials)]\n",
    "trueEmbeddingMeans = [torch.matmul(trueC, trueLatentsMeans[r])+trueD for r in range(nTrials)]\n",
    "trueEmbeddingSTDs = [torch.matmul(trueC, trueLatentsSTDs[r]) for r in range(nTrials)]\n"
   ]
  },
  {
   "cell_type": "markdown",
   "metadata": {
    "id": "aPf2OIoPvEQE"
   },
   "source": [
    "# Set parameters initial values"
   ]
  },
  {
   "cell_type": "code",
   "execution_count": 34,
   "metadata": {
    "id": "GmWqzerVvLYi"
   },
   "outputs": [],
   "source": [
    "nQuad = 200\n",
    "nIndPoints = 30\n",
    "\n",
    "# set variational mean initial values\n",
    "qMu0 = [[] for r in range(nLatents)]\n",
    "for k in range(nLatents):\n",
    "    qMu0[k] = torch.empty((nTrials, nIndPoints, 1), dtype=torch.double)\n",
    "    for r in range(nTrials):\n",
    "        qMu0[k][r,:,0] = torch.zeros(size=(nIndPoints,), dtype=torch.double)\n",
    "\n",
    "# set variational covariance initial values\n",
    "qSigma0 = [[] for r in range(nLatents)]\n",
    "for k in range(nLatents):\n",
    "    qSigma0[k] = torch.empty((nTrials, nIndPoints, nIndPoints), dtype=torch.double)\n",
    "    for r in range(nTrials):\n",
    "        qSigma0[k][r,:,:] = 1e-2*torch.eye(n=nIndPoints, dtype=torch.double)\n",
    "srQSigma0Vecs = utils.svGPFA.initUtils.getSRQSigmaVecsFromSRMatrices(srMatrices=qSigma0)\n",
    "\n",
    "# set embedding initial values\n",
    "C0 = torch.randn(size=(nNeurons, nLatents), dtype=torch.double)*0.3\n",
    "d0 = torch.randn(size=(nNeurons,), dtype=torch.double)*0.3\n",
    "\n",
    "# set kernels initial values\n",
    "kernel0 = stats.kernels.ExponentialQuadraticKernel(scale=1.0)\n",
    "kernel0.setParams([2.0])\n",
    "kernel1 = stats.kernels.ExponentialQuadraticKernel(scale=1.0)\n",
    "kernel1.setParams([0.1])\n",
    "kernels = [kernel0, kernel1]\n",
    "kernelsScaledParams0 = utils.svGPFA.initUtils.getKernelsScaledParams0(kernels=kernels, noiseSTD=0.0)\n",
    "\n",
    "# set inducing points locations initial values\n",
    "Z0 = [[] for k in range(nLatents)]\n",
    "for k in range(nLatents):\n",
    "    Z0[k] = torch.empty((nTrials, nIndPoints, 1), dtype=torch.double)\n",
    "    for r in range(nTrials):\n",
    "        Z0[k][r,:,0] = torch.rand(size=(nIndPoints,), dtype=torch.double)\n",
    "\n",
    "# set quadrature points params\n",
    "legQuadPoints, legQuadWeights = utils.svGPFA.miscUtils.getLegQuadPointsAndWeights(nQuad=nQuad, trialsLengths=trialsLengths)\n",
    "\n",
    "qUParams0 = {\"qMu0\": qMu0, \"srQSigma0Vecs\": srQSigma0Vecs}\n",
    "kmsParams0 = {\"kernelsParams0\": kernelsScaledParams0,\n",
    "              \"inducingPointsLocs0\": Z0}\n",
    "qKParams0 = {\"svPosteriorOnIndPoints\": qUParams0,\n",
    "             \"kernelsMatricesStore\": kmsParams0}\n",
    "qHParams0 = {\"C0\": C0, \"d0\": d0}\n",
    "initialParams = {\"svPosteriorOnLatents\": qKParams0,\n",
    "                 \"svEmbedding\": qHParams0}\n",
    "quadParams = {\"legQuadPoints\": legQuadPoints,\n",
    "              \"legQuadWeights\": legQuadWeights}\n"
   ]
  },
  {
   "cell_type": "markdown",
   "metadata": {
    "id": "cXayKbg__HzZ"
   },
   "source": [
    "# Create model"
   ]
  },
  {
   "cell_type": "code",
   "execution_count": 35,
   "metadata": {
    "colab": {
     "base_uri": "https://localhost:8080/"
    },
    "id": "GOH2JKRN_Hza",
    "outputId": "a1e4adb6-9cef-4b24-a041-7f2766f9b1e7"
   },
   "outputs": [],
   "source": [
    "indPointsLocsKMSRegEpsilon = 1e-5\n",
    "\n",
    "# create model\n",
    "model = stats.svGPFA.svGPFAModelFactory.SVGPFAModelFactory.buildModel(\n",
    "    conditionalDist=stats.svGPFA.svGPFAModelFactory.PointProcess,\n",
    "    linkFunction=stats.svGPFA.svGPFAModelFactory.ExponentialLink,\n",
    "    embeddingType=stats.svGPFA.svGPFAModelFactory.LinearEmbedding,\n",
    "    kernels=kernels)\n",
    "\n",
    "model.setInitialParamsAndData(measurements=spikesTimes,\n",
    "                              initialParams=initialParams,\n",
    "                              quadParams=quadParams,\n",
    "                              indPointsLocsKMSRegEpsilon=indPointsLocsKMSRegEpsilon)\n"
   ]
  },
  {
   "cell_type": "markdown",
   "metadata": {
    "id": "YqU28BLw5T6j"
   },
   "source": [
    "# Set the optimization parameters"
   ]
  },
  {
   "cell_type": "code",
   "execution_count": 36,
   "metadata": {
    "id": "V2IJjBAK5Y87"
   },
   "outputs": [],
   "source": [
    "optimMethod = \"EM\"\n",
    "\n",
    "# set EM optimization parameters\n",
    "optimParams = dict(\n",
    "    em_max_iter = 50,\n",
    "    #\n",
    "    estep_estimate = True,\n",
    "    estep_optim_params = dict(\n",
    "        max_iter = 20,\n",
    "        lr = 1.0,\n",
    "        tolerance_grad = 1e-7,\n",
    "        tolerance_change = 1e-9,\n",
    "        line_search_fn =\"strong_wolfe\"\n",
    "    ),\n",
    "    #\n",
    "    mstep_embedding_estimate = True,\n",
    "    mstep_embedding_optim_params = dict(\n",
    "        max_iter = 20,\n",
    "        lr = 1.0,\n",
    "        tolerance_grad = 1e-7,\n",
    "        tolerance_change = 1e-9,\n",
    "        line_search_fn =\"strong_wolfe\"\n",
    "    ),\n",
    "    #\n",
    "    mstep_kernels_estimate = True,\n",
    "    mstep_kernels_optim_params = dict(\n",
    "        max_iter = 20,\n",
    "        lr = 1.0,\n",
    "        tolerance_grad = 1e-7,\n",
    "        tolerance_change = 1e-9,\n",
    "        line_search_fn =\"strong_wolfe\"\n",
    "    ),\n",
    "    #\n",
    "    mstep_indpointslocs_estimate = True,\n",
    "    mstep_indpointslocs_optim_params = dict(\n",
    "        max_iter = 20,\n",
    "        lr = 1.0,\n",
    "        tolerance_grad = 1e-7,\n",
    "        tolerance_change = 1e-9,\n",
    "        line_search_fn =\"strong_wolfe\"\n",
    "    ),\n",
    "    verbose = True\n",
    ")"
   ]
  },
  {
   "cell_type": "markdown",
   "metadata": {
    "id": "rB6s0so2_Hze"
   },
   "source": [
    "# Maximize the Lower Bound\n",
    "<span style=\"color:red\">(Warning: with the parameters above, this step takes around 15 minutes)</span>"
   ]
  },
  {
   "cell_type": "code",
   "execution_count": 37,
   "metadata": {
    "colab": {
     "base_uri": "https://localhost:8080/"
    },
    "id": "ykvsp7cW_Hzf",
    "outputId": "bf464ac2-7e0c-4da8-959a-b09b6af2f756",
    "scrolled": false
   },
   "outputs": [
    {
     "name": "stdout",
     "output_type": "stream",
     "text": [
      "Iteration 01, estep start: -inf\n",
      "Iteration 01, estep end: -514.755590, niter: 20, nfeval: 22\n",
      "Iteration 01, mstep_embedding start: -514.755590\n",
      "Iteration 01, mstep_embedding end: 135881.553051, niter: 18, nfeval: 25\n",
      "Iteration 01, mstep_kernels start: 135881.553051\n",
      "Kernel params: [tensor([1.9404]), tensor([0.0863])]\n",
      "Iteration 01, mstep_kernels end: 135407.253970, niter: 20, nfeval: 23\n",
      "Iteration 01, mstep_indpointslocs start: 135407.253970\n",
      "Iteration 01, mstep_indpointslocs end: 135690.528789, niter: 19, nfeval: 25\n",
      "Iteration 02, estep start: 135690.528789\n",
      "Iteration 02, estep end: 142217.214081, niter: 20, nfeval: 25\n",
      "Iteration 02, mstep_embedding start: 142217.214081\n",
      "Iteration 02, mstep_embedding end: 151530.075296, niter: 20, nfeval: 22\n",
      "Iteration 02, mstep_kernels start: 151530.075296\n",
      "Kernel params: [tensor([1.1808]), tensor([0.0638])]\n",
      "Iteration 02, mstep_kernels end: 150368.791115, niter: 16, nfeval: 25\n",
      "Iteration 02, mstep_indpointslocs start: 150368.791115\n",
      "Iteration 02, mstep_indpointslocs end: 150676.653160, niter: 20, nfeval: 24\n",
      "Iteration 03, estep start: 150676.653160\n",
      "Iteration 03, estep end: 153505.921556, niter: 19, nfeval: 25\n",
      "Iteration 03, mstep_embedding start: 153505.921556\n",
      "Iteration 03, mstep_embedding end: 155488.194855, niter: 20, nfeval: 23\n",
      "Iteration 03, mstep_kernels start: 155488.194855\n",
      "Kernel params: [tensor([0.8063]), tensor([0.0596])]\n",
      "Iteration 03, mstep_kernels end: 154723.835256, niter: 15, nfeval: 28\n",
      "Iteration 03, mstep_indpointslocs start: 154723.835256\n",
      "Iteration 03, mstep_indpointslocs end: 154809.110281, niter: 20, nfeval: 23\n",
      "Iteration 04, estep start: 154809.110281\n",
      "Iteration 04, estep end: 155761.322270, niter: 18, nfeval: 25\n",
      "Iteration 04, mstep_embedding start: 155761.322270\n",
      "Iteration 04, mstep_embedding end: 156746.419430, niter: 20, nfeval: 22\n",
      "Iteration 04, mstep_kernels start: 156746.419430\n",
      "Kernel params: [tensor([0.6349]), tensor([0.0598])]\n",
      "Iteration 04, mstep_kernels end: 156002.808555, niter: 10, nfeval: 31\n",
      "Iteration 04, mstep_indpointslocs start: 156002.808555\n",
      "Iteration 04, mstep_indpointslocs end: 156052.541874, niter: 20, nfeval: 26\n",
      "Iteration 05, estep start: 156052.541874\n",
      "Iteration 05, estep end: 156610.834733, niter: 20, nfeval: 25\n",
      "Iteration 05, mstep_embedding start: 156610.834733\n",
      "Iteration 05, mstep_embedding end: 157357.623302, niter: 20, nfeval: 24\n",
      "Iteration 05, mstep_kernels start: 157357.623302\n",
      "Kernel params: [tensor([0.5488]), tensor([0.0604])]\n",
      "Iteration 05, mstep_kernels end: 156723.702974, niter: 13, nfeval: 15\n",
      "Iteration 05, mstep_indpointslocs start: 156723.702974\n",
      "Iteration 05, mstep_indpointslocs end: 156741.505443, niter: 20, nfeval: 23\n",
      "Iteration 06, estep start: 156741.505443\n",
      "Iteration 06, estep end: 156919.731260, niter: 20, nfeval: 24\n",
      "Iteration 06, mstep_embedding start: 156919.731260\n",
      "Iteration 06, mstep_embedding end: 157564.019462, niter: 20, nfeval: 23\n",
      "Iteration 06, mstep_kernels start: 157564.019462\n",
      "Kernel params: [tensor([0.5055]), tensor([0.0610])]\n",
      "Iteration 06, mstep_kernels end: 156954.169610, niter: 15, nfeval: 21\n",
      "Iteration 06, mstep_indpointslocs start: 156954.169610\n",
      "Iteration 06, mstep_indpointslocs end: 156968.412072, niter: 20, nfeval: 24\n",
      "Iteration 07, estep start: 156968.412072\n",
      "Iteration 07, estep end: 157053.231862, niter: 20, nfeval: 24\n",
      "Iteration 07, mstep_embedding start: 157053.231862\n",
      "Iteration 07, mstep_embedding end: 157646.306782, niter: 20, nfeval: 22\n",
      "Iteration 07, mstep_kernels start: 157646.306782\n",
      "Kernel params: [tensor([0.4868]), tensor([0.0611])]\n",
      "Iteration 07, mstep_kernels end: 157062.949157, niter: 13, nfeval: 21\n",
      "Iteration 07, mstep_indpointslocs start: 157062.949157\n",
      "Iteration 07, mstep_indpointslocs end: 157072.161377, niter: 20, nfeval: 23\n",
      "Iteration 08, estep start: 157072.161377\n",
      "Iteration 08, estep end: 157132.246131, niter: 20, nfeval: 23\n",
      "Iteration 08, mstep_embedding start: 157132.246131\n",
      "Iteration 08, mstep_embedding end: 157710.276557, niter: 20, nfeval: 23\n",
      "Iteration 08, mstep_kernels start: 157710.276557\n",
      "Kernel params: [tensor([0.4684]), tensor([0.0612])]\n",
      "Iteration 08, mstep_kernels end: 157141.229521, niter: 12, nfeval: 16\n",
      "Iteration 08, mstep_indpointslocs start: 157141.229521\n",
      "Iteration 08, mstep_indpointslocs end: 157149.564425, niter: 20, nfeval: 23\n",
      "Iteration 09, estep start: 157149.564425\n",
      "Iteration 09, estep end: 157188.691223, niter: 20, nfeval: 23\n",
      "Iteration 09, mstep_embedding start: 157188.691223\n",
      "Iteration 09, mstep_embedding end: 157739.341581, niter: 20, nfeval: 22\n",
      "Iteration 09, mstep_kernels start: 157739.341581\n",
      "Kernel params: [tensor([0.4607]), tensor([0.0611])]\n",
      "Iteration 09, mstep_kernels end: 157191.642106, niter: 13, nfeval: 19\n",
      "Iteration 09, mstep_indpointslocs start: 157191.642106\n",
      "Iteration 09, mstep_indpointslocs end: 157199.458875, niter: 20, nfeval: 24\n",
      "Iteration 10, estep start: 157199.458875\n",
      "Iteration 10, estep end: 157232.307925, niter: 20, nfeval: 23\n",
      "Iteration 10, mstep_embedding start: 157232.307925\n",
      "Iteration 10, mstep_embedding end: 157775.887238, niter: 20, nfeval: 22\n",
      "Iteration 10, mstep_kernels start: 157775.887238\n",
      "Kernel params: [tensor([0.4510]), tensor([0.0610])]\n",
      "Iteration 10, mstep_kernels end: 157235.693758, niter: 13, nfeval: 15\n",
      "Iteration 10, mstep_indpointslocs start: 157235.693758\n",
      "Iteration 10, mstep_indpointslocs end: 157246.678964, niter: 20, nfeval: 23\n",
      "Iteration 11, estep start: 157246.678964\n",
      "Iteration 11, estep end: 157284.826580, niter: 20, nfeval: 22\n",
      "Iteration 11, mstep_embedding start: 157284.826580\n",
      "Iteration 11, mstep_embedding end: 157822.343304, niter: 20, nfeval: 22\n",
      "Iteration 11, mstep_kernels start: 157822.343304\n",
      "Kernel params: [tensor([0.4464]), tensor([0.0604])]\n",
      "Iteration 11, mstep_kernels end: 157289.262534, niter: 13, nfeval: 19\n",
      "Iteration 11, mstep_indpointslocs start: 157289.262534\n",
      "Iteration 11, mstep_indpointslocs end: 157300.992169, niter: 20, nfeval: 24\n",
      "Iteration 12, estep start: 157300.992169\n",
      "Iteration 12, estep end: 157336.517081, niter: 20, nfeval: 22\n",
      "Iteration 12, mstep_embedding start: 157336.517081\n",
      "Iteration 12, mstep_embedding end: 157872.304330, niter: 20, nfeval: 22\n",
      "Iteration 12, mstep_kernels start: 157872.304330\n",
      "Kernel params: [tensor([0.4398]), tensor([0.0597])]\n",
      "Iteration 12, mstep_kernels end: 157341.190945, niter: 13, nfeval: 17\n",
      "Iteration 12, mstep_indpointslocs start: 157341.190945\n",
      "Iteration 12, mstep_indpointslocs end: 157354.257287, niter: 20, nfeval: 24\n",
      "Iteration 13, estep start: 157354.257287\n",
      "Iteration 13, estep end: 157385.985292, niter: 20, nfeval: 22\n",
      "Iteration 13, mstep_embedding start: 157385.985292\n",
      "Iteration 13, mstep_embedding end: 157919.325458, niter: 20, nfeval: 22\n",
      "Iteration 13, mstep_kernels start: 157919.325458\n",
      "Kernel params: [tensor([0.4348]), tensor([0.0593])]\n",
      "Iteration 13, mstep_kernels end: 157389.666847, niter: 13, nfeval: 14\n",
      "Iteration 13, mstep_indpointslocs start: 157389.666847\n",
      "Iteration 13, mstep_indpointslocs end: 157398.078982, niter: 20, nfeval: 24\n",
      "Iteration 14, estep start: 157398.078982\n",
      "Iteration 14, estep end: 157429.862128, niter: 20, nfeval: 22\n",
      "Iteration 14, mstep_embedding start: 157429.862128\n",
      "Iteration 14, mstep_embedding end: 157964.618413, niter: 20, nfeval: 22\n",
      "Iteration 14, mstep_kernels start: 157964.618413\n",
      "Kernel params: [tensor([0.4295]), tensor([0.0590])]\n",
      "Iteration 14, mstep_kernels end: 157432.761526, niter: 13, nfeval: 16\n",
      "Iteration 14, mstep_indpointslocs start: 157432.761526\n",
      "Iteration 14, mstep_indpointslocs end: 157439.854235, niter: 20, nfeval: 24\n",
      "Iteration 15, estep start: 157439.854235\n",
      "Iteration 15, estep end: 157468.828238, niter: 20, nfeval: 22\n",
      "Iteration 15, mstep_embedding start: 157468.828238\n",
      "Iteration 15, mstep_embedding end: 157998.564366, niter: 20, nfeval: 21\n",
      "Iteration 15, mstep_kernels start: 157998.564366\n",
      "Kernel params: [tensor([0.4249]), tensor([0.0590])]\n",
      "Iteration 15, mstep_kernels end: 157470.513372, niter: 6, nfeval: 16\n",
      "Iteration 15, mstep_indpointslocs start: 157470.513372\n",
      "Iteration 15, mstep_indpointslocs end: 157476.696868, niter: 20, nfeval: 24\n",
      "Iteration 16, estep start: 157476.696868\n",
      "Iteration 16, estep end: 157507.083505, niter: 20, nfeval: 23\n",
      "Iteration 16, mstep_embedding start: 157507.083505\n",
      "Iteration 16, mstep_embedding end: 158039.402879, niter: 20, nfeval: 21\n",
      "Iteration 16, mstep_kernels start: 158039.402879\n",
      "Kernel params: [tensor([0.4196]), tensor([0.0590])]\n",
      "Iteration 16, mstep_kernels end: 157509.442320, niter: 10, nfeval: 15\n",
      "Iteration 16, mstep_indpointslocs start: 157509.442320\n"
     ]
    },
    {
     "name": "stdout",
     "output_type": "stream",
     "text": [
      "Iteration 16, mstep_indpointslocs end: 157516.034488, niter: 20, nfeval: 24\n",
      "Iteration 17, estep start: 157516.034488\n",
      "Iteration 17, estep end: 157543.711770, niter: 20, nfeval: 22\n",
      "Iteration 17, mstep_embedding start: 157543.711770\n",
      "Iteration 17, mstep_embedding end: 158071.372662, niter: 20, nfeval: 22\n",
      "Iteration 17, mstep_kernels start: 158071.372662\n",
      "Kernel params: [tensor([0.4166]), tensor([0.0592])]\n",
      "Iteration 17, mstep_kernels end: 157545.054872, niter: 10, nfeval: 18\n",
      "Iteration 17, mstep_indpointslocs start: 157545.054872\n",
      "Iteration 17, mstep_indpointslocs end: 157550.332998, niter: 20, nfeval: 23\n",
      "Iteration 18, estep start: 157550.332998\n",
      "Iteration 18, estep end: 157575.323704, niter: 20, nfeval: 23\n",
      "Iteration 18, mstep_embedding start: 157575.323704\n",
      "Iteration 18, mstep_embedding end: 158103.115182, niter: 20, nfeval: 21\n",
      "Iteration 18, mstep_kernels start: 158103.115182\n",
      "Kernel params: [tensor([0.4125]), tensor([0.0595])]\n",
      "Iteration 18, mstep_kernels end: 157576.831040, niter: 12, nfeval: 20\n",
      "Iteration 18, mstep_indpointslocs start: 157576.831040\n",
      "Iteration 18, mstep_indpointslocs end: 157582.176938, niter: 20, nfeval: 23\n",
      "Iteration 19, estep start: 157582.176938\n",
      "Iteration 19, estep end: 157607.578558, niter: 20, nfeval: 22\n",
      "Iteration 19, mstep_embedding start: 157607.578558\n",
      "Iteration 19, mstep_embedding end: 158134.089769, niter: 20, nfeval: 22\n",
      "Iteration 19, mstep_kernels start: 158134.089769\n",
      "Kernel params: [tensor([0.4072]), tensor([0.0599])]\n",
      "Iteration 19, mstep_kernels end: 157609.394691, niter: 10, nfeval: 13\n",
      "Iteration 19, mstep_indpointslocs start: 157609.394691\n",
      "Iteration 19, mstep_indpointslocs end: 157613.814925, niter: 20, nfeval: 23\n",
      "Iteration 20, estep start: 157613.814925\n",
      "Iteration 20, estep end: 157636.334212, niter: 20, nfeval: 22\n",
      "Iteration 20, mstep_embedding start: 157636.334212\n",
      "Iteration 20, mstep_embedding end: 158163.726427, niter: 20, nfeval: 22\n",
      "Iteration 20, mstep_kernels start: 158163.726427\n",
      "Kernel params: [tensor([0.4018]), tensor([0.0604])]\n",
      "Iteration 20, mstep_kernels end: 157637.868517, niter: 8, nfeval: 11\n",
      "Iteration 20, mstep_indpointslocs start: 157637.868517\n",
      "Iteration 20, mstep_indpointslocs end: 157643.062232, niter: 20, nfeval: 24\n",
      "Iteration 21, estep start: 157643.062232\n",
      "Iteration 21, estep end: 157666.946598, niter: 20, nfeval: 22\n",
      "Iteration 21, mstep_embedding start: 157666.946598\n",
      "Iteration 21, mstep_embedding end: 158194.205982, niter: 20, nfeval: 22\n",
      "Iteration 21, mstep_kernels start: 158194.205982\n",
      "Kernel params: [tensor([0.3965]), tensor([0.0610])]\n",
      "Iteration 21, mstep_kernels end: 157668.907728, niter: 8, nfeval: 15\n",
      "Iteration 21, mstep_indpointslocs start: 157668.907728\n",
      "Iteration 21, mstep_indpointslocs end: 157673.041465, niter: 20, nfeval: 24\n",
      "Iteration 22, estep start: 157673.041465\n",
      "Iteration 22, estep end: 157694.955486, niter: 20, nfeval: 23\n",
      "Iteration 22, mstep_embedding start: 157694.955486\n",
      "Iteration 22, mstep_embedding end: 158223.599246, niter: 20, nfeval: 22\n",
      "Iteration 22, mstep_kernels start: 158223.599246\n",
      "Kernel params: [tensor([0.3905]), tensor([0.0617])]\n",
      "Iteration 22, mstep_kernels end: 157697.087758, niter: 7, nfeval: 13\n",
      "Iteration 22, mstep_indpointslocs start: 157697.087758\n",
      "Iteration 22, mstep_indpointslocs end: 157700.471775, niter: 20, nfeval: 24\n",
      "Iteration 23, estep start: 157700.471775\n",
      "Iteration 23, estep end: 157720.575015, niter: 20, nfeval: 22\n",
      "Iteration 23, mstep_embedding start: 157720.575015\n",
      "Iteration 23, mstep_embedding end: 158248.111817, niter: 20, nfeval: 21\n",
      "Iteration 23, mstep_kernels start: 158248.111817\n",
      "Kernel params: [tensor([0.3854]), tensor([0.0624])]\n",
      "Iteration 23, mstep_kernels end: 157722.458803, niter: 9, nfeval: 11\n",
      "Iteration 23, mstep_indpointslocs start: 157722.458803\n",
      "Iteration 23, mstep_indpointslocs end: 157725.737066, niter: 19, nfeval: 25\n",
      "Iteration 24, estep start: 157725.737066\n",
      "Iteration 24, estep end: 157746.402192, niter: 20, nfeval: 22\n",
      "Iteration 24, mstep_embedding start: 157746.402192\n",
      "Iteration 24, mstep_embedding end: 158276.065915, niter: 20, nfeval: 21\n",
      "Iteration 24, mstep_kernels start: 158276.065915\n",
      "Kernel params: [tensor([0.3802]), tensor([0.0632])]\n",
      "Iteration 24, mstep_kernels end: 157748.672624, niter: 10, nfeval: 16\n",
      "Iteration 24, mstep_indpointslocs start: 157748.672624\n",
      "Iteration 24, mstep_indpointslocs end: 157752.242373, niter: 20, nfeval: 23\n",
      "Iteration 25, estep start: 157752.242373\n",
      "Iteration 25, estep end: 157772.166729, niter: 20, nfeval: 22\n",
      "Iteration 25, mstep_embedding start: 157772.166729\n",
      "Iteration 25, mstep_embedding end: 158303.269093, niter: 20, nfeval: 22\n",
      "Iteration 25, mstep_kernels start: 158303.269093\n",
      "Kernel params: [tensor([0.3749]), tensor([0.0639])]\n",
      "Iteration 25, mstep_kernels end: 157774.238693, niter: 10, nfeval: 12\n",
      "Iteration 25, mstep_indpointslocs start: 157774.238693\n",
      "Iteration 25, mstep_indpointslocs end: 157777.331123, niter: 20, nfeval: 24\n",
      "Iteration 26, estep start: 157777.331123\n",
      "Iteration 26, estep end: 157797.834428, niter: 20, nfeval: 22\n",
      "Iteration 26, mstep_embedding start: 157797.834428\n",
      "Iteration 26, mstep_embedding end: 158332.803580, niter: 20, nfeval: 22\n",
      "Iteration 26, mstep_kernels start: 158332.803580\n",
      "Kernel params: [tensor([0.3698]), tensor([0.0648])]\n",
      "Iteration 26, mstep_kernels end: 157800.233019, niter: 11, nfeval: 13\n",
      "Iteration 26, mstep_indpointslocs start: 157800.233019\n",
      "Iteration 26, mstep_indpointslocs end: 157803.101287, niter: 20, nfeval: 23\n",
      "Iteration 27, estep start: 157803.101287\n",
      "Iteration 27, estep end: 157824.260061, niter: 20, nfeval: 22\n",
      "Iteration 27, mstep_embedding start: 157824.260061\n",
      "Iteration 27, mstep_embedding end: 158362.319489, niter: 20, nfeval: 22\n",
      "Iteration 27, mstep_kernels start: 158362.319489\n",
      "Kernel params: [tensor([0.3644]), tensor([0.0657])]\n",
      "Iteration 27, mstep_kernels end: 157826.939504, niter: 10, nfeval: 14\n",
      "Iteration 27, mstep_indpointslocs start: 157826.939504\n",
      "Iteration 27, mstep_indpointslocs end: 157829.721027, niter: 20, nfeval: 23\n",
      "Iteration 28, estep start: 157829.721027\n",
      "Iteration 28, estep end: 157847.284760, niter: 20, nfeval: 22\n",
      "Iteration 28, mstep_embedding start: 157847.284760\n",
      "Iteration 28, mstep_embedding end: 158386.934361, niter: 20, nfeval: 22\n",
      "Iteration 28, mstep_kernels start: 158386.934361\n",
      "Kernel params: [tensor([0.3584]), tensor([0.0666])]\n",
      "Iteration 28, mstep_kernels end: 157849.666507, niter: 10, nfeval: 12\n",
      "Iteration 28, mstep_indpointslocs start: 157849.666507\n",
      "Iteration 28, mstep_indpointslocs end: 157852.182243, niter: 20, nfeval: 24\n",
      "Iteration 29, estep start: 157852.182243\n",
      "Iteration 29, estep end: 157869.420055, niter: 20, nfeval: 22\n",
      "Iteration 29, mstep_embedding start: 157869.420055\n",
      "Iteration 29, mstep_embedding end: 158412.689303, niter: 20, nfeval: 22\n",
      "Iteration 29, mstep_kernels start: 158412.689303\n",
      "Kernel params: [tensor([0.3530]), tensor([0.0675])]\n",
      "Iteration 29, mstep_kernels end: 157871.668476, niter: 10, nfeval: 17\n",
      "Iteration 29, mstep_indpointslocs start: 157871.668476\n",
      "Iteration 29, mstep_indpointslocs end: 157874.115295, niter: 20, nfeval: 25\n",
      "Iteration 30, estep start: 157874.115295\n",
      "Iteration 30, estep end: 157891.368530, niter: 20, nfeval: 23\n",
      "Iteration 30, mstep_embedding start: 157891.368530\n",
      "Iteration 30, mstep_embedding end: 158437.615523, niter: 20, nfeval: 22\n",
      "Iteration 30, mstep_kernels start: 158437.615523\n",
      "Kernel params: [tensor([0.3485]), tensor([0.0685])]\n",
      "Iteration 30, mstep_kernels end: 157893.415176, niter: 8, nfeval: 11\n",
      "Iteration 30, mstep_indpointslocs start: 157893.415176\n",
      "Iteration 30, mstep_indpointslocs end: 157896.021828, niter: 20, nfeval: 25\n",
      "Iteration 31, estep start: 157896.021828\n",
      "Iteration 31, estep end: 157911.228435, niter: 20, nfeval: 22\n",
      "Iteration 31, mstep_embedding start: 157911.228435\n",
      "Iteration 31, mstep_embedding end: 158459.458682, niter: 20, nfeval: 22\n",
      "Iteration 31, mstep_kernels start: 158459.458682\n",
      "Kernel params: [tensor([0.3441]), tensor([0.0694])]\n",
      "Iteration 31, mstep_kernels end: 157913.036311, niter: 9, nfeval: 25\n",
      "Iteration 31, mstep_indpointslocs start: 157913.036311\n",
      "Iteration 31, mstep_indpointslocs end: 157915.092194, niter: 19, nfeval: 25\n",
      "Iteration 32, estep start: 157915.092194\n",
      "Iteration 32, estep end: 157929.568239, niter: 20, nfeval: 22\n",
      "Iteration 32, mstep_embedding start: 157929.568239\n",
      "Iteration 32, mstep_embedding end: 158481.209554, niter: 20, nfeval: 22\n",
      "Iteration 32, mstep_kernels start: 158481.209554\n"
     ]
    },
    {
     "name": "stdout",
     "output_type": "stream",
     "text": [
      "Kernel params: [tensor([0.3399]), tensor([0.0704])]\n",
      "Iteration 32, mstep_kernels end: 157931.624830, niter: 12, nfeval: 16\n",
      "Iteration 32, mstep_indpointslocs start: 157931.624830\n",
      "Iteration 32, mstep_indpointslocs end: 157933.800032, niter: 20, nfeval: 23\n",
      "Iteration 33, estep start: 157933.800032\n",
      "Iteration 33, estep end: 157948.105421, niter: 20, nfeval: 23\n",
      "Iteration 33, mstep_embedding start: 157948.105421\n",
      "Iteration 33, mstep_embedding end: 158501.619124, niter: 20, nfeval: 23\n",
      "Iteration 33, mstep_kernels start: 158501.619124\n",
      "Kernel params: [tensor([0.3379]), tensor([0.0713])]\n",
      "Iteration 33, mstep_kernels end: 157949.420909, niter: 12, nfeval: 16\n",
      "Iteration 33, mstep_indpointslocs start: 157949.420909\n",
      "Iteration 33, mstep_indpointslocs end: 157951.499201, niter: 20, nfeval: 22\n",
      "Iteration 34, estep start: 157951.499201\n",
      "Iteration 34, estep end: 157964.019348, niter: 20, nfeval: 23\n",
      "Iteration 34, mstep_embedding start: 157964.019348\n",
      "Iteration 34, mstep_embedding end: 158518.650266, niter: 20, nfeval: 22\n",
      "Iteration 34, mstep_kernels start: 158518.650266\n",
      "Kernel params: [tensor([0.3345]), tensor([0.0723])]\n",
      "Iteration 34, mstep_kernels end: 157965.625253, niter: 12, nfeval: 16\n",
      "Iteration 34, mstep_indpointslocs start: 157965.625253\n",
      "Iteration 34, mstep_indpointslocs end: 157967.500918, niter: 20, nfeval: 23\n",
      "Iteration 35, estep start: 157967.500918\n",
      "Iteration 35, estep end: 157979.345494, niter: 20, nfeval: 22\n",
      "Iteration 35, mstep_embedding start: 157979.345494\n",
      "Iteration 35, mstep_embedding end: 158536.617819, niter: 20, nfeval: 24\n",
      "Iteration 35, mstep_kernels start: 158536.617819\n",
      "Kernel params: [tensor([0.3324]), tensor([0.0732])]\n",
      "Iteration 35, mstep_kernels end: 157980.632235, niter: 11, nfeval: 14\n",
      "Iteration 35, mstep_indpointslocs start: 157980.632235\n",
      "Iteration 35, mstep_indpointslocs end: 157982.106634, niter: 20, nfeval: 22\n",
      "Iteration 36, estep start: 157982.106634\n",
      "Iteration 36, estep end: 157992.425762, niter: 20, nfeval: 22\n",
      "Iteration 36, mstep_embedding start: 157992.425762\n",
      "Iteration 36, mstep_embedding end: 158549.461536, niter: 20, nfeval: 23\n",
      "Iteration 36, mstep_kernels start: 158549.461536\n",
      "Kernel params: [tensor([0.3303]), tensor([0.0742])]\n",
      "Iteration 36, mstep_kernels end: 157993.580139, niter: 11, nfeval: 12\n",
      "Iteration 36, mstep_indpointslocs start: 157993.580139\n",
      "Iteration 36, mstep_indpointslocs end: 157994.932858, niter: 20, nfeval: 22\n",
      "Iteration 37, estep start: 157994.932858\n",
      "Iteration 37, estep end: 158004.456243, niter: 20, nfeval: 22\n",
      "Iteration 37, mstep_embedding start: 158004.456243\n",
      "Iteration 37, mstep_embedding end: 158563.329396, niter: 20, nfeval: 23\n",
      "Iteration 37, mstep_kernels start: 158563.329396\n",
      "Kernel params: [tensor([0.3286]), tensor([0.0751])]\n",
      "Iteration 37, mstep_kernels end: 158005.410614, niter: 12, nfeval: 16\n",
      "Iteration 37, mstep_indpointslocs start: 158005.410614\n",
      "Iteration 37, mstep_indpointslocs end: 158006.708741, niter: 20, nfeval: 22\n",
      "Iteration 38, estep start: 158006.708741\n",
      "Iteration 38, estep end: 158016.047931, niter: 20, nfeval: 22\n",
      "Iteration 38, mstep_embedding start: 158016.047931\n",
      "Iteration 38, mstep_embedding end: 158574.511903, niter: 20, nfeval: 23\n",
      "Iteration 38, mstep_kernels start: 158574.511903\n",
      "Kernel params: [tensor([0.3275]), tensor([0.0759])]\n",
      "Iteration 38, mstep_kernels end: 158016.920189, niter: 11, nfeval: 13\n",
      "Iteration 38, mstep_indpointslocs start: 158016.920189\n",
      "Iteration 38, mstep_indpointslocs end: 158018.135152, niter: 20, nfeval: 24\n",
      "Iteration 39, estep start: 158018.135152\n",
      "Iteration 39, estep end: 158027.001517, niter: 20, nfeval: 22\n",
      "Iteration 39, mstep_embedding start: 158027.001517\n",
      "Iteration 39, mstep_embedding end: 158587.207783, niter: 20, nfeval: 24\n",
      "Iteration 39, mstep_kernels start: 158587.207783\n",
      "Kernel params: [tensor([0.3261]), tensor([0.0769])]\n",
      "Iteration 39, mstep_kernels end: 158027.918491, niter: 12, nfeval: 19\n",
      "Iteration 39, mstep_indpointslocs start: 158027.918491\n",
      "Iteration 39, mstep_indpointslocs end: 158029.028670, niter: 20, nfeval: 25\n",
      "Iteration 40, estep start: 158029.028670\n",
      "Iteration 40, estep end: 158036.452625, niter: 20, nfeval: 23\n",
      "Iteration 40, mstep_embedding start: 158036.452625\n",
      "Iteration 40, mstep_embedding end: 158594.554399, niter: 20, nfeval: 22\n",
      "Iteration 40, mstep_kernels start: 158594.554399\n",
      "Kernel params: [tensor([0.3252]), tensor([0.0777])]\n",
      "Iteration 40, mstep_kernels end: 158037.130416, niter: 12, nfeval: 21\n",
      "Iteration 40, mstep_indpointslocs start: 158037.130416\n",
      "Iteration 40, mstep_indpointslocs end: 158037.972182, niter: 20, nfeval: 24\n",
      "Iteration 41, estep start: 158037.972182\n",
      "Iteration 41, estep end: 158044.690516, niter: 20, nfeval: 22\n",
      "Iteration 41, mstep_embedding start: 158044.690516\n",
      "Iteration 41, mstep_embedding end: 158603.543312, niter: 20, nfeval: 23\n",
      "Iteration 41, mstep_kernels start: 158603.543312\n",
      "Kernel params: [tensor([0.3243]), tensor([0.0786])]\n",
      "Iteration 41, mstep_kernels end: 158045.428188, niter: 11, nfeval: 12\n",
      "Iteration 41, mstep_indpointslocs start: 158045.428188\n",
      "Iteration 41, mstep_indpointslocs end: 158046.247904, niter: 20, nfeval: 23\n",
      "Iteration 42, estep start: 158046.247904\n",
      "Iteration 42, estep end: 158052.431667, niter: 20, nfeval: 22\n",
      "Iteration 42, mstep_embedding start: 158052.431667\n",
      "Iteration 42, mstep_embedding end: 158609.647217, niter: 20, nfeval: 23\n",
      "Iteration 42, mstep_kernels start: 158609.647217\n",
      "Kernel params: [tensor([0.3237]), tensor([0.0794])]\n",
      "Iteration 42, mstep_kernels end: 158053.056917, niter: 11, nfeval: 14\n",
      "Iteration 42, mstep_indpointslocs start: 158053.056917\n",
      "Iteration 42, mstep_indpointslocs end: 158053.794935, niter: 20, nfeval: 25\n",
      "Iteration 43, estep start: 158053.794935\n",
      "Iteration 43, estep end: 158059.753931, niter: 20, nfeval: 22\n",
      "Iteration 43, mstep_embedding start: 158059.753931\n",
      "Iteration 43, mstep_embedding end: 158617.452373, niter: 20, nfeval: 24\n",
      "Iteration 43, mstep_kernels start: 158617.452373\n",
      "Kernel params: [tensor([0.3231]), tensor([0.0803])]\n",
      "Iteration 43, mstep_kernels end: 158060.427461, niter: 11, nfeval: 12\n",
      "Iteration 43, mstep_indpointslocs start: 158060.427461\n",
      "Iteration 43, mstep_indpointslocs end: 158061.125956, niter: 20, nfeval: 24\n",
      "Iteration 44, estep start: 158061.125956\n",
      "Iteration 44, estep end: 158067.660838, niter: 20, nfeval: 22\n",
      "Iteration 44, mstep_embedding start: 158067.660838\n",
      "Iteration 44, mstep_embedding end: 158623.934992, niter: 20, nfeval: 23\n",
      "Iteration 44, mstep_kernels start: 158623.934992\n",
      "Kernel params: [tensor([0.3228]), tensor([0.0812])]\n",
      "Iteration 44, mstep_kernels end: 158068.288808, niter: 8, nfeval: 10\n",
      "Iteration 44, mstep_indpointslocs start: 158068.288808\n",
      "Iteration 44, mstep_indpointslocs end: 158068.976806, niter: 20, nfeval: 22\n",
      "Iteration 45, estep start: 158068.976806\n",
      "Iteration 45, estep end: 158074.163416, niter: 20, nfeval: 23\n",
      "Iteration 45, mstep_embedding start: 158074.163416\n",
      "Iteration 45, mstep_embedding end: 158629.598498, niter: 20, nfeval: 23\n",
      "Iteration 45, mstep_kernels start: 158629.598498\n",
      "Kernel params: [tensor([0.3223]), tensor([0.0821])]\n",
      "Iteration 45, mstep_kernels end: 158074.800102, niter: 10, nfeval: 11\n",
      "Iteration 45, mstep_indpointslocs start: 158074.800102\n",
      "Iteration 45, mstep_indpointslocs end: 158075.409646, niter: 20, nfeval: 24\n",
      "Iteration 46, estep start: 158075.409646\n",
      "Iteration 46, estep end: 158079.970120, niter: 20, nfeval: 22\n",
      "Iteration 46, mstep_embedding start: 158079.970120\n",
      "Iteration 46, mstep_embedding end: 158633.760215, niter: 20, nfeval: 23\n",
      "Iteration 46, mstep_kernels start: 158633.760215\n",
      "Kernel params: [tensor([0.3221]), tensor([0.0829])]\n",
      "Iteration 46, mstep_kernels end: 158080.491488, niter: 7, nfeval: 10\n",
      "Iteration 46, mstep_indpointslocs start: 158080.491488\n",
      "Iteration 46, mstep_indpointslocs end: 158081.060881, niter: 20, nfeval: 24\n",
      "Iteration 47, estep start: 158081.060881\n",
      "Iteration 47, estep end: 158086.490986, niter: 20, nfeval: 22\n",
      "Iteration 47, mstep_embedding start: 158086.490986\n",
      "Iteration 47, mstep_embedding end: 158640.381357, niter: 20, nfeval: 23\n",
      "Iteration 47, mstep_kernels start: 158640.381357\n",
      "Kernel params: [tensor([0.3217]), tensor([0.0838])]\n",
      "Iteration 47, mstep_kernels end: 158087.113991, niter: 10, nfeval: 11\n",
      "Iteration 47, mstep_indpointslocs start: 158087.113991\n",
      "Iteration 47, mstep_indpointslocs end: 158087.626391, niter: 20, nfeval: 23\n",
      "Iteration 48, estep start: 158087.626391\n"
     ]
    },
    {
     "name": "stdout",
     "output_type": "stream",
     "text": [
      "Iteration 48, estep end: 158092.285446, niter: 20, nfeval: 22\n",
      "Iteration 48, mstep_embedding start: 158092.285446\n",
      "Iteration 48, mstep_embedding end: 158643.517940, niter: 20, nfeval: 23\n",
      "Iteration 48, mstep_kernels start: 158643.517940\n",
      "Kernel params: [tensor([0.3215]), tensor([0.0846])]\n",
      "Iteration 48, mstep_kernels end: 158092.787567, niter: 7, nfeval: 13\n",
      "Iteration 48, mstep_indpointslocs start: 158092.787567\n",
      "Iteration 48, mstep_indpointslocs end: 158093.213144, niter: 20, nfeval: 24\n",
      "Iteration 49, estep start: 158093.213144\n",
      "Iteration 49, estep end: 158097.240937, niter: 20, nfeval: 22\n",
      "Iteration 49, mstep_embedding start: 158097.240937\n",
      "Iteration 49, mstep_embedding end: 158647.570389, niter: 20, nfeval: 24\n",
      "Iteration 49, mstep_kernels start: 158647.570389\n",
      "Kernel params: [tensor([0.3213]), tensor([0.0855])]\n",
      "Iteration 49, mstep_kernels end: 158097.853144, niter: 7, nfeval: 12\n",
      "Iteration 49, mstep_indpointslocs start: 158097.853144\n",
      "Iteration 49, mstep_indpointslocs end: 158098.267273, niter: 20, nfeval: 23\n"
     ]
    }
   ],
   "source": [
    "svEM = stats.svGPFA.svEM.SVEM()\n",
    "lowerBoundHist, elapsedTimeHist, terminationInfo, iterationsModelParams  = svEM.maximize(model=model, optimParams=optimParams, method=optimMethod)\n"
   ]
  },
  {
   "cell_type": "markdown",
   "metadata": {
    "id": "L3MzcuMK8tcW"
   },
   "source": [
    "# Set neuron, latent and trial to plot"
   ]
  },
  {
   "cell_type": "code",
   "execution_count": 38,
   "metadata": {
    "id": "uRJ5X8vO8x5E"
   },
   "outputs": [],
   "source": [
    "neuronToPlot = 0\n",
    "trialToPlot = 0\n",
    "latentToPlot = 0"
   ]
  },
  {
   "cell_type": "markdown",
   "metadata": {
    "id": "Hljb2Rb6_Hzk"
   },
   "source": [
    "# Plot lower bound history"
   ]
  },
  {
   "cell_type": "code",
   "execution_count": 39,
   "metadata": {
    "colab": {
     "base_uri": "https://localhost:8080/",
     "height": 467
    },
    "id": "h9HwSZ9TMFYc",
    "outputId": "e37e7c66-84f6-4f82-b89d-550017700f9c"
   },
   "outputs": [
    {
     "data": {
      "application/vnd.plotly.v1+json": {
       "config": {
        "plotlyServerURL": "https://plot.ly"
       },
       "data": [
        {
         "line": {
          "color": "red",
          "dash": "solid"
         },
         "marker": {
          "symbol": "cross"
         },
         "mode": "lines+markers",
         "showlegend": false,
         "type": "scatter",
         "y": [
          -3144.2285651503025,
          135690.5287893104,
          150676.65316026166,
          154809.11028082285,
          156052.54187435165,
          156741.5054425306,
          156968.41207184884,
          157072.16137730976,
          157149.5644250384,
          157199.45887451404,
          157246.67896437514,
          157300.99216937306,
          157354.25728685397,
          157398.07898187297,
          157439.8542347032,
          157476.69686754097,
          157516.0344884992,
          157550.33299843964,
          157582.17693786984,
          157613.81492454035,
          157643.06223175462,
          157673.0414647883,
          157700.47177549472,
          157725.73706644963,
          157752.2423725871,
          157777.33112270237,
          157803.101286686,
          157829.72102680773,
          157852.18224337074,
          157874.115294683,
          157896.02182776306,
          157915.0921943275,
          157933.80003209374,
          157951.4992010955,
          157967.5009180217,
          157982.10663370334,
          157994.93285845514,
          158006.70874062786,
          158018.13515217148,
          158029.0286697301,
          158037.97218194435,
          158046.24790394097,
          158053.79493480598,
          158061.12595588915,
          158068.9768061471,
          158075.40964566713,
          158081.06088141547,
          158087.62639085212,
          158093.2131440034,
          158098.26727310766
         ]
        }
       ],
       "layout": {
        "template": {
         "data": {
          "bar": [
           {
            "error_x": {
             "color": "#2a3f5f"
            },
            "error_y": {
             "color": "#2a3f5f"
            },
            "marker": {
             "line": {
              "color": "#E5ECF6",
              "width": 0.5
             }
            },
            "type": "bar"
           }
          ],
          "barpolar": [
           {
            "marker": {
             "line": {
              "color": "#E5ECF6",
              "width": 0.5
             }
            },
            "type": "barpolar"
           }
          ],
          "carpet": [
           {
            "aaxis": {
             "endlinecolor": "#2a3f5f",
             "gridcolor": "white",
             "linecolor": "white",
             "minorgridcolor": "white",
             "startlinecolor": "#2a3f5f"
            },
            "baxis": {
             "endlinecolor": "#2a3f5f",
             "gridcolor": "white",
             "linecolor": "white",
             "minorgridcolor": "white",
             "startlinecolor": "#2a3f5f"
            },
            "type": "carpet"
           }
          ],
          "choropleth": [
           {
            "colorbar": {
             "outlinewidth": 0,
             "ticks": ""
            },
            "type": "choropleth"
           }
          ],
          "contour": [
           {
            "colorbar": {
             "outlinewidth": 0,
             "ticks": ""
            },
            "colorscale": [
             [
              0,
              "#0d0887"
             ],
             [
              0.1111111111111111,
              "#46039f"
             ],
             [
              0.2222222222222222,
              "#7201a8"
             ],
             [
              0.3333333333333333,
              "#9c179e"
             ],
             [
              0.4444444444444444,
              "#bd3786"
             ],
             [
              0.5555555555555556,
              "#d8576b"
             ],
             [
              0.6666666666666666,
              "#ed7953"
             ],
             [
              0.7777777777777778,
              "#fb9f3a"
             ],
             [
              0.8888888888888888,
              "#fdca26"
             ],
             [
              1,
              "#f0f921"
             ]
            ],
            "type": "contour"
           }
          ],
          "contourcarpet": [
           {
            "colorbar": {
             "outlinewidth": 0,
             "ticks": ""
            },
            "type": "contourcarpet"
           }
          ],
          "heatmap": [
           {
            "colorbar": {
             "outlinewidth": 0,
             "ticks": ""
            },
            "colorscale": [
             [
              0,
              "#0d0887"
             ],
             [
              0.1111111111111111,
              "#46039f"
             ],
             [
              0.2222222222222222,
              "#7201a8"
             ],
             [
              0.3333333333333333,
              "#9c179e"
             ],
             [
              0.4444444444444444,
              "#bd3786"
             ],
             [
              0.5555555555555556,
              "#d8576b"
             ],
             [
              0.6666666666666666,
              "#ed7953"
             ],
             [
              0.7777777777777778,
              "#fb9f3a"
             ],
             [
              0.8888888888888888,
              "#fdca26"
             ],
             [
              1,
              "#f0f921"
             ]
            ],
            "type": "heatmap"
           }
          ],
          "heatmapgl": [
           {
            "colorbar": {
             "outlinewidth": 0,
             "ticks": ""
            },
            "colorscale": [
             [
              0,
              "#0d0887"
             ],
             [
              0.1111111111111111,
              "#46039f"
             ],
             [
              0.2222222222222222,
              "#7201a8"
             ],
             [
              0.3333333333333333,
              "#9c179e"
             ],
             [
              0.4444444444444444,
              "#bd3786"
             ],
             [
              0.5555555555555556,
              "#d8576b"
             ],
             [
              0.6666666666666666,
              "#ed7953"
             ],
             [
              0.7777777777777778,
              "#fb9f3a"
             ],
             [
              0.8888888888888888,
              "#fdca26"
             ],
             [
              1,
              "#f0f921"
             ]
            ],
            "type": "heatmapgl"
           }
          ],
          "histogram": [
           {
            "marker": {
             "colorbar": {
              "outlinewidth": 0,
              "ticks": ""
             }
            },
            "type": "histogram"
           }
          ],
          "histogram2d": [
           {
            "colorbar": {
             "outlinewidth": 0,
             "ticks": ""
            },
            "colorscale": [
             [
              0,
              "#0d0887"
             ],
             [
              0.1111111111111111,
              "#46039f"
             ],
             [
              0.2222222222222222,
              "#7201a8"
             ],
             [
              0.3333333333333333,
              "#9c179e"
             ],
             [
              0.4444444444444444,
              "#bd3786"
             ],
             [
              0.5555555555555556,
              "#d8576b"
             ],
             [
              0.6666666666666666,
              "#ed7953"
             ],
             [
              0.7777777777777778,
              "#fb9f3a"
             ],
             [
              0.8888888888888888,
              "#fdca26"
             ],
             [
              1,
              "#f0f921"
             ]
            ],
            "type": "histogram2d"
           }
          ],
          "histogram2dcontour": [
           {
            "colorbar": {
             "outlinewidth": 0,
             "ticks": ""
            },
            "colorscale": [
             [
              0,
              "#0d0887"
             ],
             [
              0.1111111111111111,
              "#46039f"
             ],
             [
              0.2222222222222222,
              "#7201a8"
             ],
             [
              0.3333333333333333,
              "#9c179e"
             ],
             [
              0.4444444444444444,
              "#bd3786"
             ],
             [
              0.5555555555555556,
              "#d8576b"
             ],
             [
              0.6666666666666666,
              "#ed7953"
             ],
             [
              0.7777777777777778,
              "#fb9f3a"
             ],
             [
              0.8888888888888888,
              "#fdca26"
             ],
             [
              1,
              "#f0f921"
             ]
            ],
            "type": "histogram2dcontour"
           }
          ],
          "mesh3d": [
           {
            "colorbar": {
             "outlinewidth": 0,
             "ticks": ""
            },
            "type": "mesh3d"
           }
          ],
          "parcoords": [
           {
            "line": {
             "colorbar": {
              "outlinewidth": 0,
              "ticks": ""
             }
            },
            "type": "parcoords"
           }
          ],
          "pie": [
           {
            "automargin": true,
            "type": "pie"
           }
          ],
          "scatter": [
           {
            "marker": {
             "colorbar": {
              "outlinewidth": 0,
              "ticks": ""
             }
            },
            "type": "scatter"
           }
          ],
          "scatter3d": [
           {
            "line": {
             "colorbar": {
              "outlinewidth": 0,
              "ticks": ""
             }
            },
            "marker": {
             "colorbar": {
              "outlinewidth": 0,
              "ticks": ""
             }
            },
            "type": "scatter3d"
           }
          ],
          "scattercarpet": [
           {
            "marker": {
             "colorbar": {
              "outlinewidth": 0,
              "ticks": ""
             }
            },
            "type": "scattercarpet"
           }
          ],
          "scattergeo": [
           {
            "marker": {
             "colorbar": {
              "outlinewidth": 0,
              "ticks": ""
             }
            },
            "type": "scattergeo"
           }
          ],
          "scattergl": [
           {
            "marker": {
             "colorbar": {
              "outlinewidth": 0,
              "ticks": ""
             }
            },
            "type": "scattergl"
           }
          ],
          "scattermapbox": [
           {
            "marker": {
             "colorbar": {
              "outlinewidth": 0,
              "ticks": ""
             }
            },
            "type": "scattermapbox"
           }
          ],
          "scatterpolar": [
           {
            "marker": {
             "colorbar": {
              "outlinewidth": 0,
              "ticks": ""
             }
            },
            "type": "scatterpolar"
           }
          ],
          "scatterpolargl": [
           {
            "marker": {
             "colorbar": {
              "outlinewidth": 0,
              "ticks": ""
             }
            },
            "type": "scatterpolargl"
           }
          ],
          "scatterternary": [
           {
            "marker": {
             "colorbar": {
              "outlinewidth": 0,
              "ticks": ""
             }
            },
            "type": "scatterternary"
           }
          ],
          "surface": [
           {
            "colorbar": {
             "outlinewidth": 0,
             "ticks": ""
            },
            "colorscale": [
             [
              0,
              "#0d0887"
             ],
             [
              0.1111111111111111,
              "#46039f"
             ],
             [
              0.2222222222222222,
              "#7201a8"
             ],
             [
              0.3333333333333333,
              "#9c179e"
             ],
             [
              0.4444444444444444,
              "#bd3786"
             ],
             [
              0.5555555555555556,
              "#d8576b"
             ],
             [
              0.6666666666666666,
              "#ed7953"
             ],
             [
              0.7777777777777778,
              "#fb9f3a"
             ],
             [
              0.8888888888888888,
              "#fdca26"
             ],
             [
              1,
              "#f0f921"
             ]
            ],
            "type": "surface"
           }
          ],
          "table": [
           {
            "cells": {
             "fill": {
              "color": "#EBF0F8"
             },
             "line": {
              "color": "white"
             }
            },
            "header": {
             "fill": {
              "color": "#C8D4E3"
             },
             "line": {
              "color": "white"
             }
            },
            "type": "table"
           }
          ]
         },
         "layout": {
          "annotationdefaults": {
           "arrowcolor": "#2a3f5f",
           "arrowhead": 0,
           "arrowwidth": 1
          },
          "autotypenumbers": "strict",
          "coloraxis": {
           "colorbar": {
            "outlinewidth": 0,
            "ticks": ""
           }
          },
          "colorscale": {
           "diverging": [
            [
             0,
             "#8e0152"
            ],
            [
             0.1,
             "#c51b7d"
            ],
            [
             0.2,
             "#de77ae"
            ],
            [
             0.3,
             "#f1b6da"
            ],
            [
             0.4,
             "#fde0ef"
            ],
            [
             0.5,
             "#f7f7f7"
            ],
            [
             0.6,
             "#e6f5d0"
            ],
            [
             0.7,
             "#b8e186"
            ],
            [
             0.8,
             "#7fbc41"
            ],
            [
             0.9,
             "#4d9221"
            ],
            [
             1,
             "#276419"
            ]
           ],
           "sequential": [
            [
             0,
             "#0d0887"
            ],
            [
             0.1111111111111111,
             "#46039f"
            ],
            [
             0.2222222222222222,
             "#7201a8"
            ],
            [
             0.3333333333333333,
             "#9c179e"
            ],
            [
             0.4444444444444444,
             "#bd3786"
            ],
            [
             0.5555555555555556,
             "#d8576b"
            ],
            [
             0.6666666666666666,
             "#ed7953"
            ],
            [
             0.7777777777777778,
             "#fb9f3a"
            ],
            [
             0.8888888888888888,
             "#fdca26"
            ],
            [
             1,
             "#f0f921"
            ]
           ],
           "sequentialminus": [
            [
             0,
             "#0d0887"
            ],
            [
             0.1111111111111111,
             "#46039f"
            ],
            [
             0.2222222222222222,
             "#7201a8"
            ],
            [
             0.3333333333333333,
             "#9c179e"
            ],
            [
             0.4444444444444444,
             "#bd3786"
            ],
            [
             0.5555555555555556,
             "#d8576b"
            ],
            [
             0.6666666666666666,
             "#ed7953"
            ],
            [
             0.7777777777777778,
             "#fb9f3a"
            ],
            [
             0.8888888888888888,
             "#fdca26"
            ],
            [
             1,
             "#f0f921"
            ]
           ]
          },
          "colorway": [
           "#636efa",
           "#EF553B",
           "#00cc96",
           "#ab63fa",
           "#FFA15A",
           "#19d3f3",
           "#FF6692",
           "#B6E880",
           "#FF97FF",
           "#FECB52"
          ],
          "font": {
           "color": "#2a3f5f"
          },
          "geo": {
           "bgcolor": "white",
           "lakecolor": "white",
           "landcolor": "#E5ECF6",
           "showlakes": true,
           "showland": true,
           "subunitcolor": "white"
          },
          "hoverlabel": {
           "align": "left"
          },
          "hovermode": "closest",
          "mapbox": {
           "style": "light"
          },
          "paper_bgcolor": "white",
          "plot_bgcolor": "#E5ECF6",
          "polar": {
           "angularaxis": {
            "gridcolor": "white",
            "linecolor": "white",
            "ticks": ""
           },
           "bgcolor": "#E5ECF6",
           "radialaxis": {
            "gridcolor": "white",
            "linecolor": "white",
            "ticks": ""
           }
          },
          "scene": {
           "xaxis": {
            "backgroundcolor": "#E5ECF6",
            "gridcolor": "white",
            "gridwidth": 2,
            "linecolor": "white",
            "showbackground": true,
            "ticks": "",
            "zerolinecolor": "white"
           },
           "yaxis": {
            "backgroundcolor": "#E5ECF6",
            "gridcolor": "white",
            "gridwidth": 2,
            "linecolor": "white",
            "showbackground": true,
            "ticks": "",
            "zerolinecolor": "white"
           },
           "zaxis": {
            "backgroundcolor": "#E5ECF6",
            "gridcolor": "white",
            "gridwidth": 2,
            "linecolor": "white",
            "showbackground": true,
            "ticks": "",
            "zerolinecolor": "white"
           }
          },
          "shapedefaults": {
           "line": {
            "color": "#2a3f5f"
           }
          },
          "ternary": {
           "aaxis": {
            "gridcolor": "white",
            "linecolor": "white",
            "ticks": ""
           },
           "baxis": {
            "gridcolor": "white",
            "linecolor": "white",
            "ticks": ""
           },
           "bgcolor": "#E5ECF6",
           "caxis": {
            "gridcolor": "white",
            "linecolor": "white",
            "ticks": ""
           }
          },
          "title": {
           "x": 0.05
          },
          "xaxis": {
           "automargin": true,
           "gridcolor": "white",
           "linecolor": "white",
           "ticks": "",
           "title": {
            "standoff": 15
           },
           "zerolinecolor": "white",
           "zerolinewidth": 2
          },
          "yaxis": {
           "automargin": true,
           "gridcolor": "white",
           "linecolor": "white",
           "ticks": "",
           "title": {
            "standoff": 15
           },
           "zerolinecolor": "white",
           "zerolinewidth": 2
          }
         }
        },
        "xaxis": {
         "title": {
          "text": "Iteration Number"
         }
        },
        "yaxis": {
         "title": {
          "text": "Lower Bound"
         }
        }
       }
      },
      "text/html": [
       "<div>                            <div id=\"3df21c39-4e34-4fa6-a73c-dc95eae05a19\" class=\"plotly-graph-div\" style=\"height:525px; width:100%;\"></div>            <script type=\"text/javascript\">                require([\"plotly\"], function(Plotly) {                    window.PLOTLYENV=window.PLOTLYENV || {};                                    if (document.getElementById(\"3df21c39-4e34-4fa6-a73c-dc95eae05a19\")) {                    Plotly.newPlot(                        \"3df21c39-4e34-4fa6-a73c-dc95eae05a19\",                        [{\"line\": {\"color\": \"red\", \"dash\": \"solid\"}, \"marker\": {\"symbol\": \"cross\"}, \"mode\": \"lines+markers\", \"showlegend\": false, \"type\": \"scatter\", \"y\": [-3144.2285651503025, 135690.5287893104, 150676.65316026166, 154809.11028082285, 156052.54187435165, 156741.5054425306, 156968.41207184884, 157072.16137730976, 157149.5644250384, 157199.45887451404, 157246.67896437514, 157300.99216937306, 157354.25728685397, 157398.07898187297, 157439.8542347032, 157476.69686754097, 157516.0344884992, 157550.33299843964, 157582.17693786984, 157613.81492454035, 157643.06223175462, 157673.0414647883, 157700.47177549472, 157725.73706644963, 157752.2423725871, 157777.33112270237, 157803.101286686, 157829.72102680773, 157852.18224337074, 157874.115294683, 157896.02182776306, 157915.0921943275, 157933.80003209374, 157951.4992010955, 157967.5009180217, 157982.10663370334, 157994.93285845514, 158006.70874062786, 158018.13515217148, 158029.0286697301, 158037.97218194435, 158046.24790394097, 158053.79493480598, 158061.12595588915, 158068.9768061471, 158075.40964566713, 158081.06088141547, 158087.62639085212, 158093.2131440034, 158098.26727310766]}],                        {\"template\": {\"data\": {\"bar\": [{\"error_x\": {\"color\": \"#2a3f5f\"}, \"error_y\": {\"color\": \"#2a3f5f\"}, \"marker\": {\"line\": {\"color\": \"#E5ECF6\", \"width\": 0.5}}, \"type\": \"bar\"}], \"barpolar\": [{\"marker\": {\"line\": {\"color\": \"#E5ECF6\", \"width\": 0.5}}, \"type\": \"barpolar\"}], \"carpet\": [{\"aaxis\": {\"endlinecolor\": \"#2a3f5f\", \"gridcolor\": \"white\", \"linecolor\": \"white\", \"minorgridcolor\": \"white\", \"startlinecolor\": \"#2a3f5f\"}, \"baxis\": {\"endlinecolor\": \"#2a3f5f\", \"gridcolor\": \"white\", \"linecolor\": \"white\", \"minorgridcolor\": \"white\", \"startlinecolor\": \"#2a3f5f\"}, \"type\": \"carpet\"}], \"choropleth\": [{\"colorbar\": {\"outlinewidth\": 0, \"ticks\": \"\"}, \"type\": \"choropleth\"}], \"contour\": [{\"colorbar\": {\"outlinewidth\": 0, \"ticks\": \"\"}, \"colorscale\": [[0.0, \"#0d0887\"], [0.1111111111111111, \"#46039f\"], [0.2222222222222222, \"#7201a8\"], [0.3333333333333333, \"#9c179e\"], [0.4444444444444444, \"#bd3786\"], [0.5555555555555556, \"#d8576b\"], [0.6666666666666666, \"#ed7953\"], [0.7777777777777778, \"#fb9f3a\"], [0.8888888888888888, \"#fdca26\"], [1.0, \"#f0f921\"]], \"type\": \"contour\"}], \"contourcarpet\": [{\"colorbar\": {\"outlinewidth\": 0, \"ticks\": \"\"}, \"type\": \"contourcarpet\"}], \"heatmap\": [{\"colorbar\": {\"outlinewidth\": 0, \"ticks\": \"\"}, \"colorscale\": [[0.0, \"#0d0887\"], [0.1111111111111111, \"#46039f\"], [0.2222222222222222, \"#7201a8\"], [0.3333333333333333, \"#9c179e\"], [0.4444444444444444, \"#bd3786\"], [0.5555555555555556, \"#d8576b\"], [0.6666666666666666, \"#ed7953\"], [0.7777777777777778, \"#fb9f3a\"], [0.8888888888888888, \"#fdca26\"], [1.0, \"#f0f921\"]], \"type\": \"heatmap\"}], \"heatmapgl\": [{\"colorbar\": {\"outlinewidth\": 0, \"ticks\": \"\"}, \"colorscale\": [[0.0, \"#0d0887\"], [0.1111111111111111, \"#46039f\"], [0.2222222222222222, \"#7201a8\"], [0.3333333333333333, \"#9c179e\"], [0.4444444444444444, \"#bd3786\"], [0.5555555555555556, \"#d8576b\"], [0.6666666666666666, \"#ed7953\"], [0.7777777777777778, \"#fb9f3a\"], [0.8888888888888888, \"#fdca26\"], [1.0, \"#f0f921\"]], \"type\": \"heatmapgl\"}], \"histogram\": [{\"marker\": {\"colorbar\": {\"outlinewidth\": 0, \"ticks\": \"\"}}, \"type\": \"histogram\"}], \"histogram2d\": [{\"colorbar\": {\"outlinewidth\": 0, \"ticks\": \"\"}, \"colorscale\": [[0.0, \"#0d0887\"], [0.1111111111111111, \"#46039f\"], [0.2222222222222222, \"#7201a8\"], [0.3333333333333333, \"#9c179e\"], [0.4444444444444444, \"#bd3786\"], [0.5555555555555556, \"#d8576b\"], [0.6666666666666666, \"#ed7953\"], [0.7777777777777778, \"#fb9f3a\"], [0.8888888888888888, \"#fdca26\"], [1.0, \"#f0f921\"]], \"type\": \"histogram2d\"}], \"histogram2dcontour\": [{\"colorbar\": {\"outlinewidth\": 0, \"ticks\": \"\"}, \"colorscale\": [[0.0, \"#0d0887\"], [0.1111111111111111, \"#46039f\"], [0.2222222222222222, \"#7201a8\"], [0.3333333333333333, \"#9c179e\"], [0.4444444444444444, \"#bd3786\"], [0.5555555555555556, \"#d8576b\"], [0.6666666666666666, \"#ed7953\"], [0.7777777777777778, \"#fb9f3a\"], [0.8888888888888888, \"#fdca26\"], [1.0, \"#f0f921\"]], \"type\": \"histogram2dcontour\"}], \"mesh3d\": [{\"colorbar\": {\"outlinewidth\": 0, \"ticks\": \"\"}, \"type\": \"mesh3d\"}], \"parcoords\": [{\"line\": {\"colorbar\": {\"outlinewidth\": 0, \"ticks\": \"\"}}, \"type\": \"parcoords\"}], \"pie\": [{\"automargin\": true, \"type\": \"pie\"}], \"scatter\": [{\"marker\": {\"colorbar\": {\"outlinewidth\": 0, \"ticks\": \"\"}}, \"type\": \"scatter\"}], \"scatter3d\": [{\"line\": {\"colorbar\": {\"outlinewidth\": 0, \"ticks\": \"\"}}, \"marker\": {\"colorbar\": {\"outlinewidth\": 0, \"ticks\": \"\"}}, \"type\": \"scatter3d\"}], \"scattercarpet\": [{\"marker\": {\"colorbar\": {\"outlinewidth\": 0, \"ticks\": \"\"}}, \"type\": \"scattercarpet\"}], \"scattergeo\": [{\"marker\": {\"colorbar\": {\"outlinewidth\": 0, \"ticks\": \"\"}}, \"type\": \"scattergeo\"}], \"scattergl\": [{\"marker\": {\"colorbar\": {\"outlinewidth\": 0, \"ticks\": \"\"}}, \"type\": \"scattergl\"}], \"scattermapbox\": [{\"marker\": {\"colorbar\": {\"outlinewidth\": 0, \"ticks\": \"\"}}, \"type\": \"scattermapbox\"}], \"scatterpolar\": [{\"marker\": {\"colorbar\": {\"outlinewidth\": 0, \"ticks\": \"\"}}, \"type\": \"scatterpolar\"}], \"scatterpolargl\": [{\"marker\": {\"colorbar\": {\"outlinewidth\": 0, \"ticks\": \"\"}}, \"type\": \"scatterpolargl\"}], \"scatterternary\": [{\"marker\": {\"colorbar\": {\"outlinewidth\": 0, \"ticks\": \"\"}}, \"type\": \"scatterternary\"}], \"surface\": [{\"colorbar\": {\"outlinewidth\": 0, \"ticks\": \"\"}, \"colorscale\": [[0.0, \"#0d0887\"], [0.1111111111111111, \"#46039f\"], [0.2222222222222222, \"#7201a8\"], [0.3333333333333333, \"#9c179e\"], [0.4444444444444444, \"#bd3786\"], [0.5555555555555556, \"#d8576b\"], [0.6666666666666666, \"#ed7953\"], [0.7777777777777778, \"#fb9f3a\"], [0.8888888888888888, \"#fdca26\"], [1.0, \"#f0f921\"]], \"type\": \"surface\"}], \"table\": [{\"cells\": {\"fill\": {\"color\": \"#EBF0F8\"}, \"line\": {\"color\": \"white\"}}, \"header\": {\"fill\": {\"color\": \"#C8D4E3\"}, \"line\": {\"color\": \"white\"}}, \"type\": \"table\"}]}, \"layout\": {\"annotationdefaults\": {\"arrowcolor\": \"#2a3f5f\", \"arrowhead\": 0, \"arrowwidth\": 1}, \"autotypenumbers\": \"strict\", \"coloraxis\": {\"colorbar\": {\"outlinewidth\": 0, \"ticks\": \"\"}}, \"colorscale\": {\"diverging\": [[0, \"#8e0152\"], [0.1, \"#c51b7d\"], [0.2, \"#de77ae\"], [0.3, \"#f1b6da\"], [0.4, \"#fde0ef\"], [0.5, \"#f7f7f7\"], [0.6, \"#e6f5d0\"], [0.7, \"#b8e186\"], [0.8, \"#7fbc41\"], [0.9, \"#4d9221\"], [1, \"#276419\"]], \"sequential\": [[0.0, \"#0d0887\"], [0.1111111111111111, \"#46039f\"], [0.2222222222222222, \"#7201a8\"], [0.3333333333333333, \"#9c179e\"], [0.4444444444444444, \"#bd3786\"], [0.5555555555555556, \"#d8576b\"], [0.6666666666666666, \"#ed7953\"], [0.7777777777777778, \"#fb9f3a\"], [0.8888888888888888, \"#fdca26\"], [1.0, \"#f0f921\"]], \"sequentialminus\": [[0.0, \"#0d0887\"], [0.1111111111111111, \"#46039f\"], [0.2222222222222222, \"#7201a8\"], [0.3333333333333333, \"#9c179e\"], [0.4444444444444444, \"#bd3786\"], [0.5555555555555556, \"#d8576b\"], [0.6666666666666666, \"#ed7953\"], [0.7777777777777778, \"#fb9f3a\"], [0.8888888888888888, \"#fdca26\"], [1.0, \"#f0f921\"]]}, \"colorway\": [\"#636efa\", \"#EF553B\", \"#00cc96\", \"#ab63fa\", \"#FFA15A\", \"#19d3f3\", \"#FF6692\", \"#B6E880\", \"#FF97FF\", \"#FECB52\"], \"font\": {\"color\": \"#2a3f5f\"}, \"geo\": {\"bgcolor\": \"white\", \"lakecolor\": \"white\", \"landcolor\": \"#E5ECF6\", \"showlakes\": true, \"showland\": true, \"subunitcolor\": \"white\"}, \"hoverlabel\": {\"align\": \"left\"}, \"hovermode\": \"closest\", \"mapbox\": {\"style\": \"light\"}, \"paper_bgcolor\": \"white\", \"plot_bgcolor\": \"#E5ECF6\", \"polar\": {\"angularaxis\": {\"gridcolor\": \"white\", \"linecolor\": \"white\", \"ticks\": \"\"}, \"bgcolor\": \"#E5ECF6\", \"radialaxis\": {\"gridcolor\": \"white\", \"linecolor\": \"white\", \"ticks\": \"\"}}, \"scene\": {\"xaxis\": {\"backgroundcolor\": \"#E5ECF6\", \"gridcolor\": \"white\", \"gridwidth\": 2, \"linecolor\": \"white\", \"showbackground\": true, \"ticks\": \"\", \"zerolinecolor\": \"white\"}, \"yaxis\": {\"backgroundcolor\": \"#E5ECF6\", \"gridcolor\": \"white\", \"gridwidth\": 2, \"linecolor\": \"white\", \"showbackground\": true, \"ticks\": \"\", \"zerolinecolor\": \"white\"}, \"zaxis\": {\"backgroundcolor\": \"#E5ECF6\", \"gridcolor\": \"white\", \"gridwidth\": 2, \"linecolor\": \"white\", \"showbackground\": true, \"ticks\": \"\", \"zerolinecolor\": \"white\"}}, \"shapedefaults\": {\"line\": {\"color\": \"#2a3f5f\"}}, \"ternary\": {\"aaxis\": {\"gridcolor\": \"white\", \"linecolor\": \"white\", \"ticks\": \"\"}, \"baxis\": {\"gridcolor\": \"white\", \"linecolor\": \"white\", \"ticks\": \"\"}, \"bgcolor\": \"#E5ECF6\", \"caxis\": {\"gridcolor\": \"white\", \"linecolor\": \"white\", \"ticks\": \"\"}}, \"title\": {\"x\": 0.05}, \"xaxis\": {\"automargin\": true, \"gridcolor\": \"white\", \"linecolor\": \"white\", \"ticks\": \"\", \"title\": {\"standoff\": 15}, \"zerolinecolor\": \"white\", \"zerolinewidth\": 2}, \"yaxis\": {\"automargin\": true, \"gridcolor\": \"white\", \"linecolor\": \"white\", \"ticks\": \"\", \"title\": {\"standoff\": 15}, \"zerolinecolor\": \"white\", \"zerolinewidth\": 2}}}, \"xaxis\": {\"title\": {\"text\": \"Iteration Number\"}}, \"yaxis\": {\"title\": {\"text\": \"Lower Bound\"}}},                        {\"responsive\": true}                    ).then(function(){\n",
       "                            \n",
       "var gd = document.getElementById('3df21c39-4e34-4fa6-a73c-dc95eae05a19');\n",
       "var x = new MutationObserver(function (mutations, observer) {{\n",
       "        var display = window.getComputedStyle(gd).display;\n",
       "        if (!display || display === 'none') {{\n",
       "            console.log([gd, 'removed!']);\n",
       "            Plotly.purge(gd);\n",
       "            observer.disconnect();\n",
       "        }}\n",
       "}});\n",
       "\n",
       "// Listen for the removal of the full notebook cells\n",
       "var notebookContainer = gd.closest('#notebook-container');\n",
       "if (notebookContainer) {{\n",
       "    x.observe(notebookContainer, {childList: true});\n",
       "}}\n",
       "\n",
       "// Listen for the clearing of the current output cell\n",
       "var outputEl = gd.closest('.output');\n",
       "if (outputEl) {{\n",
       "    x.observe(outputEl, {childList: true});\n",
       "}}\n",
       "\n",
       "                        })                };                });            </script>        </div>"
      ]
     },
     "metadata": {},
     "output_type": "display_data"
    }
   ],
   "source": [
    "fig = plot.svGPFA.plotUtilsPlotly.getPlotLowerBoundHist(lowerBoundHist=lowerBoundHist)\n",
    "fig.show()\n",
    "# IPython.display.HTML(fig.to_html())"
   ]
  },
  {
   "cell_type": "markdown",
   "metadata": {
    "id": "8VTtBxNZ_H0D"
   },
   "source": [
    "# KS time-rescaling GOF test -- numerical correction"
   ]
  },
  {
   "cell_type": "code",
   "execution_count": 40,
   "metadata": {
    "colab": {
     "base_uri": "https://localhost:8080/",
     "height": 482
    },
    "id": "O-ReDZyFJhYF",
    "outputId": "458ce9e9-8fcc-42fc-a17e-85aca63fff79"
   },
   "outputs": [
    {
     "name": "stdout",
     "output_type": "stream",
     "text": [
      "Processing given ISIs\n",
      "Processing iter 0/9\n",
      "Processing iter 1/9\n",
      "Processing iter 2/9\n",
      "Processing iter 3/9\n",
      "Processing iter 4/9\n",
      "Processing iter 5/9\n",
      "Processing iter 6/9\n",
      "Processing iter 7/9\n",
      "Processing iter 8/9\n",
      "Processing iter 9/9\n"
     ]
    },
    {
     "data": {
      "image/png": "[encoded data removed]",
      "text/plain": [
       "<Figure size 432x288 with 1 Axes>"
      ]
     },
     "metadata": {
      "needs_background": "light"
     },
     "output_type": "display_data"
    }
   ],
   "source": [
    "# KS test time rescaling with numerical correction\n",
    "ksTestGamma = 10\n",
    "T = torch.tensor(trialsLengths).max()\n",
    "oneTrialCIFTimes = torch.arange(0, T, dtCIF)\n",
    "cifTimes = torch.unsqueeze(torch.ger(torch.ones(nTrials), oneTrialCIFTimes), dim=2)\n",
    "spikesTimesKS = spikesTimes[trialToPlot][neuronToPlot]\n",
    "cifTimesKS = cifTimes[trialToPlot,:,0]\n",
    "with torch.no_grad():\n",
    "    epmcifValues = model.computeExpectedCIFs(times=cifTimes)\n",
    "cifValuesKS = epmcifValues[trialToPlot][neuronToPlot]\n",
    "title = \"Trial {:d}, Latent {:d}\".format(trialToPlot, latentToPlot)\n",
    "diffECDFsX, diffECDFsY, estECDFx, estECDFy, simECDFx, simECDFy, cb = stats.pointProcess.tests.KSTestTimeRescalingNumericalCorrection(spikesTimes=spikesTimesKS, cifTimes=oneTrialCIFTimes, cifValues=cifValuesKS, gamma=ksTestGamma)\n",
    "plot.svGPFA.plotUtils.plotResKSTestTimeRescalingNumericalCorrection(diffECDFsX=diffECDFsX, diffECDFsY=diffECDFsY, estECDFx=estECDFx, estECDFy=estECDFy, simECDFx=simECDFx, simECDFy=simECDFy, cb=cb, title=title)"
   ]
  },
  {
   "cell_type": "markdown",
   "metadata": {
    "id": "Gia2oYbRM8FW"
   },
   "source": [
    "# ROC predictive analysis"
   ]
  },
  {
   "cell_type": "code",
   "execution_count": 41,
   "metadata": {
    "colab": {
     "base_uri": "https://localhost:8080/",
     "height": 295
    },
    "id": "DMIfMT8yM8Fi",
    "outputId": "3ec6c63c-4b5e-47d5-f422-ef29fd57e4ad"
   },
   "outputs": [
    {
     "data": {
      "image/png": "[encoded data removed]",
      "text/plain": [
       "<Figure size 432x288 with 1 Axes>"
      ]
     },
     "metadata": {
      "needs_background": "light"
     },
     "output_type": "display_data"
    }
   ],
   "source": [
    "# ROC predictive analysis\n",
    "cifTimesKS = cifTimes[trialToPlot,:,0]\n",
    "with torch.no_grad():\n",
    "    epmcifValues = model.computeExpectedCIFs(times=cifTimes)\n",
    "cifValuesKS = epmcifValues[trialToPlot][neuronToPlot]\n",
    "pk = cifValuesKS*dtCIF\n",
    "bins = pd.interval_range(start=0, end=int(T), periods=len(pk))\n",
    "cutRes, _ = pd.cut(spikesTimesKS.tolist(), bins=bins, retbins=True)\n",
    "Y = torch.from_numpy(cutRes.value_counts().values)\n",
    "fpr, tpr, thresholds = sklearn.metrics.roc_curve(Y, pk, pos_label=1)\n",
    "roc_auc = sklearn.metrics.auc(fpr, tpr)\n",
    "title = \"Trial {:d}, Latent {:d}\".format(trialToPlot, latentToPlot)\n",
    "plot.svGPFA.plotUtils.plotResROCAnalysis(fpr=fpr, tpr=tpr, auc=roc_auc, title=title)"
   ]
  },
  {
   "cell_type": "markdown",
   "metadata": {
    "id": "R2jvMBqj_Hzp"
   },
   "source": [
    "# Predict and plot true and estimated latents"
   ]
  },
  {
   "cell_type": "code",
   "execution_count": 42,
   "metadata": {
    "colab": {
     "base_uri": "https://localhost:8080/",
     "height": 467
    },
    "id": "479iGUsX_Hzq",
    "outputId": "1d8c999b-7fae-48a9-d2a0-69aea71991a8"
   },
   "outputs": [
    {
     "data": {
      "application/vnd.plotly.v1+json": {
       "config": {
        "plotlyServerURL": "https://plot.ly"
       },
       "data": [
        {
         "fill": "tozerox",
         "fillcolor": "rgba(255,0,0,0.200000)",
         "line": {
          "color": "rgba(255,255,255,0)"
         },
         "name": "Estimated",
         "showlegend": false,
         "type": "scatter",
         "x": [
          0,
          0.010101010091602802,
          0.020202020183205605,
          0.03030303120613098,
          0.04040404036641121,
          0.05050504952669144,
          0.06060606241226196,
          0.07070706784725189,
          0.08080808073282242,
          0.09090909361839294,
          0.10101009905338287,
          0.1111111119389534,
          0.12121212482452393,
          0.13131313025951385,
          0.14141413569450378,
          0.1515151560306549,
          0.16161616146564484,
          0.17171716690063477,
          0.1818181872367859,
          0.19191919267177582,
          0.20202019810676575,
          0.21212121844291687,
          0.2222222238779068,
          0.23232322931289673,
          0.24242424964904785,
          0.252525269985199,
          0.2626262605190277,
          0.27272728085517883,
          0.28282830119132996,
          0.2929292917251587,
          0.3030303120613098,
          0.31313133239746094,
          0.3232323229312897,
          0.3333333432674408,
          0.34343433380126953,
          0.35353535413742065,
          0.3636363744735718,
          0.3737373650074005,
          0.38383838534355164,
          0.39393937587738037,
          0.4040403962135315,
          0.4141414165496826,
          0.42424240708351135,
          0.4343434274196625,
          0.4444444477558136,
          0.45454543828964233,
          0.46464645862579346,
          0.4747474789619446,
          0.4848484992980957,
          0.4949495196342468,
          0.505050539970398,
          0.5151515007019043,
          0.5252525210380554,
          0.5353535413742065,
          0.5454545617103577,
          0.5555555820465088,
          0.5656565427780151,
          0.5757575631141663,
          0.5858585834503174,
          0.5959595441818237,
          0.6060605645179749,
          0.616161584854126,
          0.6262626051902771,
          0.6363636255264282,
          0.6464646458625793,
          0.6565656661987305,
          0.6666666865348816,
          0.6767677068710327,
          0.6868686676025391,
          0.6969696879386902,
          0.7070707082748413,
          0.7171717286109924,
          0.7272727489471436,
          0.7373737692832947,
          0.7474747896194458,
          0.7575757503509521,
          0.7676767706871033,
          0.7777777910232544,
          0.7878788113594055,
          0.7979798316955566,
          0.808080792427063,
          0.8181818127632141,
          0.8282828330993652,
          0.8383837938308716,
          0.8484848141670227,
          0.8585858345031738,
          0.868686854839325,
          0.8787878751754761,
          0.8888888955116272,
          0.8989899158477783,
          0.9090909361839294,
          0.9191919565200806,
          0.9292929172515869,
          0.939393937587738,
          0.9494949579238892,
          0.9595959782600403,
          0.9696969985961914,
          0.9797979593276978,
          0.9898989796638489,
          1,
          1,
          0.9898989796638489,
          0.9797979593276978,
          0.9696969985961914,
          0.9595959782600403,
          0.9494949579238892,
          0.939393937587738,
          0.9292929172515869,
          0.9191919565200806,
          0.9090909361839294,
          0.8989899158477783,
          0.8888888955116272,
          0.8787878751754761,
          0.868686854839325,
          0.8585858345031738,
          0.8484848141670227,
          0.8383837938308716,
          0.8282828330993652,
          0.8181818127632141,
          0.808080792427063,
          0.7979798316955566,
          0.7878788113594055,
          0.7777777910232544,
          0.7676767706871033,
          0.7575757503509521,
          0.7474747896194458,
          0.7373737692832947,
          0.7272727489471436,
          0.7171717286109924,
          0.7070707082748413,
          0.6969696879386902,
          0.6868686676025391,
          0.6767677068710327,
          0.6666666865348816,
          0.6565656661987305,
          0.6464646458625793,
          0.6363636255264282,
          0.6262626051902771,
          0.616161584854126,
          0.6060605645179749,
          0.5959595441818237,
          0.5858585834503174,
          0.5757575631141663,
          0.5656565427780151,
          0.5555555820465088,
          0.5454545617103577,
          0.5353535413742065,
          0.5252525210380554,
          0.5151515007019043,
          0.505050539970398,
          0.4949495196342468,
          0.4848484992980957,
          0.4747474789619446,
          0.46464645862579346,
          0.45454543828964233,
          0.4444444477558136,
          0.4343434274196625,
          0.42424240708351135,
          0.4141414165496826,
          0.4040403962135315,
          0.39393937587738037,
          0.38383838534355164,
          0.3737373650074005,
          0.3636363744735718,
          0.35353535413742065,
          0.34343433380126953,
          0.3333333432674408,
          0.3232323229312897,
          0.31313133239746094,
          0.3030303120613098,
          0.2929292917251587,
          0.28282830119132996,
          0.27272728085517883,
          0.2626262605190277,
          0.252525269985199,
          0.24242424964904785,
          0.23232322931289673,
          0.2222222238779068,
          0.21212121844291687,
          0.20202019810676575,
          0.19191919267177582,
          0.1818181872367859,
          0.17171716690063477,
          0.16161616146564484,
          0.1515151560306549,
          0.14141413569450378,
          0.13131313025951385,
          0.12121212482452393,
          0.1111111119389534,
          0.10101009905338287,
          0.09090909361839294,
          0.08080808073282242,
          0.07070706784725189,
          0.06060606241226196,
          0.05050504952669144,
          0.04040404036641121,
          0.03030303120613098,
          0.020202020183205605,
          0.010101010091602802,
          0
         ],
         "y": [
          0.17218688905081636,
          0.15989177409056807,
          0.1481566078694668,
          0.1369477529980165,
          0.12623260876624365,
          0.1159792394182868,
          0.10615602290967403,
          0.0967313380887122,
          0.08767324078246305,
          0.07894928159848293,
          0.07052632479328651,
          0.06237044803912121,
          0.05444697795611793,
          0.04672055117326428,
          0.03915526414722507,
          0.03171491542694368,
          0.0243633467004104,
          0.017064737915601848,
          0.009784047457858071,
          0.002487483992912116,
          -0.0048570985536371845,
          -0.012279704367199584,
          -0.0198077063219266,
          -0.027465477085071237,
          -0.03527395662458814,
          -0.043250273302200576,
          -0.05140745276380027,
          -0.05975426547626246,
          -0.068294913089999,
          -0.07702900198480825,
          -0.08595160278370723,
          -0.09505315194466168,
          -0.10431965869939946,
          -0.11373299482905636,
          -0.12327097729193506,
          -0.13290792981275526,
          -0.14261488509835307,
          -0.15236011818271103,
          -0.16210972721830924,
          -0.17182796120137714,
          -0.18147800507278386,
          -0.1910223515505092,
          -0.20042346916923567,
          -0.20964446311232138,
          -0.21864947666014195,
          -0.22740432511378264,
          -0.23587708922085412,
          -0.244038441371476,
          -0.2518621857728076,
          -0.2593256157501618,
          -0.26640983842272,
          -0.27309999678541524,
          -0.2793856168929156,
          -0.28526049032752776,
          -0.29072287949888853,
          -0.2957754463908794,
          -0.30042512018761997,
          -0.30468302426129357,
          -0.30856405946220833,
          -0.31208667595385964,
          -0.3152725414936902,
          -0.31814597480944407,
          -0.3207335372050932,
          -0.3230634732130989,
          -0.32516513722278945,
          -0.32706839305287283,
          -0.32880299578361355,
          -0.33039796557013656,
          -0.33188095496806397,
          -0.3332776711982355,
          -0.3346112341165604,
          -0.33590165427959084,
          -0.337165308556956,
          -0.3384144761571849,
          -0.33965693464576074,
          -0.34089561646126043,
          -0.3421283765336945,
          -0.34334776690712887,
          -0.3445409687349067,
          -0.3456897744729859,
          -0.3467706588052517,
          -0.34775496725741006,
          -0.34860912441326986,
          -0.34929498141514953,
          -0.34977022046922734,
          -0.34998878792959043,
          -0.349901420518007,
          -0.3494561881047867,
          -0.3485990660088371,
          -0.3472745176881184,
          -0.34542607282565124,
          -0.34299688584437815,
          -0.3399302805109194,
          -0.33617015100061187,
          -0.331661487997741,
          -0.3263506596591389,
          -0.3201857009666735,
          -0.31311655111366865,
          -0.3050949928627448,
          -0.29607493474535257,
          -0.2971115623001555,
          -0.3058028810669141,
          -0.3136087861191015,
          -0.32054284298844676,
          -0.32662798917934543,
          -0.3318951601004242,
          -0.33638230580479367,
          -0.34013319098429734,
          -0.3431962342185746,
          -0.3456234578414071,
          -0.34746930017515104,
          -0.34878966049172583,
          -0.34964090496843364,
          -0.3500789564169243,
          -0.35015845294346026,
          -0.3499319795430694,
          -0.34944937564690465,
          -0.3487571254828079,
          -0.3478978060497637,
          -0.3469096585827065,
          -0.3458262081179426,
          -0.3446759514531951,
          -0.343482188697252,
          -0.34226287306292064,
          -0.341030573419566,
          -0.3397925181939161,
          -0.33855068106109176,
          -0.3373020155268935,
          -0.3360386889008188,
          -0.33474842104307817,
          -0.3334148789634632,
          -0.33201812852931994,
          -0.33053514540194473,
          -0.3289403238323752,
          -0.3272061070688286,
          -0.3253035558441087,
          -0.3232029746854129,
          -0.32087453478840927,
          -0.31828889180092823,
          -0.31541778843621493,
          -0.3122346320737155,
          -0.3087150597340178,
          -0.30483735294714676,
          -0.30058301077891386,
          -0.2959370876385611,
          -0.29088842660094194,
          -0.285430079740425,
          -0.27955938341312364,
          -0.2732780910952393,
          -0.26659244339753935,
          -0.25951296007577684,
          -0.2520545532333929,
          -0.24423617500341877,
          -0.2360805895144962,
          -0.22761404205016186,
          -0.21886589582176946,
          -0.20986808675901386,
          -0.20065479340822814,
          -0.1912618416171614,
          -0.18172607105023478,
          -0.17208493661354704,
          -0.16237585357253298,
          -0.152635538349815,
          -0.1428996478869784,
          -0.13320200825742465,
          -0.12357430153052737,
          -0.11404550000050123,
          -0.10464134660405816,
          -0.09538416331385913,
          -0.08629229593425852,
          -0.07738003107807509,
          -0.06865729833490611,
          -0.060129446216097435,
          -0.051797313479238376,
          -0.04365713342626373,
          -0.03570051624359878,
          -0.027914712661472114,
          -0.02028271559137876,
          -0.012783504682384561,
          -0.005392390174874651,
          0.0019185693363217115,
          0.009180181667948682,
          0.016425573750117627,
          0.02368958315006731,
          0.031008184459464884,
          0.03841776103416535,
          0.04595431914731814,
          0.053652748374727485,
          0.06154593132377847,
          0.06966384330001148,
          0.0780326360667871,
          0.08667370674366551,
          0.09560269892138656,
          0.10482856071813144,
          0.11435262486507414,
          0.12416765892080839,
          0.13425705321651418,
          0.14459403177816924,
          0.15514097316038147,
          0.1658488628157505
         ]
        },
        {
         "line": {
          "color": "red"
         },
         "mode": "lines",
         "name": "Estimated",
         "showlegend": true,
         "type": "scatter",
         "x": [
          0,
          0.010101010091602802,
          0.020202020183205605,
          0.03030303120613098,
          0.04040404036641121,
          0.05050504952669144,
          0.06060606241226196,
          0.07070706784725189,
          0.08080808073282242,
          0.09090909361839294,
          0.10101009905338287,
          0.1111111119389534,
          0.12121212482452393,
          0.13131313025951385,
          0.14141413569450378,
          0.1515151560306549,
          0.16161616146564484,
          0.17171716690063477,
          0.1818181872367859,
          0.19191919267177582,
          0.20202019810676575,
          0.21212121844291687,
          0.2222222238779068,
          0.23232322931289673,
          0.24242424964904785,
          0.252525269985199,
          0.2626262605190277,
          0.27272728085517883,
          0.28282830119132996,
          0.2929292917251587,
          0.3030303120613098,
          0.31313133239746094,
          0.3232323229312897,
          0.3333333432674408,
          0.34343433380126953,
          0.35353535413742065,
          0.3636363744735718,
          0.3737373650074005,
          0.38383838534355164,
          0.39393937587738037,
          0.4040403962135315,
          0.4141414165496826,
          0.42424240708351135,
          0.4343434274196625,
          0.4444444477558136,
          0.45454543828964233,
          0.46464645862579346,
          0.4747474789619446,
          0.4848484992980957,
          0.4949495196342468,
          0.505050539970398,
          0.5151515007019043,
          0.5252525210380554,
          0.5353535413742065,
          0.5454545617103577,
          0.5555555820465088,
          0.5656565427780151,
          0.5757575631141663,
          0.5858585834503174,
          0.5959595441818237,
          0.6060605645179749,
          0.616161584854126,
          0.6262626051902771,
          0.6363636255264282,
          0.6464646458625793,
          0.6565656661987305,
          0.6666666865348816,
          0.6767677068710327,
          0.6868686676025391,
          0.6969696879386902,
          0.7070707082748413,
          0.7171717286109924,
          0.7272727489471436,
          0.7373737692832947,
          0.7474747896194458,
          0.7575757503509521,
          0.7676767706871033,
          0.7777777910232544,
          0.7878788113594055,
          0.7979798316955566,
          0.808080792427063,
          0.8181818127632141,
          0.8282828330993652,
          0.8383837938308716,
          0.8484848141670227,
          0.8585858345031738,
          0.868686854839325,
          0.8787878751754761,
          0.8888888955116272,
          0.8989899158477783,
          0.9090909361839294,
          0.9191919565200806,
          0.9292929172515869,
          0.939393937587738,
          0.9494949579238892,
          0.9595959782600403,
          0.9696969985961914,
          0.9797979593276978,
          0.9898989796638489,
          1
         ],
         "y": [
          0.16901787593328343,
          0.15751637362547477,
          0.14637531982381802,
          0.13560240310726535,
          0.12520013384352602,
          0.11516593214168047,
          0.10549229181390274,
          0.09616701850504938,
          0.08717347376306428,
          0.07849095883263502,
          0.07009508404664899,
          0.06195818968144984,
          0.05404986316542271,
          0.04633743516029121,
          0.03878651259069521,
          0.03136154994320428,
          0.024026464925238855,
          0.016745155832859737,
          0.009482114562903377,
          0.002203026664616914,
          -0.005124744364255918,
          -0.012531604524792073,
          -0.02004521095665268,
          -0.027690094873271676,
          -0.03548723643409346,
          -0.043453703364232155,
          -0.051602383121519324,
          -0.05994185584617995,
          -0.06847610571245255,
          -0.07720451653144167,
          -0.08612194935898287,
          -0.0952186576292604,
          -0.10448050265172881,
          -0.1138892474147788,
          -0.12342263941123122,
          -0.13305496903508995,
          -0.14275726649266574,
          -0.152497828266263,
          -0.1622427903954211,
          -0.1719564489074621,
          -0.18160203806150932,
          -0.1911420965838353,
          -0.2005391312887319,
          -0.20975627493566762,
          -0.2187576862409557,
          -0.22750918358197225,
          -0.23597883936767516,
          -0.2441373081874474,
          -0.25195836950310024,
          -0.2594192879129693,
          -0.26650114091012966,
          -0.2731890439403273,
          -0.2794725001530196,
          -0.2853452850339764,
          -0.29080565304991524,
          -0.29585626701472023,
          -0.3005040654832669,
          -0.30476018860422016,
          -0.30863955959811307,
          -0.31216065401378756,
          -0.3153451649649526,
          -0.31821743330518615,
          -0.3208040359967512,
          -0.3231332239492559,
          -0.32523434653344907,
          -0.3271372500608507,
          -0.3288716598079944,
          -0.33046655548604065,
          -0.33194954174869196,
          -0.33334627508084935,
          -0.3346798275798193,
          -0.3359701715902048,
          -0.33723366204192473,
          -0.33848257860913833,
          -0.3397247264198384,
          -0.3409630949404132,
          -0.34219562479830756,
          -0.34341497780219044,
          -0.3446084600940509,
          -0.34575799129546425,
          -0.3468401586939791,
          -0.3478263866535869,
          -0.3486831249480389,
          -0.3493721785310271,
          -0.3498511000061484,
          -0.35007362043652535,
          -0.34999018846746566,
          -0.34954854653661016,
          -0.34869436325028147,
          -0.3473719089316347,
          -0.34552476533352916,
          -0.34309656003147637,
          -0.34003173574760837,
          -0.33627622840270277,
          -0.3317783240490826,
          -0.32648932441924217,
          -0.3203642719775601,
          -0.31336266861638506,
          -0.30544893696482944,
          -0.29659324852275404
         ]
        },
        {
         "fill": "tozerox",
         "fillcolor": "rgba(0,0,255,0.200000)",
         "line": {
          "color": "rgba(255,255,255,0)"
         },
         "name": "True",
         "showlegend": false,
         "type": "scatter",
         "x": [
          0,
          0.010101010091602802,
          0.020202020183205605,
          0.03030303120613098,
          0.04040404036641121,
          0.05050504952669144,
          0.06060606241226196,
          0.07070706784725189,
          0.08080808073282242,
          0.09090909361839294,
          0.10101009905338287,
          0.1111111119389534,
          0.12121212482452393,
          0.13131313025951385,
          0.14141413569450378,
          0.1515151560306549,
          0.16161616146564484,
          0.17171716690063477,
          0.1818181872367859,
          0.19191919267177582,
          0.20202019810676575,
          0.21212121844291687,
          0.2222222238779068,
          0.23232322931289673,
          0.24242424964904785,
          0.252525269985199,
          0.2626262605190277,
          0.27272728085517883,
          0.28282830119132996,
          0.2929292917251587,
          0.3030303120613098,
          0.31313133239746094,
          0.3232323229312897,
          0.3333333432674408,
          0.34343433380126953,
          0.35353535413742065,
          0.3636363744735718,
          0.3737373650074005,
          0.38383838534355164,
          0.39393937587738037,
          0.4040403962135315,
          0.4141414165496826,
          0.42424240708351135,
          0.4343434274196625,
          0.4444444477558136,
          0.45454543828964233,
          0.46464645862579346,
          0.4747474789619446,
          0.4848484992980957,
          0.4949495196342468,
          0.505050539970398,
          0.5151515007019043,
          0.5252525210380554,
          0.5353535413742065,
          0.5454545617103577,
          0.5555555820465088,
          0.5656565427780151,
          0.5757575631141663,
          0.5858585834503174,
          0.5959595441818237,
          0.6060605645179749,
          0.616161584854126,
          0.6262626051902771,
          0.6363636255264282,
          0.6464646458625793,
          0.6565656661987305,
          0.6666666865348816,
          0.6767677068710327,
          0.6868686676025391,
          0.6969696879386902,
          0.7070707082748413,
          0.7171717286109924,
          0.7272727489471436,
          0.7373737692832947,
          0.7474747896194458,
          0.7575757503509521,
          0.7676767706871033,
          0.7777777910232544,
          0.7878788113594055,
          0.7979798316955566,
          0.808080792427063,
          0.8181818127632141,
          0.8282828330993652,
          0.8383837938308716,
          0.8484848141670227,
          0.8585858345031738,
          0.868686854839325,
          0.8787878751754761,
          0.8888888955116272,
          0.8989899158477783,
          0.9090909361839294,
          0.9191919565200806,
          0.9292929172515869,
          0.939393937587738,
          0.9494949579238892,
          0.9595959782600403,
          0.9696969985961914,
          0.9797979593276978,
          0.9898989796638489,
          1,
          1,
          0.9898989796638489,
          0.9797979593276978,
          0.9696969985961914,
          0.9595959782600403,
          0.9494949579238892,
          0.939393937587738,
          0.9292929172515869,
          0.9191919565200806,
          0.9090909361839294,
          0.8989899158477783,
          0.8888888955116272,
          0.8787878751754761,
          0.868686854839325,
          0.8585858345031738,
          0.8484848141670227,
          0.8383837938308716,
          0.8282828330993652,
          0.8181818127632141,
          0.808080792427063,
          0.7979798316955566,
          0.7878788113594055,
          0.7777777910232544,
          0.7676767706871033,
          0.7575757503509521,
          0.7474747896194458,
          0.7373737692832947,
          0.7272727489471436,
          0.7171717286109924,
          0.7070707082748413,
          0.6969696879386902,
          0.6868686676025391,
          0.6767677068710327,
          0.6666666865348816,
          0.6565656661987305,
          0.6464646458625793,
          0.6363636255264282,
          0.6262626051902771,
          0.616161584854126,
          0.6060605645179749,
          0.5959595441818237,
          0.5858585834503174,
          0.5757575631141663,
          0.5656565427780151,
          0.5555555820465088,
          0.5454545617103577,
          0.5353535413742065,
          0.5252525210380554,
          0.5151515007019043,
          0.505050539970398,
          0.4949495196342468,
          0.4848484992980957,
          0.4747474789619446,
          0.46464645862579346,
          0.45454543828964233,
          0.4444444477558136,
          0.4343434274196625,
          0.42424240708351135,
          0.4141414165496826,
          0.4040403962135315,
          0.39393937587738037,
          0.38383838534355164,
          0.3737373650074005,
          0.3636363744735718,
          0.35353535413742065,
          0.34343433380126953,
          0.3333333432674408,
          0.3232323229312897,
          0.31313133239746094,
          0.3030303120613098,
          0.2929292917251587,
          0.28282830119132996,
          0.27272728085517883,
          0.2626262605190277,
          0.252525269985199,
          0.24242424964904785,
          0.23232322931289673,
          0.2222222238779068,
          0.21212121844291687,
          0.20202019810676575,
          0.19191919267177582,
          0.1818181872367859,
          0.17171716690063477,
          0.16161616146564484,
          0.1515151560306549,
          0.14141413569450378,
          0.13131313025951385,
          0.12121212482452393,
          0.1111111119389534,
          0.10101009905338287,
          0.09090909361839294,
          0.08080808073282242,
          0.07070706784725189,
          0.06060606241226196,
          0.05050504952669144,
          0.04040404036641121,
          0.03030303120613098,
          0.020202020183205605,
          0.010101010091602802,
          0
         ],
         "y": [
          0.18140271954696474,
          0.18337846481258713,
          0.1854618501350095,
          0.18763432167389876,
          0.1898764566430951,
          0.19216852255755437,
          0.1944911034597118,
          0.1968257834012602,
          0.1991558927596609,
          0.20146726989029243,
          0.20374905947103125,
          0.20599451320265882,
          0.20820175861875934,
          0.21037454565591587,
          0.21252293201906192,
          0.21466388255457033,
          0.21682175628085765,
          0.2190286990139661,
          0.2213248638367879,
          0.22375846817113396,
          0.22638570421049545,
          0.22927043075366796,
          0.23248366188043684,
          0.23610289290245506,
          0.24021118913107758,
          0.2448960748378914,
          0.2502482491785778,
          0.2563601929044615,
          0.2633244716761737,
          0.2712320468046819,
          0.2801705389393694,
          0.2902222134218005,
          0.3014621414558409,
          0.3139564424389827,
          0.3277602358906715,
          0.34291623963713136,
          0.3594529497543163,
          0.3773833954225457,
          0.3967042023073739,
          0.41739437031271376,
          0.4394151909827102,
          0.4627096211127941,
          0.4872025882415192,
          0.5128017232806337,
          0.539397788576852,
          0.56686610125823,
          0.5950683526430501,
          0.6238540046194188,
          0.6530627832109235,
          0.6825270184450428,
          0.7120742646801925,
          0.7415298943452205,
          0.770720647052346,
          0.7994764634519658,
          0.8276340189636358,
          0.8550392783598212,
          0.881549897864161,
          0.9070381655899152,
          0.9313920879643356,
          0.9545175696749902,
          0.9763400841330223,
          0.9968047205805598,
          1.015877155049656,
          1.0335434645985864,
          1.0498096169317483,
          1.0647005052713314,
          1.0782585503856519,
          1.0905419031245083,
          1.1016222295049205,
          1.1115825102937957,
          1.1205139547793244,
          1.128513402752516,
          1.1356802913365558,
          1.1421136685223023,
          1.1479092612912931,
          1.1531566441302552,
          1.157936759347633,
          1.1623193997601646,
          1.166361329920159,
          1.1701046253572143,
          1.1735754413434556,
          1.1767833268389518,
          1.1797207966803376,
          1.182363560636639,
          1.1846711800237524,
          1.186588027233368,
          1.1880448080369634,
          1.1889603655081036,
          1.189243811895199,
          1.1887969135882543,
          1.187516665200607,
          1.1852979850434318,
          1.18203648499358,
          1.1776311172729388,
          1.1719869340101707,
          1.1650175137575158,
          1.1566472677550235,
          1.1468135349113187,
          1.1354680727002848,
          1.1225788013815885,
          0.7286236982226377,
          0.741512969541334,
          0.7528584317523679,
          0.7626921645960727,
          0.7710624105985651,
          0.77803183085122,
          0.783676014113988,
          0.7880813818346293,
          0.791342881884481,
          0.7935615620416563,
          0.7948418104293036,
          0.7952887087362481,
          0.7950052623491528,
          0.7940897048780127,
          0.7926329240744172,
          0.7907160768648016,
          0.7884084574776882,
          0.7857656935213868,
          0.782828223680001,
          0.7796203381845048,
          0.7761495221982635,
          0.7724062267612082,
          0.7683642966012139,
          0.7639816561886823,
          0.7592015409713044,
          0.7539541581323423,
          0.7481585653633516,
          0.741725188177605,
          0.7345582995935653,
          0.7265588516203736,
          0.717627407134845,
          0.7076671263459697,
          0.6965867999655575,
          0.6843034472267011,
          0.6707454021123807,
          0.6558545137727976,
          0.6395883614396356,
          0.6219220518907052,
          0.602849617421609,
          0.5823849809740715,
          0.5605624665160395,
          0.5374369848053848,
          0.5130830624309645,
          0.4875947947052103,
          0.4610841752008704,
          0.433678915804685,
          0.405521360293015,
          0.3767655438933952,
          0.34757479118626977,
          0.31811916152124176,
          0.28857191528609194,
          0.2591076800519727,
          0.22989890146046796,
          0.20111324948409928,
          0.17291099809927915,
          0.14544268541790126,
          0.11884662012168287,
          0.09324748508256839,
          0.06875451795384327,
          0.045460087823759404,
          0.02343926715376296,
          0.0027490991484230565,
          -0.01657170773640515,
          -0.034502153404634556,
          -0.05103886352181944,
          -0.0661948672682793,
          -0.07999866071996815,
          -0.09249296170310993,
          -0.10373288973715034,
          -0.11378456421958143,
          -0.12272305635426894,
          -0.13063063148277718,
          -0.13759491025448933,
          -0.14370685398037303,
          -0.14905902832105944,
          -0.15374391402787324,
          -0.15785221025649576,
          -0.16147144127851398,
          -0.16468467240528287,
          -0.16756939894845538,
          -0.17019663498781687,
          -0.17263023932216293,
          -0.17492640414498473,
          -0.17713334687809318,
          -0.1792912206043805,
          -0.1814321711398889,
          -0.18358055750303495,
          -0.1857533445401915,
          -0.187960589956292,
          -0.19020604368791957,
          -0.1924878332686584,
          -0.19479921039928993,
          -0.19712931975769063,
          -0.19946399969923903,
          -0.20178658060139645,
          -0.20407864651585572,
          -0.20632078148505206,
          -0.20849325302394134,
          -0.2105766383463637,
          -0.21255238361198608
         ]
        },
        {
         "line": {
          "color": "blue"
         },
         "mode": "lines",
         "name": "True",
         "showlegend": true,
         "type": "scatter",
         "x": [
          0,
          0.010101010091602802,
          0.020202020183205605,
          0.03030303120613098,
          0.04040404036641121,
          0.05050504952669144,
          0.06060606241226196,
          0.07070706784725189,
          0.08080808073282242,
          0.09090909361839294,
          0.10101009905338287,
          0.1111111119389534,
          0.12121212482452393,
          0.13131313025951385,
          0.14141413569450378,
          0.1515151560306549,
          0.16161616146564484,
          0.17171716690063477,
          0.1818181872367859,
          0.19191919267177582,
          0.20202019810676575,
          0.21212121844291687,
          0.2222222238779068,
          0.23232322931289673,
          0.24242424964904785,
          0.252525269985199,
          0.2626262605190277,
          0.27272728085517883,
          0.28282830119132996,
          0.2929292917251587,
          0.3030303120613098,
          0.31313133239746094,
          0.3232323229312897,
          0.3333333432674408,
          0.34343433380126953,
          0.35353535413742065,
          0.3636363744735718,
          0.3737373650074005,
          0.38383838534355164,
          0.39393937587738037,
          0.4040403962135315,
          0.4141414165496826,
          0.42424240708351135,
          0.4343434274196625,
          0.4444444477558136,
          0.45454543828964233,
          0.46464645862579346,
          0.4747474789619446,
          0.4848484992980957,
          0.4949495196342468,
          0.505050539970398,
          0.5151515007019043,
          0.5252525210380554,
          0.5353535413742065,
          0.5454545617103577,
          0.5555555820465088,
          0.5656565427780151,
          0.5757575631141663,
          0.5858585834503174,
          0.5959595441818237,
          0.6060605645179749,
          0.616161584854126,
          0.6262626051902771,
          0.6363636255264282,
          0.6464646458625793,
          0.6565656661987305,
          0.6666666865348816,
          0.6767677068710327,
          0.6868686676025391,
          0.6969696879386902,
          0.7070707082748413,
          0.7171717286109924,
          0.7272727489471436,
          0.7373737692832947,
          0.7474747896194458,
          0.7575757503509521,
          0.7676767706871033,
          0.7777777910232544,
          0.7878788113594055,
          0.7979798316955566,
          0.808080792427063,
          0.8181818127632141,
          0.8282828330993652,
          0.8383837938308716,
          0.8484848141670227,
          0.8585858345031738,
          0.868686854839325,
          0.8787878751754761,
          0.8888888955116272,
          0.8989899158477783,
          0.9090909361839294,
          0.9191919565200806,
          0.9292929172515869,
          0.939393937587738,
          0.9494949579238892,
          0.9595959782600403,
          0.9696969985961914,
          0.9797979593276978,
          0.9898989796638489,
          1
         ],
         "y": [
          -0.015574832032510685,
          -0.013599086766888271,
          -0.01151570144446594,
          -0.009343229905576636,
          -0.007101094936380309,
          -0.004809029021921041,
          -0.002486448119763618,
          -0.00015176817821521693,
          0.002178341180185464,
          0.004489718310817015,
          0.006771507891555839,
          0.009016961623183412,
          0.011224207039283923,
          0.01339699407644046,
          0.015545380439586504,
          0.01768633097509492,
          0.019844204701382234,
          0.022051147434490687,
          0.024347312257312473,
          0.026780916591658543,
          0.029408152631020035,
          0.032292879174192546,
          0.03550611030096143,
          0.039125341322979665,
          0.04323363755160217,
          0.047918523258415974,
          0.0532706975991024,
          0.059382641324986066,
          0.06634692009669824,
          0.07425449522520647,
          0.08319298735989399,
          0.09324466184232508,
          0.10448458987636548,
          0.11697889085950726,
          0.1307826843111961,
          0.14593868805765597,
          0.16247539817484086,
          0.18040584384307026,
          0.19972665072789847,
          0.22041681873323837,
          0.24243763940323482,
          0.2657320695333187,
          0.2902250366620438,
          0.3158241717011583,
          0.34242023699737667,
          0.36988854967875456,
          0.3980908010635747,
          0.42687645303994337,
          0.4560852316314481,
          0.4855494668655674,
          0.5150967131007171,
          0.5445523427657452,
          0.5737430954728706,
          0.6024989118724904,
          0.6306564673841604,
          0.6580617267803458,
          0.6845723462846857,
          0.7100606140104399,
          0.7344145363848602,
          0.7575400180955149,
          0.7793625325535469,
          0.7998271690010844,
          0.8188996034701805,
          0.836565913019111,
          0.852832065352273,
          0.867722953691856,
          0.8812809988061765,
          0.8935643515450329,
          0.9046446779254451,
          0.9146049587143203,
          0.923536403199849,
          0.9315358511730407,
          0.9387027397570804,
          0.945136116942827,
          0.9509317097118177,
          0.9561790925507798,
          0.9609592077681577,
          0.9653418481806892,
          0.9693837783406836,
          0.9731270737777389,
          0.9765978897639802,
          0.9798057752594764,
          0.9827432451008622,
          0.9853860090571636,
          0.987693628444277,
          0.9896104756538926,
          0.991067256457488,
          0.9919828139286282,
          0.9922662603157235,
          0.991819362008779,
          0.9905391136211317,
          0.9883204334639564,
          0.9850589334141047,
          0.9806535656934634,
          0.9750093824306953,
          0.9680399621780404,
          0.9596697161755481,
          0.9498359833318433,
          0.9384905211208094,
          0.9256012498021131
         ]
        },
        {
         "line": {
          "color": "black"
         },
         "mode": "lines",
         "name": "True",
         "showlegend": true,
         "type": "scatter",
         "x": [
          0,
          0.010101010091602802,
          0.020202020183205605,
          0.03030303120613098,
          0.04040404036641121,
          0.05050504952669144,
          0.06060606241226196,
          0.07070706784725189,
          0.08080808073282242,
          0.09090909361839294,
          0.10101009905338287,
          0.1111111119389534,
          0.12121212482452393,
          0.13131313025951385,
          0.14141413569450378,
          0.1515151560306549,
          0.16161616146564484,
          0.17171716690063477,
          0.1818181872367859,
          0.19191919267177582,
          0.20202019810676575,
          0.21212121844291687,
          0.2222222238779068,
          0.23232322931289673,
          0.24242424964904785,
          0.252525269985199,
          0.2626262605190277,
          0.27272728085517883,
          0.28282830119132996,
          0.2929292917251587,
          0.3030303120613098,
          0.31313133239746094,
          0.3232323229312897,
          0.3333333432674408,
          0.34343433380126953,
          0.35353535413742065,
          0.3636363744735718,
          0.3737373650074005,
          0.38383838534355164,
          0.39393937587738037,
          0.4040403962135315,
          0.4141414165496826,
          0.42424240708351135,
          0.4343434274196625,
          0.4444444477558136,
          0.45454543828964233,
          0.46464645862579346,
          0.4747474789619446,
          0.4848484992980957,
          0.4949495196342468,
          0.505050539970398,
          0.5151515007019043,
          0.5252525210380554,
          0.5353535413742065,
          0.5454545617103577,
          0.5555555820465088,
          0.5656565427780151,
          0.5757575631141663,
          0.5858585834503174,
          0.5959595441818237,
          0.6060605645179749,
          0.616161584854126,
          0.6262626051902771,
          0.6363636255264282,
          0.6464646458625793,
          0.6565656661987305,
          0.6666666865348816,
          0.6767677068710327,
          0.6868686676025391,
          0.6969696879386902,
          0.7070707082748413,
          0.7171717286109924,
          0.7272727489471436,
          0.7373737692832947,
          0.7474747896194458,
          0.7575757503509521,
          0.7676767706871033,
          0.7777777910232544,
          0.7878788113594055,
          0.7979798316955566,
          0.808080792427063,
          0.8181818127632141,
          0.8282828330993652,
          0.8383837938308716,
          0.8484848141670227,
          0.8585858345031738,
          0.868686854839325,
          0.8787878751754761,
          0.8888888955116272,
          0.8989899158477783,
          0.9090909361839294,
          0.9191919565200806,
          0.9292929172515869,
          0.939393937587738,
          0.9494949579238892,
          0.9595959782600403,
          0.9696969985961914,
          0.9797979593276978,
          0.9898989796638489,
          1
         ],
         "y": [
          0.04719258705414146,
          0.05179164457873782,
          0.050372692744748135,
          0.05198689183468963,
          0.05969814551799567,
          0.08964178690743849,
          0.08222936724694332,
          0.09090855960014908,
          0.09334640368955449,
          0.08132559371829798,
          0.07694603481455611,
          0.08665539886642491,
          0.08668530860351598,
          0.0933425672781215,
          0.10348161571024002,
          0.10155498442002506,
          0.10115871722385765,
          0.0904029435352636,
          0.0828795971265029,
          0.09995062473332479,
          0.08887040442382335,
          0.07414717081600376,
          0.08986820174814061,
          0.07858624365298797,
          0.1007622842167832,
          0.08042527546538616,
          0.08274030838580683,
          0.09530730373572285,
          0.10504979014773881,
          0.12352530747145724,
          0.10708050779638827,
          0.12642584681979643,
          0.1146788878190966,
          0.15698821280156194,
          0.17097179595596662,
          0.16816225317917802,
          0.1860661857084904,
          0.20256304696159738,
          0.2192253967589912,
          0.24478965152611598,
          0.24075714948332633,
          0.26462143639257785,
          0.3011363390410128,
          0.33924313379917215,
          0.3693101830877375,
          0.3820048408091244,
          0.39856651596314896,
          0.4366471416942619,
          0.4636281459274615,
          0.47104350553124713,
          0.49575119429908376,
          0.5299084527414261,
          0.5660675409598507,
          0.6086947453242731,
          0.6151286366249538,
          0.619412136089186,
          0.6565604566853263,
          0.6744375711869869,
          0.687823562039908,
          0.7305277713781457,
          0.7437753213312807,
          0.7668016297357312,
          0.7800954607552482,
          0.8037406618146525,
          0.8059839413877562,
          0.8253830070348981,
          0.8345104940949446,
          0.8450662721396957,
          0.8685358348916377,
          0.8902988418430533,
          0.8937622198428994,
          0.907871640335937,
          0.9384046851120661,
          0.9472974667662954,
          0.9427417431985448,
          0.947430578907932,
          0.9710221340152778,
          0.9913810898999195,
          1.00036535388866,
          1.0021442333752044,
          1.0135958813373118,
          1.011067028108701,
          1.041725615049204,
          1.0477547288242899,
          1.0514030286610174,
          1.0577561938322326,
          1.0497233487390167,
          1.0534914110637428,
          1.06255621672879,
          1.0711600610189715,
          1.0666582492542909,
          1.0657612432194041,
          1.048025282566564,
          1.0544635005432725,
          1.0478430994074506,
          1.0264177015350056,
          1.0362453342319025,
          1.016811308890123,
          1.0066198404051985,
          0.9817391176336472
         ]
        }
       ],
       "layout": {
        "template": {
         "data": {
          "bar": [
           {
            "error_x": {
             "color": "#2a3f5f"
            },
            "error_y": {
             "color": "#2a3f5f"
            },
            "marker": {
             "line": {
              "color": "#E5ECF6",
              "width": 0.5
             }
            },
            "type": "bar"
           }
          ],
          "barpolar": [
           {
            "marker": {
             "line": {
              "color": "#E5ECF6",
              "width": 0.5
             }
            },
            "type": "barpolar"
           }
          ],
          "carpet": [
           {
            "aaxis": {
             "endlinecolor": "#2a3f5f",
             "gridcolor": "white",
             "linecolor": "white",
             "minorgridcolor": "white",
             "startlinecolor": "#2a3f5f"
            },
            "baxis": {
             "endlinecolor": "#2a3f5f",
             "gridcolor": "white",
             "linecolor": "white",
             "minorgridcolor": "white",
             "startlinecolor": "#2a3f5f"
            },
            "type": "carpet"
           }
          ],
          "choropleth": [
           {
            "colorbar": {
             "outlinewidth": 0,
             "ticks": ""
            },
            "type": "choropleth"
           }
          ],
          "contour": [
           {
            "colorbar": {
             "outlinewidth": 0,
             "ticks": ""
            },
            "colorscale": [
             [
              0,
              "#0d0887"
             ],
             [
              0.1111111111111111,
              "#46039f"
             ],
             [
              0.2222222222222222,
              "#7201a8"
             ],
             [
              0.3333333333333333,
              "#9c179e"
             ],
             [
              0.4444444444444444,
              "#bd3786"
             ],
             [
              0.5555555555555556,
              "#d8576b"
             ],
             [
              0.6666666666666666,
              "#ed7953"
             ],
             [
              0.7777777777777778,
              "#fb9f3a"
             ],
             [
              0.8888888888888888,
              "#fdca26"
             ],
             [
              1,
              "#f0f921"
             ]
            ],
            "type": "contour"
           }
          ],
          "contourcarpet": [
           {
            "colorbar": {
             "outlinewidth": 0,
             "ticks": ""
            },
            "type": "contourcarpet"
           }
          ],
          "heatmap": [
           {
            "colorbar": {
             "outlinewidth": 0,
             "ticks": ""
            },
            "colorscale": [
             [
              0,
              "#0d0887"
             ],
             [
              0.1111111111111111,
              "#46039f"
             ],
             [
              0.2222222222222222,
              "#7201a8"
             ],
             [
              0.3333333333333333,
              "#9c179e"
             ],
             [
              0.4444444444444444,
              "#bd3786"
             ],
             [
              0.5555555555555556,
              "#d8576b"
             ],
             [
              0.6666666666666666,
              "#ed7953"
             ],
             [
              0.7777777777777778,
              "#fb9f3a"
             ],
             [
              0.8888888888888888,
              "#fdca26"
             ],
             [
              1,
              "#f0f921"
             ]
            ],
            "type": "heatmap"
           }
          ],
          "heatmapgl": [
           {
            "colorbar": {
             "outlinewidth": 0,
             "ticks": ""
            },
            "colorscale": [
             [
              0,
              "#0d0887"
             ],
             [
              0.1111111111111111,
              "#46039f"
             ],
             [
              0.2222222222222222,
              "#7201a8"
             ],
             [
              0.3333333333333333,
              "#9c179e"
             ],
             [
              0.4444444444444444,
              "#bd3786"
             ],
             [
              0.5555555555555556,
              "#d8576b"
             ],
             [
              0.6666666666666666,
              "#ed7953"
             ],
             [
              0.7777777777777778,
              "#fb9f3a"
             ],
             [
              0.8888888888888888,
              "#fdca26"
             ],
             [
              1,
              "#f0f921"
             ]
            ],
            "type": "heatmapgl"
           }
          ],
          "histogram": [
           {
            "marker": {
             "colorbar": {
              "outlinewidth": 0,
              "ticks": ""
             }
            },
            "type": "histogram"
           }
          ],
          "histogram2d": [
           {
            "colorbar": {
             "outlinewidth": 0,
             "ticks": ""
            },
            "colorscale": [
             [
              0,
              "#0d0887"
             ],
             [
              0.1111111111111111,
              "#46039f"
             ],
             [
              0.2222222222222222,
              "#7201a8"
             ],
             [
              0.3333333333333333,
              "#9c179e"
             ],
             [
              0.4444444444444444,
              "#bd3786"
             ],
             [
              0.5555555555555556,
              "#d8576b"
             ],
             [
              0.6666666666666666,
              "#ed7953"
             ],
             [
              0.7777777777777778,
              "#fb9f3a"
             ],
             [
              0.8888888888888888,
              "#fdca26"
             ],
             [
              1,
              "#f0f921"
             ]
            ],
            "type": "histogram2d"
           }
          ],
          "histogram2dcontour": [
           {
            "colorbar": {
             "outlinewidth": 0,
             "ticks": ""
            },
            "colorscale": [
             [
              0,
              "#0d0887"
             ],
             [
              0.1111111111111111,
              "#46039f"
             ],
             [
              0.2222222222222222,
              "#7201a8"
             ],
             [
              0.3333333333333333,
              "#9c179e"
             ],
             [
              0.4444444444444444,
              "#bd3786"
             ],
             [
              0.5555555555555556,
              "#d8576b"
             ],
             [
              0.6666666666666666,
              "#ed7953"
             ],
             [
              0.7777777777777778,
              "#fb9f3a"
             ],
             [
              0.8888888888888888,
              "#fdca26"
             ],
             [
              1,
              "#f0f921"
             ]
            ],
            "type": "histogram2dcontour"
           }
          ],
          "mesh3d": [
           {
            "colorbar": {
             "outlinewidth": 0,
             "ticks": ""
            },
            "type": "mesh3d"
           }
          ],
          "parcoords": [
           {
            "line": {
             "colorbar": {
              "outlinewidth": 0,
              "ticks": ""
             }
            },
            "type": "parcoords"
           }
          ],
          "pie": [
           {
            "automargin": true,
            "type": "pie"
           }
          ],
          "scatter": [
           {
            "marker": {
             "colorbar": {
              "outlinewidth": 0,
              "ticks": ""
             }
            },
            "type": "scatter"
           }
          ],
          "scatter3d": [
           {
            "line": {
             "colorbar": {
              "outlinewidth": 0,
              "ticks": ""
             }
            },
            "marker": {
             "colorbar": {
              "outlinewidth": 0,
              "ticks": ""
             }
            },
            "type": "scatter3d"
           }
          ],
          "scattercarpet": [
           {
            "marker": {
             "colorbar": {
              "outlinewidth": 0,
              "ticks": ""
             }
            },
            "type": "scattercarpet"
           }
          ],
          "scattergeo": [
           {
            "marker": {
             "colorbar": {
              "outlinewidth": 0,
              "ticks": ""
             }
            },
            "type": "scattergeo"
           }
          ],
          "scattergl": [
           {
            "marker": {
             "colorbar": {
              "outlinewidth": 0,
              "ticks": ""
             }
            },
            "type": "scattergl"
           }
          ],
          "scattermapbox": [
           {
            "marker": {
             "colorbar": {
              "outlinewidth": 0,
              "ticks": ""
             }
            },
            "type": "scattermapbox"
           }
          ],
          "scatterpolar": [
           {
            "marker": {
             "colorbar": {
              "outlinewidth": 0,
              "ticks": ""
             }
            },
            "type": "scatterpolar"
           }
          ],
          "scatterpolargl": [
           {
            "marker": {
             "colorbar": {
              "outlinewidth": 0,
              "ticks": ""
             }
            },
            "type": "scatterpolargl"
           }
          ],
          "scatterternary": [
           {
            "marker": {
             "colorbar": {
              "outlinewidth": 0,
              "ticks": ""
             }
            },
            "type": "scatterternary"
           }
          ],
          "surface": [
           {
            "colorbar": {
             "outlinewidth": 0,
             "ticks": ""
            },
            "colorscale": [
             [
              0,
              "#0d0887"
             ],
             [
              0.1111111111111111,
              "#46039f"
             ],
             [
              0.2222222222222222,
              "#7201a8"
             ],
             [
              0.3333333333333333,
              "#9c179e"
             ],
             [
              0.4444444444444444,
              "#bd3786"
             ],
             [
              0.5555555555555556,
              "#d8576b"
             ],
             [
              0.6666666666666666,
              "#ed7953"
             ],
             [
              0.7777777777777778,
              "#fb9f3a"
             ],
             [
              0.8888888888888888,
              "#fdca26"
             ],
             [
              1,
              "#f0f921"
             ]
            ],
            "type": "surface"
           }
          ],
          "table": [
           {
            "cells": {
             "fill": {
              "color": "#EBF0F8"
             },
             "line": {
              "color": "white"
             }
            },
            "header": {
             "fill": {
              "color": "#C8D4E3"
             },
             "line": {
              "color": "white"
             }
            },
            "type": "table"
           }
          ]
         },
         "layout": {
          "annotationdefaults": {
           "arrowcolor": "#2a3f5f",
           "arrowhead": 0,
           "arrowwidth": 1
          },
          "autotypenumbers": "strict",
          "coloraxis": {
           "colorbar": {
            "outlinewidth": 0,
            "ticks": ""
           }
          },
          "colorscale": {
           "diverging": [
            [
             0,
             "#8e0152"
            ],
            [
             0.1,
             "#c51b7d"
            ],
            [
             0.2,
             "#de77ae"
            ],
            [
             0.3,
             "#f1b6da"
            ],
            [
             0.4,
             "#fde0ef"
            ],
            [
             0.5,
             "#f7f7f7"
            ],
            [
             0.6,
             "#e6f5d0"
            ],
            [
             0.7,
             "#b8e186"
            ],
            [
             0.8,
             "#7fbc41"
            ],
            [
             0.9,
             "#4d9221"
            ],
            [
             1,
             "#276419"
            ]
           ],
           "sequential": [
            [
             0,
             "#0d0887"
            ],
            [
             0.1111111111111111,
             "#46039f"
            ],
            [
             0.2222222222222222,
             "#7201a8"
            ],
            [
             0.3333333333333333,
             "#9c179e"
            ],
            [
             0.4444444444444444,
             "#bd3786"
            ],
            [
             0.5555555555555556,
             "#d8576b"
            ],
            [
             0.6666666666666666,
             "#ed7953"
            ],
            [
             0.7777777777777778,
             "#fb9f3a"
            ],
            [
             0.8888888888888888,
             "#fdca26"
            ],
            [
             1,
             "#f0f921"
            ]
           ],
           "sequentialminus": [
            [
             0,
             "#0d0887"
            ],
            [
             0.1111111111111111,
             "#46039f"
            ],
            [
             0.2222222222222222,
             "#7201a8"
            ],
            [
             0.3333333333333333,
             "#9c179e"
            ],
            [
             0.4444444444444444,
             "#bd3786"
            ],
            [
             0.5555555555555556,
             "#d8576b"
            ],
            [
             0.6666666666666666,
             "#ed7953"
            ],
            [
             0.7777777777777778,
             "#fb9f3a"
            ],
            [
             0.8888888888888888,
             "#fdca26"
            ],
            [
             1,
             "#f0f921"
            ]
           ]
          },
          "colorway": [
           "#636efa",
           "#EF553B",
           "#00cc96",
           "#ab63fa",
           "#FFA15A",
           "#19d3f3",
           "#FF6692",
           "#B6E880",
           "#FF97FF",
           "#FECB52"
          ],
          "font": {
           "color": "#2a3f5f"
          },
          "geo": {
           "bgcolor": "white",
           "lakecolor": "white",
           "landcolor": "#E5ECF6",
           "showlakes": true,
           "showland": true,
           "subunitcolor": "white"
          },
          "hoverlabel": {
           "align": "left"
          },
          "hovermode": "closest",
          "mapbox": {
           "style": "light"
          },
          "paper_bgcolor": "white",
          "plot_bgcolor": "#E5ECF6",
          "polar": {
           "angularaxis": {
            "gridcolor": "white",
            "linecolor": "white",
            "ticks": ""
           },
           "bgcolor": "#E5ECF6",
           "radialaxis": {
            "gridcolor": "white",
            "linecolor": "white",
            "ticks": ""
           }
          },
          "scene": {
           "xaxis": {
            "backgroundcolor": "#E5ECF6",
            "gridcolor": "white",
            "gridwidth": 2,
            "linecolor": "white",
            "showbackground": true,
            "ticks": "",
            "zerolinecolor": "white"
           },
           "yaxis": {
            "backgroundcolor": "#E5ECF6",
            "gridcolor": "white",
            "gridwidth": 2,
            "linecolor": "white",
            "showbackground": true,
            "ticks": "",
            "zerolinecolor": "white"
           },
           "zaxis": {
            "backgroundcolor": "#E5ECF6",
            "gridcolor": "white",
            "gridwidth": 2,
            "linecolor": "white",
            "showbackground": true,
            "ticks": "",
            "zerolinecolor": "white"
           }
          },
          "shapedefaults": {
           "line": {
            "color": "#2a3f5f"
           }
          },
          "ternary": {
           "aaxis": {
            "gridcolor": "white",
            "linecolor": "white",
            "ticks": ""
           },
           "baxis": {
            "gridcolor": "white",
            "linecolor": "white",
            "ticks": ""
           },
           "bgcolor": "#E5ECF6",
           "caxis": {
            "gridcolor": "white",
            "linecolor": "white",
            "ticks": ""
           }
          },
          "title": {
           "x": 0.05
          },
          "xaxis": {
           "automargin": true,
           "gridcolor": "white",
           "linecolor": "white",
           "ticks": "",
           "title": {
            "standoff": 15
           },
           "zerolinecolor": "white",
           "zerolinewidth": 2
          },
          "yaxis": {
           "automargin": true,
           "gridcolor": "white",
           "linecolor": "white",
           "ticks": "",
           "title": {
            "standoff": 15
           },
           "zerolinecolor": "white",
           "zerolinewidth": 2
          }
         }
        },
        "title": {
         "text": "Trial 0, Latent 0"
        },
        "xaxis": {
         "title": {
          "text": "Time (sec)"
         }
        },
        "yaxis": {
         "title": {
          "text": "Latent Value"
         }
        }
       }
      },
      "text/html": [
       "<div>                            <div id=\"741247b6-cc0f-4a77-8f59-85075c50a360\" class=\"plotly-graph-div\" style=\"height:525px; width:100%;\"></div>            <script type=\"text/javascript\">                require([\"plotly\"], function(Plotly) {                    window.PLOTLYENV=window.PLOTLYENV || {};                                    if (document.getElementById(\"741247b6-cc0f-4a77-8f59-85075c50a360\")) {                    Plotly.newPlot(                        \"741247b6-cc0f-4a77-8f59-85075c50a360\",                        [{\"fill\": \"tozerox\", \"fillcolor\": \"rgba(255,0,0,0.200000)\", \"line\": {\"color\": \"rgba(255,255,255,0)\"}, \"name\": \"Estimated\", \"showlegend\": false, \"type\": \"scatter\", \"x\": [0.0, 0.010101010091602802, 0.020202020183205605, 0.03030303120613098, 0.04040404036641121, 0.05050504952669144, 0.06060606241226196, 0.07070706784725189, 0.08080808073282242, 0.09090909361839294, 0.10101009905338287, 0.1111111119389534, 0.12121212482452393, 0.13131313025951385, 0.14141413569450378, 0.1515151560306549, 0.16161616146564484, 0.17171716690063477, 0.1818181872367859, 0.19191919267177582, 0.20202019810676575, 0.21212121844291687, 0.2222222238779068, 0.23232322931289673, 0.24242424964904785, 0.252525269985199, 0.2626262605190277, 0.27272728085517883, 0.28282830119132996, 0.2929292917251587, 0.3030303120613098, 0.31313133239746094, 0.3232323229312897, 0.3333333432674408, 0.34343433380126953, 0.35353535413742065, 0.3636363744735718, 0.3737373650074005, 0.38383838534355164, 0.39393937587738037, 0.4040403962135315, 0.4141414165496826, 0.42424240708351135, 0.4343434274196625, 0.4444444477558136, 0.45454543828964233, 0.46464645862579346, 0.4747474789619446, 0.4848484992980957, 0.4949495196342468, 0.505050539970398, 0.5151515007019043, 0.5252525210380554, 0.5353535413742065, 0.5454545617103577, 0.5555555820465088, 0.5656565427780151, 0.5757575631141663, 0.5858585834503174, 0.5959595441818237, 0.6060605645179749, 0.616161584854126, 0.6262626051902771, 0.6363636255264282, 0.6464646458625793, 0.6565656661987305, 0.6666666865348816, 0.6767677068710327, 0.6868686676025391, 0.6969696879386902, 0.7070707082748413, 0.7171717286109924, 0.7272727489471436, 0.7373737692832947, 0.7474747896194458, 0.7575757503509521, 0.7676767706871033, 0.7777777910232544, 0.7878788113594055, 0.7979798316955566, 0.808080792427063, 0.8181818127632141, 0.8282828330993652, 0.8383837938308716, 0.8484848141670227, 0.8585858345031738, 0.868686854839325, 0.8787878751754761, 0.8888888955116272, 0.8989899158477783, 0.9090909361839294, 0.9191919565200806, 0.9292929172515869, 0.939393937587738, 0.9494949579238892, 0.9595959782600403, 0.9696969985961914, 0.9797979593276978, 0.9898989796638489, 1.0, 1.0, 0.9898989796638489, 0.9797979593276978, 0.9696969985961914, 0.9595959782600403, 0.9494949579238892, 0.939393937587738, 0.9292929172515869, 0.9191919565200806, 0.9090909361839294, 0.8989899158477783, 0.8888888955116272, 0.8787878751754761, 0.868686854839325, 0.8585858345031738, 0.8484848141670227, 0.8383837938308716, 0.8282828330993652, 0.8181818127632141, 0.808080792427063, 0.7979798316955566, 0.7878788113594055, 0.7777777910232544, 0.7676767706871033, 0.7575757503509521, 0.7474747896194458, 0.7373737692832947, 0.7272727489471436, 0.7171717286109924, 0.7070707082748413, 0.6969696879386902, 0.6868686676025391, 0.6767677068710327, 0.6666666865348816, 0.6565656661987305, 0.6464646458625793, 0.6363636255264282, 0.6262626051902771, 0.616161584854126, 0.6060605645179749, 0.5959595441818237, 0.5858585834503174, 0.5757575631141663, 0.5656565427780151, 0.5555555820465088, 0.5454545617103577, 0.5353535413742065, 0.5252525210380554, 0.5151515007019043, 0.505050539970398, 0.4949495196342468, 0.4848484992980957, 0.4747474789619446, 0.46464645862579346, 0.45454543828964233, 0.4444444477558136, 0.4343434274196625, 0.42424240708351135, 0.4141414165496826, 0.4040403962135315, 0.39393937587738037, 0.38383838534355164, 0.3737373650074005, 0.3636363744735718, 0.35353535413742065, 0.34343433380126953, 0.3333333432674408, 0.3232323229312897, 0.31313133239746094, 0.3030303120613098, 0.2929292917251587, 0.28282830119132996, 0.27272728085517883, 0.2626262605190277, 0.252525269985199, 0.24242424964904785, 0.23232322931289673, 0.2222222238779068, 0.21212121844291687, 0.20202019810676575, 0.19191919267177582, 0.1818181872367859, 0.17171716690063477, 0.16161616146564484, 0.1515151560306549, 0.14141413569450378, 0.13131313025951385, 0.12121212482452393, 0.1111111119389534, 0.10101009905338287, 0.09090909361839294, 0.08080808073282242, 0.07070706784725189, 0.06060606241226196, 0.05050504952669144, 0.04040404036641121, 0.03030303120613098, 0.020202020183205605, 0.010101010091602802, 0.0], \"y\": [0.17218688905081636, 0.15989177409056807, 0.1481566078694668, 0.1369477529980165, 0.12623260876624365, 0.1159792394182868, 0.10615602290967403, 0.0967313380887122, 0.08767324078246305, 0.07894928159848293, 0.07052632479328651, 0.06237044803912121, 0.05444697795611793, 0.04672055117326428, 0.03915526414722507, 0.03171491542694368, 0.0243633467004104, 0.017064737915601848, 0.009784047457858071, 0.002487483992912116, -0.0048570985536371845, -0.012279704367199584, -0.0198077063219266, -0.027465477085071237, -0.03527395662458814, -0.043250273302200576, -0.05140745276380027, -0.05975426547626246, -0.068294913089999, -0.07702900198480825, -0.08595160278370723, -0.09505315194466168, -0.10431965869939946, -0.11373299482905636, -0.12327097729193506, -0.13290792981275526, -0.14261488509835307, -0.15236011818271103, -0.16210972721830924, -0.17182796120137714, -0.18147800507278386, -0.1910223515505092, -0.20042346916923567, -0.20964446311232138, -0.21864947666014195, -0.22740432511378264, -0.23587708922085412, -0.244038441371476, -0.2518621857728076, -0.2593256157501618, -0.26640983842272, -0.27309999678541524, -0.2793856168929156, -0.28526049032752776, -0.29072287949888853, -0.2957754463908794, -0.30042512018761997, -0.30468302426129357, -0.30856405946220833, -0.31208667595385964, -0.3152725414936902, -0.31814597480944407, -0.3207335372050932, -0.3230634732130989, -0.32516513722278945, -0.32706839305287283, -0.32880299578361355, -0.33039796557013656, -0.33188095496806397, -0.3332776711982355, -0.3346112341165604, -0.33590165427959084, -0.337165308556956, -0.3384144761571849, -0.33965693464576074, -0.34089561646126043, -0.3421283765336945, -0.34334776690712887, -0.3445409687349067, -0.3456897744729859, -0.3467706588052517, -0.34775496725741006, -0.34860912441326986, -0.34929498141514953, -0.34977022046922734, -0.34998878792959043, -0.349901420518007, -0.3494561881047867, -0.3485990660088371, -0.3472745176881184, -0.34542607282565124, -0.34299688584437815, -0.3399302805109194, -0.33617015100061187, -0.331661487997741, -0.3263506596591389, -0.3201857009666735, -0.31311655111366865, -0.3050949928627448, -0.29607493474535257, -0.2971115623001555, -0.3058028810669141, -0.3136087861191015, -0.32054284298844676, -0.32662798917934543, -0.3318951601004242, -0.33638230580479367, -0.34013319098429734, -0.3431962342185746, -0.3456234578414071, -0.34746930017515104, -0.34878966049172583, -0.34964090496843364, -0.3500789564169243, -0.35015845294346026, -0.3499319795430694, -0.34944937564690465, -0.3487571254828079, -0.3478978060497637, -0.3469096585827065, -0.3458262081179426, -0.3446759514531951, -0.343482188697252, -0.34226287306292064, -0.341030573419566, -0.3397925181939161, -0.33855068106109176, -0.3373020155268935, -0.3360386889008188, -0.33474842104307817, -0.3334148789634632, -0.33201812852931994, -0.33053514540194473, -0.3289403238323752, -0.3272061070688286, -0.3253035558441087, -0.3232029746854129, -0.32087453478840927, -0.31828889180092823, -0.31541778843621493, -0.3122346320737155, -0.3087150597340178, -0.30483735294714676, -0.30058301077891386, -0.2959370876385611, -0.29088842660094194, -0.285430079740425, -0.27955938341312364, -0.2732780910952393, -0.26659244339753935, -0.25951296007577684, -0.2520545532333929, -0.24423617500341877, -0.2360805895144962, -0.22761404205016186, -0.21886589582176946, -0.20986808675901386, -0.20065479340822814, -0.1912618416171614, -0.18172607105023478, -0.17208493661354704, -0.16237585357253298, -0.152635538349815, -0.1428996478869784, -0.13320200825742465, -0.12357430153052737, -0.11404550000050123, -0.10464134660405816, -0.09538416331385913, -0.08629229593425852, -0.07738003107807509, -0.06865729833490611, -0.060129446216097435, -0.051797313479238376, -0.04365713342626373, -0.03570051624359878, -0.027914712661472114, -0.02028271559137876, -0.012783504682384561, -0.005392390174874651, 0.0019185693363217115, 0.009180181667948682, 0.016425573750117627, 0.02368958315006731, 0.031008184459464884, 0.03841776103416535, 0.04595431914731814, 0.053652748374727485, 0.06154593132377847, 0.06966384330001148, 0.0780326360667871, 0.08667370674366551, 0.09560269892138656, 0.10482856071813144, 0.11435262486507414, 0.12416765892080839, 0.13425705321651418, 0.14459403177816924, 0.15514097316038147, 0.1658488628157505]}, {\"line\": {\"color\": \"red\"}, \"mode\": \"lines\", \"name\": \"Estimated\", \"showlegend\": true, \"type\": \"scatter\", \"x\": [0.0, 0.010101010091602802, 0.020202020183205605, 0.03030303120613098, 0.04040404036641121, 0.05050504952669144, 0.06060606241226196, 0.07070706784725189, 0.08080808073282242, 0.09090909361839294, 0.10101009905338287, 0.1111111119389534, 0.12121212482452393, 0.13131313025951385, 0.14141413569450378, 0.1515151560306549, 0.16161616146564484, 0.17171716690063477, 0.1818181872367859, 0.19191919267177582, 0.20202019810676575, 0.21212121844291687, 0.2222222238779068, 0.23232322931289673, 0.24242424964904785, 0.252525269985199, 0.2626262605190277, 0.27272728085517883, 0.28282830119132996, 0.2929292917251587, 0.3030303120613098, 0.31313133239746094, 0.3232323229312897, 0.3333333432674408, 0.34343433380126953, 0.35353535413742065, 0.3636363744735718, 0.3737373650074005, 0.38383838534355164, 0.39393937587738037, 0.4040403962135315, 0.4141414165496826, 0.42424240708351135, 0.4343434274196625, 0.4444444477558136, 0.45454543828964233, 0.46464645862579346, 0.4747474789619446, 0.4848484992980957, 0.4949495196342468, 0.505050539970398, 0.5151515007019043, 0.5252525210380554, 0.5353535413742065, 0.5454545617103577, 0.5555555820465088, 0.5656565427780151, 0.5757575631141663, 0.5858585834503174, 0.5959595441818237, 0.6060605645179749, 0.616161584854126, 0.6262626051902771, 0.6363636255264282, 0.6464646458625793, 0.6565656661987305, 0.6666666865348816, 0.6767677068710327, 0.6868686676025391, 0.6969696879386902, 0.7070707082748413, 0.7171717286109924, 0.7272727489471436, 0.7373737692832947, 0.7474747896194458, 0.7575757503509521, 0.7676767706871033, 0.7777777910232544, 0.7878788113594055, 0.7979798316955566, 0.808080792427063, 0.8181818127632141, 0.8282828330993652, 0.8383837938308716, 0.8484848141670227, 0.8585858345031738, 0.868686854839325, 0.8787878751754761, 0.8888888955116272, 0.8989899158477783, 0.9090909361839294, 0.9191919565200806, 0.9292929172515869, 0.939393937587738, 0.9494949579238892, 0.9595959782600403, 0.9696969985961914, 0.9797979593276978, 0.9898989796638489, 1.0], \"y\": [0.16901787593328343, 0.15751637362547477, 0.14637531982381802, 0.13560240310726535, 0.12520013384352602, 0.11516593214168047, 0.10549229181390274, 0.09616701850504938, 0.08717347376306428, 0.07849095883263502, 0.07009508404664899, 0.06195818968144984, 0.05404986316542271, 0.04633743516029121, 0.03878651259069521, 0.03136154994320428, 0.024026464925238855, 0.016745155832859737, 0.009482114562903377, 0.002203026664616914, -0.005124744364255918, -0.012531604524792073, -0.02004521095665268, -0.027690094873271676, -0.03548723643409346, -0.043453703364232155, -0.051602383121519324, -0.05994185584617995, -0.06847610571245255, -0.07720451653144167, -0.08612194935898287, -0.0952186576292604, -0.10448050265172881, -0.1138892474147788, -0.12342263941123122, -0.13305496903508995, -0.14275726649266574, -0.152497828266263, -0.1622427903954211, -0.1719564489074621, -0.18160203806150932, -0.1911420965838353, -0.2005391312887319, -0.20975627493566762, -0.2187576862409557, -0.22750918358197225, -0.23597883936767516, -0.2441373081874474, -0.25195836950310024, -0.2594192879129693, -0.26650114091012966, -0.2731890439403273, -0.2794725001530196, -0.2853452850339764, -0.29080565304991524, -0.29585626701472023, -0.3005040654832669, -0.30476018860422016, -0.30863955959811307, -0.31216065401378756, -0.3153451649649526, -0.31821743330518615, -0.3208040359967512, -0.3231332239492559, -0.32523434653344907, -0.3271372500608507, -0.3288716598079944, -0.33046655548604065, -0.33194954174869196, -0.33334627508084935, -0.3346798275798193, -0.3359701715902048, -0.33723366204192473, -0.33848257860913833, -0.3397247264198384, -0.3409630949404132, -0.34219562479830756, -0.34341497780219044, -0.3446084600940509, -0.34575799129546425, -0.3468401586939791, -0.3478263866535869, -0.3486831249480389, -0.3493721785310271, -0.3498511000061484, -0.35007362043652535, -0.34999018846746566, -0.34954854653661016, -0.34869436325028147, -0.3473719089316347, -0.34552476533352916, -0.34309656003147637, -0.34003173574760837, -0.33627622840270277, -0.3317783240490826, -0.32648932441924217, -0.3203642719775601, -0.31336266861638506, -0.30544893696482944, -0.29659324852275404]}, {\"fill\": \"tozerox\", \"fillcolor\": \"rgba(0,0,255,0.200000)\", \"line\": {\"color\": \"rgba(255,255,255,0)\"}, \"name\": \"True\", \"showlegend\": false, \"type\": \"scatter\", \"x\": [0.0, 0.010101010091602802, 0.020202020183205605, 0.03030303120613098, 0.04040404036641121, 0.05050504952669144, 0.06060606241226196, 0.07070706784725189, 0.08080808073282242, 0.09090909361839294, 0.10101009905338287, 0.1111111119389534, 0.12121212482452393, 0.13131313025951385, 0.14141413569450378, 0.1515151560306549, 0.16161616146564484, 0.17171716690063477, 0.1818181872367859, 0.19191919267177582, 0.20202019810676575, 0.21212121844291687, 0.2222222238779068, 0.23232322931289673, 0.24242424964904785, 0.252525269985199, 0.2626262605190277, 0.27272728085517883, 0.28282830119132996, 0.2929292917251587, 0.3030303120613098, 0.31313133239746094, 0.3232323229312897, 0.3333333432674408, 0.34343433380126953, 0.35353535413742065, 0.3636363744735718, 0.3737373650074005, 0.38383838534355164, 0.39393937587738037, 0.4040403962135315, 0.4141414165496826, 0.42424240708351135, 0.4343434274196625, 0.4444444477558136, 0.45454543828964233, 0.46464645862579346, 0.4747474789619446, 0.4848484992980957, 0.4949495196342468, 0.505050539970398, 0.5151515007019043, 0.5252525210380554, 0.5353535413742065, 0.5454545617103577, 0.5555555820465088, 0.5656565427780151, 0.5757575631141663, 0.5858585834503174, 0.5959595441818237, 0.6060605645179749, 0.616161584854126, 0.6262626051902771, 0.6363636255264282, 0.6464646458625793, 0.6565656661987305, 0.6666666865348816, 0.6767677068710327, 0.6868686676025391, 0.6969696879386902, 0.7070707082748413, 0.7171717286109924, 0.7272727489471436, 0.7373737692832947, 0.7474747896194458, 0.7575757503509521, 0.7676767706871033, 0.7777777910232544, 0.7878788113594055, 0.7979798316955566, 0.808080792427063, 0.8181818127632141, 0.8282828330993652, 0.8383837938308716, 0.8484848141670227, 0.8585858345031738, 0.868686854839325, 0.8787878751754761, 0.8888888955116272, 0.8989899158477783, 0.9090909361839294, 0.9191919565200806, 0.9292929172515869, 0.939393937587738, 0.9494949579238892, 0.9595959782600403, 0.9696969985961914, 0.9797979593276978, 0.9898989796638489, 1.0, 1.0, 0.9898989796638489, 0.9797979593276978, 0.9696969985961914, 0.9595959782600403, 0.9494949579238892, 0.939393937587738, 0.9292929172515869, 0.9191919565200806, 0.9090909361839294, 0.8989899158477783, 0.8888888955116272, 0.8787878751754761, 0.868686854839325, 0.8585858345031738, 0.8484848141670227, 0.8383837938308716, 0.8282828330993652, 0.8181818127632141, 0.808080792427063, 0.7979798316955566, 0.7878788113594055, 0.7777777910232544, 0.7676767706871033, 0.7575757503509521, 0.7474747896194458, 0.7373737692832947, 0.7272727489471436, 0.7171717286109924, 0.7070707082748413, 0.6969696879386902, 0.6868686676025391, 0.6767677068710327, 0.6666666865348816, 0.6565656661987305, 0.6464646458625793, 0.6363636255264282, 0.6262626051902771, 0.616161584854126, 0.6060605645179749, 0.5959595441818237, 0.5858585834503174, 0.5757575631141663, 0.5656565427780151, 0.5555555820465088, 0.5454545617103577, 0.5353535413742065, 0.5252525210380554, 0.5151515007019043, 0.505050539970398, 0.4949495196342468, 0.4848484992980957, 0.4747474789619446, 0.46464645862579346, 0.45454543828964233, 0.4444444477558136, 0.4343434274196625, 0.42424240708351135, 0.4141414165496826, 0.4040403962135315, 0.39393937587738037, 0.38383838534355164, 0.3737373650074005, 0.3636363744735718, 0.35353535413742065, 0.34343433380126953, 0.3333333432674408, 0.3232323229312897, 0.31313133239746094, 0.3030303120613098, 0.2929292917251587, 0.28282830119132996, 0.27272728085517883, 0.2626262605190277, 0.252525269985199, 0.24242424964904785, 0.23232322931289673, 0.2222222238779068, 0.21212121844291687, 0.20202019810676575, 0.19191919267177582, 0.1818181872367859, 0.17171716690063477, 0.16161616146564484, 0.1515151560306549, 0.14141413569450378, 0.13131313025951385, 0.12121212482452393, 0.1111111119389534, 0.10101009905338287, 0.09090909361839294, 0.08080808073282242, 0.07070706784725189, 0.06060606241226196, 0.05050504952669144, 0.04040404036641121, 0.03030303120613098, 0.020202020183205605, 0.010101010091602802, 0.0], \"y\": [0.18140271954696474, 0.18337846481258713, 0.1854618501350095, 0.18763432167389876, 0.1898764566430951, 0.19216852255755437, 0.1944911034597118, 0.1968257834012602, 0.1991558927596609, 0.20146726989029243, 0.20374905947103125, 0.20599451320265882, 0.20820175861875934, 0.21037454565591587, 0.21252293201906192, 0.21466388255457033, 0.21682175628085765, 0.2190286990139661, 0.2213248638367879, 0.22375846817113396, 0.22638570421049545, 0.22927043075366796, 0.23248366188043684, 0.23610289290245506, 0.24021118913107758, 0.2448960748378914, 0.2502482491785778, 0.2563601929044615, 0.2633244716761737, 0.2712320468046819, 0.2801705389393694, 0.2902222134218005, 0.3014621414558409, 0.3139564424389827, 0.3277602358906715, 0.34291623963713136, 0.3594529497543163, 0.3773833954225457, 0.3967042023073739, 0.41739437031271376, 0.4394151909827102, 0.4627096211127941, 0.4872025882415192, 0.5128017232806337, 0.539397788576852, 0.56686610125823, 0.5950683526430501, 0.6238540046194188, 0.6530627832109235, 0.6825270184450428, 0.7120742646801925, 0.7415298943452205, 0.770720647052346, 0.7994764634519658, 0.8276340189636358, 0.8550392783598212, 0.881549897864161, 0.9070381655899152, 0.9313920879643356, 0.9545175696749902, 0.9763400841330223, 0.9968047205805598, 1.015877155049656, 1.0335434645985864, 1.0498096169317483, 1.0647005052713314, 1.0782585503856519, 1.0905419031245083, 1.1016222295049205, 1.1115825102937957, 1.1205139547793244, 1.128513402752516, 1.1356802913365558, 1.1421136685223023, 1.1479092612912931, 1.1531566441302552, 1.157936759347633, 1.1623193997601646, 1.166361329920159, 1.1701046253572143, 1.1735754413434556, 1.1767833268389518, 1.1797207966803376, 1.182363560636639, 1.1846711800237524, 1.186588027233368, 1.1880448080369634, 1.1889603655081036, 1.189243811895199, 1.1887969135882543, 1.187516665200607, 1.1852979850434318, 1.18203648499358, 1.1776311172729388, 1.1719869340101707, 1.1650175137575158, 1.1566472677550235, 1.1468135349113187, 1.1354680727002848, 1.1225788013815885, 0.7286236982226377, 0.741512969541334, 0.7528584317523679, 0.7626921645960727, 0.7710624105985651, 0.77803183085122, 0.783676014113988, 0.7880813818346293, 0.791342881884481, 0.7935615620416563, 0.7948418104293036, 0.7952887087362481, 0.7950052623491528, 0.7940897048780127, 0.7926329240744172, 0.7907160768648016, 0.7884084574776882, 0.7857656935213868, 0.782828223680001, 0.7796203381845048, 0.7761495221982635, 0.7724062267612082, 0.7683642966012139, 0.7639816561886823, 0.7592015409713044, 0.7539541581323423, 0.7481585653633516, 0.741725188177605, 0.7345582995935653, 0.7265588516203736, 0.717627407134845, 0.7076671263459697, 0.6965867999655575, 0.6843034472267011, 0.6707454021123807, 0.6558545137727976, 0.6395883614396356, 0.6219220518907052, 0.602849617421609, 0.5823849809740715, 0.5605624665160395, 0.5374369848053848, 0.5130830624309645, 0.4875947947052103, 0.4610841752008704, 0.433678915804685, 0.405521360293015, 0.3767655438933952, 0.34757479118626977, 0.31811916152124176, 0.28857191528609194, 0.2591076800519727, 0.22989890146046796, 0.20111324948409928, 0.17291099809927915, 0.14544268541790126, 0.11884662012168287, 0.09324748508256839, 0.06875451795384327, 0.045460087823759404, 0.02343926715376296, 0.0027490991484230565, -0.01657170773640515, -0.034502153404634556, -0.05103886352181944, -0.0661948672682793, -0.07999866071996815, -0.09249296170310993, -0.10373288973715034, -0.11378456421958143, -0.12272305635426894, -0.13063063148277718, -0.13759491025448933, -0.14370685398037303, -0.14905902832105944, -0.15374391402787324, -0.15785221025649576, -0.16147144127851398, -0.16468467240528287, -0.16756939894845538, -0.17019663498781687, -0.17263023932216293, -0.17492640414498473, -0.17713334687809318, -0.1792912206043805, -0.1814321711398889, -0.18358055750303495, -0.1857533445401915, -0.187960589956292, -0.19020604368791957, -0.1924878332686584, -0.19479921039928993, -0.19712931975769063, -0.19946399969923903, -0.20178658060139645, -0.20407864651585572, -0.20632078148505206, -0.20849325302394134, -0.2105766383463637, -0.21255238361198608]}, {\"line\": {\"color\": \"blue\"}, \"mode\": \"lines\", \"name\": \"True\", \"showlegend\": true, \"type\": \"scatter\", \"x\": [0.0, 0.010101010091602802, 0.020202020183205605, 0.03030303120613098, 0.04040404036641121, 0.05050504952669144, 0.06060606241226196, 0.07070706784725189, 0.08080808073282242, 0.09090909361839294, 0.10101009905338287, 0.1111111119389534, 0.12121212482452393, 0.13131313025951385, 0.14141413569450378, 0.1515151560306549, 0.16161616146564484, 0.17171716690063477, 0.1818181872367859, 0.19191919267177582, 0.20202019810676575, 0.21212121844291687, 0.2222222238779068, 0.23232322931289673, 0.24242424964904785, 0.252525269985199, 0.2626262605190277, 0.27272728085517883, 0.28282830119132996, 0.2929292917251587, 0.3030303120613098, 0.31313133239746094, 0.3232323229312897, 0.3333333432674408, 0.34343433380126953, 0.35353535413742065, 0.3636363744735718, 0.3737373650074005, 0.38383838534355164, 0.39393937587738037, 0.4040403962135315, 0.4141414165496826, 0.42424240708351135, 0.4343434274196625, 0.4444444477558136, 0.45454543828964233, 0.46464645862579346, 0.4747474789619446, 0.4848484992980957, 0.4949495196342468, 0.505050539970398, 0.5151515007019043, 0.5252525210380554, 0.5353535413742065, 0.5454545617103577, 0.5555555820465088, 0.5656565427780151, 0.5757575631141663, 0.5858585834503174, 0.5959595441818237, 0.6060605645179749, 0.616161584854126, 0.6262626051902771, 0.6363636255264282, 0.6464646458625793, 0.6565656661987305, 0.6666666865348816, 0.6767677068710327, 0.6868686676025391, 0.6969696879386902, 0.7070707082748413, 0.7171717286109924, 0.7272727489471436, 0.7373737692832947, 0.7474747896194458, 0.7575757503509521, 0.7676767706871033, 0.7777777910232544, 0.7878788113594055, 0.7979798316955566, 0.808080792427063, 0.8181818127632141, 0.8282828330993652, 0.8383837938308716, 0.8484848141670227, 0.8585858345031738, 0.868686854839325, 0.8787878751754761, 0.8888888955116272, 0.8989899158477783, 0.9090909361839294, 0.9191919565200806, 0.9292929172515869, 0.939393937587738, 0.9494949579238892, 0.9595959782600403, 0.9696969985961914, 0.9797979593276978, 0.9898989796638489, 1.0], \"y\": [-0.015574832032510685, -0.013599086766888271, -0.01151570144446594, -0.009343229905576636, -0.007101094936380309, -0.004809029021921041, -0.002486448119763618, -0.00015176817821521693, 0.002178341180185464, 0.004489718310817015, 0.006771507891555839, 0.009016961623183412, 0.011224207039283923, 0.01339699407644046, 0.015545380439586504, 0.01768633097509492, 0.019844204701382234, 0.022051147434490687, 0.024347312257312473, 0.026780916591658543, 0.029408152631020035, 0.032292879174192546, 0.03550611030096143, 0.039125341322979665, 0.04323363755160217, 0.047918523258415974, 0.0532706975991024, 0.059382641324986066, 0.06634692009669824, 0.07425449522520647, 0.08319298735989399, 0.09324466184232508, 0.10448458987636548, 0.11697889085950726, 0.1307826843111961, 0.14593868805765597, 0.16247539817484086, 0.18040584384307026, 0.19972665072789847, 0.22041681873323837, 0.24243763940323482, 0.2657320695333187, 0.2902250366620438, 0.3158241717011583, 0.34242023699737667, 0.36988854967875456, 0.3980908010635747, 0.42687645303994337, 0.4560852316314481, 0.4855494668655674, 0.5150967131007171, 0.5445523427657452, 0.5737430954728706, 0.6024989118724904, 0.6306564673841604, 0.6580617267803458, 0.6845723462846857, 0.7100606140104399, 0.7344145363848602, 0.7575400180955149, 0.7793625325535469, 0.7998271690010844, 0.8188996034701805, 0.836565913019111, 0.852832065352273, 0.867722953691856, 0.8812809988061765, 0.8935643515450329, 0.9046446779254451, 0.9146049587143203, 0.923536403199849, 0.9315358511730407, 0.9387027397570804, 0.945136116942827, 0.9509317097118177, 0.9561790925507798, 0.9609592077681577, 0.9653418481806892, 0.9693837783406836, 0.9731270737777389, 0.9765978897639802, 0.9798057752594764, 0.9827432451008622, 0.9853860090571636, 0.987693628444277, 0.9896104756538926, 0.991067256457488, 0.9919828139286282, 0.9922662603157235, 0.991819362008779, 0.9905391136211317, 0.9883204334639564, 0.9850589334141047, 0.9806535656934634, 0.9750093824306953, 0.9680399621780404, 0.9596697161755481, 0.9498359833318433, 0.9384905211208094, 0.9256012498021131]}, {\"line\": {\"color\": \"black\"}, \"mode\": \"lines\", \"name\": \"True\", \"showlegend\": true, \"type\": \"scatter\", \"x\": [0.0, 0.010101010091602802, 0.020202020183205605, 0.03030303120613098, 0.04040404036641121, 0.05050504952669144, 0.06060606241226196, 0.07070706784725189, 0.08080808073282242, 0.09090909361839294, 0.10101009905338287, 0.1111111119389534, 0.12121212482452393, 0.13131313025951385, 0.14141413569450378, 0.1515151560306549, 0.16161616146564484, 0.17171716690063477, 0.1818181872367859, 0.19191919267177582, 0.20202019810676575, 0.21212121844291687, 0.2222222238779068, 0.23232322931289673, 0.24242424964904785, 0.252525269985199, 0.2626262605190277, 0.27272728085517883, 0.28282830119132996, 0.2929292917251587, 0.3030303120613098, 0.31313133239746094, 0.3232323229312897, 0.3333333432674408, 0.34343433380126953, 0.35353535413742065, 0.3636363744735718, 0.3737373650074005, 0.38383838534355164, 0.39393937587738037, 0.4040403962135315, 0.4141414165496826, 0.42424240708351135, 0.4343434274196625, 0.4444444477558136, 0.45454543828964233, 0.46464645862579346, 0.4747474789619446, 0.4848484992980957, 0.4949495196342468, 0.505050539970398, 0.5151515007019043, 0.5252525210380554, 0.5353535413742065, 0.5454545617103577, 0.5555555820465088, 0.5656565427780151, 0.5757575631141663, 0.5858585834503174, 0.5959595441818237, 0.6060605645179749, 0.616161584854126, 0.6262626051902771, 0.6363636255264282, 0.6464646458625793, 0.6565656661987305, 0.6666666865348816, 0.6767677068710327, 0.6868686676025391, 0.6969696879386902, 0.7070707082748413, 0.7171717286109924, 0.7272727489471436, 0.7373737692832947, 0.7474747896194458, 0.7575757503509521, 0.7676767706871033, 0.7777777910232544, 0.7878788113594055, 0.7979798316955566, 0.808080792427063, 0.8181818127632141, 0.8282828330993652, 0.8383837938308716, 0.8484848141670227, 0.8585858345031738, 0.868686854839325, 0.8787878751754761, 0.8888888955116272, 0.8989899158477783, 0.9090909361839294, 0.9191919565200806, 0.9292929172515869, 0.939393937587738, 0.9494949579238892, 0.9595959782600403, 0.9696969985961914, 0.9797979593276978, 0.9898989796638489, 1.0], \"y\": [0.04719258705414146, 0.05179164457873782, 0.050372692744748135, 0.05198689183468963, 0.05969814551799567, 0.08964178690743849, 0.08222936724694332, 0.09090855960014908, 0.09334640368955449, 0.08132559371829798, 0.07694603481455611, 0.08665539886642491, 0.08668530860351598, 0.0933425672781215, 0.10348161571024002, 0.10155498442002506, 0.10115871722385765, 0.0904029435352636, 0.0828795971265029, 0.09995062473332479, 0.08887040442382335, 0.07414717081600376, 0.08986820174814061, 0.07858624365298797, 0.1007622842167832, 0.08042527546538616, 0.08274030838580683, 0.09530730373572285, 0.10504979014773881, 0.12352530747145724, 0.10708050779638827, 0.12642584681979643, 0.1146788878190966, 0.15698821280156194, 0.17097179595596662, 0.16816225317917802, 0.1860661857084904, 0.20256304696159738, 0.2192253967589912, 0.24478965152611598, 0.24075714948332633, 0.26462143639257785, 0.3011363390410128, 0.33924313379917215, 0.3693101830877375, 0.3820048408091244, 0.39856651596314896, 0.4366471416942619, 0.4636281459274615, 0.47104350553124713, 0.49575119429908376, 0.5299084527414261, 0.5660675409598507, 0.6086947453242731, 0.6151286366249538, 0.619412136089186, 0.6565604566853263, 0.6744375711869869, 0.687823562039908, 0.7305277713781457, 0.7437753213312807, 0.7668016297357312, 0.7800954607552482, 0.8037406618146525, 0.8059839413877562, 0.8253830070348981, 0.8345104940949446, 0.8450662721396957, 0.8685358348916377, 0.8902988418430533, 0.8937622198428994, 0.907871640335937, 0.9384046851120661, 0.9472974667662954, 0.9427417431985448, 0.947430578907932, 0.9710221340152778, 0.9913810898999195, 1.00036535388866, 1.0021442333752044, 1.0135958813373118, 1.011067028108701, 1.041725615049204, 1.0477547288242899, 1.0514030286610174, 1.0577561938322326, 1.0497233487390167, 1.0534914110637428, 1.06255621672879, 1.0711600610189715, 1.0666582492542909, 1.0657612432194041, 1.048025282566564, 1.0544635005432725, 1.0478430994074506, 1.0264177015350056, 1.0362453342319025, 1.016811308890123, 1.0066198404051985, 0.9817391176336472]}],                        {\"template\": {\"data\": {\"bar\": [{\"error_x\": {\"color\": \"#2a3f5f\"}, \"error_y\": {\"color\": \"#2a3f5f\"}, \"marker\": {\"line\": {\"color\": \"#E5ECF6\", \"width\": 0.5}}, \"type\": \"bar\"}], \"barpolar\": [{\"marker\": {\"line\": {\"color\": \"#E5ECF6\", \"width\": 0.5}}, \"type\": \"barpolar\"}], \"carpet\": [{\"aaxis\": {\"endlinecolor\": \"#2a3f5f\", \"gridcolor\": \"white\", \"linecolor\": \"white\", \"minorgridcolor\": \"white\", \"startlinecolor\": \"#2a3f5f\"}, \"baxis\": {\"endlinecolor\": \"#2a3f5f\", \"gridcolor\": \"white\", \"linecolor\": \"white\", \"minorgridcolor\": \"white\", \"startlinecolor\": \"#2a3f5f\"}, \"type\": \"carpet\"}], \"choropleth\": [{\"colorbar\": {\"outlinewidth\": 0, \"ticks\": \"\"}, \"type\": \"choropleth\"}], \"contour\": [{\"colorbar\": {\"outlinewidth\": 0, \"ticks\": \"\"}, \"colorscale\": [[0.0, \"#0d0887\"], [0.1111111111111111, \"#46039f\"], [0.2222222222222222, \"#7201a8\"], [0.3333333333333333, \"#9c179e\"], [0.4444444444444444, \"#bd3786\"], [0.5555555555555556, \"#d8576b\"], [0.6666666666666666, \"#ed7953\"], [0.7777777777777778, \"#fb9f3a\"], [0.8888888888888888, \"#fdca26\"], [1.0, \"#f0f921\"]], \"type\": \"contour\"}], \"contourcarpet\": [{\"colorbar\": {\"outlinewidth\": 0, \"ticks\": \"\"}, \"type\": \"contourcarpet\"}], \"heatmap\": [{\"colorbar\": {\"outlinewidth\": 0, \"ticks\": \"\"}, \"colorscale\": [[0.0, \"#0d0887\"], [0.1111111111111111, \"#46039f\"], [0.2222222222222222, \"#7201a8\"], [0.3333333333333333, \"#9c179e\"], [0.4444444444444444, \"#bd3786\"], [0.5555555555555556, \"#d8576b\"], [0.6666666666666666, \"#ed7953\"], [0.7777777777777778, \"#fb9f3a\"], [0.8888888888888888, \"#fdca26\"], [1.0, \"#f0f921\"]], \"type\": \"heatmap\"}], \"heatmapgl\": [{\"colorbar\": {\"outlinewidth\": 0, \"ticks\": \"\"}, \"colorscale\": [[0.0, \"#0d0887\"], [0.1111111111111111, \"#46039f\"], [0.2222222222222222, \"#7201a8\"], [0.3333333333333333, \"#9c179e\"], [0.4444444444444444, \"#bd3786\"], [0.5555555555555556, \"#d8576b\"], [0.6666666666666666, \"#ed7953\"], [0.7777777777777778, \"#fb9f3a\"], [0.8888888888888888, \"#fdca26\"], [1.0, \"#f0f921\"]], \"type\": \"heatmapgl\"}], \"histogram\": [{\"marker\": {\"colorbar\": {\"outlinewidth\": 0, \"ticks\": \"\"}}, \"type\": \"histogram\"}], \"histogram2d\": [{\"colorbar\": {\"outlinewidth\": 0, \"ticks\": \"\"}, \"colorscale\": [[0.0, \"#0d0887\"], [0.1111111111111111, \"#46039f\"], [0.2222222222222222, \"#7201a8\"], [0.3333333333333333, \"#9c179e\"], [0.4444444444444444, \"#bd3786\"], [0.5555555555555556, \"#d8576b\"], [0.6666666666666666, \"#ed7953\"], [0.7777777777777778, \"#fb9f3a\"], [0.8888888888888888, \"#fdca26\"], [1.0, \"#f0f921\"]], \"type\": \"histogram2d\"}], \"histogram2dcontour\": [{\"colorbar\": {\"outlinewidth\": 0, \"ticks\": \"\"}, \"colorscale\": [[0.0, \"#0d0887\"], [0.1111111111111111, \"#46039f\"], [0.2222222222222222, \"#7201a8\"], [0.3333333333333333, \"#9c179e\"], [0.4444444444444444, \"#bd3786\"], [0.5555555555555556, \"#d8576b\"], [0.6666666666666666, \"#ed7953\"], [0.7777777777777778, \"#fb9f3a\"], [0.8888888888888888, \"#fdca26\"], [1.0, \"#f0f921\"]], \"type\": \"histogram2dcontour\"}], \"mesh3d\": [{\"colorbar\": {\"outlinewidth\": 0, \"ticks\": \"\"}, \"type\": \"mesh3d\"}], \"parcoords\": [{\"line\": {\"colorbar\": {\"outlinewidth\": 0, \"ticks\": \"\"}}, \"type\": \"parcoords\"}], \"pie\": [{\"automargin\": true, \"type\": \"pie\"}], \"scatter\": [{\"marker\": {\"colorbar\": {\"outlinewidth\": 0, \"ticks\": \"\"}}, \"type\": \"scatter\"}], \"scatter3d\": [{\"line\": {\"colorbar\": {\"outlinewidth\": 0, \"ticks\": \"\"}}, \"marker\": {\"colorbar\": {\"outlinewidth\": 0, \"ticks\": \"\"}}, \"type\": \"scatter3d\"}], \"scattercarpet\": [{\"marker\": {\"colorbar\": {\"outlinewidth\": 0, \"ticks\": \"\"}}, \"type\": \"scattercarpet\"}], \"scattergeo\": [{\"marker\": {\"colorbar\": {\"outlinewidth\": 0, \"ticks\": \"\"}}, \"type\": \"scattergeo\"}], \"scattergl\": [{\"marker\": {\"colorbar\": {\"outlinewidth\": 0, \"ticks\": \"\"}}, \"type\": \"scattergl\"}], \"scattermapbox\": [{\"marker\": {\"colorbar\": {\"outlinewidth\": 0, \"ticks\": \"\"}}, \"type\": \"scattermapbox\"}], \"scatterpolar\": [{\"marker\": {\"colorbar\": {\"outlinewidth\": 0, \"ticks\": \"\"}}, \"type\": \"scatterpolar\"}], \"scatterpolargl\": [{\"marker\": {\"colorbar\": {\"outlinewidth\": 0, \"ticks\": \"\"}}, \"type\": \"scatterpolargl\"}], \"scatterternary\": [{\"marker\": {\"colorbar\": {\"outlinewidth\": 0, \"ticks\": \"\"}}, \"type\": \"scatterternary\"}], \"surface\": [{\"colorbar\": {\"outlinewidth\": 0, \"ticks\": \"\"}, \"colorscale\": [[0.0, \"#0d0887\"], [0.1111111111111111, \"#46039f\"], [0.2222222222222222, \"#7201a8\"], [0.3333333333333333, \"#9c179e\"], [0.4444444444444444, \"#bd3786\"], [0.5555555555555556, \"#d8576b\"], [0.6666666666666666, \"#ed7953\"], [0.7777777777777778, \"#fb9f3a\"], [0.8888888888888888, \"#fdca26\"], [1.0, \"#f0f921\"]], \"type\": \"surface\"}], \"table\": [{\"cells\": {\"fill\": {\"color\": \"#EBF0F8\"}, \"line\": {\"color\": \"white\"}}, \"header\": {\"fill\": {\"color\": \"#C8D4E3\"}, \"line\": {\"color\": \"white\"}}, \"type\": \"table\"}]}, \"layout\": {\"annotationdefaults\": {\"arrowcolor\": \"#2a3f5f\", \"arrowhead\": 0, \"arrowwidth\": 1}, \"autotypenumbers\": \"strict\", \"coloraxis\": {\"colorbar\": {\"outlinewidth\": 0, \"ticks\": \"\"}}, \"colorscale\": {\"diverging\": [[0, \"#8e0152\"], [0.1, \"#c51b7d\"], [0.2, \"#de77ae\"], [0.3, \"#f1b6da\"], [0.4, \"#fde0ef\"], [0.5, \"#f7f7f7\"], [0.6, \"#e6f5d0\"], [0.7, \"#b8e186\"], [0.8, \"#7fbc41\"], [0.9, \"#4d9221\"], [1, \"#276419\"]], \"sequential\": [[0.0, \"#0d0887\"], [0.1111111111111111, \"#46039f\"], [0.2222222222222222, \"#7201a8\"], [0.3333333333333333, \"#9c179e\"], [0.4444444444444444, \"#bd3786\"], [0.5555555555555556, \"#d8576b\"], [0.6666666666666666, \"#ed7953\"], [0.7777777777777778, \"#fb9f3a\"], [0.8888888888888888, \"#fdca26\"], [1.0, \"#f0f921\"]], \"sequentialminus\": [[0.0, \"#0d0887\"], [0.1111111111111111, \"#46039f\"], [0.2222222222222222, \"#7201a8\"], [0.3333333333333333, \"#9c179e\"], [0.4444444444444444, \"#bd3786\"], [0.5555555555555556, \"#d8576b\"], [0.6666666666666666, \"#ed7953\"], [0.7777777777777778, \"#fb9f3a\"], [0.8888888888888888, \"#fdca26\"], [1.0, \"#f0f921\"]]}, \"colorway\": [\"#636efa\", \"#EF553B\", \"#00cc96\", \"#ab63fa\", \"#FFA15A\", \"#19d3f3\", \"#FF6692\", \"#B6E880\", \"#FF97FF\", \"#FECB52\"], \"font\": {\"color\": \"#2a3f5f\"}, \"geo\": {\"bgcolor\": \"white\", \"lakecolor\": \"white\", \"landcolor\": \"#E5ECF6\", \"showlakes\": true, \"showland\": true, \"subunitcolor\": \"white\"}, \"hoverlabel\": {\"align\": \"left\"}, \"hovermode\": \"closest\", \"mapbox\": {\"style\": \"light\"}, \"paper_bgcolor\": \"white\", \"plot_bgcolor\": \"#E5ECF6\", \"polar\": {\"angularaxis\": {\"gridcolor\": \"white\", \"linecolor\": \"white\", \"ticks\": \"\"}, \"bgcolor\": \"#E5ECF6\", \"radialaxis\": {\"gridcolor\": \"white\", \"linecolor\": \"white\", \"ticks\": \"\"}}, \"scene\": {\"xaxis\": {\"backgroundcolor\": \"#E5ECF6\", \"gridcolor\": \"white\", \"gridwidth\": 2, \"linecolor\": \"white\", \"showbackground\": true, \"ticks\": \"\", \"zerolinecolor\": \"white\"}, \"yaxis\": {\"backgroundcolor\": \"#E5ECF6\", \"gridcolor\": \"white\", \"gridwidth\": 2, \"linecolor\": \"white\", \"showbackground\": true, \"ticks\": \"\", \"zerolinecolor\": \"white\"}, \"zaxis\": {\"backgroundcolor\": \"#E5ECF6\", \"gridcolor\": \"white\", \"gridwidth\": 2, \"linecolor\": \"white\", \"showbackground\": true, \"ticks\": \"\", \"zerolinecolor\": \"white\"}}, \"shapedefaults\": {\"line\": {\"color\": \"#2a3f5f\"}}, \"ternary\": {\"aaxis\": {\"gridcolor\": \"white\", \"linecolor\": \"white\", \"ticks\": \"\"}, \"baxis\": {\"gridcolor\": \"white\", \"linecolor\": \"white\", \"ticks\": \"\"}, \"bgcolor\": \"#E5ECF6\", \"caxis\": {\"gridcolor\": \"white\", \"linecolor\": \"white\", \"ticks\": \"\"}}, \"title\": {\"x\": 0.05}, \"xaxis\": {\"automargin\": true, \"gridcolor\": \"white\", \"linecolor\": \"white\", \"ticks\": \"\", \"title\": {\"standoff\": 15}, \"zerolinecolor\": \"white\", \"zerolinewidth\": 2}, \"yaxis\": {\"automargin\": true, \"gridcolor\": \"white\", \"linecolor\": \"white\", \"ticks\": \"\", \"title\": {\"standoff\": 15}, \"zerolinecolor\": \"white\", \"zerolinewidth\": 2}}}, \"title\": {\"text\": \"Trial 0, Latent 0\"}, \"xaxis\": {\"title\": {\"text\": \"Time (sec)\"}}, \"yaxis\": {\"title\": {\"text\": \"Latent Value\"}}},                        {\"responsive\": true}                    ).then(function(){\n",
       "                            \n",
       "var gd = document.getElementById('741247b6-cc0f-4a77-8f59-85075c50a360');\n",
       "var x = new MutationObserver(function (mutations, observer) {{\n",
       "        var display = window.getComputedStyle(gd).display;\n",
       "        if (!display || display === 'none') {{\n",
       "            console.log([gd, 'removed!']);\n",
       "            Plotly.purge(gd);\n",
       "            observer.disconnect();\n",
       "        }}\n",
       "}});\n",
       "\n",
       "// Listen for the removal of the full notebook cells\n",
       "var notebookContainer = gd.closest('#notebook-container');\n",
       "if (notebookContainer) {{\n",
       "    x.observe(notebookContainer, {childList: true});\n",
       "}}\n",
       "\n",
       "// Listen for the clearing of the current output cell\n",
       "var outputEl = gd.closest('.output');\n",
       "if (outputEl) {{\n",
       "    x.observe(outputEl, {childList: true});\n",
       "}}\n",
       "\n",
       "                        })                };                });            </script>        </div>"
      ]
     },
     "metadata": {},
     "output_type": "display_data"
    }
   ],
   "source": [
    "eTimes = trueLatentsTimes\n",
    "with torch.no_grad():\n",
    "    eLatentsMeans, eLatentsSTDs = model.predictLatents(newTimes=eTimes[0])\n",
    "\n",
    "tLatentsSamplesToPlot = trueLatentsSamples[trialToPlot][latentToPlot,:]\n",
    "tLatentsMeansToPlot = trueLatentsMeans[trialToPlot][latentToPlot,:]\n",
    "tLatentsSTDsToPlot = trueLatentsSTDs[trialToPlot][latentToPlot,:]\n",
    "eLatentsMeansToPlot = eLatentsMeans[trialToPlot,:,latentToPlot]\n",
    "eLatentsSTDsToPlot = eLatentsSTDs[trialToPlot,:,latentToPlot]\n",
    "title = \"Trial {:d}, Latent {:d}\".format(trialToPlot, latentToPlot)\n",
    "fig = plot.svGPFA.plotUtilsPlotly.getPlotTrueAndEstimatedLatentsOneTrialOneLatent(\n",
    "    tTimes = trueLatentsTimes[0],\n",
    "    tLatentsSamples=tLatentsSamplesToPlot,\n",
    "    tLatentsMeans=tLatentsMeansToPlot,\n",
    "    tLatentsSTDs=tLatentsSTDsToPlot,\n",
    "    eTimes=eTimes[0],\n",
    "    eLatentsMeans=eLatentsMeansToPlot,\n",
    "    eLatentsSTDs=eLatentsSTDsToPlot,\n",
    "    title=title,\n",
    ")\n",
    "fig.show()\n",
    "# IPython.display.HTML(fig.to_html())"
   ]
  },
  {
   "cell_type": "markdown",
   "metadata": {
    "id": "DA5TP502cQIG"
   },
   "source": [
    "# Plot true and estimated linear embedding parameters"
   ]
  },
  {
   "cell_type": "code",
   "execution_count": 43,
   "metadata": {
    "colab": {
     "base_uri": "https://localhost:8080/",
     "height": 467
    },
    "id": "ifLmGQRicQIP",
    "outputId": "d91b8932-a0ac-4031-ec64-04f40614d848",
    "scrolled": true
   },
   "outputs": [
    {
     "data": {
      "application/vnd.plotly.v1+json": {
       "config": {
        "plotlyServerURL": "https://plot.ly"
       },
       "data": [
        {
         "fill": "tozerox",
         "fillcolor": "rgba(255,0,0,0.200000)",
         "line": {
          "color": "rgba(255,255,255,0)"
         },
         "name": "Estimated",
         "showlegend": false,
         "type": "scatter",
         "x": [
          0,
          0.010101010091602802,
          0.020202020183205605,
          0.03030303120613098,
          0.04040404036641121,
          0.05050504952669144,
          0.06060606241226196,
          0.07070706784725189,
          0.08080808073282242,
          0.09090909361839294,
          0.10101009905338287,
          0.1111111119389534,
          0.12121212482452393,
          0.13131313025951385,
          0.14141413569450378,
          0.1515151560306549,
          0.16161616146564484,
          0.17171716690063477,
          0.1818181872367859,
          0.19191919267177582,
          0.20202019810676575,
          0.21212121844291687,
          0.2222222238779068,
          0.23232322931289673,
          0.24242424964904785,
          0.252525269985199,
          0.2626262605190277,
          0.27272728085517883,
          0.28282830119132996,
          0.2929292917251587,
          0.3030303120613098,
          0.31313133239746094,
          0.3232323229312897,
          0.3333333432674408,
          0.34343433380126953,
          0.35353535413742065,
          0.3636363744735718,
          0.3737373650074005,
          0.38383838534355164,
          0.39393937587738037,
          0.4040403962135315,
          0.4141414165496826,
          0.42424240708351135,
          0.4343434274196625,
          0.4444444477558136,
          0.45454543828964233,
          0.46464645862579346,
          0.4747474789619446,
          0.4848484992980957,
          0.4949495196342468,
          0.505050539970398,
          0.5151515007019043,
          0.5252525210380554,
          0.5353535413742065,
          0.5454545617103577,
          0.5555555820465088,
          0.5656565427780151,
          0.5757575631141663,
          0.5858585834503174,
          0.5959595441818237,
          0.6060605645179749,
          0.616161584854126,
          0.6262626051902771,
          0.6363636255264282,
          0.6464646458625793,
          0.6565656661987305,
          0.6666666865348816,
          0.6767677068710327,
          0.6868686676025391,
          0.6969696879386902,
          0.7070707082748413,
          0.7171717286109924,
          0.7272727489471436,
          0.7373737692832947,
          0.7474747896194458,
          0.7575757503509521,
          0.7676767706871033,
          0.7777777910232544,
          0.7878788113594055,
          0.7979798316955566,
          0.808080792427063,
          0.8181818127632141,
          0.8282828330993652,
          0.8383837938308716,
          0.8484848141670227,
          0.8585858345031738,
          0.868686854839325,
          0.8787878751754761,
          0.8888888955116272,
          0.8989899158477783,
          0.9090909361839294,
          0.9191919565200806,
          0.9292929172515869,
          0.939393937587738,
          0.9494949579238892,
          0.9595959782600403,
          0.9696969985961914,
          0.9797979593276978,
          0.9898989796638489,
          1,
          1,
          0.9898989796638489,
          0.9797979593276978,
          0.9696969985961914,
          0.9595959782600403,
          0.9494949579238892,
          0.939393937587738,
          0.9292929172515869,
          0.9191919565200806,
          0.9090909361839294,
          0.8989899158477783,
          0.8888888955116272,
          0.8787878751754761,
          0.868686854839325,
          0.8585858345031738,
          0.8484848141670227,
          0.8383837938308716,
          0.8282828330993652,
          0.8181818127632141,
          0.808080792427063,
          0.7979798316955566,
          0.7878788113594055,
          0.7777777910232544,
          0.7676767706871033,
          0.7575757503509521,
          0.7474747896194458,
          0.7373737692832947,
          0.7272727489471436,
          0.7171717286109924,
          0.7070707082748413,
          0.6969696879386902,
          0.6868686676025391,
          0.6767677068710327,
          0.6666666865348816,
          0.6565656661987305,
          0.6464646458625793,
          0.6363636255264282,
          0.6262626051902771,
          0.616161584854126,
          0.6060605645179749,
          0.5959595441818237,
          0.5858585834503174,
          0.5757575631141663,
          0.5656565427780151,
          0.5555555820465088,
          0.5454545617103577,
          0.5353535413742065,
          0.5252525210380554,
          0.5151515007019043,
          0.505050539970398,
          0.4949495196342468,
          0.4848484992980957,
          0.4747474789619446,
          0.46464645862579346,
          0.45454543828964233,
          0.4444444477558136,
          0.4343434274196625,
          0.42424240708351135,
          0.4141414165496826,
          0.4040403962135315,
          0.39393937587738037,
          0.38383838534355164,
          0.3737373650074005,
          0.3636363744735718,
          0.35353535413742065,
          0.34343433380126953,
          0.3333333432674408,
          0.3232323229312897,
          0.31313133239746094,
          0.3030303120613098,
          0.2929292917251587,
          0.28282830119132996,
          0.27272728085517883,
          0.2626262605190277,
          0.252525269985199,
          0.24242424964904785,
          0.23232322931289673,
          0.2222222238779068,
          0.21212121844291687,
          0.20202019810676575,
          0.19191919267177582,
          0.1818181872367859,
          0.17171716690063477,
          0.16161616146564484,
          0.1515151560306549,
          0.14141413569450378,
          0.13131313025951385,
          0.12121212482452393,
          0.1111111119389534,
          0.10101009905338287,
          0.09090909361839294,
          0.08080808073282242,
          0.07070706784725189,
          0.06060606241226196,
          0.05050504952669144,
          0.04040404036641121,
          0.03030303120613098,
          0.020202020183205605,
          0.010101010091602802,
          0
         ],
         "y": [
          2.536460218585069,
          2.539274804563952,
          2.5488359705849826,
          2.5653153540275055,
          2.5887006279580853,
          2.6187099528777944,
          2.6547147500308585,
          2.6957093796018667,
          2.740365901649912,
          2.787172431479967,
          2.834606667859825,
          2.881285602182276,
          2.9260627225030857,
          2.968077817831482,
          3.0067760526780045,
          3.0419103872646853,
          3.0735339975761513,
          3.101983368645305,
          3.1278469920767473,
          3.1519151545966673,
          3.1751087947699608,
          3.198390590074855,
          3.2226695785094353,
          3.2487151464604462,
          3.277094463222561,
          3.3081417010143372,
          3.34195813244218,
          3.378435759869392,
          3.417294107833155,
          3.4581256197528947,
          3.500445879834162,
          3.543745556631923,
          3.5875427245390723,
          3.631428183161259,
          3.6750947788433574,
          3.7183483498419947,
          3.761095706082332,
          3.803317736460837,
          3.8450348525606106,
          3.8862723624966535,
          3.9270349524095423,
          3.9672888878507893,
          4.00695456938474,
          4.045906985836102,
          4.0839823876142,
          4.120992973571401,
          4.156747173454705,
          4.1910711760355746,
          4.223828558321789,
          4.254931349815207,
          4.2843408236680895,
          4.312059219516232,
          4.338117679942434,
          4.362562573971971,
          4.385446028504599,
          4.406818173531102,
          4.426720816541409,
          4.44518274052888,
          4.462216386745812,
          4.4778206942699095,
          4.4919902893160515,
          4.504728921290143,
          4.516064455756883,
          4.526058749728375,
          4.534809737839618,
          4.542446090523931,
          4.549117834269716,
          4.554986657162248,
          4.560217556612782,
          4.5649714302497255,
          4.569397271418056,
          4.573625527919296,
          4.577764986074125,
          4.581905611625233,
          4.586125948285431,
          4.590499378827519,
          4.5950923513141335,
          4.599950796909824,
          4.6050792517073535,
          4.610422515797232,
          4.615859665193563,
          4.6212119800161275,
          4.626255830802542,
          4.630729961171744,
          4.6343330401093095,
          4.636719055654733,
          4.637504584651391,
          4.636295612637758,
          4.632729896839873,
          4.6265218744214,
          4.61749888193246,
          4.605628993183031,
          4.591054778441784,
          4.574149171013741,
          4.555583526403536,
          4.536332263805403,
          4.517512013944667,
          4.500077531483478,
          4.484586743004326,
          4.471190287256707,
          4.165927463730059,
          4.234187079668806,
          4.292149447605818,
          4.340253475300165,
          4.379359805353025,
          4.410731338858946,
          4.435797182014864,
          4.455849691858081,
          4.4718888167703765,
          4.484635502684466,
          4.49460783336462,
          4.502185922014636,
          4.507650841621823,
          4.511213252336925,
          4.513044783468691,
          4.5133122940387,
          4.512204536853151,
          4.50993987868274,
          4.506752997532715,
          4.5028712458688105,
          4.49849610657969,
          4.493799047604826,
          4.488928918869937,
          4.484018844124871,
          4.479183352573426,
          4.474505380829396,
          4.470021033765692,
          4.465711488369874,
          4.461505003338242,
          4.457286478490783,
          4.45290852667398,
          4.448200022817703,
          4.442972313167282,
          4.437026023428573,
          4.430161602971155,
          4.4221925347741085,
          4.41295824746546,
          4.402332749479864,
          4.390227433343384,
          4.376589210972307,
          4.36139617969524,
          4.344651985851826,
          4.326377502862844,
          4.3066000560494215,
          4.285338781692513,
          4.262590122679712,
          4.238319979206242,
          4.212464519818385,
          4.1849425862908,
          4.155675983328723,
          4.124610718061257,
          4.091735769858224,
          4.057092354794124,
          4.0207757613362896,
          3.982930053195647,
          3.943737177259215,
          3.903400214117563,
          3.8621230443397914,
          3.820086497752656,
          3.777426719726231,
          3.7342230860390084,
          3.6904984303750847,
          3.6462340482661464,
          3.6013977148897074,
          3.555975181885507,
          3.5100022411745755,
          3.463589017856888,
          3.4169351402885706,
          3.3703358801000887,
          3.3241741947464885,
          3.278900231324115,
          3.234992670045317,
          3.19290425994161,
          3.152998965305782,
          3.115489948674294,
          3.08039328760063,
          3.0475088076014956,
          3.016429276762731,
          2.986574687956337,
          2.957241974055494,
          2.9276612706450424,
          2.8970535393822012,
          2.8646887575193567,
          2.829942332437492,
          2.7923436368638996,
          2.751607857811483,
          2.707639873781679,
          2.6605015963035576,
          2.610343037792956,
          2.5573052665304754,
          2.501414980905332,
          2.4425003619177543,
          2.380161528368666,
          2.3138134434130095,
          2.242783951444543,
          2.1664148319822565,
          2.0841167875790796,
          1.9953746966399644,
          1.899732927829981,
          1.7967892199199464
         ]
        },
        {
         "line": {
          "color": "red"
         },
         "mode": "lines",
         "name": "Estimated Mean",
         "showlegend": true,
         "type": "scatter",
         "x": [
          0,
          0.010101010091602802,
          0.020202020183205605,
          0.03030303120613098,
          0.04040404036641121,
          0.05050504952669144,
          0.06060606241226196,
          0.07070706784725189,
          0.08080808073282242,
          0.09090909361839294,
          0.10101009905338287,
          0.1111111119389534,
          0.12121212482452393,
          0.13131313025951385,
          0.14141413569450378,
          0.1515151560306549,
          0.16161616146564484,
          0.17171716690063477,
          0.1818181872367859,
          0.19191919267177582,
          0.20202019810676575,
          0.21212121844291687,
          0.2222222238779068,
          0.23232322931289673,
          0.24242424964904785,
          0.252525269985199,
          0.2626262605190277,
          0.27272728085517883,
          0.28282830119132996,
          0.2929292917251587,
          0.3030303120613098,
          0.31313133239746094,
          0.3232323229312897,
          0.3333333432674408,
          0.34343433380126953,
          0.35353535413742065,
          0.3636363744735718,
          0.3737373650074005,
          0.38383838534355164,
          0.39393937587738037,
          0.4040403962135315,
          0.4141414165496826,
          0.42424240708351135,
          0.4343434274196625,
          0.4444444477558136,
          0.45454543828964233,
          0.46464645862579346,
          0.4747474789619446,
          0.4848484992980957,
          0.4949495196342468,
          0.505050539970398,
          0.5151515007019043,
          0.5252525210380554,
          0.5353535413742065,
          0.5454545617103577,
          0.5555555820465088,
          0.5656565427780151,
          0.5757575631141663,
          0.5858585834503174,
          0.5959595441818237,
          0.6060605645179749,
          0.616161584854126,
          0.6262626051902771,
          0.6363636255264282,
          0.6464646458625793,
          0.6565656661987305,
          0.6666666865348816,
          0.6767677068710327,
          0.6868686676025391,
          0.6969696879386902,
          0.7070707082748413,
          0.7171717286109924,
          0.7272727489471436,
          0.7373737692832947,
          0.7474747896194458,
          0.7575757503509521,
          0.7676767706871033,
          0.7777777910232544,
          0.7878788113594055,
          0.7979798316955566,
          0.808080792427063,
          0.8181818127632141,
          0.8282828330993652,
          0.8383837938308716,
          0.8484848141670227,
          0.8585858345031738,
          0.868686854839325,
          0.8787878751754761,
          0.8888888955116272,
          0.8989899158477783,
          0.9090909361839294,
          0.9191919565200806,
          0.9292929172515869,
          0.939393937587738,
          0.9494949579238892,
          0.9595959782600403,
          0.9696969985961914,
          0.9797979593276978,
          0.9898989796638489,
          1
         ],
         "y": [
          2.166624719252508,
          2.2195038661969666,
          2.2721053336124735,
          2.3247160708032926,
          2.377557729970171,
          2.4307469521611687,
          2.484264096721934,
          2.5379354539852663,
          2.591433131783833,
          2.6442937061926495,
          2.6959559671951503,
          2.745814319987616,
          2.7932821594033217,
          2.8378588458065805,
          2.879191955244744,
          2.9171270120642925,
          2.9517381650068217,
          2.983336063082331,
          3.0124502657294743,
          3.039788212620855,
          3.0661753844127273,
          3.092482639015596,
          3.119549427636083,
          3.148111977030971,
          3.1787438754115955,
          3.2118158248443156,
          3.247478548873981,
          3.285670009905501,
          3.326143388939236,
          3.368512925538505,
          3.4123100372903252,
          3.457040718366006,
          3.5022389324138214,
          3.5475086005090737,
          3.5925485100089665,
          3.637161765863751,
          3.6812467104860196,
          3.7247758923634917,
          3.7677666414678477,
          3.810247724267831,
          3.8522308360678865,
          3.8936876928017226,
          3.9345388068622658,
          3.9746535999768327,
          4.0138597824367075,
          4.051961513383524,
          4.088761467395497,
          4.124081765414849,
          4.157782164090007,
          4.189771033938232,
          4.220008403498406,
          4.248500902903516,
          4.27529109988041,
          4.3004412765891065,
          4.324018075592155,
          4.346078477611807,
          4.366660436295415,
          4.385780121695862,
          4.403434186298819,
          4.419608436982575,
          4.434289750144179,
          4.447478177316763,
          4.459198602618374,
          4.469508498596918,
          4.478501136306863,
          4.486303846747543,
          4.493071928849145,
          4.498979485164765,
          4.504208789715243,
          4.508939978461853,
          4.51334187495442,
          4.517565265628769,
          4.521738237221999,
          4.525963322695462,
          4.530315664557413,
          4.534841365700473,
          4.539555597719502,
          4.544439857889881,
          4.54943914965609,
          4.554459311188461,
          4.559365455531187,
          4.563982488774421,
          4.568097854742641,
          4.571467249012447,
          4.573822667074005,
          4.574881919561712,
          4.574358918494158,
          4.57197322712979,
          4.5674579094272545,
          4.56056485389301,
          4.551067192308463,
          4.538758904976704,
          4.523452235149932,
          4.504973176514302,
          4.483157432631241,
          4.457846034579214,
          4.428882744622416,
          4.396113489544648,
          4.359386911336566,
          4.318558875493383
         ]
        },
        {
         "fill": "tozerox",
         "fillcolor": "rgba(0,0,255,0.200000)",
         "line": {
          "color": "rgba(255,255,255,0)"
         },
         "name": "True",
         "showlegend": false,
         "type": "scatter",
         "x": [
          0,
          0.010101010091602802,
          0.020202020183205605,
          0.03030303120613098,
          0.04040404036641121,
          0.05050504952669144,
          0.06060606241226196,
          0.07070706784725189,
          0.08080808073282242,
          0.09090909361839294,
          0.10101009905338287,
          0.1111111119389534,
          0.12121212482452393,
          0.13131313025951385,
          0.14141413569450378,
          0.1515151560306549,
          0.16161616146564484,
          0.17171716690063477,
          0.1818181872367859,
          0.19191919267177582,
          0.20202019810676575,
          0.21212121844291687,
          0.2222222238779068,
          0.23232322931289673,
          0.24242424964904785,
          0.252525269985199,
          0.2626262605190277,
          0.27272728085517883,
          0.28282830119132996,
          0.2929292917251587,
          0.3030303120613098,
          0.31313133239746094,
          0.3232323229312897,
          0.3333333432674408,
          0.34343433380126953,
          0.35353535413742065,
          0.3636363744735718,
          0.3737373650074005,
          0.38383838534355164,
          0.39393937587738037,
          0.4040403962135315,
          0.4141414165496826,
          0.42424240708351135,
          0.4343434274196625,
          0.4444444477558136,
          0.45454543828964233,
          0.46464645862579346,
          0.4747474789619446,
          0.4848484992980957,
          0.4949495196342468,
          0.505050539970398,
          0.5151515007019043,
          0.5252525210380554,
          0.5353535413742065,
          0.5454545617103577,
          0.5555555820465088,
          0.5656565427780151,
          0.5757575631141663,
          0.5858585834503174,
          0.5959595441818237,
          0.6060605645179749,
          0.616161584854126,
          0.6262626051902771,
          0.6363636255264282,
          0.6464646458625793,
          0.6565656661987305,
          0.6666666865348816,
          0.6767677068710327,
          0.6868686676025391,
          0.6969696879386902,
          0.7070707082748413,
          0.7171717286109924,
          0.7272727489471436,
          0.7373737692832947,
          0.7474747896194458,
          0.7575757503509521,
          0.7676767706871033,
          0.7777777910232544,
          0.7878788113594055,
          0.7979798316955566,
          0.808080792427063,
          0.8181818127632141,
          0.8282828330993652,
          0.8383837938308716,
          0.8484848141670227,
          0.8585858345031738,
          0.868686854839325,
          0.8787878751754761,
          0.8888888955116272,
          0.8989899158477783,
          0.9090909361839294,
          0.9191919565200806,
          0.9292929172515869,
          0.939393937587738,
          0.9494949579238892,
          0.9595959782600403,
          0.9696969985961914,
          0.9797979593276978,
          0.9898989796638489,
          1,
          1,
          0.9898989796638489,
          0.9797979593276978,
          0.9696969985961914,
          0.9595959782600403,
          0.9494949579238892,
          0.939393937587738,
          0.9292929172515869,
          0.9191919565200806,
          0.9090909361839294,
          0.8989899158477783,
          0.8888888955116272,
          0.8787878751754761,
          0.868686854839325,
          0.8585858345031738,
          0.8484848141670227,
          0.8383837938308716,
          0.8282828330993652,
          0.8181818127632141,
          0.808080792427063,
          0.7979798316955566,
          0.7878788113594055,
          0.7777777910232544,
          0.7676767706871033,
          0.7575757503509521,
          0.7474747896194458,
          0.7373737692832947,
          0.7272727489471436,
          0.7171717286109924,
          0.7070707082748413,
          0.6969696879386902,
          0.6868686676025391,
          0.6767677068710327,
          0.6666666865348816,
          0.6565656661987305,
          0.6464646458625793,
          0.6363636255264282,
          0.6262626051902771,
          0.616161584854126,
          0.6060605645179749,
          0.5959595441818237,
          0.5858585834503174,
          0.5757575631141663,
          0.5656565427780151,
          0.5555555820465088,
          0.5454545617103577,
          0.5353535413742065,
          0.5252525210380554,
          0.5151515007019043,
          0.505050539970398,
          0.4949495196342468,
          0.4848484992980957,
          0.4747474789619446,
          0.46464645862579346,
          0.45454543828964233,
          0.4444444477558136,
          0.4343434274196625,
          0.42424240708351135,
          0.4141414165496826,
          0.4040403962135315,
          0.39393937587738037,
          0.38383838534355164,
          0.3737373650074005,
          0.3636363744735718,
          0.35353535413742065,
          0.34343433380126953,
          0.3333333432674408,
          0.3232323229312897,
          0.31313133239746094,
          0.3030303120613098,
          0.2929292917251587,
          0.28282830119132996,
          0.27272728085517883,
          0.2626262605190277,
          0.252525269985199,
          0.24242424964904785,
          0.23232322931289673,
          0.2222222238779068,
          0.21212121844291687,
          0.20202019810676575,
          0.19191919267177582,
          0.1818181872367859,
          0.17171716690063477,
          0.16161616146564484,
          0.1515151560306549,
          0.14141413569450378,
          0.13131313025951385,
          0.12121212482452393,
          0.1111111119389534,
          0.10101009905338287,
          0.09090909361839294,
          0.08080808073282242,
          0.07070706784725189,
          0.06060606241226196,
          0.05050504952669144,
          0.04040404036641121,
          0.03030303120613098,
          0.020202020183205605,
          0.010101010091602802,
          0
         ],
         "y": [
          2.286272198308178,
          2.379297188143128,
          2.4713337691216806,
          2.5622000093355544,
          2.651712600935511,
          2.739689553767043,
          2.8259530830788426,
          2.910332642055418,
          2.9926686487702066,
          3.0728156121181085,
          3.1506459394728568,
          3.2260537194779157,
          3.298957914780069,
          3.369305908896907,
          3.437076705651892,
          3.502283602735015,
          3.5649761483172755,
          3.6252424517357618,
          3.6832099767253696,
          3.7390456849266815,
          3.7929561519474104,
          3.8451860677342555,
          3.896015917204659,
          3.9457594519760884,
          3.9947595747785973,
          4.043383460066279,
          4.092017069093404,
          4.141059340247633,
          4.190914362101711,
          4.241984279935385,
          4.294661833315552,
          4.34932126794326,
          4.406310482046552,
          4.465943363003699,
          4.52849066942571,
          4.594173984913418,
          4.663157643964568,
          4.735543277747726,
          4.811365547162224,
          4.8905868429850985,
          4.973096604084024,
          5.058708656496576,
          5.147162328858456,
          5.2381252863077945,
          5.331195542796531,
          5.425907342504081,
          5.521738637049003,
          5.618117402234537,
          5.714431994883256,
          5.810041190696131,
          5.904285366297523,
          5.996497777232797,
          6.0860189136039935,
          6.172205521346003,
          6.254444904366182,
          6.332166012245622,
          6.404849911928366,
          6.472041333850215,
          6.533354678452731,
          6.58848254178738,
          6.637201927954637,
          6.679375844682992,
          6.7149562427712945,
          6.74398326401074,
          6.766582817003479,
          6.782962181162638,
          6.793403734533534,
          6.798256950777526,
          6.7979288734105445,
          6.792873229131978,
          6.783578559321876,
          6.770555617181164,
          6.754324312123757,
          6.735400577814853,
          6.714283484598678,
          6.691443062775285,
          6.667308321408772,
          6.642257801494851,
          6.616610213255109,
          6.590617381868658,
          6.564459036618033,
          6.538238769572282,
          6.511983552885995,
          6.485643897843557,
          6.459096001284834,
          6.432147195821446,
          6.404541614347358,
          6.375968213960435,
          6.346070006925084,
          6.314454400203838,
          6.280704365561634,
          6.244390145962143,
          6.2050814377557675,
          6.162358318734287,
          6.1158241492936956,
          6.0651155422948895,
          6.009912574213508,
          5.949948030545479,
          5.885013540021849,
          5.814967824961106,
          3.639014791035174,
          3.709060506095917,
          3.773994996619547,
          3.8339595402875757,
          3.8891625083689574,
          3.9398711153677635,
          3.986405284808355,
          4.029128403829835,
          4.068437112036211,
          4.104751331635702,
          4.1385013662779055,
          4.170116972999152,
          4.2000151800345025,
          4.228588580421426,
          4.256194161895514,
          4.283142967358902,
          4.309690863917625,
          4.3360305189600625,
          4.36228573564635,
          4.388506002692101,
          4.414664347942726,
          4.440657179329177,
          4.466304767568919,
          4.49135528748284,
          4.515490028849353,
          4.5383304506727455,
          4.559447543888921,
          4.5783712781978245,
          4.594602583255232,
          4.607625525395944,
          4.616920195206046,
          4.621975839484612,
          4.622303916851594,
          4.617450700607602,
          4.607009147236706,
          4.590629783077547,
          4.568030230084808,
          4.5390032088453625,
          4.50342281075706,
          4.461248894028705,
          4.412529507861448,
          4.357401644526799,
          4.296088299924283,
          4.228896878002434,
          4.15621297831969,
          4.07849187044025,
          3.9962524874200707,
          3.9100658796780614,
          3.820544743306865,
          3.7283323323715907,
          3.634088156770199,
          3.538478960957324,
          3.442164368308605,
          3.345785603123071,
          3.2499543085781486,
          3.1552425088705993,
          3.0621722523818624,
          2.9712092949325237,
          2.8827556225706443,
          2.7971435701580916,
          2.7146338090591664,
          2.635412513236292,
          2.559590243821794,
          2.487204610038636,
          2.418220950987486,
          2.352537635499777,
          2.2899903290777672,
          2.2303574481206194,
          2.173368234017328,
          2.11870879938962,
          2.0660312460094516,
          2.0149613281757786,
          1.9651063063217002,
          1.9160640351674718,
          1.867430426140346,
          1.8188065408526646,
          1.769806418050156,
          1.7200628832787268,
          1.6692330338083232,
          1.6170031180214781,
          1.5630926510007488,
          1.5072569427994373,
          1.4492894178098294,
          1.3890231143913427,
          1.3263305688090827,
          1.2611236717259595,
          1.1933528749709745,
          1.1230048808541369,
          1.0501006855519834,
          0.974692905546924,
          0.8968625781921757,
          0.8167156148442738,
          0.7343796081294858,
          0.6500000491529103,
          0.5637365198411104,
          0.4757595670095782,
          0.38624697540962183,
          0.29538073519574826,
          0.2033441542171952,
          0.11031916438224543
         ]
        },
        {
         "line": {
          "color": "blue"
         },
         "mode": "lines",
         "name": "True Mean",
         "showlegend": true,
         "type": "scatter",
         "x": [
          0,
          0.010101010091602802,
          0.020202020183205605,
          0.03030303120613098,
          0.04040404036641121,
          0.05050504952669144,
          0.06060606241226196,
          0.07070706784725189,
          0.08080808073282242,
          0.09090909361839294,
          0.10101009905338287,
          0.1111111119389534,
          0.12121212482452393,
          0.13131313025951385,
          0.14141413569450378,
          0.1515151560306549,
          0.16161616146564484,
          0.17171716690063477,
          0.1818181872367859,
          0.19191919267177582,
          0.20202019810676575,
          0.21212121844291687,
          0.2222222238779068,
          0.23232322931289673,
          0.24242424964904785,
          0.252525269985199,
          0.2626262605190277,
          0.27272728085517883,
          0.28282830119132996,
          0.2929292917251587,
          0.3030303120613098,
          0.31313133239746094,
          0.3232323229312897,
          0.3333333432674408,
          0.34343433380126953,
          0.35353535413742065,
          0.3636363744735718,
          0.3737373650074005,
          0.38383838534355164,
          0.39393937587738037,
          0.4040403962135315,
          0.4141414165496826,
          0.42424240708351135,
          0.4343434274196625,
          0.4444444477558136,
          0.45454543828964233,
          0.46464645862579346,
          0.4747474789619446,
          0.4848484992980957,
          0.4949495196342468,
          0.505050539970398,
          0.5151515007019043,
          0.5252525210380554,
          0.5353535413742065,
          0.5454545617103577,
          0.5555555820465088,
          0.5656565427780151,
          0.5757575631141663,
          0.5858585834503174,
          0.5959595441818237,
          0.6060605645179749,
          0.616161584854126,
          0.6262626051902771,
          0.6363636255264282,
          0.6464646458625793,
          0.6565656661987305,
          0.6666666865348816,
          0.6767677068710327,
          0.6868686676025391,
          0.6969696879386902,
          0.7070707082748413,
          0.7171717286109924,
          0.7272727489471436,
          0.7373737692832947,
          0.7474747896194458,
          0.7575757503509521,
          0.7676767706871033,
          0.7777777910232544,
          0.7878788113594055,
          0.7979798316955566,
          0.808080792427063,
          0.8181818127632141,
          0.8282828330993652,
          0.8383837938308716,
          0.8484848141670227,
          0.8585858345031738,
          0.868686854839325,
          0.8787878751754761,
          0.8888888955116272,
          0.8989899158477783,
          0.9090909361839294,
          0.9191919565200806,
          0.9292929172515869,
          0.939393937587738,
          0.9494949579238892,
          0.9595959782600403,
          0.9696969985961914,
          0.9797979593276978,
          0.9898989796638489,
          1
         ],
         "y": [
          1.1982956813452117,
          1.2913206711801615,
          1.3833572521587145,
          1.474223492372588,
          1.5637360839725445,
          1.6517130368040767,
          1.7379765661158766,
          1.822356125092452,
          1.90469213180724,
          1.984839095155142,
          2.0626694225098903,
          2.1380772025149497,
          2.210981397817103,
          2.281329391933941,
          2.349100188688926,
          2.414307085772049,
          2.476999631354309,
          2.5372659347727957,
          2.5952334597624036,
          2.651069167963715,
          2.7049796349844444,
          2.7572095507712895,
          2.808039400241693,
          2.8577829350131223,
          2.906783057815631,
          2.9554069431033123,
          3.004040552130438,
          3.0530828232846665,
          3.1029378451387446,
          3.154007762972418,
          3.206685316352586,
          3.261344750980294,
          3.318333965083586,
          3.3779668460407333,
          3.4405141524627436,
          3.506197467950452,
          3.575181127001602,
          3.64756676078476,
          3.7233890301992583,
          3.8026103260221324,
          3.8851200871210576,
          3.9707321395336104,
          4.05918581189549,
          4.1501487693448285,
          4.243219025833565,
          4.337930825541115,
          4.433762120086037,
          4.530140885271571,
          4.62645547792029,
          4.722064673733165,
          4.816308849334557,
          4.908521260269831,
          4.9980423966410275,
          5.084229004383037,
          5.166468387403216,
          5.244189495282656,
          5.3168733949654,
          5.384064816887249,
          5.445378161489765,
          5.500506024824414,
          5.549225410991671,
          5.591399327720026,
          5.6269797258083285,
          5.656006747047774,
          5.678606300040513,
          5.694985664199672,
          5.705427217570568,
          5.71028043381456,
          5.7099523564475785,
          5.704896712169012,
          5.69560204235891,
          5.682579100218198,
          5.666347795160791,
          5.647424060851887,
          5.626306967635712,
          5.603466545812319,
          5.579331804445806,
          5.554281284531885,
          5.528633696292143,
          5.502640864905692,
          5.476482519655067,
          5.450262252609316,
          5.424007035923029,
          5.397667380880591,
          5.371119484321868,
          5.34417067885848,
          5.316565097384392,
          5.2879916969974685,
          5.258093489962118,
          5.226477883240872,
          5.192727848598668,
          5.156413628999177,
          5.117104920792801,
          5.074381801771321,
          5.0278476323307295,
          4.977139025331923,
          4.921936057250542,
          4.861971513582513,
          4.797037023058883,
          4.72699130799814
         ]
        },
        {
         "line": {
          "color": "black"
         },
         "mode": "lines",
         "name": "True Sample",
         "showlegend": true,
         "type": "scatter",
         "x": [
          0,
          0.010101010091602802,
          0.020202020183205605,
          0.03030303120613098,
          0.04040404036641121,
          0.05050504952669144,
          0.06060606241226196,
          0.07070706784725189,
          0.08080808073282242,
          0.09090909361839294,
          0.10101009905338287,
          0.1111111119389534,
          0.12121212482452393,
          0.13131313025951385,
          0.14141413569450378,
          0.1515151560306549,
          0.16161616146564484,
          0.17171716690063477,
          0.1818181872367859,
          0.19191919267177582,
          0.20202019810676575,
          0.21212121844291687,
          0.2222222238779068,
          0.23232322931289673,
          0.24242424964904785,
          0.252525269985199,
          0.2626262605190277,
          0.27272728085517883,
          0.28282830119132996,
          0.2929292917251587,
          0.3030303120613098,
          0.31313133239746094,
          0.3232323229312897,
          0.3333333432674408,
          0.34343433380126953,
          0.35353535413742065,
          0.3636363744735718,
          0.3737373650074005,
          0.38383838534355164,
          0.39393937587738037,
          0.4040403962135315,
          0.4141414165496826,
          0.42424240708351135,
          0.4343434274196625,
          0.4444444477558136,
          0.45454543828964233,
          0.46464645862579346,
          0.4747474789619446,
          0.4848484992980957,
          0.4949495196342468,
          0.505050539970398,
          0.5151515007019043,
          0.5252525210380554,
          0.5353535413742065,
          0.5454545617103577,
          0.5555555820465088,
          0.5656565427780151,
          0.5757575631141663,
          0.5858585834503174,
          0.5959595441818237,
          0.6060605645179749,
          0.616161584854126,
          0.6262626051902771,
          0.6363636255264282,
          0.6464646458625793,
          0.6565656661987305,
          0.6666666865348816,
          0.6767677068710327,
          0.6868686676025391,
          0.6969696879386902,
          0.7070707082748413,
          0.7171717286109924,
          0.7272727489471436,
          0.7373737692832947,
          0.7474747896194458,
          0.7575757503509521,
          0.7676767706871033,
          0.7777777910232544,
          0.7878788113594055,
          0.7979798316955566,
          0.808080792427063,
          0.8181818127632141,
          0.8282828330993652,
          0.8383837938308716,
          0.8484848141670227,
          0.8585858345031738,
          0.868686854839325,
          0.8787878751754761,
          0.8888888955116272,
          0.8989899158477783,
          0.9090909361839294,
          0.9191919565200806,
          0.9292929172515869,
          0.939393937587738,
          0.9494949579238892,
          0.9595959782600403,
          0.9696969985961914,
          0.9797979593276978,
          0.9898989796638489,
          1
         ],
         "y": [
          1.5225532217555098,
          1.6213607373266512,
          1.6955210193432146,
          1.790723078417415,
          1.8822493115423722,
          2.1139690860960085,
          2.147843524621557,
          2.2483809483688733,
          2.336121344939941,
          2.345307413414239,
          2.4078064883482324,
          2.5161118079804528,
          2.578641250889761,
          2.6612024941085455,
          2.748066014415111,
          2.8030739873348103,
          2.8686132306521044,
          2.865458464125525,
          2.880359877746701,
          2.9952738450743173,
          2.978192932751154,
          2.953749162651741,
          3.0613266587869674,
          3.0474564450207047,
          3.1955357073545265,
          3.1084447749476487,
          3.149370179905541,
          3.2115963569333226,
          3.278436887556759,
          3.364450180181274,
          3.3144834259989313,
          3.4031103196293753,
          3.3623300399659413,
          3.545276443795034,
          3.6154845523493937,
          3.591270012084303,
          3.6641052514617276,
          3.7244318008638926,
          3.8113389234443242,
          3.889905589946656,
          3.858027501586917,
          3.954327137820409,
          4.078921275301276,
          4.215821675546552,
          4.315063575645918,
          4.35802255080134,
          4.398966514021885,
          4.531132033336017,
          4.622484962085324,
          4.609992372498996,
          4.7028622774319935,
          4.801972197984824,
          4.930206412411469,
          5.071127878499394,
          5.066354748958635,
          5.0457747002158095,
          5.130758383639002,
          5.17281224288379,
          5.192384189476963,
          5.331297603475726,
          5.381896709361758,
          5.420473206330307,
          5.42001591531002,
          5.452424427576336,
          5.414169348596836,
          5.4636838655336515,
          5.449166988771067,
          5.472501617135556,
          5.488243890201164,
          5.540247682463476,
          5.505012238866844,
          5.541448320538913,
          5.607981304487288,
          5.611722105836225,
          5.541861803182218,
          5.504700816115316,
          5.58198791334123,
          5.613061004657892,
          5.6229413797671635,
          5.590065238480954,
          5.582269567611373,
          5.546848790400373,
          5.642791730676212,
          5.61634440804167,
          5.605141278584759,
          5.571639162623235,
          5.514643961239633,
          5.537836473964253,
          5.516813246085112,
          5.529328051141914,
          5.474699289907745,
          5.47016931377695,
          5.356269382129153,
          5.380422117002436,
          5.288732344948673,
          5.202104704071958,
          5.23981846094615,
          5.143554603097889,
          5.0838827006641045,
          4.950885580785618
         ]
        }
       ],
       "layout": {
        "template": {
         "data": {
          "bar": [
           {
            "error_x": {
             "color": "#2a3f5f"
            },
            "error_y": {
             "color": "#2a3f5f"
            },
            "marker": {
             "line": {
              "color": "#E5ECF6",
              "width": 0.5
             }
            },
            "type": "bar"
           }
          ],
          "barpolar": [
           {
            "marker": {
             "line": {
              "color": "#E5ECF6",
              "width": 0.5
             }
            },
            "type": "barpolar"
           }
          ],
          "carpet": [
           {
            "aaxis": {
             "endlinecolor": "#2a3f5f",
             "gridcolor": "white",
             "linecolor": "white",
             "minorgridcolor": "white",
             "startlinecolor": "#2a3f5f"
            },
            "baxis": {
             "endlinecolor": "#2a3f5f",
             "gridcolor": "white",
             "linecolor": "white",
             "minorgridcolor": "white",
             "startlinecolor": "#2a3f5f"
            },
            "type": "carpet"
           }
          ],
          "choropleth": [
           {
            "colorbar": {
             "outlinewidth": 0,
             "ticks": ""
            },
            "type": "choropleth"
           }
          ],
          "contour": [
           {
            "colorbar": {
             "outlinewidth": 0,
             "ticks": ""
            },
            "colorscale": [
             [
              0,
              "#0d0887"
             ],
             [
              0.1111111111111111,
              "#46039f"
             ],
             [
              0.2222222222222222,
              "#7201a8"
             ],
             [
              0.3333333333333333,
              "#9c179e"
             ],
             [
              0.4444444444444444,
              "#bd3786"
             ],
             [
              0.5555555555555556,
              "#d8576b"
             ],
             [
              0.6666666666666666,
              "#ed7953"
             ],
             [
              0.7777777777777778,
              "#fb9f3a"
             ],
             [
              0.8888888888888888,
              "#fdca26"
             ],
             [
              1,
              "#f0f921"
             ]
            ],
            "type": "contour"
           }
          ],
          "contourcarpet": [
           {
            "colorbar": {
             "outlinewidth": 0,
             "ticks": ""
            },
            "type": "contourcarpet"
           }
          ],
          "heatmap": [
           {
            "colorbar": {
             "outlinewidth": 0,
             "ticks": ""
            },
            "colorscale": [
             [
              0,
              "#0d0887"
             ],
             [
              0.1111111111111111,
              "#46039f"
             ],
             [
              0.2222222222222222,
              "#7201a8"
             ],
             [
              0.3333333333333333,
              "#9c179e"
             ],
             [
              0.4444444444444444,
              "#bd3786"
             ],
             [
              0.5555555555555556,
              "#d8576b"
             ],
             [
              0.6666666666666666,
              "#ed7953"
             ],
             [
              0.7777777777777778,
              "#fb9f3a"
             ],
             [
              0.8888888888888888,
              "#fdca26"
             ],
             [
              1,
              "#f0f921"
             ]
            ],
            "type": "heatmap"
           }
          ],
          "heatmapgl": [
           {
            "colorbar": {
             "outlinewidth": 0,
             "ticks": ""
            },
            "colorscale": [
             [
              0,
              "#0d0887"
             ],
             [
              0.1111111111111111,
              "#46039f"
             ],
             [
              0.2222222222222222,
              "#7201a8"
             ],
             [
              0.3333333333333333,
              "#9c179e"
             ],
             [
              0.4444444444444444,
              "#bd3786"
             ],
             [
              0.5555555555555556,
              "#d8576b"
             ],
             [
              0.6666666666666666,
              "#ed7953"
             ],
             [
              0.7777777777777778,
              "#fb9f3a"
             ],
             [
              0.8888888888888888,
              "#fdca26"
             ],
             [
              1,
              "#f0f921"
             ]
            ],
            "type": "heatmapgl"
           }
          ],
          "histogram": [
           {
            "marker": {
             "colorbar": {
              "outlinewidth": 0,
              "ticks": ""
             }
            },
            "type": "histogram"
           }
          ],
          "histogram2d": [
           {
            "colorbar": {
             "outlinewidth": 0,
             "ticks": ""
            },
            "colorscale": [
             [
              0,
              "#0d0887"
             ],
             [
              0.1111111111111111,
              "#46039f"
             ],
             [
              0.2222222222222222,
              "#7201a8"
             ],
             [
              0.3333333333333333,
              "#9c179e"
             ],
             [
              0.4444444444444444,
              "#bd3786"
             ],
             [
              0.5555555555555556,
              "#d8576b"
             ],
             [
              0.6666666666666666,
              "#ed7953"
             ],
             [
              0.7777777777777778,
              "#fb9f3a"
             ],
             [
              0.8888888888888888,
              "#fdca26"
             ],
             [
              1,
              "#f0f921"
             ]
            ],
            "type": "histogram2d"
           }
          ],
          "histogram2dcontour": [
           {
            "colorbar": {
             "outlinewidth": 0,
             "ticks": ""
            },
            "colorscale": [
             [
              0,
              "#0d0887"
             ],
             [
              0.1111111111111111,
              "#46039f"
             ],
             [
              0.2222222222222222,
              "#7201a8"
             ],
             [
              0.3333333333333333,
              "#9c179e"
             ],
             [
              0.4444444444444444,
              "#bd3786"
             ],
             [
              0.5555555555555556,
              "#d8576b"
             ],
             [
              0.6666666666666666,
              "#ed7953"
             ],
             [
              0.7777777777777778,
              "#fb9f3a"
             ],
             [
              0.8888888888888888,
              "#fdca26"
             ],
             [
              1,
              "#f0f921"
             ]
            ],
            "type": "histogram2dcontour"
           }
          ],
          "mesh3d": [
           {
            "colorbar": {
             "outlinewidth": 0,
             "ticks": ""
            },
            "type": "mesh3d"
           }
          ],
          "parcoords": [
           {
            "line": {
             "colorbar": {
              "outlinewidth": 0,
              "ticks": ""
             }
            },
            "type": "parcoords"
           }
          ],
          "pie": [
           {
            "automargin": true,
            "type": "pie"
           }
          ],
          "scatter": [
           {
            "marker": {
             "colorbar": {
              "outlinewidth": 0,
              "ticks": ""
             }
            },
            "type": "scatter"
           }
          ],
          "scatter3d": [
           {
            "line": {
             "colorbar": {
              "outlinewidth": 0,
              "ticks": ""
             }
            },
            "marker": {
             "colorbar": {
              "outlinewidth": 0,
              "ticks": ""
             }
            },
            "type": "scatter3d"
           }
          ],
          "scattercarpet": [
           {
            "marker": {
             "colorbar": {
              "outlinewidth": 0,
              "ticks": ""
             }
            },
            "type": "scattercarpet"
           }
          ],
          "scattergeo": [
           {
            "marker": {
             "colorbar": {
              "outlinewidth": 0,
              "ticks": ""
             }
            },
            "type": "scattergeo"
           }
          ],
          "scattergl": [
           {
            "marker": {
             "colorbar": {
              "outlinewidth": 0,
              "ticks": ""
             }
            },
            "type": "scattergl"
           }
          ],
          "scattermapbox": [
           {
            "marker": {
             "colorbar": {
              "outlinewidth": 0,
              "ticks": ""
             }
            },
            "type": "scattermapbox"
           }
          ],
          "scatterpolar": [
           {
            "marker": {
             "colorbar": {
              "outlinewidth": 0,
              "ticks": ""
             }
            },
            "type": "scatterpolar"
           }
          ],
          "scatterpolargl": [
           {
            "marker": {
             "colorbar": {
              "outlinewidth": 0,
              "ticks": ""
             }
            },
            "type": "scatterpolargl"
           }
          ],
          "scatterternary": [
           {
            "marker": {
             "colorbar": {
              "outlinewidth": 0,
              "ticks": ""
             }
            },
            "type": "scatterternary"
           }
          ],
          "surface": [
           {
            "colorbar": {
             "outlinewidth": 0,
             "ticks": ""
            },
            "colorscale": [
             [
              0,
              "#0d0887"
             ],
             [
              0.1111111111111111,
              "#46039f"
             ],
             [
              0.2222222222222222,
              "#7201a8"
             ],
             [
              0.3333333333333333,
              "#9c179e"
             ],
             [
              0.4444444444444444,
              "#bd3786"
             ],
             [
              0.5555555555555556,
              "#d8576b"
             ],
             [
              0.6666666666666666,
              "#ed7953"
             ],
             [
              0.7777777777777778,
              "#fb9f3a"
             ],
             [
              0.8888888888888888,
              "#fdca26"
             ],
             [
              1,
              "#f0f921"
             ]
            ],
            "type": "surface"
           }
          ],
          "table": [
           {
            "cells": {
             "fill": {
              "color": "#EBF0F8"
             },
             "line": {
              "color": "white"
             }
            },
            "header": {
             "fill": {
              "color": "#C8D4E3"
             },
             "line": {
              "color": "white"
             }
            },
            "type": "table"
           }
          ]
         },
         "layout": {
          "annotationdefaults": {
           "arrowcolor": "#2a3f5f",
           "arrowhead": 0,
           "arrowwidth": 1
          },
          "autotypenumbers": "strict",
          "coloraxis": {
           "colorbar": {
            "outlinewidth": 0,
            "ticks": ""
           }
          },
          "colorscale": {
           "diverging": [
            [
             0,
             "#8e0152"
            ],
            [
             0.1,
             "#c51b7d"
            ],
            [
             0.2,
             "#de77ae"
            ],
            [
             0.3,
             "#f1b6da"
            ],
            [
             0.4,
             "#fde0ef"
            ],
            [
             0.5,
             "#f7f7f7"
            ],
            [
             0.6,
             "#e6f5d0"
            ],
            [
             0.7,
             "#b8e186"
            ],
            [
             0.8,
             "#7fbc41"
            ],
            [
             0.9,
             "#4d9221"
            ],
            [
             1,
             "#276419"
            ]
           ],
           "sequential": [
            [
             0,
             "#0d0887"
            ],
            [
             0.1111111111111111,
             "#46039f"
            ],
            [
             0.2222222222222222,
             "#7201a8"
            ],
            [
             0.3333333333333333,
             "#9c179e"
            ],
            [
             0.4444444444444444,
             "#bd3786"
            ],
            [
             0.5555555555555556,
             "#d8576b"
            ],
            [
             0.6666666666666666,
             "#ed7953"
            ],
            [
             0.7777777777777778,
             "#fb9f3a"
            ],
            [
             0.8888888888888888,
             "#fdca26"
            ],
            [
             1,
             "#f0f921"
            ]
           ],
           "sequentialminus": [
            [
             0,
             "#0d0887"
            ],
            [
             0.1111111111111111,
             "#46039f"
            ],
            [
             0.2222222222222222,
             "#7201a8"
            ],
            [
             0.3333333333333333,
             "#9c179e"
            ],
            [
             0.4444444444444444,
             "#bd3786"
            ],
            [
             0.5555555555555556,
             "#d8576b"
            ],
            [
             0.6666666666666666,
             "#ed7953"
            ],
            [
             0.7777777777777778,
             "#fb9f3a"
            ],
            [
             0.8888888888888888,
             "#fdca26"
            ],
            [
             1,
             "#f0f921"
            ]
           ]
          },
          "colorway": [
           "#636efa",
           "#EF553B",
           "#00cc96",
           "#ab63fa",
           "#FFA15A",
           "#19d3f3",
           "#FF6692",
           "#B6E880",
           "#FF97FF",
           "#FECB52"
          ],
          "font": {
           "color": "#2a3f5f"
          },
          "geo": {
           "bgcolor": "white",
           "lakecolor": "white",
           "landcolor": "#E5ECF6",
           "showlakes": true,
           "showland": true,
           "subunitcolor": "white"
          },
          "hoverlabel": {
           "align": "left"
          },
          "hovermode": "closest",
          "mapbox": {
           "style": "light"
          },
          "paper_bgcolor": "white",
          "plot_bgcolor": "#E5ECF6",
          "polar": {
           "angularaxis": {
            "gridcolor": "white",
            "linecolor": "white",
            "ticks": ""
           },
           "bgcolor": "#E5ECF6",
           "radialaxis": {
            "gridcolor": "white",
            "linecolor": "white",
            "ticks": ""
           }
          },
          "scene": {
           "xaxis": {
            "backgroundcolor": "#E5ECF6",
            "gridcolor": "white",
            "gridwidth": 2,
            "linecolor": "white",
            "showbackground": true,
            "ticks": "",
            "zerolinecolor": "white"
           },
           "yaxis": {
            "backgroundcolor": "#E5ECF6",
            "gridcolor": "white",
            "gridwidth": 2,
            "linecolor": "white",
            "showbackground": true,
            "ticks": "",
            "zerolinecolor": "white"
           },
           "zaxis": {
            "backgroundcolor": "#E5ECF6",
            "gridcolor": "white",
            "gridwidth": 2,
            "linecolor": "white",
            "showbackground": true,
            "ticks": "",
            "zerolinecolor": "white"
           }
          },
          "shapedefaults": {
           "line": {
            "color": "#2a3f5f"
           }
          },
          "ternary": {
           "aaxis": {
            "gridcolor": "white",
            "linecolor": "white",
            "ticks": ""
           },
           "baxis": {
            "gridcolor": "white",
            "linecolor": "white",
            "ticks": ""
           },
           "bgcolor": "#E5ECF6",
           "caxis": {
            "gridcolor": "white",
            "linecolor": "white",
            "ticks": ""
           }
          },
          "title": {
           "x": 0.05
          },
          "xaxis": {
           "automargin": true,
           "gridcolor": "white",
           "linecolor": "white",
           "ticks": "",
           "title": {
            "standoff": 15
           },
           "zerolinecolor": "white",
           "zerolinewidth": 2
          },
          "yaxis": {
           "automargin": true,
           "gridcolor": "white",
           "linecolor": "white",
           "ticks": "",
           "title": {
            "standoff": 15
           },
           "zerolinecolor": "white",
           "zerolinewidth": 2
          }
         }
        },
        "title": {
         "text": "Trial 0, Neuron 0"
        },
        "xaxis": {
         "title": {
          "text": "Time (sec)"
         }
        },
        "yaxis": {
         "title": {
          "text": "Embedding"
         }
        }
       }
      },
      "text/html": [
       "<div>                            <div id=\"ba8a9917-f5f4-4352-bf8f-854b895ad7e3\" class=\"plotly-graph-div\" style=\"height:525px; width:100%;\"></div>            <script type=\"text/javascript\">                require([\"plotly\"], function(Plotly) {                    window.PLOTLYENV=window.PLOTLYENV || {};                                    if (document.getElementById(\"ba8a9917-f5f4-4352-bf8f-854b895ad7e3\")) {                    Plotly.newPlot(                        \"ba8a9917-f5f4-4352-bf8f-854b895ad7e3\",                        [{\"fill\": \"tozerox\", \"fillcolor\": \"rgba(255,0,0,0.200000)\", \"line\": {\"color\": \"rgba(255,255,255,0)\"}, \"name\": \"Estimated\", \"showlegend\": false, \"type\": \"scatter\", \"x\": [0.0, 0.010101010091602802, 0.020202020183205605, 0.03030303120613098, 0.04040404036641121, 0.05050504952669144, 0.06060606241226196, 0.07070706784725189, 0.08080808073282242, 0.09090909361839294, 0.10101009905338287, 0.1111111119389534, 0.12121212482452393, 0.13131313025951385, 0.14141413569450378, 0.1515151560306549, 0.16161616146564484, 0.17171716690063477, 0.1818181872367859, 0.19191919267177582, 0.20202019810676575, 0.21212121844291687, 0.2222222238779068, 0.23232322931289673, 0.24242424964904785, 0.252525269985199, 0.2626262605190277, 0.27272728085517883, 0.28282830119132996, 0.2929292917251587, 0.3030303120613098, 0.31313133239746094, 0.3232323229312897, 0.3333333432674408, 0.34343433380126953, 0.35353535413742065, 0.3636363744735718, 0.3737373650074005, 0.38383838534355164, 0.39393937587738037, 0.4040403962135315, 0.4141414165496826, 0.42424240708351135, 0.4343434274196625, 0.4444444477558136, 0.45454543828964233, 0.46464645862579346, 0.4747474789619446, 0.4848484992980957, 0.4949495196342468, 0.505050539970398, 0.5151515007019043, 0.5252525210380554, 0.5353535413742065, 0.5454545617103577, 0.5555555820465088, 0.5656565427780151, 0.5757575631141663, 0.5858585834503174, 0.5959595441818237, 0.6060605645179749, 0.616161584854126, 0.6262626051902771, 0.6363636255264282, 0.6464646458625793, 0.6565656661987305, 0.6666666865348816, 0.6767677068710327, 0.6868686676025391, 0.6969696879386902, 0.7070707082748413, 0.7171717286109924, 0.7272727489471436, 0.7373737692832947, 0.7474747896194458, 0.7575757503509521, 0.7676767706871033, 0.7777777910232544, 0.7878788113594055, 0.7979798316955566, 0.808080792427063, 0.8181818127632141, 0.8282828330993652, 0.8383837938308716, 0.8484848141670227, 0.8585858345031738, 0.868686854839325, 0.8787878751754761, 0.8888888955116272, 0.8989899158477783, 0.9090909361839294, 0.9191919565200806, 0.9292929172515869, 0.939393937587738, 0.9494949579238892, 0.9595959782600403, 0.9696969985961914, 0.9797979593276978, 0.9898989796638489, 1.0, 1.0, 0.9898989796638489, 0.9797979593276978, 0.9696969985961914, 0.9595959782600403, 0.9494949579238892, 0.939393937587738, 0.9292929172515869, 0.9191919565200806, 0.9090909361839294, 0.8989899158477783, 0.8888888955116272, 0.8787878751754761, 0.868686854839325, 0.8585858345031738, 0.8484848141670227, 0.8383837938308716, 0.8282828330993652, 0.8181818127632141, 0.808080792427063, 0.7979798316955566, 0.7878788113594055, 0.7777777910232544, 0.7676767706871033, 0.7575757503509521, 0.7474747896194458, 0.7373737692832947, 0.7272727489471436, 0.7171717286109924, 0.7070707082748413, 0.6969696879386902, 0.6868686676025391, 0.6767677068710327, 0.6666666865348816, 0.6565656661987305, 0.6464646458625793, 0.6363636255264282, 0.6262626051902771, 0.616161584854126, 0.6060605645179749, 0.5959595441818237, 0.5858585834503174, 0.5757575631141663, 0.5656565427780151, 0.5555555820465088, 0.5454545617103577, 0.5353535413742065, 0.5252525210380554, 0.5151515007019043, 0.505050539970398, 0.4949495196342468, 0.4848484992980957, 0.4747474789619446, 0.46464645862579346, 0.45454543828964233, 0.4444444477558136, 0.4343434274196625, 0.42424240708351135, 0.4141414165496826, 0.4040403962135315, 0.39393937587738037, 0.38383838534355164, 0.3737373650074005, 0.3636363744735718, 0.35353535413742065, 0.34343433380126953, 0.3333333432674408, 0.3232323229312897, 0.31313133239746094, 0.3030303120613098, 0.2929292917251587, 0.28282830119132996, 0.27272728085517883, 0.2626262605190277, 0.252525269985199, 0.24242424964904785, 0.23232322931289673, 0.2222222238779068, 0.21212121844291687, 0.20202019810676575, 0.19191919267177582, 0.1818181872367859, 0.17171716690063477, 0.16161616146564484, 0.1515151560306549, 0.14141413569450378, 0.13131313025951385, 0.12121212482452393, 0.1111111119389534, 0.10101009905338287, 0.09090909361839294, 0.08080808073282242, 0.07070706784725189, 0.06060606241226196, 0.05050504952669144, 0.04040404036641121, 0.03030303120613098, 0.020202020183205605, 0.010101010091602802, 0.0], \"y\": [2.536460218585069, 2.539274804563952, 2.5488359705849826, 2.5653153540275055, 2.5887006279580853, 2.6187099528777944, 2.6547147500308585, 2.6957093796018667, 2.740365901649912, 2.787172431479967, 2.834606667859825, 2.881285602182276, 2.9260627225030857, 2.968077817831482, 3.0067760526780045, 3.0419103872646853, 3.0735339975761513, 3.101983368645305, 3.1278469920767473, 3.1519151545966673, 3.1751087947699608, 3.198390590074855, 3.2226695785094353, 3.2487151464604462, 3.277094463222561, 3.3081417010143372, 3.34195813244218, 3.378435759869392, 3.417294107833155, 3.4581256197528947, 3.500445879834162, 3.543745556631923, 3.5875427245390723, 3.631428183161259, 3.6750947788433574, 3.7183483498419947, 3.761095706082332, 3.803317736460837, 3.8450348525606106, 3.8862723624966535, 3.9270349524095423, 3.9672888878507893, 4.00695456938474, 4.045906985836102, 4.0839823876142, 4.120992973571401, 4.156747173454705, 4.1910711760355746, 4.223828558321789, 4.254931349815207, 4.2843408236680895, 4.312059219516232, 4.338117679942434, 4.362562573971971, 4.385446028504599, 4.406818173531102, 4.426720816541409, 4.44518274052888, 4.462216386745812, 4.4778206942699095, 4.4919902893160515, 4.504728921290143, 4.516064455756883, 4.526058749728375, 4.534809737839618, 4.542446090523931, 4.549117834269716, 4.554986657162248, 4.560217556612782, 4.5649714302497255, 4.569397271418056, 4.573625527919296, 4.577764986074125, 4.581905611625233, 4.586125948285431, 4.590499378827519, 4.5950923513141335, 4.599950796909824, 4.6050792517073535, 4.610422515797232, 4.615859665193563, 4.6212119800161275, 4.626255830802542, 4.630729961171744, 4.6343330401093095, 4.636719055654733, 4.637504584651391, 4.636295612637758, 4.632729896839873, 4.6265218744214, 4.61749888193246, 4.605628993183031, 4.591054778441784, 4.574149171013741, 4.555583526403536, 4.536332263805403, 4.517512013944667, 4.500077531483478, 4.484586743004326, 4.471190287256707, 4.165927463730059, 4.234187079668806, 4.292149447605818, 4.340253475300165, 4.379359805353025, 4.410731338858946, 4.435797182014864, 4.455849691858081, 4.4718888167703765, 4.484635502684466, 4.49460783336462, 4.502185922014636, 4.507650841621823, 4.511213252336925, 4.513044783468691, 4.5133122940387, 4.512204536853151, 4.50993987868274, 4.506752997532715, 4.5028712458688105, 4.49849610657969, 4.493799047604826, 4.488928918869937, 4.484018844124871, 4.479183352573426, 4.474505380829396, 4.470021033765692, 4.465711488369874, 4.461505003338242, 4.457286478490783, 4.45290852667398, 4.448200022817703, 4.442972313167282, 4.437026023428573, 4.430161602971155, 4.4221925347741085, 4.41295824746546, 4.402332749479864, 4.390227433343384, 4.376589210972307, 4.36139617969524, 4.344651985851826, 4.326377502862844, 4.3066000560494215, 4.285338781692513, 4.262590122679712, 4.238319979206242, 4.212464519818385, 4.1849425862908, 4.155675983328723, 4.124610718061257, 4.091735769858224, 4.057092354794124, 4.0207757613362896, 3.982930053195647, 3.943737177259215, 3.903400214117563, 3.8621230443397914, 3.820086497752656, 3.777426719726231, 3.7342230860390084, 3.6904984303750847, 3.6462340482661464, 3.6013977148897074, 3.555975181885507, 3.5100022411745755, 3.463589017856888, 3.4169351402885706, 3.3703358801000887, 3.3241741947464885, 3.278900231324115, 3.234992670045317, 3.19290425994161, 3.152998965305782, 3.115489948674294, 3.08039328760063, 3.0475088076014956, 3.016429276762731, 2.986574687956337, 2.957241974055494, 2.9276612706450424, 2.8970535393822012, 2.8646887575193567, 2.829942332437492, 2.7923436368638996, 2.751607857811483, 2.707639873781679, 2.6605015963035576, 2.610343037792956, 2.5573052665304754, 2.501414980905332, 2.4425003619177543, 2.380161528368666, 2.3138134434130095, 2.242783951444543, 2.1664148319822565, 2.0841167875790796, 1.9953746966399644, 1.899732927829981, 1.7967892199199464]}, {\"line\": {\"color\": \"red\"}, \"mode\": \"lines\", \"name\": \"Estimated Mean\", \"showlegend\": true, \"type\": \"scatter\", \"x\": [0.0, 0.010101010091602802, 0.020202020183205605, 0.03030303120613098, 0.04040404036641121, 0.05050504952669144, 0.06060606241226196, 0.07070706784725189, 0.08080808073282242, 0.09090909361839294, 0.10101009905338287, 0.1111111119389534, 0.12121212482452393, 0.13131313025951385, 0.14141413569450378, 0.1515151560306549, 0.16161616146564484, 0.17171716690063477, 0.1818181872367859, 0.19191919267177582, 0.20202019810676575, 0.21212121844291687, 0.2222222238779068, 0.23232322931289673, 0.24242424964904785, 0.252525269985199, 0.2626262605190277, 0.27272728085517883, 0.28282830119132996, 0.2929292917251587, 0.3030303120613098, 0.31313133239746094, 0.3232323229312897, 0.3333333432674408, 0.34343433380126953, 0.35353535413742065, 0.3636363744735718, 0.3737373650074005, 0.38383838534355164, 0.39393937587738037, 0.4040403962135315, 0.4141414165496826, 0.42424240708351135, 0.4343434274196625, 0.4444444477558136, 0.45454543828964233, 0.46464645862579346, 0.4747474789619446, 0.4848484992980957, 0.4949495196342468, 0.505050539970398, 0.5151515007019043, 0.5252525210380554, 0.5353535413742065, 0.5454545617103577, 0.5555555820465088, 0.5656565427780151, 0.5757575631141663, 0.5858585834503174, 0.5959595441818237, 0.6060605645179749, 0.616161584854126, 0.6262626051902771, 0.6363636255264282, 0.6464646458625793, 0.6565656661987305, 0.6666666865348816, 0.6767677068710327, 0.6868686676025391, 0.6969696879386902, 0.7070707082748413, 0.7171717286109924, 0.7272727489471436, 0.7373737692832947, 0.7474747896194458, 0.7575757503509521, 0.7676767706871033, 0.7777777910232544, 0.7878788113594055, 0.7979798316955566, 0.808080792427063, 0.8181818127632141, 0.8282828330993652, 0.8383837938308716, 0.8484848141670227, 0.8585858345031738, 0.868686854839325, 0.8787878751754761, 0.8888888955116272, 0.8989899158477783, 0.9090909361839294, 0.9191919565200806, 0.9292929172515869, 0.939393937587738, 0.9494949579238892, 0.9595959782600403, 0.9696969985961914, 0.9797979593276978, 0.9898989796638489, 1.0], \"y\": [2.166624719252508, 2.2195038661969666, 2.2721053336124735, 2.3247160708032926, 2.377557729970171, 2.4307469521611687, 2.484264096721934, 2.5379354539852663, 2.591433131783833, 2.6442937061926495, 2.6959559671951503, 2.745814319987616, 2.7932821594033217, 2.8378588458065805, 2.879191955244744, 2.9171270120642925, 2.9517381650068217, 2.983336063082331, 3.0124502657294743, 3.039788212620855, 3.0661753844127273, 3.092482639015596, 3.119549427636083, 3.148111977030971, 3.1787438754115955, 3.2118158248443156, 3.247478548873981, 3.285670009905501, 3.326143388939236, 3.368512925538505, 3.4123100372903252, 3.457040718366006, 3.5022389324138214, 3.5475086005090737, 3.5925485100089665, 3.637161765863751, 3.6812467104860196, 3.7247758923634917, 3.7677666414678477, 3.810247724267831, 3.8522308360678865, 3.8936876928017226, 3.9345388068622658, 3.9746535999768327, 4.0138597824367075, 4.051961513383524, 4.088761467395497, 4.124081765414849, 4.157782164090007, 4.189771033938232, 4.220008403498406, 4.248500902903516, 4.27529109988041, 4.3004412765891065, 4.324018075592155, 4.346078477611807, 4.366660436295415, 4.385780121695862, 4.403434186298819, 4.419608436982575, 4.434289750144179, 4.447478177316763, 4.459198602618374, 4.469508498596918, 4.478501136306863, 4.486303846747543, 4.493071928849145, 4.498979485164765, 4.504208789715243, 4.508939978461853, 4.51334187495442, 4.517565265628769, 4.521738237221999, 4.525963322695462, 4.530315664557413, 4.534841365700473, 4.539555597719502, 4.544439857889881, 4.54943914965609, 4.554459311188461, 4.559365455531187, 4.563982488774421, 4.568097854742641, 4.571467249012447, 4.573822667074005, 4.574881919561712, 4.574358918494158, 4.57197322712979, 4.5674579094272545, 4.56056485389301, 4.551067192308463, 4.538758904976704, 4.523452235149932, 4.504973176514302, 4.483157432631241, 4.457846034579214, 4.428882744622416, 4.396113489544648, 4.359386911336566, 4.318558875493383]}, {\"fill\": \"tozerox\", \"fillcolor\": \"rgba(0,0,255,0.200000)\", \"line\": {\"color\": \"rgba(255,255,255,0)\"}, \"name\": \"True\", \"showlegend\": false, \"type\": \"scatter\", \"x\": [0.0, 0.010101010091602802, 0.020202020183205605, 0.03030303120613098, 0.04040404036641121, 0.05050504952669144, 0.06060606241226196, 0.07070706784725189, 0.08080808073282242, 0.09090909361839294, 0.10101009905338287, 0.1111111119389534, 0.12121212482452393, 0.13131313025951385, 0.14141413569450378, 0.1515151560306549, 0.16161616146564484, 0.17171716690063477, 0.1818181872367859, 0.19191919267177582, 0.20202019810676575, 0.21212121844291687, 0.2222222238779068, 0.23232322931289673, 0.24242424964904785, 0.252525269985199, 0.2626262605190277, 0.27272728085517883, 0.28282830119132996, 0.2929292917251587, 0.3030303120613098, 0.31313133239746094, 0.3232323229312897, 0.3333333432674408, 0.34343433380126953, 0.35353535413742065, 0.3636363744735718, 0.3737373650074005, 0.38383838534355164, 0.39393937587738037, 0.4040403962135315, 0.4141414165496826, 0.42424240708351135, 0.4343434274196625, 0.4444444477558136, 0.45454543828964233, 0.46464645862579346, 0.4747474789619446, 0.4848484992980957, 0.4949495196342468, 0.505050539970398, 0.5151515007019043, 0.5252525210380554, 0.5353535413742065, 0.5454545617103577, 0.5555555820465088, 0.5656565427780151, 0.5757575631141663, 0.5858585834503174, 0.5959595441818237, 0.6060605645179749, 0.616161584854126, 0.6262626051902771, 0.6363636255264282, 0.6464646458625793, 0.6565656661987305, 0.6666666865348816, 0.6767677068710327, 0.6868686676025391, 0.6969696879386902, 0.7070707082748413, 0.7171717286109924, 0.7272727489471436, 0.7373737692832947, 0.7474747896194458, 0.7575757503509521, 0.7676767706871033, 0.7777777910232544, 0.7878788113594055, 0.7979798316955566, 0.808080792427063, 0.8181818127632141, 0.8282828330993652, 0.8383837938308716, 0.8484848141670227, 0.8585858345031738, 0.868686854839325, 0.8787878751754761, 0.8888888955116272, 0.8989899158477783, 0.9090909361839294, 0.9191919565200806, 0.9292929172515869, 0.939393937587738, 0.9494949579238892, 0.9595959782600403, 0.9696969985961914, 0.9797979593276978, 0.9898989796638489, 1.0, 1.0, 0.9898989796638489, 0.9797979593276978, 0.9696969985961914, 0.9595959782600403, 0.9494949579238892, 0.939393937587738, 0.9292929172515869, 0.9191919565200806, 0.9090909361839294, 0.8989899158477783, 0.8888888955116272, 0.8787878751754761, 0.868686854839325, 0.8585858345031738, 0.8484848141670227, 0.8383837938308716, 0.8282828330993652, 0.8181818127632141, 0.808080792427063, 0.7979798316955566, 0.7878788113594055, 0.7777777910232544, 0.7676767706871033, 0.7575757503509521, 0.7474747896194458, 0.7373737692832947, 0.7272727489471436, 0.7171717286109924, 0.7070707082748413, 0.6969696879386902, 0.6868686676025391, 0.6767677068710327, 0.6666666865348816, 0.6565656661987305, 0.6464646458625793, 0.6363636255264282, 0.6262626051902771, 0.616161584854126, 0.6060605645179749, 0.5959595441818237, 0.5858585834503174, 0.5757575631141663, 0.5656565427780151, 0.5555555820465088, 0.5454545617103577, 0.5353535413742065, 0.5252525210380554, 0.5151515007019043, 0.505050539970398, 0.4949495196342468, 0.4848484992980957, 0.4747474789619446, 0.46464645862579346, 0.45454543828964233, 0.4444444477558136, 0.4343434274196625, 0.42424240708351135, 0.4141414165496826, 0.4040403962135315, 0.39393937587738037, 0.38383838534355164, 0.3737373650074005, 0.3636363744735718, 0.35353535413742065, 0.34343433380126953, 0.3333333432674408, 0.3232323229312897, 0.31313133239746094, 0.3030303120613098, 0.2929292917251587, 0.28282830119132996, 0.27272728085517883, 0.2626262605190277, 0.252525269985199, 0.24242424964904785, 0.23232322931289673, 0.2222222238779068, 0.21212121844291687, 0.20202019810676575, 0.19191919267177582, 0.1818181872367859, 0.17171716690063477, 0.16161616146564484, 0.1515151560306549, 0.14141413569450378, 0.13131313025951385, 0.12121212482452393, 0.1111111119389534, 0.10101009905338287, 0.09090909361839294, 0.08080808073282242, 0.07070706784725189, 0.06060606241226196, 0.05050504952669144, 0.04040404036641121, 0.03030303120613098, 0.020202020183205605, 0.010101010091602802, 0.0], \"y\": [2.286272198308178, 2.379297188143128, 2.4713337691216806, 2.5622000093355544, 2.651712600935511, 2.739689553767043, 2.8259530830788426, 2.910332642055418, 2.9926686487702066, 3.0728156121181085, 3.1506459394728568, 3.2260537194779157, 3.298957914780069, 3.369305908896907, 3.437076705651892, 3.502283602735015, 3.5649761483172755, 3.6252424517357618, 3.6832099767253696, 3.7390456849266815, 3.7929561519474104, 3.8451860677342555, 3.896015917204659, 3.9457594519760884, 3.9947595747785973, 4.043383460066279, 4.092017069093404, 4.141059340247633, 4.190914362101711, 4.241984279935385, 4.294661833315552, 4.34932126794326, 4.406310482046552, 4.465943363003699, 4.52849066942571, 4.594173984913418, 4.663157643964568, 4.735543277747726, 4.811365547162224, 4.8905868429850985, 4.973096604084024, 5.058708656496576, 5.147162328858456, 5.2381252863077945, 5.331195542796531, 5.425907342504081, 5.521738637049003, 5.618117402234537, 5.714431994883256, 5.810041190696131, 5.904285366297523, 5.996497777232797, 6.0860189136039935, 6.172205521346003, 6.254444904366182, 6.332166012245622, 6.404849911928366, 6.472041333850215, 6.533354678452731, 6.58848254178738, 6.637201927954637, 6.679375844682992, 6.7149562427712945, 6.74398326401074, 6.766582817003479, 6.782962181162638, 6.793403734533534, 6.798256950777526, 6.7979288734105445, 6.792873229131978, 6.783578559321876, 6.770555617181164, 6.754324312123757, 6.735400577814853, 6.714283484598678, 6.691443062775285, 6.667308321408772, 6.642257801494851, 6.616610213255109, 6.590617381868658, 6.564459036618033, 6.538238769572282, 6.511983552885995, 6.485643897843557, 6.459096001284834, 6.432147195821446, 6.404541614347358, 6.375968213960435, 6.346070006925084, 6.314454400203838, 6.280704365561634, 6.244390145962143, 6.2050814377557675, 6.162358318734287, 6.1158241492936956, 6.0651155422948895, 6.009912574213508, 5.949948030545479, 5.885013540021849, 5.814967824961106, 3.639014791035174, 3.709060506095917, 3.773994996619547, 3.8339595402875757, 3.8891625083689574, 3.9398711153677635, 3.986405284808355, 4.029128403829835, 4.068437112036211, 4.104751331635702, 4.1385013662779055, 4.170116972999152, 4.2000151800345025, 4.228588580421426, 4.256194161895514, 4.283142967358902, 4.309690863917625, 4.3360305189600625, 4.36228573564635, 4.388506002692101, 4.414664347942726, 4.440657179329177, 4.466304767568919, 4.49135528748284, 4.515490028849353, 4.5383304506727455, 4.559447543888921, 4.5783712781978245, 4.594602583255232, 4.607625525395944, 4.616920195206046, 4.621975839484612, 4.622303916851594, 4.617450700607602, 4.607009147236706, 4.590629783077547, 4.568030230084808, 4.5390032088453625, 4.50342281075706, 4.461248894028705, 4.412529507861448, 4.357401644526799, 4.296088299924283, 4.228896878002434, 4.15621297831969, 4.07849187044025, 3.9962524874200707, 3.9100658796780614, 3.820544743306865, 3.7283323323715907, 3.634088156770199, 3.538478960957324, 3.442164368308605, 3.345785603123071, 3.2499543085781486, 3.1552425088705993, 3.0621722523818624, 2.9712092949325237, 2.8827556225706443, 2.7971435701580916, 2.7146338090591664, 2.635412513236292, 2.559590243821794, 2.487204610038636, 2.418220950987486, 2.352537635499777, 2.2899903290777672, 2.2303574481206194, 2.173368234017328, 2.11870879938962, 2.0660312460094516, 2.0149613281757786, 1.9651063063217002, 1.9160640351674718, 1.867430426140346, 1.8188065408526646, 1.769806418050156, 1.7200628832787268, 1.6692330338083232, 1.6170031180214781, 1.5630926510007488, 1.5072569427994373, 1.4492894178098294, 1.3890231143913427, 1.3263305688090827, 1.2611236717259595, 1.1933528749709745, 1.1230048808541369, 1.0501006855519834, 0.974692905546924, 0.8968625781921757, 0.8167156148442738, 0.7343796081294858, 0.6500000491529103, 0.5637365198411104, 0.4757595670095782, 0.38624697540962183, 0.29538073519574826, 0.2033441542171952, 0.11031916438224543]}, {\"line\": {\"color\": \"blue\"}, \"mode\": \"lines\", \"name\": \"True Mean\", \"showlegend\": true, \"type\": \"scatter\", \"x\": [0.0, 0.010101010091602802, 0.020202020183205605, 0.03030303120613098, 0.04040404036641121, 0.05050504952669144, 0.06060606241226196, 0.07070706784725189, 0.08080808073282242, 0.09090909361839294, 0.10101009905338287, 0.1111111119389534, 0.12121212482452393, 0.13131313025951385, 0.14141413569450378, 0.1515151560306549, 0.16161616146564484, 0.17171716690063477, 0.1818181872367859, 0.19191919267177582, 0.20202019810676575, 0.21212121844291687, 0.2222222238779068, 0.23232322931289673, 0.24242424964904785, 0.252525269985199, 0.2626262605190277, 0.27272728085517883, 0.28282830119132996, 0.2929292917251587, 0.3030303120613098, 0.31313133239746094, 0.3232323229312897, 0.3333333432674408, 0.34343433380126953, 0.35353535413742065, 0.3636363744735718, 0.3737373650074005, 0.38383838534355164, 0.39393937587738037, 0.4040403962135315, 0.4141414165496826, 0.42424240708351135, 0.4343434274196625, 0.4444444477558136, 0.45454543828964233, 0.46464645862579346, 0.4747474789619446, 0.4848484992980957, 0.4949495196342468, 0.505050539970398, 0.5151515007019043, 0.5252525210380554, 0.5353535413742065, 0.5454545617103577, 0.5555555820465088, 0.5656565427780151, 0.5757575631141663, 0.5858585834503174, 0.5959595441818237, 0.6060605645179749, 0.616161584854126, 0.6262626051902771, 0.6363636255264282, 0.6464646458625793, 0.6565656661987305, 0.6666666865348816, 0.6767677068710327, 0.6868686676025391, 0.6969696879386902, 0.7070707082748413, 0.7171717286109924, 0.7272727489471436, 0.7373737692832947, 0.7474747896194458, 0.7575757503509521, 0.7676767706871033, 0.7777777910232544, 0.7878788113594055, 0.7979798316955566, 0.808080792427063, 0.8181818127632141, 0.8282828330993652, 0.8383837938308716, 0.8484848141670227, 0.8585858345031738, 0.868686854839325, 0.8787878751754761, 0.8888888955116272, 0.8989899158477783, 0.9090909361839294, 0.9191919565200806, 0.9292929172515869, 0.939393937587738, 0.9494949579238892, 0.9595959782600403, 0.9696969985961914, 0.9797979593276978, 0.9898989796638489, 1.0], \"y\": [1.1982956813452117, 1.2913206711801615, 1.3833572521587145, 1.474223492372588, 1.5637360839725445, 1.6517130368040767, 1.7379765661158766, 1.822356125092452, 1.90469213180724, 1.984839095155142, 2.0626694225098903, 2.1380772025149497, 2.210981397817103, 2.281329391933941, 2.349100188688926, 2.414307085772049, 2.476999631354309, 2.5372659347727957, 2.5952334597624036, 2.651069167963715, 2.7049796349844444, 2.7572095507712895, 2.808039400241693, 2.8577829350131223, 2.906783057815631, 2.9554069431033123, 3.004040552130438, 3.0530828232846665, 3.1029378451387446, 3.154007762972418, 3.206685316352586, 3.261344750980294, 3.318333965083586, 3.3779668460407333, 3.4405141524627436, 3.506197467950452, 3.575181127001602, 3.64756676078476, 3.7233890301992583, 3.8026103260221324, 3.8851200871210576, 3.9707321395336104, 4.05918581189549, 4.1501487693448285, 4.243219025833565, 4.337930825541115, 4.433762120086037, 4.530140885271571, 4.62645547792029, 4.722064673733165, 4.816308849334557, 4.908521260269831, 4.9980423966410275, 5.084229004383037, 5.166468387403216, 5.244189495282656, 5.3168733949654, 5.384064816887249, 5.445378161489765, 5.500506024824414, 5.549225410991671, 5.591399327720026, 5.6269797258083285, 5.656006747047774, 5.678606300040513, 5.694985664199672, 5.705427217570568, 5.71028043381456, 5.7099523564475785, 5.704896712169012, 5.69560204235891, 5.682579100218198, 5.666347795160791, 5.647424060851887, 5.626306967635712, 5.603466545812319, 5.579331804445806, 5.554281284531885, 5.528633696292143, 5.502640864905692, 5.476482519655067, 5.450262252609316, 5.424007035923029, 5.397667380880591, 5.371119484321868, 5.34417067885848, 5.316565097384392, 5.2879916969974685, 5.258093489962118, 5.226477883240872, 5.192727848598668, 5.156413628999177, 5.117104920792801, 5.074381801771321, 5.0278476323307295, 4.977139025331923, 4.921936057250542, 4.861971513582513, 4.797037023058883, 4.72699130799814]}, {\"line\": {\"color\": \"black\"}, \"mode\": \"lines\", \"name\": \"True Sample\", \"showlegend\": true, \"type\": \"scatter\", \"x\": [0.0, 0.010101010091602802, 0.020202020183205605, 0.03030303120613098, 0.04040404036641121, 0.05050504952669144, 0.06060606241226196, 0.07070706784725189, 0.08080808073282242, 0.09090909361839294, 0.10101009905338287, 0.1111111119389534, 0.12121212482452393, 0.13131313025951385, 0.14141413569450378, 0.1515151560306549, 0.16161616146564484, 0.17171716690063477, 0.1818181872367859, 0.19191919267177582, 0.20202019810676575, 0.21212121844291687, 0.2222222238779068, 0.23232322931289673, 0.24242424964904785, 0.252525269985199, 0.2626262605190277, 0.27272728085517883, 0.28282830119132996, 0.2929292917251587, 0.3030303120613098, 0.31313133239746094, 0.3232323229312897, 0.3333333432674408, 0.34343433380126953, 0.35353535413742065, 0.3636363744735718, 0.3737373650074005, 0.38383838534355164, 0.39393937587738037, 0.4040403962135315, 0.4141414165496826, 0.42424240708351135, 0.4343434274196625, 0.4444444477558136, 0.45454543828964233, 0.46464645862579346, 0.4747474789619446, 0.4848484992980957, 0.4949495196342468, 0.505050539970398, 0.5151515007019043, 0.5252525210380554, 0.5353535413742065, 0.5454545617103577, 0.5555555820465088, 0.5656565427780151, 0.5757575631141663, 0.5858585834503174, 0.5959595441818237, 0.6060605645179749, 0.616161584854126, 0.6262626051902771, 0.6363636255264282, 0.6464646458625793, 0.6565656661987305, 0.6666666865348816, 0.6767677068710327, 0.6868686676025391, 0.6969696879386902, 0.7070707082748413, 0.7171717286109924, 0.7272727489471436, 0.7373737692832947, 0.7474747896194458, 0.7575757503509521, 0.7676767706871033, 0.7777777910232544, 0.7878788113594055, 0.7979798316955566, 0.808080792427063, 0.8181818127632141, 0.8282828330993652, 0.8383837938308716, 0.8484848141670227, 0.8585858345031738, 0.868686854839325, 0.8787878751754761, 0.8888888955116272, 0.8989899158477783, 0.9090909361839294, 0.9191919565200806, 0.9292929172515869, 0.939393937587738, 0.9494949579238892, 0.9595959782600403, 0.9696969985961914, 0.9797979593276978, 0.9898989796638489, 1.0], \"y\": [1.5225532217555098, 1.6213607373266512, 1.6955210193432146, 1.790723078417415, 1.8822493115423722, 2.1139690860960085, 2.147843524621557, 2.2483809483688733, 2.336121344939941, 2.345307413414239, 2.4078064883482324, 2.5161118079804528, 2.578641250889761, 2.6612024941085455, 2.748066014415111, 2.8030739873348103, 2.8686132306521044, 2.865458464125525, 2.880359877746701, 2.9952738450743173, 2.978192932751154, 2.953749162651741, 3.0613266587869674, 3.0474564450207047, 3.1955357073545265, 3.1084447749476487, 3.149370179905541, 3.2115963569333226, 3.278436887556759, 3.364450180181274, 3.3144834259989313, 3.4031103196293753, 3.3623300399659413, 3.545276443795034, 3.6154845523493937, 3.591270012084303, 3.6641052514617276, 3.7244318008638926, 3.8113389234443242, 3.889905589946656, 3.858027501586917, 3.954327137820409, 4.078921275301276, 4.215821675546552, 4.315063575645918, 4.35802255080134, 4.398966514021885, 4.531132033336017, 4.622484962085324, 4.609992372498996, 4.7028622774319935, 4.801972197984824, 4.930206412411469, 5.071127878499394, 5.066354748958635, 5.0457747002158095, 5.130758383639002, 5.17281224288379, 5.192384189476963, 5.331297603475726, 5.381896709361758, 5.420473206330307, 5.42001591531002, 5.452424427576336, 5.414169348596836, 5.4636838655336515, 5.449166988771067, 5.472501617135556, 5.488243890201164, 5.540247682463476, 5.505012238866844, 5.541448320538913, 5.607981304487288, 5.611722105836225, 5.541861803182218, 5.504700816115316, 5.58198791334123, 5.613061004657892, 5.6229413797671635, 5.590065238480954, 5.582269567611373, 5.546848790400373, 5.642791730676212, 5.61634440804167, 5.605141278584759, 5.571639162623235, 5.514643961239633, 5.537836473964253, 5.516813246085112, 5.529328051141914, 5.474699289907745, 5.47016931377695, 5.356269382129153, 5.380422117002436, 5.288732344948673, 5.202104704071958, 5.23981846094615, 5.143554603097889, 5.0838827006641045, 4.950885580785618]}],                        {\"template\": {\"data\": {\"bar\": [{\"error_x\": {\"color\": \"#2a3f5f\"}, \"error_y\": {\"color\": \"#2a3f5f\"}, \"marker\": {\"line\": {\"color\": \"#E5ECF6\", \"width\": 0.5}}, \"type\": \"bar\"}], \"barpolar\": [{\"marker\": {\"line\": {\"color\": \"#E5ECF6\", \"width\": 0.5}}, \"type\": \"barpolar\"}], \"carpet\": [{\"aaxis\": {\"endlinecolor\": \"#2a3f5f\", \"gridcolor\": \"white\", \"linecolor\": \"white\", \"minorgridcolor\": \"white\", \"startlinecolor\": \"#2a3f5f\"}, \"baxis\": {\"endlinecolor\": \"#2a3f5f\", \"gridcolor\": \"white\", \"linecolor\": \"white\", \"minorgridcolor\": \"white\", \"startlinecolor\": \"#2a3f5f\"}, \"type\": \"carpet\"}], \"choropleth\": [{\"colorbar\": {\"outlinewidth\": 0, \"ticks\": \"\"}, \"type\": \"choropleth\"}], \"contour\": [{\"colorbar\": {\"outlinewidth\": 0, \"ticks\": \"\"}, \"colorscale\": [[0.0, \"#0d0887\"], [0.1111111111111111, \"#46039f\"], [0.2222222222222222, \"#7201a8\"], [0.3333333333333333, \"#9c179e\"], [0.4444444444444444, \"#bd3786\"], [0.5555555555555556, \"#d8576b\"], [0.6666666666666666, \"#ed7953\"], [0.7777777777777778, \"#fb9f3a\"], [0.8888888888888888, \"#fdca26\"], [1.0, \"#f0f921\"]], \"type\": \"contour\"}], \"contourcarpet\": [{\"colorbar\": {\"outlinewidth\": 0, \"ticks\": \"\"}, \"type\": \"contourcarpet\"}], \"heatmap\": [{\"colorbar\": {\"outlinewidth\": 0, \"ticks\": \"\"}, \"colorscale\": [[0.0, \"#0d0887\"], [0.1111111111111111, \"#46039f\"], [0.2222222222222222, \"#7201a8\"], [0.3333333333333333, \"#9c179e\"], [0.4444444444444444, \"#bd3786\"], [0.5555555555555556, \"#d8576b\"], [0.6666666666666666, \"#ed7953\"], [0.7777777777777778, \"#fb9f3a\"], [0.8888888888888888, \"#fdca26\"], [1.0, \"#f0f921\"]], \"type\": \"heatmap\"}], \"heatmapgl\": [{\"colorbar\": {\"outlinewidth\": 0, \"ticks\": \"\"}, \"colorscale\": [[0.0, \"#0d0887\"], [0.1111111111111111, \"#46039f\"], [0.2222222222222222, \"#7201a8\"], [0.3333333333333333, \"#9c179e\"], [0.4444444444444444, \"#bd3786\"], [0.5555555555555556, \"#d8576b\"], [0.6666666666666666, \"#ed7953\"], [0.7777777777777778, \"#fb9f3a\"], [0.8888888888888888, \"#fdca26\"], [1.0, \"#f0f921\"]], \"type\": \"heatmapgl\"}], \"histogram\": [{\"marker\": {\"colorbar\": {\"outlinewidth\": 0, \"ticks\": \"\"}}, \"type\": \"histogram\"}], \"histogram2d\": [{\"colorbar\": {\"outlinewidth\": 0, \"ticks\": \"\"}, \"colorscale\": [[0.0, \"#0d0887\"], [0.1111111111111111, \"#46039f\"], [0.2222222222222222, \"#7201a8\"], [0.3333333333333333, \"#9c179e\"], [0.4444444444444444, \"#bd3786\"], [0.5555555555555556, \"#d8576b\"], [0.6666666666666666, \"#ed7953\"], [0.7777777777777778, \"#fb9f3a\"], [0.8888888888888888, \"#fdca26\"], [1.0, \"#f0f921\"]], \"type\": \"histogram2d\"}], \"histogram2dcontour\": [{\"colorbar\": {\"outlinewidth\": 0, \"ticks\": \"\"}, \"colorscale\": [[0.0, \"#0d0887\"], [0.1111111111111111, \"#46039f\"], [0.2222222222222222, \"#7201a8\"], [0.3333333333333333, \"#9c179e\"], [0.4444444444444444, \"#bd3786\"], [0.5555555555555556, \"#d8576b\"], [0.6666666666666666, \"#ed7953\"], [0.7777777777777778, \"#fb9f3a\"], [0.8888888888888888, \"#fdca26\"], [1.0, \"#f0f921\"]], \"type\": \"histogram2dcontour\"}], \"mesh3d\": [{\"colorbar\": {\"outlinewidth\": 0, \"ticks\": \"\"}, \"type\": \"mesh3d\"}], \"parcoords\": [{\"line\": {\"colorbar\": {\"outlinewidth\": 0, \"ticks\": \"\"}}, \"type\": \"parcoords\"}], \"pie\": [{\"automargin\": true, \"type\": \"pie\"}], \"scatter\": [{\"marker\": {\"colorbar\": {\"outlinewidth\": 0, \"ticks\": \"\"}}, \"type\": \"scatter\"}], \"scatter3d\": [{\"line\": {\"colorbar\": {\"outlinewidth\": 0, \"ticks\": \"\"}}, \"marker\": {\"colorbar\": {\"outlinewidth\": 0, \"ticks\": \"\"}}, \"type\": \"scatter3d\"}], \"scattercarpet\": [{\"marker\": {\"colorbar\": {\"outlinewidth\": 0, \"ticks\": \"\"}}, \"type\": \"scattercarpet\"}], \"scattergeo\": [{\"marker\": {\"colorbar\": {\"outlinewidth\": 0, \"ticks\": \"\"}}, \"type\": \"scattergeo\"}], \"scattergl\": [{\"marker\": {\"colorbar\": {\"outlinewidth\": 0, \"ticks\": \"\"}}, \"type\": \"scattergl\"}], \"scattermapbox\": [{\"marker\": {\"colorbar\": {\"outlinewidth\": 0, \"ticks\": \"\"}}, \"type\": \"scattermapbox\"}], \"scatterpolar\": [{\"marker\": {\"colorbar\": {\"outlinewidth\": 0, \"ticks\": \"\"}}, \"type\": \"scatterpolar\"}], \"scatterpolargl\": [{\"marker\": {\"colorbar\": {\"outlinewidth\": 0, \"ticks\": \"\"}}, \"type\": \"scatterpolargl\"}], \"scatterternary\": [{\"marker\": {\"colorbar\": {\"outlinewidth\": 0, \"ticks\": \"\"}}, \"type\": \"scatterternary\"}], \"surface\": [{\"colorbar\": {\"outlinewidth\": 0, \"ticks\": \"\"}, \"colorscale\": [[0.0, \"#0d0887\"], [0.1111111111111111, \"#46039f\"], [0.2222222222222222, \"#7201a8\"], [0.3333333333333333, \"#9c179e\"], [0.4444444444444444, \"#bd3786\"], [0.5555555555555556, \"#d8576b\"], [0.6666666666666666, \"#ed7953\"], [0.7777777777777778, \"#fb9f3a\"], [0.8888888888888888, \"#fdca26\"], [1.0, \"#f0f921\"]], \"type\": \"surface\"}], \"table\": [{\"cells\": {\"fill\": {\"color\": \"#EBF0F8\"}, \"line\": {\"color\": \"white\"}}, \"header\": {\"fill\": {\"color\": \"#C8D4E3\"}, \"line\": {\"color\": \"white\"}}, \"type\": \"table\"}]}, \"layout\": {\"annotationdefaults\": {\"arrowcolor\": \"#2a3f5f\", \"arrowhead\": 0, \"arrowwidth\": 1}, \"autotypenumbers\": \"strict\", \"coloraxis\": {\"colorbar\": {\"outlinewidth\": 0, \"ticks\": \"\"}}, \"colorscale\": {\"diverging\": [[0, \"#8e0152\"], [0.1, \"#c51b7d\"], [0.2, \"#de77ae\"], [0.3, \"#f1b6da\"], [0.4, \"#fde0ef\"], [0.5, \"#f7f7f7\"], [0.6, \"#e6f5d0\"], [0.7, \"#b8e186\"], [0.8, \"#7fbc41\"], [0.9, \"#4d9221\"], [1, \"#276419\"]], \"sequential\": [[0.0, \"#0d0887\"], [0.1111111111111111, \"#46039f\"], [0.2222222222222222, \"#7201a8\"], [0.3333333333333333, \"#9c179e\"], [0.4444444444444444, \"#bd3786\"], [0.5555555555555556, \"#d8576b\"], [0.6666666666666666, \"#ed7953\"], [0.7777777777777778, \"#fb9f3a\"], [0.8888888888888888, \"#fdca26\"], [1.0, \"#f0f921\"]], \"sequentialminus\": [[0.0, \"#0d0887\"], [0.1111111111111111, \"#46039f\"], [0.2222222222222222, \"#7201a8\"], [0.3333333333333333, \"#9c179e\"], [0.4444444444444444, \"#bd3786\"], [0.5555555555555556, \"#d8576b\"], [0.6666666666666666, \"#ed7953\"], [0.7777777777777778, \"#fb9f3a\"], [0.8888888888888888, \"#fdca26\"], [1.0, \"#f0f921\"]]}, \"colorway\": [\"#636efa\", \"#EF553B\", \"#00cc96\", \"#ab63fa\", \"#FFA15A\", \"#19d3f3\", \"#FF6692\", \"#B6E880\", \"#FF97FF\", \"#FECB52\"], \"font\": {\"color\": \"#2a3f5f\"}, \"geo\": {\"bgcolor\": \"white\", \"lakecolor\": \"white\", \"landcolor\": \"#E5ECF6\", \"showlakes\": true, \"showland\": true, \"subunitcolor\": \"white\"}, \"hoverlabel\": {\"align\": \"left\"}, \"hovermode\": \"closest\", \"mapbox\": {\"style\": \"light\"}, \"paper_bgcolor\": \"white\", \"plot_bgcolor\": \"#E5ECF6\", \"polar\": {\"angularaxis\": {\"gridcolor\": \"white\", \"linecolor\": \"white\", \"ticks\": \"\"}, \"bgcolor\": \"#E5ECF6\", \"radialaxis\": {\"gridcolor\": \"white\", \"linecolor\": \"white\", \"ticks\": \"\"}}, \"scene\": {\"xaxis\": {\"backgroundcolor\": \"#E5ECF6\", \"gridcolor\": \"white\", \"gridwidth\": 2, \"linecolor\": \"white\", \"showbackground\": true, \"ticks\": \"\", \"zerolinecolor\": \"white\"}, \"yaxis\": {\"backgroundcolor\": \"#E5ECF6\", \"gridcolor\": \"white\", \"gridwidth\": 2, \"linecolor\": \"white\", \"showbackground\": true, \"ticks\": \"\", \"zerolinecolor\": \"white\"}, \"zaxis\": {\"backgroundcolor\": \"#E5ECF6\", \"gridcolor\": \"white\", \"gridwidth\": 2, \"linecolor\": \"white\", \"showbackground\": true, \"ticks\": \"\", \"zerolinecolor\": \"white\"}}, \"shapedefaults\": {\"line\": {\"color\": \"#2a3f5f\"}}, \"ternary\": {\"aaxis\": {\"gridcolor\": \"white\", \"linecolor\": \"white\", \"ticks\": \"\"}, \"baxis\": {\"gridcolor\": \"white\", \"linecolor\": \"white\", \"ticks\": \"\"}, \"bgcolor\": \"#E5ECF6\", \"caxis\": {\"gridcolor\": \"white\", \"linecolor\": \"white\", \"ticks\": \"\"}}, \"title\": {\"x\": 0.05}, \"xaxis\": {\"automargin\": true, \"gridcolor\": \"white\", \"linecolor\": \"white\", \"ticks\": \"\", \"title\": {\"standoff\": 15}, \"zerolinecolor\": \"white\", \"zerolinewidth\": 2}, \"yaxis\": {\"automargin\": true, \"gridcolor\": \"white\", \"linecolor\": \"white\", \"ticks\": \"\", \"title\": {\"standoff\": 15}, \"zerolinecolor\": \"white\", \"zerolinewidth\": 2}}}, \"title\": {\"text\": \"Trial 0, Neuron 0\"}, \"xaxis\": {\"title\": {\"text\": \"Time (sec)\"}}, \"yaxis\": {\"title\": {\"text\": \"Embedding\"}}},                        {\"responsive\": true}                    ).then(function(){\n",
       "                            \n",
       "var gd = document.getElementById('ba8a9917-f5f4-4352-bf8f-854b895ad7e3');\n",
       "var x = new MutationObserver(function (mutations, observer) {{\n",
       "        var display = window.getComputedStyle(gd).display;\n",
       "        if (!display || display === 'none') {{\n",
       "            console.log([gd, 'removed!']);\n",
       "            Plotly.purge(gd);\n",
       "            observer.disconnect();\n",
       "        }}\n",
       "}});\n",
       "\n",
       "// Listen for the removal of the full notebook cells\n",
       "var notebookContainer = gd.closest('#notebook-container');\n",
       "if (notebookContainer) {{\n",
       "    x.observe(notebookContainer, {childList: true});\n",
       "}}\n",
       "\n",
       "// Listen for the clearing of the current output cell\n",
       "var outputEl = gd.closest('.output');\n",
       "if (outputEl) {{\n",
       "    x.observe(outputEl, {childList: true});\n",
       "}}\n",
       "\n",
       "                        })                };                });            </script>        </div>"
      ]
     },
     "metadata": {},
     "output_type": "display_data"
    }
   ],
   "source": [
    "tTimesToPlot = trueLatentsTimes[trialToPlot]\n",
    "tSamplesToPlot = trueEmbeddingSamples[trialToPlot][neuronToPlot,:]                                                                     \n",
    "tMeansToPlot = trueEmbeddingMeans[trialToPlot][neuronToPlot,:]\n",
    "tSTDsToPlot = trueEmbeddingSTDs[trialToPlot][neuronToPlot,:]\n",
    "\n",
    "eTimes = torch.unsqueeze(torch.ger(torch.ones(nTrials), trueLatentsTimes[0]), dim=2)\n",
    "eEmbeddingMeans, eEmbeddingVars = model.computeEmbeddingMeansAndVarsAtTimes(times=eTimes)\n",
    "eTimesToPlot = eTimes[trialToPlot,:,0]\n",
    "eMeansToPlot = eEmbeddingMeans[trialToPlot,:,neuronToPlot]\n",
    "eSTDsToPlot = eEmbeddingVars[trialToPlot,:,neuronToPlot].sqrt()\n",
    "\n",
    "title = \"Trial {:d}, Neuron {:d}\".format(trialToPlot, neuronToPlot)\n",
    "fig = plot.svGPFA.plotUtilsPlotly.getPlotTrueAndEstimatedEmbedding(tTimes=tTimesToPlot, tSamples=tSamplesToPlot, tMeans=tMeansToPlot, tSTDs=tSTDsToPlot, eTimes=eTimesToPlot, eMeans=eMeansToPlot, eSTDs=eSTDsToPlot, title=title)\n",
    "fig.show()\n",
    "# IPython.display.HTML(fig.to_html())"
   ]
  },
  {
   "cell_type": "markdown",
   "metadata": {
    "id": "BL0X0sn3tngd"
   },
   "source": [
    "# Plot true and estimated CIFs"
   ]
  },
  {
   "cell_type": "code",
   "execution_count": 44,
   "metadata": {
    "colab": {
     "base_uri": "https://localhost:8080/",
     "height": 467
    },
    "id": "mG1cUZyptryw",
    "outputId": "9bbafc13-5afe-4c56-8a08-79a0ff789d63"
   },
   "outputs": [
    {
     "data": {
      "application/vnd.plotly.v1+json": {
       "config": {
        "plotlyServerURL": "https://plot.ly"
       },
       "data": [
        {
         "name": "True",
         "type": "scatter",
         "x": [
          0,
          0.010101010091602802,
          0.020202020183205605,
          0.03030303120613098,
          0.04040404036641121,
          0.05050504952669144,
          0.06060606241226196,
          0.07070706784725189,
          0.08080808073282242,
          0.09090909361839294,
          0.10101009905338287,
          0.1111111119389534,
          0.12121212482452393,
          0.13131313025951385,
          0.14141413569450378,
          0.1515151560306549,
          0.16161616146564484,
          0.17171716690063477,
          0.1818181872367859,
          0.19191919267177582,
          0.20202019810676575,
          0.21212121844291687,
          0.2222222238779068,
          0.23232322931289673,
          0.24242424964904785,
          0.252525269985199,
          0.2626262605190277,
          0.27272728085517883,
          0.28282830119132996,
          0.2929292917251587,
          0.3030303120613098,
          0.31313133239746094,
          0.3232323229312897,
          0.3333333432674408,
          0.34343433380126953,
          0.35353535413742065,
          0.3636363744735718,
          0.3737373650074005,
          0.38383838534355164,
          0.39393937587738037,
          0.4040403962135315,
          0.4141414165496826,
          0.42424240708351135,
          0.4343434274196625,
          0.4444444477558136,
          0.45454543828964233,
          0.46464645862579346,
          0.4747474789619446,
          0.4848484992980957,
          0.4949495196342468,
          0.505050539970398,
          0.5151515007019043,
          0.5252525210380554,
          0.5353535413742065,
          0.5454545617103577,
          0.5555555820465088,
          0.5656565427780151,
          0.5757575631141663,
          0.5858585834503174,
          0.5959595441818237,
          0.6060605645179749,
          0.616161584854126,
          0.6262626051902771,
          0.6363636255264282,
          0.6464646458625793,
          0.6565656661987305,
          0.6666666865348816,
          0.6767677068710327,
          0.6868686676025391,
          0.6969696879386902,
          0.7070707082748413,
          0.7171717286109924,
          0.7272727489471436,
          0.7373737692832947,
          0.7474747896194458,
          0.7575757503509521,
          0.7676767706871033,
          0.7777777910232544,
          0.7878788113594055,
          0.7979798316955566,
          0.808080792427063,
          0.8181818127632141,
          0.8282828330993652,
          0.8383837938308716,
          0.8484848141670227,
          0.8585858345031738,
          0.868686854839325,
          0.8787878751754761,
          0.8888888955116272,
          0.8989899158477783,
          0.9090909361839294,
          0.9191919565200806,
          0.9292929172515869,
          0.939393937587738,
          0.9494949579238892,
          0.9595959782600403,
          0.9696969985961914,
          0.9797979593276978,
          0.9898989796638489,
          1
         ],
         "y": [
          4.583914015707074,
          7.633952921294751,
          7.361553025221881,
          6.282059536686756,
          10.072249736324956,
          8.721690432716953,
          21.646787165660697,
          7.492380107174496,
          19.91272659964072,
          16.519752620161864,
          14.186158963083072,
          14.48358049261543,
          17.99009216169854,
          24.92772041959477,
          22.558651127961724,
          23.468514806058884,
          24.15736930249954,
          47.902902334969504,
          20.006304477306283,
          31.016095055057306,
          27.023959536608917,
          23.308513559466945,
          19.50422012432336,
          25.565017038790366,
          15.283890532866755,
          25.01292909406345,
          18.0587860822147,
          28.601933971860934,
          38.5643481864652,
          46.17149148418198,
          35.37805547195557,
          47.960916498941046,
          44.11892946680579,
          42.4464972145745,
          48.191748446703876,
          64.9425960549885,
          55.32882339525664,
          61.52316686451084,
          49.11737360443689,
          63.03615117228639,
          70.32353143319726,
          57.51135794760078,
          57.750342221702795,
          57.904059567332666,
          91.46013969757482,
          84.63446664547578,
          99.82236576007989,
          117.63815067258827,
          120.77320066456082,
          173.9107058115578,
          228.2644094109795,
          151.46682862187953,
          197.1179957071015,
          177.84430357439012,
          125.41443697426256,
          233.34133069983613,
          147.37295073266634,
          146.3522566972105,
          343.17458418857046,
          256.2638232725024,
          237.05065189162747,
          205.8117274211959,
          331.6116201470045,
          360.9167302420383,
          260.5695933779768,
          183.39485858351836,
          138.68134214518915,
          236.30569795705551,
          276.14345362536807,
          412.2955648099365,
          220.28853479775339,
          484.0959353165633,
          233.62392969894026,
          297.75640991213777,
          483.32935862693535,
          545.7726440112368,
          226.46934041197431,
          370.1856307876226,
          461.433043895482,
          293.8060978062368,
          325.22064758319567,
          363.5974323011536,
          288.86915094180733,
          484.26879205126505,
          328.7530590634856,
          334.949864569345,
          421.7023322128672,
          362.7922092160538,
          240.35801622562172,
          291.5701274039959,
          609.4146826681065,
          372.3815623269349,
          247.7088320579574,
          211.01272653785136,
          297.3087154607817,
          313.1638525281146,
          176.13761289095044,
          264.8458564825951,
          278.85169480763926,
          160.1227359395725
         ]
        },
        {
         "name": "Mean",
         "type": "scatter",
         "x": [
          0,
          0.009999999776482582,
          0.019999999552965164,
          0.029999999329447746,
          0.03999999910593033,
          0.05000000074505806,
          0.05999999865889549,
          0.07000000029802322,
          0.07999999821186066,
          0.08999999612569809,
          0.10000000149011612,
          0.10999999940395355,
          0.11999999731779099,
          0.12999999523162842,
          0.14000000059604645,
          0.14999999105930328,
          0.1599999964237213,
          0.17000000178813934,
          0.17999999225139618,
          0.1899999976158142,
          0.20000000298023224,
          0.20999999344348907,
          0.2199999988079071,
          0.22999998927116394,
          0.23999999463558197,
          0.25,
          0.25999999046325684,
          0.26999998092651367,
          0.2800000011920929,
          0.28999999165534973,
          0.29999998211860657,
          0.3100000023841858,
          0.3199999928474426,
          0.32999998331069946,
          0.3400000035762787,
          0.3499999940395355,
          0.35999998450279236,
          0.3700000047683716,
          0.3799999952316284,
          0.38999998569488525,
          0.4000000059604645,
          0.4099999964237213,
          0.42000001668930054,
          0.4300000071525574,
          0.4399999976158142,
          0.45000001788139343,
          0.46000000834465027,
          0.4699999988079071,
          0.47999998927116394,
          0.4899999797344208,
          0.5,
          0.5099999904632568,
          0.5199999809265137,
          0.5299999713897705,
          0.5399999618530273,
          0.550000011920929,
          0.5600000023841858,
          0.5699999928474426,
          0.5799999833106995,
          0.5899999737739563,
          0.6000000238418579,
          0.6100000143051147,
          0.6200000047683716,
          0.6299999952316284,
          0.6399999856948853,
          0.6499999761581421,
          0.6599999666213989,
          0.6699999570846558,
          0.6800000071525574,
          0.6899999976158142,
          0.699999988079071,
          0.7099999785423279,
          0.7200000286102295,
          0.7300000190734863,
          0.7400000095367432,
          0.75,
          0.7600000500679016,
          0.7700000405311584,
          0.7800000309944153,
          0.7900000214576721,
          0.800000011920929,
          0.8100000023841858,
          0.8199999928474426,
          0.8299999833106995,
          0.8400000333786011,
          0.8500000238418579,
          0.8600000143051147,
          0.8700000047683716,
          0.8799999952316284,
          0.8899999856948853,
          0.8999999761581421,
          0.9099999666213989,
          0.9200000166893005,
          0.9300000071525574,
          0.9399999976158142,
          0.949999988079071,
          0.9599999785423279,
          0.9700000286102295,
          0.9800000190734863,
          0.9900000095367432
         ],
         "y": [
          8.885555454883898,
          9.321508425763703,
          9.787229680114795,
          10.285462233902695,
          10.81893991367623,
          11.389902992592338,
          11.999534968057526,
          12.647382294117913,
          13.330835046512142,
          14.044775520343025,
          14.781495973891811,
          15.530978510758054,
          16.28159573910788,
          17.021205153988813,
          17.738543744945012,
          18.424730085085482,
          19.07464554822694,
          19.68793105919472,
          20.26943679042407,
          20.829034285948612,
          21.380827141242857,
          21.941921158065202,
          22.53094802189803,
          23.166539248578655,
          23.865938787917607,
          24.643838734569304,
          25.511521468900803,
          26.476329086970832,
          27.54147235535916,
          28.706181591819014,
          29.96624251034882,
          31.314831483481655,
          32.743598810310296,
          34.243913684490124,
          35.808023876277524,
          37.429971592312235,
          39.1061486059864,
          40.835309116407245,
          42.61807233158269,
          44.45605173982309,
          46.35067956813024,
          48.30197281149582,
          50.30751189011032,
          52.361672201205664,
          54.45541346938385,
          56.5765355412278,
          58.71042451435022,
          60.84122644902291,
          62.95313208278478,
          65.03163223617719,
          67.06448566817596,
          69.04220200717023,
          70.95805947215382,
          72.8075767132457,
          74.58767028451331,
          76.2956771780372,
          77.92841528095926,
          79.48163515058249,
          80.94979736786416,
          82.32637785519155,
          83.60459652563758,
          84.77839628246339,
          85.84358578999178,
          86.79877623647025,
          87.64604093329507,
          88.39113447902501,
          89.04325533256235,
          89.61441678141735,
          90.11855813264336,
          90.57053475641828,
          90.98517659978718,
          91.37646292339818,
          91.75691556349506,
          92.13717761943384,
          92.52576731039184,
          92.92888626283913,
          93.35023898108756,
          93.7907768468252,
          94.24839154530972,
          94.71754199548079,
          95.18892683403271,
          95.6492806079303,
          96.08138155370911,
          96.46432917702181,
          96.77411567722773,
          96.98446807931774,
          97.06794204865272,
          96.99715152714226,
          96.7460539181907,
          96.29114698826541,
          95.61245042889647,
          94.69418172208968,
          93.52509992100771,
          92.0986250797545,
          90.41274516241288,
          88.46997532163931,
          86.27734530044617,
          83.84643483921317,
          81.19346595886016,
          78.3391281280157
         ]
        },
        {
         "name": "Posterior Mean",
         "type": "scatter",
         "x": [
          0,
          0.009999999776482582,
          0.019999999552965164,
          0.029999999329447746,
          0.03999999910593033,
          0.05000000074505806,
          0.05999999865889549,
          0.07000000029802322,
          0.07999999821186066,
          0.08999999612569809,
          0.10000000149011612,
          0.10999999940395355,
          0.11999999731779099,
          0.12999999523162842,
          0.14000000059604645,
          0.14999999105930328,
          0.1599999964237213,
          0.17000000178813934,
          0.17999999225139618,
          0.1899999976158142,
          0.20000000298023224,
          0.20999999344348907,
          0.2199999988079071,
          0.22999998927116394,
          0.23999999463558197,
          0.25,
          0.25999999046325684,
          0.26999998092651367,
          0.2800000011920929,
          0.28999999165534973,
          0.29999998211860657,
          0.3100000023841858,
          0.3199999928474426,
          0.32999998331069946,
          0.3400000035762787,
          0.3499999940395355,
          0.35999998450279236,
          0.3700000047683716,
          0.3799999952316284,
          0.38999998569488525,
          0.4000000059604645,
          0.4099999964237213,
          0.42000001668930054,
          0.4300000071525574,
          0.4399999976158142,
          0.45000001788139343,
          0.46000000834465027,
          0.4699999988079071,
          0.47999998927116394,
          0.4899999797344208,
          0.5,
          0.5099999904632568,
          0.5199999809265137,
          0.5299999713897705,
          0.5399999618530273,
          0.550000011920929,
          0.5600000023841858,
          0.5699999928474426,
          0.5799999833106995,
          0.5899999737739563,
          0.6000000238418579,
          0.6100000143051147,
          0.6200000047683716,
          0.6299999952316284,
          0.6399999856948853,
          0.6499999761581421,
          0.6599999666213989,
          0.6699999570846558,
          0.6800000071525574,
          0.6899999976158142,
          0.699999988079071,
          0.7099999785423279,
          0.7200000286102295,
          0.7300000190734863,
          0.7400000095367432,
          0.75,
          0.7600000500679016,
          0.7700000405311584,
          0.7800000309944153,
          0.7900000214576721,
          0.800000011920929,
          0.8100000023841858,
          0.8199999928474426,
          0.8299999833106995,
          0.8400000333786011,
          0.8500000238418579,
          0.8600000143051147,
          0.8700000047683716,
          0.8799999952316284,
          0.8899999856948853,
          0.8999999761581421,
          0.9099999666213989,
          0.9200000166893005,
          0.9300000071525574,
          0.9399999976158142,
          0.949999988079071,
          0.9599999785423279,
          0.9700000286102295,
          0.9800000190734863,
          0.9900000095367432
         ],
         "y": [
          8.885555454883898,
          9.321508425763703,
          9.787229680114795,
          10.285462233902695,
          10.81893991367623,
          11.389902992592338,
          11.999534968057526,
          12.647382294117913,
          13.330835046512142,
          14.044775520343025,
          14.781495973891811,
          15.530978510758054,
          16.28159573910788,
          17.021205153988813,
          17.738543744945012,
          18.424730085085482,
          19.07464554822694,
          19.68793105919472,
          20.26943679042407,
          20.829034285948612,
          21.380827141242857,
          21.941921158065202,
          22.53094802189803,
          23.166539248578655,
          23.865938787917607,
          24.643838734569304,
          25.511521468900803,
          26.476329086970832,
          27.54147235535916,
          28.706181591819014,
          29.96624251034882,
          31.314831483481655,
          32.743598810310296,
          34.243913684490124,
          35.808023876277524,
          37.429971592312235,
          39.1061486059864,
          40.835309116407245,
          42.61807233158269,
          44.45605173982309,
          46.35067956813024,
          48.30197281149582,
          50.30751189011032,
          52.361672201205664,
          54.45541346938385,
          56.5765355412278,
          58.71042451435022,
          60.84122644902291,
          62.95313208278478,
          65.03163223617719,
          67.06448566817596,
          69.04220200717023,
          70.95805947215382,
          72.8075767132457,
          74.58767028451331,
          76.2956771780372,
          77.92841528095926,
          79.48163515058249,
          80.94979736786416,
          82.32637785519155,
          83.60459652563758,
          84.77839628246339,
          85.84358578999178,
          86.79877623647025,
          87.64604093329507,
          88.39113447902501,
          89.04325533256235,
          89.61441678141735,
          90.11855813264336,
          90.57053475641828,
          90.98517659978718,
          91.37646292339818,
          91.75691556349506,
          92.13717761943384,
          92.52576731039184,
          92.92888626283913,
          93.35023898108756,
          93.7907768468252,
          94.24839154530972,
          94.71754199548079,
          95.18892683403271,
          95.6492806079303,
          96.08138155370911,
          96.46432917702181,
          96.77411567722773,
          96.98446807931774,
          97.06794204865272,
          96.99715152714226,
          96.7460539181907,
          96.29114698826541,
          95.61245042889647,
          94.69418172208968,
          93.52509992100771,
          92.0986250797545,
          90.41274516241288,
          88.46997532163931,
          86.27734530044617,
          83.84643483921317,
          81.19346595886016,
          78.3391281280157
         ]
        }
       ],
       "layout": {
        "template": {
         "data": {
          "bar": [
           {
            "error_x": {
             "color": "#2a3f5f"
            },
            "error_y": {
             "color": "#2a3f5f"
            },
            "marker": {
             "line": {
              "color": "#E5ECF6",
              "width": 0.5
             }
            },
            "type": "bar"
           }
          ],
          "barpolar": [
           {
            "marker": {
             "line": {
              "color": "#E5ECF6",
              "width": 0.5
             }
            },
            "type": "barpolar"
           }
          ],
          "carpet": [
           {
            "aaxis": {
             "endlinecolor": "#2a3f5f",
             "gridcolor": "white",
             "linecolor": "white",
             "minorgridcolor": "white",
             "startlinecolor": "#2a3f5f"
            },
            "baxis": {
             "endlinecolor": "#2a3f5f",
             "gridcolor": "white",
             "linecolor": "white",
             "minorgridcolor": "white",
             "startlinecolor": "#2a3f5f"
            },
            "type": "carpet"
           }
          ],
          "choropleth": [
           {
            "colorbar": {
             "outlinewidth": 0,
             "ticks": ""
            },
            "type": "choropleth"
           }
          ],
          "contour": [
           {
            "colorbar": {
             "outlinewidth": 0,
             "ticks": ""
            },
            "colorscale": [
             [
              0,
              "#0d0887"
             ],
             [
              0.1111111111111111,
              "#46039f"
             ],
             [
              0.2222222222222222,
              "#7201a8"
             ],
             [
              0.3333333333333333,
              "#9c179e"
             ],
             [
              0.4444444444444444,
              "#bd3786"
             ],
             [
              0.5555555555555556,
              "#d8576b"
             ],
             [
              0.6666666666666666,
              "#ed7953"
             ],
             [
              0.7777777777777778,
              "#fb9f3a"
             ],
             [
              0.8888888888888888,
              "#fdca26"
             ],
             [
              1,
              "#f0f921"
             ]
            ],
            "type": "contour"
           }
          ],
          "contourcarpet": [
           {
            "colorbar": {
             "outlinewidth": 0,
             "ticks": ""
            },
            "type": "contourcarpet"
           }
          ],
          "heatmap": [
           {
            "colorbar": {
             "outlinewidth": 0,
             "ticks": ""
            },
            "colorscale": [
             [
              0,
              "#0d0887"
             ],
             [
              0.1111111111111111,
              "#46039f"
             ],
             [
              0.2222222222222222,
              "#7201a8"
             ],
             [
              0.3333333333333333,
              "#9c179e"
             ],
             [
              0.4444444444444444,
              "#bd3786"
             ],
             [
              0.5555555555555556,
              "#d8576b"
             ],
             [
              0.6666666666666666,
              "#ed7953"
             ],
             [
              0.7777777777777778,
              "#fb9f3a"
             ],
             [
              0.8888888888888888,
              "#fdca26"
             ],
             [
              1,
              "#f0f921"
             ]
            ],
            "type": "heatmap"
           }
          ],
          "heatmapgl": [
           {
            "colorbar": {
             "outlinewidth": 0,
             "ticks": ""
            },
            "colorscale": [
             [
              0,
              "#0d0887"
             ],
             [
              0.1111111111111111,
              "#46039f"
             ],
             [
              0.2222222222222222,
              "#7201a8"
             ],
             [
              0.3333333333333333,
              "#9c179e"
             ],
             [
              0.4444444444444444,
              "#bd3786"
             ],
             [
              0.5555555555555556,
              "#d8576b"
             ],
             [
              0.6666666666666666,
              "#ed7953"
             ],
             [
              0.7777777777777778,
              "#fb9f3a"
             ],
             [
              0.8888888888888888,
              "#fdca26"
             ],
             [
              1,
              "#f0f921"
             ]
            ],
            "type": "heatmapgl"
           }
          ],
          "histogram": [
           {
            "marker": {
             "colorbar": {
              "outlinewidth": 0,
              "ticks": ""
             }
            },
            "type": "histogram"
           }
          ],
          "histogram2d": [
           {
            "colorbar": {
             "outlinewidth": 0,
             "ticks": ""
            },
            "colorscale": [
             [
              0,
              "#0d0887"
             ],
             [
              0.1111111111111111,
              "#46039f"
             ],
             [
              0.2222222222222222,
              "#7201a8"
             ],
             [
              0.3333333333333333,
              "#9c179e"
             ],
             [
              0.4444444444444444,
              "#bd3786"
             ],
             [
              0.5555555555555556,
              "#d8576b"
             ],
             [
              0.6666666666666666,
              "#ed7953"
             ],
             [
              0.7777777777777778,
              "#fb9f3a"
             ],
             [
              0.8888888888888888,
              "#fdca26"
             ],
             [
              1,
              "#f0f921"
             ]
            ],
            "type": "histogram2d"
           }
          ],
          "histogram2dcontour": [
           {
            "colorbar": {
             "outlinewidth": 0,
             "ticks": ""
            },
            "colorscale": [
             [
              0,
              "#0d0887"
             ],
             [
              0.1111111111111111,
              "#46039f"
             ],
             [
              0.2222222222222222,
              "#7201a8"
             ],
             [
              0.3333333333333333,
              "#9c179e"
             ],
             [
              0.4444444444444444,
              "#bd3786"
             ],
             [
              0.5555555555555556,
              "#d8576b"
             ],
             [
              0.6666666666666666,
              "#ed7953"
             ],
             [
              0.7777777777777778,
              "#fb9f3a"
             ],
             [
              0.8888888888888888,
              "#fdca26"
             ],
             [
              1,
              "#f0f921"
             ]
            ],
            "type": "histogram2dcontour"
           }
          ],
          "mesh3d": [
           {
            "colorbar": {
             "outlinewidth": 0,
             "ticks": ""
            },
            "type": "mesh3d"
           }
          ],
          "parcoords": [
           {
            "line": {
             "colorbar": {
              "outlinewidth": 0,
              "ticks": ""
             }
            },
            "type": "parcoords"
           }
          ],
          "pie": [
           {
            "automargin": true,
            "type": "pie"
           }
          ],
          "scatter": [
           {
            "marker": {
             "colorbar": {
              "outlinewidth": 0,
              "ticks": ""
             }
            },
            "type": "scatter"
           }
          ],
          "scatter3d": [
           {
            "line": {
             "colorbar": {
              "outlinewidth": 0,
              "ticks": ""
             }
            },
            "marker": {
             "colorbar": {
              "outlinewidth": 0,
              "ticks": ""
             }
            },
            "type": "scatter3d"
           }
          ],
          "scattercarpet": [
           {
            "marker": {
             "colorbar": {
              "outlinewidth": 0,
              "ticks": ""
             }
            },
            "type": "scattercarpet"
           }
          ],
          "scattergeo": [
           {
            "marker": {
             "colorbar": {
              "outlinewidth": 0,
              "ticks": ""
             }
            },
            "type": "scattergeo"
           }
          ],
          "scattergl": [
           {
            "marker": {
             "colorbar": {
              "outlinewidth": 0,
              "ticks": ""
             }
            },
            "type": "scattergl"
           }
          ],
          "scattermapbox": [
           {
            "marker": {
             "colorbar": {
              "outlinewidth": 0,
              "ticks": ""
             }
            },
            "type": "scattermapbox"
           }
          ],
          "scatterpolar": [
           {
            "marker": {
             "colorbar": {
              "outlinewidth": 0,
              "ticks": ""
             }
            },
            "type": "scatterpolar"
           }
          ],
          "scatterpolargl": [
           {
            "marker": {
             "colorbar": {
              "outlinewidth": 0,
              "ticks": ""
             }
            },
            "type": "scatterpolargl"
           }
          ],
          "scatterternary": [
           {
            "marker": {
             "colorbar": {
              "outlinewidth": 0,
              "ticks": ""
             }
            },
            "type": "scatterternary"
           }
          ],
          "surface": [
           {
            "colorbar": {
             "outlinewidth": 0,
             "ticks": ""
            },
            "colorscale": [
             [
              0,
              "#0d0887"
             ],
             [
              0.1111111111111111,
              "#46039f"
             ],
             [
              0.2222222222222222,
              "#7201a8"
             ],
             [
              0.3333333333333333,
              "#9c179e"
             ],
             [
              0.4444444444444444,
              "#bd3786"
             ],
             [
              0.5555555555555556,
              "#d8576b"
             ],
             [
              0.6666666666666666,
              "#ed7953"
             ],
             [
              0.7777777777777778,
              "#fb9f3a"
             ],
             [
              0.8888888888888888,
              "#fdca26"
             ],
             [
              1,
              "#f0f921"
             ]
            ],
            "type": "surface"
           }
          ],
          "table": [
           {
            "cells": {
             "fill": {
              "color": "#EBF0F8"
             },
             "line": {
              "color": "white"
             }
            },
            "header": {
             "fill": {
              "color": "#C8D4E3"
             },
             "line": {
              "color": "white"
             }
            },
            "type": "table"
           }
          ]
         },
         "layout": {
          "annotationdefaults": {
           "arrowcolor": "#2a3f5f",
           "arrowhead": 0,
           "arrowwidth": 1
          },
          "autotypenumbers": "strict",
          "coloraxis": {
           "colorbar": {
            "outlinewidth": 0,
            "ticks": ""
           }
          },
          "colorscale": {
           "diverging": [
            [
             0,
             "#8e0152"
            ],
            [
             0.1,
             "#c51b7d"
            ],
            [
             0.2,
             "#de77ae"
            ],
            [
             0.3,
             "#f1b6da"
            ],
            [
             0.4,
             "#fde0ef"
            ],
            [
             0.5,
             "#f7f7f7"
            ],
            [
             0.6,
             "#e6f5d0"
            ],
            [
             0.7,
             "#b8e186"
            ],
            [
             0.8,
             "#7fbc41"
            ],
            [
             0.9,
             "#4d9221"
            ],
            [
             1,
             "#276419"
            ]
           ],
           "sequential": [
            [
             0,
             "#0d0887"
            ],
            [
             0.1111111111111111,
             "#46039f"
            ],
            [
             0.2222222222222222,
             "#7201a8"
            ],
            [
             0.3333333333333333,
             "#9c179e"
            ],
            [
             0.4444444444444444,
             "#bd3786"
            ],
            [
             0.5555555555555556,
             "#d8576b"
            ],
            [
             0.6666666666666666,
             "#ed7953"
            ],
            [
             0.7777777777777778,
             "#fb9f3a"
            ],
            [
             0.8888888888888888,
             "#fdca26"
            ],
            [
             1,
             "#f0f921"
            ]
           ],
           "sequentialminus": [
            [
             0,
             "#0d0887"
            ],
            [
             0.1111111111111111,
             "#46039f"
            ],
            [
             0.2222222222222222,
             "#7201a8"
            ],
            [
             0.3333333333333333,
             "#9c179e"
            ],
            [
             0.4444444444444444,
             "#bd3786"
            ],
            [
             0.5555555555555556,
             "#d8576b"
            ],
            [
             0.6666666666666666,
             "#ed7953"
            ],
            [
             0.7777777777777778,
             "#fb9f3a"
            ],
            [
             0.8888888888888888,
             "#fdca26"
            ],
            [
             1,
             "#f0f921"
            ]
           ]
          },
          "colorway": [
           "#636efa",
           "#EF553B",
           "#00cc96",
           "#ab63fa",
           "#FFA15A",
           "#19d3f3",
           "#FF6692",
           "#B6E880",
           "#FF97FF",
           "#FECB52"
          ],
          "font": {
           "color": "#2a3f5f"
          },
          "geo": {
           "bgcolor": "white",
           "lakecolor": "white",
           "landcolor": "#E5ECF6",
           "showlakes": true,
           "showland": true,
           "subunitcolor": "white"
          },
          "hoverlabel": {
           "align": "left"
          },
          "hovermode": "closest",
          "mapbox": {
           "style": "light"
          },
          "paper_bgcolor": "white",
          "plot_bgcolor": "#E5ECF6",
          "polar": {
           "angularaxis": {
            "gridcolor": "white",
            "linecolor": "white",
            "ticks": ""
           },
           "bgcolor": "#E5ECF6",
           "radialaxis": {
            "gridcolor": "white",
            "linecolor": "white",
            "ticks": ""
           }
          },
          "scene": {
           "xaxis": {
            "backgroundcolor": "#E5ECF6",
            "gridcolor": "white",
            "gridwidth": 2,
            "linecolor": "white",
            "showbackground": true,
            "ticks": "",
            "zerolinecolor": "white"
           },
           "yaxis": {
            "backgroundcolor": "#E5ECF6",
            "gridcolor": "white",
            "gridwidth": 2,
            "linecolor": "white",
            "showbackground": true,
            "ticks": "",
            "zerolinecolor": "white"
           },
           "zaxis": {
            "backgroundcolor": "#E5ECF6",
            "gridcolor": "white",
            "gridwidth": 2,
            "linecolor": "white",
            "showbackground": true,
            "ticks": "",
            "zerolinecolor": "white"
           }
          },
          "shapedefaults": {
           "line": {
            "color": "#2a3f5f"
           }
          },
          "ternary": {
           "aaxis": {
            "gridcolor": "white",
            "linecolor": "white",
            "ticks": ""
           },
           "baxis": {
            "gridcolor": "white",
            "linecolor": "white",
            "ticks": ""
           },
           "bgcolor": "#E5ECF6",
           "caxis": {
            "gridcolor": "white",
            "linecolor": "white",
            "ticks": ""
           }
          },
          "title": {
           "x": 0.05
          },
          "xaxis": {
           "automargin": true,
           "gridcolor": "white",
           "linecolor": "white",
           "ticks": "",
           "title": {
            "standoff": 15
           },
           "zerolinecolor": "white",
           "zerolinewidth": 2
          },
          "yaxis": {
           "automargin": true,
           "gridcolor": "white",
           "linecolor": "white",
           "ticks": "",
           "title": {
            "standoff": 15
           },
           "zerolinecolor": "white",
           "zerolinewidth": 2
          }
         }
        },
        "title": {
         "text": "Trial 0, Neuron 0"
        },
        "xaxis": {
         "title": {
          "text": "Time (sec)"
         }
        },
        "yaxis": {
         "title": {
          "text": "CIF"
         }
        }
       }
      },
      "text/html": [
       "<div>                            <div id=\"9543ee9b-2058-4c25-a427-370d1567f98f\" class=\"plotly-graph-div\" style=\"height:525px; width:100%;\"></div>            <script type=\"text/javascript\">                require([\"plotly\"], function(Plotly) {                    window.PLOTLYENV=window.PLOTLYENV || {};                                    if (document.getElementById(\"9543ee9b-2058-4c25-a427-370d1567f98f\")) {                    Plotly.newPlot(                        \"9543ee9b-2058-4c25-a427-370d1567f98f\",                        [{\"name\": \"True\", \"type\": \"scatter\", \"x\": [0.0, 0.010101010091602802, 0.020202020183205605, 0.03030303120613098, 0.04040404036641121, 0.05050504952669144, 0.06060606241226196, 0.07070706784725189, 0.08080808073282242, 0.09090909361839294, 0.10101009905338287, 0.1111111119389534, 0.12121212482452393, 0.13131313025951385, 0.14141413569450378, 0.1515151560306549, 0.16161616146564484, 0.17171716690063477, 0.1818181872367859, 0.19191919267177582, 0.20202019810676575, 0.21212121844291687, 0.2222222238779068, 0.23232322931289673, 0.24242424964904785, 0.252525269985199, 0.2626262605190277, 0.27272728085517883, 0.28282830119132996, 0.2929292917251587, 0.3030303120613098, 0.31313133239746094, 0.3232323229312897, 0.3333333432674408, 0.34343433380126953, 0.35353535413742065, 0.3636363744735718, 0.3737373650074005, 0.38383838534355164, 0.39393937587738037, 0.4040403962135315, 0.4141414165496826, 0.42424240708351135, 0.4343434274196625, 0.4444444477558136, 0.45454543828964233, 0.46464645862579346, 0.4747474789619446, 0.4848484992980957, 0.4949495196342468, 0.505050539970398, 0.5151515007019043, 0.5252525210380554, 0.5353535413742065, 0.5454545617103577, 0.5555555820465088, 0.5656565427780151, 0.5757575631141663, 0.5858585834503174, 0.5959595441818237, 0.6060605645179749, 0.616161584854126, 0.6262626051902771, 0.6363636255264282, 0.6464646458625793, 0.6565656661987305, 0.6666666865348816, 0.6767677068710327, 0.6868686676025391, 0.6969696879386902, 0.7070707082748413, 0.7171717286109924, 0.7272727489471436, 0.7373737692832947, 0.7474747896194458, 0.7575757503509521, 0.7676767706871033, 0.7777777910232544, 0.7878788113594055, 0.7979798316955566, 0.808080792427063, 0.8181818127632141, 0.8282828330993652, 0.8383837938308716, 0.8484848141670227, 0.8585858345031738, 0.868686854839325, 0.8787878751754761, 0.8888888955116272, 0.8989899158477783, 0.9090909361839294, 0.9191919565200806, 0.9292929172515869, 0.939393937587738, 0.9494949579238892, 0.9595959782600403, 0.9696969985961914, 0.9797979593276978, 0.9898989796638489, 1.0], \"y\": [4.583914015707074, 7.633952921294751, 7.361553025221881, 6.282059536686756, 10.072249736324956, 8.721690432716953, 21.646787165660697, 7.492380107174496, 19.91272659964072, 16.519752620161864, 14.186158963083072, 14.48358049261543, 17.99009216169854, 24.92772041959477, 22.558651127961724, 23.468514806058884, 24.15736930249954, 47.902902334969504, 20.006304477306283, 31.016095055057306, 27.023959536608917, 23.308513559466945, 19.50422012432336, 25.565017038790366, 15.283890532866755, 25.01292909406345, 18.0587860822147, 28.601933971860934, 38.5643481864652, 46.17149148418198, 35.37805547195557, 47.960916498941046, 44.11892946680579, 42.4464972145745, 48.191748446703876, 64.9425960549885, 55.32882339525664, 61.52316686451084, 49.11737360443689, 63.03615117228639, 70.32353143319726, 57.51135794760078, 57.750342221702795, 57.904059567332666, 91.46013969757482, 84.63446664547578, 99.82236576007989, 117.63815067258827, 120.77320066456082, 173.9107058115578, 228.2644094109795, 151.46682862187953, 197.1179957071015, 177.84430357439012, 125.41443697426256, 233.34133069983613, 147.37295073266634, 146.3522566972105, 343.17458418857046, 256.2638232725024, 237.05065189162747, 205.8117274211959, 331.6116201470045, 360.9167302420383, 260.5695933779768, 183.39485858351836, 138.68134214518915, 236.30569795705551, 276.14345362536807, 412.2955648099365, 220.28853479775339, 484.0959353165633, 233.62392969894026, 297.75640991213777, 483.32935862693535, 545.7726440112368, 226.46934041197431, 370.1856307876226, 461.433043895482, 293.8060978062368, 325.22064758319567, 363.5974323011536, 288.86915094180733, 484.26879205126505, 328.7530590634856, 334.949864569345, 421.7023322128672, 362.7922092160538, 240.35801622562172, 291.5701274039959, 609.4146826681065, 372.3815623269349, 247.7088320579574, 211.01272653785136, 297.3087154607817, 313.1638525281146, 176.13761289095044, 264.8458564825951, 278.85169480763926, 160.1227359395725]}, {\"name\": \"Mean\", \"type\": \"scatter\", \"x\": [0.0, 0.009999999776482582, 0.019999999552965164, 0.029999999329447746, 0.03999999910593033, 0.05000000074505806, 0.05999999865889549, 0.07000000029802322, 0.07999999821186066, 0.08999999612569809, 0.10000000149011612, 0.10999999940395355, 0.11999999731779099, 0.12999999523162842, 0.14000000059604645, 0.14999999105930328, 0.1599999964237213, 0.17000000178813934, 0.17999999225139618, 0.1899999976158142, 0.20000000298023224, 0.20999999344348907, 0.2199999988079071, 0.22999998927116394, 0.23999999463558197, 0.25, 0.25999999046325684, 0.26999998092651367, 0.2800000011920929, 0.28999999165534973, 0.29999998211860657, 0.3100000023841858, 0.3199999928474426, 0.32999998331069946, 0.3400000035762787, 0.3499999940395355, 0.35999998450279236, 0.3700000047683716, 0.3799999952316284, 0.38999998569488525, 0.4000000059604645, 0.4099999964237213, 0.42000001668930054, 0.4300000071525574, 0.4399999976158142, 0.45000001788139343, 0.46000000834465027, 0.4699999988079071, 0.47999998927116394, 0.4899999797344208, 0.5, 0.5099999904632568, 0.5199999809265137, 0.5299999713897705, 0.5399999618530273, 0.550000011920929, 0.5600000023841858, 0.5699999928474426, 0.5799999833106995, 0.5899999737739563, 0.6000000238418579, 0.6100000143051147, 0.6200000047683716, 0.6299999952316284, 0.6399999856948853, 0.6499999761581421, 0.6599999666213989, 0.6699999570846558, 0.6800000071525574, 0.6899999976158142, 0.699999988079071, 0.7099999785423279, 0.7200000286102295, 0.7300000190734863, 0.7400000095367432, 0.75, 0.7600000500679016, 0.7700000405311584, 0.7800000309944153, 0.7900000214576721, 0.800000011920929, 0.8100000023841858, 0.8199999928474426, 0.8299999833106995, 0.8400000333786011, 0.8500000238418579, 0.8600000143051147, 0.8700000047683716, 0.8799999952316284, 0.8899999856948853, 0.8999999761581421, 0.9099999666213989, 0.9200000166893005, 0.9300000071525574, 0.9399999976158142, 0.949999988079071, 0.9599999785423279, 0.9700000286102295, 0.9800000190734863, 0.9900000095367432], \"y\": [8.885555454883898, 9.321508425763703, 9.787229680114795, 10.285462233902695, 10.81893991367623, 11.389902992592338, 11.999534968057526, 12.647382294117913, 13.330835046512142, 14.044775520343025, 14.781495973891811, 15.530978510758054, 16.28159573910788, 17.021205153988813, 17.738543744945012, 18.424730085085482, 19.07464554822694, 19.68793105919472, 20.26943679042407, 20.829034285948612, 21.380827141242857, 21.941921158065202, 22.53094802189803, 23.166539248578655, 23.865938787917607, 24.643838734569304, 25.511521468900803, 26.476329086970832, 27.54147235535916, 28.706181591819014, 29.96624251034882, 31.314831483481655, 32.743598810310296, 34.243913684490124, 35.808023876277524, 37.429971592312235, 39.1061486059864, 40.835309116407245, 42.61807233158269, 44.45605173982309, 46.35067956813024, 48.30197281149582, 50.30751189011032, 52.361672201205664, 54.45541346938385, 56.5765355412278, 58.71042451435022, 60.84122644902291, 62.95313208278478, 65.03163223617719, 67.06448566817596, 69.04220200717023, 70.95805947215382, 72.8075767132457, 74.58767028451331, 76.2956771780372, 77.92841528095926, 79.48163515058249, 80.94979736786416, 82.32637785519155, 83.60459652563758, 84.77839628246339, 85.84358578999178, 86.79877623647025, 87.64604093329507, 88.39113447902501, 89.04325533256235, 89.61441678141735, 90.11855813264336, 90.57053475641828, 90.98517659978718, 91.37646292339818, 91.75691556349506, 92.13717761943384, 92.52576731039184, 92.92888626283913, 93.35023898108756, 93.7907768468252, 94.24839154530972, 94.71754199548079, 95.18892683403271, 95.6492806079303, 96.08138155370911, 96.46432917702181, 96.77411567722773, 96.98446807931774, 97.06794204865272, 96.99715152714226, 96.7460539181907, 96.29114698826541, 95.61245042889647, 94.69418172208968, 93.52509992100771, 92.0986250797545, 90.41274516241288, 88.46997532163931, 86.27734530044617, 83.84643483921317, 81.19346595886016, 78.3391281280157]}, {\"name\": \"Posterior Mean\", \"type\": \"scatter\", \"x\": [0.0, 0.009999999776482582, 0.019999999552965164, 0.029999999329447746, 0.03999999910593033, 0.05000000074505806, 0.05999999865889549, 0.07000000029802322, 0.07999999821186066, 0.08999999612569809, 0.10000000149011612, 0.10999999940395355, 0.11999999731779099, 0.12999999523162842, 0.14000000059604645, 0.14999999105930328, 0.1599999964237213, 0.17000000178813934, 0.17999999225139618, 0.1899999976158142, 0.20000000298023224, 0.20999999344348907, 0.2199999988079071, 0.22999998927116394, 0.23999999463558197, 0.25, 0.25999999046325684, 0.26999998092651367, 0.2800000011920929, 0.28999999165534973, 0.29999998211860657, 0.3100000023841858, 0.3199999928474426, 0.32999998331069946, 0.3400000035762787, 0.3499999940395355, 0.35999998450279236, 0.3700000047683716, 0.3799999952316284, 0.38999998569488525, 0.4000000059604645, 0.4099999964237213, 0.42000001668930054, 0.4300000071525574, 0.4399999976158142, 0.45000001788139343, 0.46000000834465027, 0.4699999988079071, 0.47999998927116394, 0.4899999797344208, 0.5, 0.5099999904632568, 0.5199999809265137, 0.5299999713897705, 0.5399999618530273, 0.550000011920929, 0.5600000023841858, 0.5699999928474426, 0.5799999833106995, 0.5899999737739563, 0.6000000238418579, 0.6100000143051147, 0.6200000047683716, 0.6299999952316284, 0.6399999856948853, 0.6499999761581421, 0.6599999666213989, 0.6699999570846558, 0.6800000071525574, 0.6899999976158142, 0.699999988079071, 0.7099999785423279, 0.7200000286102295, 0.7300000190734863, 0.7400000095367432, 0.75, 0.7600000500679016, 0.7700000405311584, 0.7800000309944153, 0.7900000214576721, 0.800000011920929, 0.8100000023841858, 0.8199999928474426, 0.8299999833106995, 0.8400000333786011, 0.8500000238418579, 0.8600000143051147, 0.8700000047683716, 0.8799999952316284, 0.8899999856948853, 0.8999999761581421, 0.9099999666213989, 0.9200000166893005, 0.9300000071525574, 0.9399999976158142, 0.949999988079071, 0.9599999785423279, 0.9700000286102295, 0.9800000190734863, 0.9900000095367432], \"y\": [8.885555454883898, 9.321508425763703, 9.787229680114795, 10.285462233902695, 10.81893991367623, 11.389902992592338, 11.999534968057526, 12.647382294117913, 13.330835046512142, 14.044775520343025, 14.781495973891811, 15.530978510758054, 16.28159573910788, 17.021205153988813, 17.738543744945012, 18.424730085085482, 19.07464554822694, 19.68793105919472, 20.26943679042407, 20.829034285948612, 21.380827141242857, 21.941921158065202, 22.53094802189803, 23.166539248578655, 23.865938787917607, 24.643838734569304, 25.511521468900803, 26.476329086970832, 27.54147235535916, 28.706181591819014, 29.96624251034882, 31.314831483481655, 32.743598810310296, 34.243913684490124, 35.808023876277524, 37.429971592312235, 39.1061486059864, 40.835309116407245, 42.61807233158269, 44.45605173982309, 46.35067956813024, 48.30197281149582, 50.30751189011032, 52.361672201205664, 54.45541346938385, 56.5765355412278, 58.71042451435022, 60.84122644902291, 62.95313208278478, 65.03163223617719, 67.06448566817596, 69.04220200717023, 70.95805947215382, 72.8075767132457, 74.58767028451331, 76.2956771780372, 77.92841528095926, 79.48163515058249, 80.94979736786416, 82.32637785519155, 83.60459652563758, 84.77839628246339, 85.84358578999178, 86.79877623647025, 87.64604093329507, 88.39113447902501, 89.04325533256235, 89.61441678141735, 90.11855813264336, 90.57053475641828, 90.98517659978718, 91.37646292339818, 91.75691556349506, 92.13717761943384, 92.52576731039184, 92.92888626283913, 93.35023898108756, 93.7907768468252, 94.24839154530972, 94.71754199548079, 95.18892683403271, 95.6492806079303, 96.08138155370911, 96.46432917702181, 96.77411567722773, 96.98446807931774, 97.06794204865272, 96.99715152714226, 96.7460539181907, 96.29114698826541, 95.61245042889647, 94.69418172208968, 93.52509992100771, 92.0986250797545, 90.41274516241288, 88.46997532163931, 86.27734530044617, 83.84643483921317, 81.19346595886016, 78.3391281280157]}],                        {\"template\": {\"data\": {\"bar\": [{\"error_x\": {\"color\": \"#2a3f5f\"}, \"error_y\": {\"color\": \"#2a3f5f\"}, \"marker\": {\"line\": {\"color\": \"#E5ECF6\", \"width\": 0.5}}, \"type\": \"bar\"}], \"barpolar\": [{\"marker\": {\"line\": {\"color\": \"#E5ECF6\", \"width\": 0.5}}, \"type\": \"barpolar\"}], \"carpet\": [{\"aaxis\": {\"endlinecolor\": \"#2a3f5f\", \"gridcolor\": \"white\", \"linecolor\": \"white\", \"minorgridcolor\": \"white\", \"startlinecolor\": \"#2a3f5f\"}, \"baxis\": {\"endlinecolor\": \"#2a3f5f\", \"gridcolor\": \"white\", \"linecolor\": \"white\", \"minorgridcolor\": \"white\", \"startlinecolor\": \"#2a3f5f\"}, \"type\": \"carpet\"}], \"choropleth\": [{\"colorbar\": {\"outlinewidth\": 0, \"ticks\": \"\"}, \"type\": \"choropleth\"}], \"contour\": [{\"colorbar\": {\"outlinewidth\": 0, \"ticks\": \"\"}, \"colorscale\": [[0.0, \"#0d0887\"], [0.1111111111111111, \"#46039f\"], [0.2222222222222222, \"#7201a8\"], [0.3333333333333333, \"#9c179e\"], [0.4444444444444444, \"#bd3786\"], [0.5555555555555556, \"#d8576b\"], [0.6666666666666666, \"#ed7953\"], [0.7777777777777778, \"#fb9f3a\"], [0.8888888888888888, \"#fdca26\"], [1.0, \"#f0f921\"]], \"type\": \"contour\"}], \"contourcarpet\": [{\"colorbar\": {\"outlinewidth\": 0, \"ticks\": \"\"}, \"type\": \"contourcarpet\"}], \"heatmap\": [{\"colorbar\": {\"outlinewidth\": 0, \"ticks\": \"\"}, \"colorscale\": [[0.0, \"#0d0887\"], [0.1111111111111111, \"#46039f\"], [0.2222222222222222, \"#7201a8\"], [0.3333333333333333, \"#9c179e\"], [0.4444444444444444, \"#bd3786\"], [0.5555555555555556, \"#d8576b\"], [0.6666666666666666, \"#ed7953\"], [0.7777777777777778, \"#fb9f3a\"], [0.8888888888888888, \"#fdca26\"], [1.0, \"#f0f921\"]], \"type\": \"heatmap\"}], \"heatmapgl\": [{\"colorbar\": {\"outlinewidth\": 0, \"ticks\": \"\"}, \"colorscale\": [[0.0, \"#0d0887\"], [0.1111111111111111, \"#46039f\"], [0.2222222222222222, \"#7201a8\"], [0.3333333333333333, \"#9c179e\"], [0.4444444444444444, \"#bd3786\"], [0.5555555555555556, \"#d8576b\"], [0.6666666666666666, \"#ed7953\"], [0.7777777777777778, \"#fb9f3a\"], [0.8888888888888888, \"#fdca26\"], [1.0, \"#f0f921\"]], \"type\": \"heatmapgl\"}], \"histogram\": [{\"marker\": {\"colorbar\": {\"outlinewidth\": 0, \"ticks\": \"\"}}, \"type\": \"histogram\"}], \"histogram2d\": [{\"colorbar\": {\"outlinewidth\": 0, \"ticks\": \"\"}, \"colorscale\": [[0.0, \"#0d0887\"], [0.1111111111111111, \"#46039f\"], [0.2222222222222222, \"#7201a8\"], [0.3333333333333333, \"#9c179e\"], [0.4444444444444444, \"#bd3786\"], [0.5555555555555556, \"#d8576b\"], [0.6666666666666666, \"#ed7953\"], [0.7777777777777778, \"#fb9f3a\"], [0.8888888888888888, \"#fdca26\"], [1.0, \"#f0f921\"]], \"type\": \"histogram2d\"}], \"histogram2dcontour\": [{\"colorbar\": {\"outlinewidth\": 0, \"ticks\": \"\"}, \"colorscale\": [[0.0, \"#0d0887\"], [0.1111111111111111, \"#46039f\"], [0.2222222222222222, \"#7201a8\"], [0.3333333333333333, \"#9c179e\"], [0.4444444444444444, \"#bd3786\"], [0.5555555555555556, \"#d8576b\"], [0.6666666666666666, \"#ed7953\"], [0.7777777777777778, \"#fb9f3a\"], [0.8888888888888888, \"#fdca26\"], [1.0, \"#f0f921\"]], \"type\": \"histogram2dcontour\"}], \"mesh3d\": [{\"colorbar\": {\"outlinewidth\": 0, \"ticks\": \"\"}, \"type\": \"mesh3d\"}], \"parcoords\": [{\"line\": {\"colorbar\": {\"outlinewidth\": 0, \"ticks\": \"\"}}, \"type\": \"parcoords\"}], \"pie\": [{\"automargin\": true, \"type\": \"pie\"}], \"scatter\": [{\"marker\": {\"colorbar\": {\"outlinewidth\": 0, \"ticks\": \"\"}}, \"type\": \"scatter\"}], \"scatter3d\": [{\"line\": {\"colorbar\": {\"outlinewidth\": 0, \"ticks\": \"\"}}, \"marker\": {\"colorbar\": {\"outlinewidth\": 0, \"ticks\": \"\"}}, \"type\": \"scatter3d\"}], \"scattercarpet\": [{\"marker\": {\"colorbar\": {\"outlinewidth\": 0, \"ticks\": \"\"}}, \"type\": \"scattercarpet\"}], \"scattergeo\": [{\"marker\": {\"colorbar\": {\"outlinewidth\": 0, \"ticks\": \"\"}}, \"type\": \"scattergeo\"}], \"scattergl\": [{\"marker\": {\"colorbar\": {\"outlinewidth\": 0, \"ticks\": \"\"}}, \"type\": \"scattergl\"}], \"scattermapbox\": [{\"marker\": {\"colorbar\": {\"outlinewidth\": 0, \"ticks\": \"\"}}, \"type\": \"scattermapbox\"}], \"scatterpolar\": [{\"marker\": {\"colorbar\": {\"outlinewidth\": 0, \"ticks\": \"\"}}, \"type\": \"scatterpolar\"}], \"scatterpolargl\": [{\"marker\": {\"colorbar\": {\"outlinewidth\": 0, \"ticks\": \"\"}}, \"type\": \"scatterpolargl\"}], \"scatterternary\": [{\"marker\": {\"colorbar\": {\"outlinewidth\": 0, \"ticks\": \"\"}}, \"type\": \"scatterternary\"}], \"surface\": [{\"colorbar\": {\"outlinewidth\": 0, \"ticks\": \"\"}, \"colorscale\": [[0.0, \"#0d0887\"], [0.1111111111111111, \"#46039f\"], [0.2222222222222222, \"#7201a8\"], [0.3333333333333333, \"#9c179e\"], [0.4444444444444444, \"#bd3786\"], [0.5555555555555556, \"#d8576b\"], [0.6666666666666666, \"#ed7953\"], [0.7777777777777778, \"#fb9f3a\"], [0.8888888888888888, \"#fdca26\"], [1.0, \"#f0f921\"]], \"type\": \"surface\"}], \"table\": [{\"cells\": {\"fill\": {\"color\": \"#EBF0F8\"}, \"line\": {\"color\": \"white\"}}, \"header\": {\"fill\": {\"color\": \"#C8D4E3\"}, \"line\": {\"color\": \"white\"}}, \"type\": \"table\"}]}, \"layout\": {\"annotationdefaults\": {\"arrowcolor\": \"#2a3f5f\", \"arrowhead\": 0, \"arrowwidth\": 1}, \"autotypenumbers\": \"strict\", \"coloraxis\": {\"colorbar\": {\"outlinewidth\": 0, \"ticks\": \"\"}}, \"colorscale\": {\"diverging\": [[0, \"#8e0152\"], [0.1, \"#c51b7d\"], [0.2, \"#de77ae\"], [0.3, \"#f1b6da\"], [0.4, \"#fde0ef\"], [0.5, \"#f7f7f7\"], [0.6, \"#e6f5d0\"], [0.7, \"#b8e186\"], [0.8, \"#7fbc41\"], [0.9, \"#4d9221\"], [1, \"#276419\"]], \"sequential\": [[0.0, \"#0d0887\"], [0.1111111111111111, \"#46039f\"], [0.2222222222222222, \"#7201a8\"], [0.3333333333333333, \"#9c179e\"], [0.4444444444444444, \"#bd3786\"], [0.5555555555555556, \"#d8576b\"], [0.6666666666666666, \"#ed7953\"], [0.7777777777777778, \"#fb9f3a\"], [0.8888888888888888, \"#fdca26\"], [1.0, \"#f0f921\"]], \"sequentialminus\": [[0.0, \"#0d0887\"], [0.1111111111111111, \"#46039f\"], [0.2222222222222222, \"#7201a8\"], [0.3333333333333333, \"#9c179e\"], [0.4444444444444444, \"#bd3786\"], [0.5555555555555556, \"#d8576b\"], [0.6666666666666666, \"#ed7953\"], [0.7777777777777778, \"#fb9f3a\"], [0.8888888888888888, \"#fdca26\"], [1.0, \"#f0f921\"]]}, \"colorway\": [\"#636efa\", \"#EF553B\", \"#00cc96\", \"#ab63fa\", \"#FFA15A\", \"#19d3f3\", \"#FF6692\", \"#B6E880\", \"#FF97FF\", \"#FECB52\"], \"font\": {\"color\": \"#2a3f5f\"}, \"geo\": {\"bgcolor\": \"white\", \"lakecolor\": \"white\", \"landcolor\": \"#E5ECF6\", \"showlakes\": true, \"showland\": true, \"subunitcolor\": \"white\"}, \"hoverlabel\": {\"align\": \"left\"}, \"hovermode\": \"closest\", \"mapbox\": {\"style\": \"light\"}, \"paper_bgcolor\": \"white\", \"plot_bgcolor\": \"#E5ECF6\", \"polar\": {\"angularaxis\": {\"gridcolor\": \"white\", \"linecolor\": \"white\", \"ticks\": \"\"}, \"bgcolor\": \"#E5ECF6\", \"radialaxis\": {\"gridcolor\": \"white\", \"linecolor\": \"white\", \"ticks\": \"\"}}, \"scene\": {\"xaxis\": {\"backgroundcolor\": \"#E5ECF6\", \"gridcolor\": \"white\", \"gridwidth\": 2, \"linecolor\": \"white\", \"showbackground\": true, \"ticks\": \"\", \"zerolinecolor\": \"white\"}, \"yaxis\": {\"backgroundcolor\": \"#E5ECF6\", \"gridcolor\": \"white\", \"gridwidth\": 2, \"linecolor\": \"white\", \"showbackground\": true, \"ticks\": \"\", \"zerolinecolor\": \"white\"}, \"zaxis\": {\"backgroundcolor\": \"#E5ECF6\", \"gridcolor\": \"white\", \"gridwidth\": 2, \"linecolor\": \"white\", \"showbackground\": true, \"ticks\": \"\", \"zerolinecolor\": \"white\"}}, \"shapedefaults\": {\"line\": {\"color\": \"#2a3f5f\"}}, \"ternary\": {\"aaxis\": {\"gridcolor\": \"white\", \"linecolor\": \"white\", \"ticks\": \"\"}, \"baxis\": {\"gridcolor\": \"white\", \"linecolor\": \"white\", \"ticks\": \"\"}, \"bgcolor\": \"#E5ECF6\", \"caxis\": {\"gridcolor\": \"white\", \"linecolor\": \"white\", \"ticks\": \"\"}}, \"title\": {\"x\": 0.05}, \"xaxis\": {\"automargin\": true, \"gridcolor\": \"white\", \"linecolor\": \"white\", \"ticks\": \"\", \"title\": {\"standoff\": 15}, \"zerolinecolor\": \"white\", \"zerolinewidth\": 2}, \"yaxis\": {\"automargin\": true, \"gridcolor\": \"white\", \"linecolor\": \"white\", \"ticks\": \"\", \"title\": {\"standoff\": 15}, \"zerolinecolor\": \"white\", \"zerolinewidth\": 2}}}, \"title\": {\"text\": \"Trial 0, Neuron 0\"}, \"xaxis\": {\"title\": {\"text\": \"Time (sec)\"}}, \"yaxis\": {\"title\": {\"text\": \"CIF\"}}},                        {\"responsive\": true}                    ).then(function(){\n",
       "                            \n",
       "var gd = document.getElementById('9543ee9b-2058-4c25-a427-370d1567f98f');\n",
       "var x = new MutationObserver(function (mutations, observer) {{\n",
       "        var display = window.getComputedStyle(gd).display;\n",
       "        if (!display || display === 'none') {{\n",
       "            console.log([gd, 'removed!']);\n",
       "            Plotly.purge(gd);\n",
       "            observer.disconnect();\n",
       "        }}\n",
       "}});\n",
       "\n",
       "// Listen for the removal of the full notebook cells\n",
       "var notebookContainer = gd.closest('#notebook-container');\n",
       "if (notebookContainer) {{\n",
       "    x.observe(notebookContainer, {childList: true});\n",
       "}}\n",
       "\n",
       "// Listen for the clearing of the current output cell\n",
       "var outputEl = gd.closest('.output');\n",
       "if (outputEl) {{\n",
       "    x.observe(outputEl, {childList: true});\n",
       "}}\n",
       "\n",
       "                        })                };                });            </script>        </div>"
      ]
     },
     "metadata": {},
     "output_type": "display_data"
    }
   ],
   "source": [
    "tTimesToPlot = trueLatentsTimes[trialToPlot]\n",
    "tCIFValuesToPlot = trueCIFValues[trialToPlot][neuronToPlot]\n",
    "T = torch.tensor(trialsLengths).max()\n",
    "oneTrialCIFTimes = torch.arange(0, T, dtCIF)\n",
    "cifTimes = torch.unsqueeze(torch.ger(torch.ones(nTrials), oneTrialCIFTimes), dim=2)\n",
    "\n",
    "with torch.no_grad():\n",
    "    epmcifValues = model.computeExpectedCIFs(times=cifTimes)\n",
    "epmcifValuesToPlot = epmcifValues[trialToPlot][neuronToPlot]\n",
    "\n",
    "title = \"Trial {:d}, Neuron {:d}\".format(trialToPlot, neuronToPlot)\n",
    "fig = plot.svGPFA.plotUtilsPlotly.getPlotSimulatedAndEstimatedCIFs(tTimes=tTimesToPlot, tCIF=tCIFValuesToPlot, tLabel=\"True\", eMeanTimes=oneTrialCIFTimes, eMeanCIF=epmcifValuesToPlot, eMeanLabel=\"Mean\", ePosteriorMeanTimes=oneTrialCIFTimes, ePosteriorMeanCIF=epmcifValuesToPlot, ePosteriorMeanLabel=\"Posterior Mean\", title=title)\n",
    "fig.show()\n",
    "# IPython.display.HTML(fig.to_html())\n"
   ]
  },
  {
   "cell_type": "markdown",
   "metadata": {
    "id": "2EBxfv0i0vnf"
   },
   "source": [
    "# Plot true and estimated linear embedding parameters"
   ]
  },
  {
   "cell_type": "code",
   "execution_count": 45,
   "metadata": {
    "colab": {
     "base_uri": "https://localhost:8080/",
     "height": 467
    },
    "id": "_JpkDelS02WA",
    "outputId": "38c9cea7-71d5-4028-bd74-c4714e7db0ef"
   },
   "outputs": [
    {
     "data": {
      "application/vnd.plotly.v1+json": {
       "config": {
        "plotlyServerURL": "https://plot.ly"
       },
       "data": [
        {
         "line": {
          "dash": "solid"
         },
         "name": "true C[0]",
         "type": "scatter",
         "x": [
          0,
          1,
          2,
          3,
          4,
          5,
          6,
          7,
          8,
          9,
          10,
          11,
          12,
          13,
          14,
          15,
          16,
          17,
          18,
          19,
          20,
          21,
          22,
          23,
          24,
          25,
          26,
          27,
          28,
          29,
          30,
          31,
          32,
          33,
          34,
          35,
          36,
          37,
          38,
          39,
          40,
          41,
          42,
          43,
          44,
          45,
          46,
          47,
          48,
          49,
          50,
          51,
          52,
          53,
          54,
          55,
          56,
          57,
          58,
          59,
          60,
          61,
          62,
          63,
          64,
          65,
          66,
          67,
          68,
          69,
          70,
          71,
          72,
          73,
          74,
          75,
          76,
          77,
          78,
          79,
          80,
          81,
          82,
          83,
          84,
          85,
          86,
          87,
          88,
          89,
          90,
          91,
          92,
          93,
          94,
          95,
          96,
          97,
          98,
          99
         ],
         "y": [
          4.34381768,
          5.09217003,
          4.34265187,
          2.19886109,
          4.18359179,
          4.84075049,
          4.74070305,
          4.97965126,
          4.24049157,
          3.31293725,
          3.64212343,
          2.85760948,
          4.57704691,
          2.24026673,
          4.09342889,
          6.57103515,
          3.1542391,
          4.53263105,
          4.16940449,
          5.573117099999999,
          5.22555739,
          3.4928236000000004,
          3.86959182,
          3.93104395,
          4.19987557,
          3.34799375,
          3.28656286,
          4.40689773,
          3.00411395,
          3.06478128,
          3.80590945,
          2.87791928,
          3.69684493,
          4.23875432,
          4.62812424,
          4.06792526,
          1.71397614,
          3.80764248,
          4.40920727,
          5.9847052000000005,
          4.17540473,
          4.53396877,
          5.26772177,
          2.31088676,
          3.33107276,
          4.99195862,
          3.30644898,
          1.89965652,
          5.94085165,
          3.91706997,
          3.69657815,
          4.05480491,
          2.15623047,
          4.6203477,
          2.76432375,
          4.31323992,
          3.7240176,
          2.53814943,
          3.66643623,
          5.95448956,
          4.17630711,
          4.87035703,
          4.58115252,
          2.80398139,
          4.74924282,
          3.44198844,
          2.69091987,
          3.51412889,
          3.34222107,
          3.47836568,
          4.45858575,
          2.96106977,
          2.49052383,
          5.80510577,
          4.68639993,
          4.15595182,
          3.86508543,
          3.72747937,
          3.03824828,
          4.85546601,
          2.88686832,
          3.47964652,
          4.47931472,
          3.86935771,
          3.05835746,
          4.63218841,
          2.55337691,
          3.02815218,
          3.25322352,
          2.37654925,
          4.02464088,
          4.12712382,
          4.22828725,
          3.88139891,
          4.50095332,
          3.57310157,
          2.20837009,
          3.7142218999999996,
          4.30272224,
          3.9510769999999997
         ]
        },
        {
         "line": {
          "dash": "dash"
         },
         "name": "estimated C[0]",
         "type": "scatter",
         "x": [
          0,
          1,
          2,
          3,
          4,
          5,
          6,
          7,
          8,
          9,
          10,
          11,
          12,
          13,
          14,
          15,
          16,
          17,
          18,
          19,
          20,
          21,
          22,
          23,
          24,
          25,
          26,
          27,
          28,
          29,
          30,
          31,
          32,
          33,
          34,
          35,
          36,
          37,
          38,
          39,
          40,
          41,
          42,
          43,
          44,
          45,
          46,
          47,
          48,
          49,
          50,
          51,
          52,
          53,
          54,
          55,
          56,
          57,
          58,
          59,
          60,
          61,
          62,
          63,
          64,
          65,
          66,
          67,
          68,
          69,
          70,
          71,
          72,
          73,
          74,
          75,
          76,
          77,
          78,
          79,
          80,
          81,
          82,
          83,
          84,
          85,
          86,
          87,
          88,
          89,
          90,
          91,
          92,
          93,
          94,
          95,
          96,
          97,
          98,
          99
         ],
         "y": [
          -4.622866433670544,
          -4.650718042426233,
          -4.749949165910052,
          -3.842489877818416,
          -4.704688095002857,
          -5.209151469234547,
          -4.357844034254347,
          -4.70090202801911,
          -4.216225338978477,
          -4.928249604888216,
          -4.958502939372493,
          -4.11282370695212,
          -5.029759610676011,
          -3.842131914045016,
          -4.908640742826209,
          -3.9723237757329715,
          -4.932270000252636,
          -4.595200225203561,
          -4.717564624746558,
          -4.454817359893327,
          -4.351124921498906,
          -4.704444814232396,
          -5.727781652042049,
          -4.634703525918904,
          -4.6540293275841575,
          -4.275324949496672,
          -4.915777230492109,
          -4.451291790949953,
          -4.314252128966603,
          -5.3030735977992185,
          -4.53444499606367,
          -3.792926953713482,
          -4.946445167551061,
          -4.901983597909025,
          -5.181615204540481,
          -4.55533402886447,
          -3.2365300987940144,
          -4.707006728813529,
          -4.659576984348732,
          -4.39187526547245,
          -4.773170063370272,
          -5.257812560733861,
          -4.779394480363386,
          -3.89009336977229,
          -5.481513098056551,
          -4.815804035876538,
          -5.1648235394500395,
          -3.2809707677934723,
          -4.649043024108982,
          -5.855056680102229,
          -5.126799853744598,
          -4.8345625629946545,
          -3.009233392204753,
          -4.969262730372525,
          -4.159059040729229,
          -4.8121014970385145,
          -4.651196651773553,
          -4.280283757248725,
          -5.079882932845848,
          -4.292650823157112,
          -5.486038649857712,
          -5.039426388467647,
          -4.725387497154794,
          -4.670123008076148,
          -4.0875548577375795,
          -5.075584237473835,
          -3.384791523302729,
          -4.873855719110665,
          -4.909364864626321,
          -4.78372187957161,
          -4.856696635723945,
          -4.7271049359103925,
          -3.6317108873400072,
          -4.7825606924767685,
          -4.527818710806653,
          -5.107786299153003,
          -5.109780399232098,
          -4.1478000172855545,
          -4.1098310885745075,
          -4.887766485348759,
          -4.4850564984459185,
          -4.797747821426668,
          -4.999140136842582,
          -5.255182061614932,
          -4.467079294828611,
          -4.849975323875349,
          -4.613135219555709,
          -5.030630424138796,
          -4.922982130349388,
          -3.89921474549081,
          -5.194497486215529,
          -5.348035642154795,
          -4.811786348200507,
          -4.895399981590197,
          -4.73582926519781,
          -5.114893204597529,
          -3.785842920512603,
          -5.103850298036903,
          -5.269692891081758,
          -4.7318934331021625
         ]
        },
        {
         "line": {
          "dash": "solid"
         },
         "name": "true C[1]",
         "type": "scatter",
         "x": [
          0,
          1,
          2,
          3,
          4,
          5,
          6,
          7,
          8,
          9,
          10,
          11,
          12,
          13,
          14,
          15,
          16,
          17,
          18,
          19,
          20,
          21,
          22,
          23,
          24,
          25,
          26,
          27,
          28,
          29,
          30,
          31,
          32,
          33,
          34,
          35,
          36,
          37,
          38,
          39,
          40,
          41,
          42,
          43,
          44,
          45,
          46,
          47,
          48,
          49,
          50,
          51,
          52,
          53,
          54,
          55,
          56,
          57,
          58,
          59,
          60,
          61,
          62,
          63,
          64,
          65,
          66,
          67,
          68,
          69,
          70,
          71,
          72,
          73,
          74,
          75,
          76,
          77,
          78,
          79,
          80,
          81,
          82,
          83,
          84,
          85,
          86,
          87,
          88,
          89,
          90,
          91,
          92,
          93,
          94,
          95,
          96,
          97,
          98,
          99
         ],
         "y": [
          1.17953515,
          1.25418682,
          1.054768,
          1.43584557,
          1.25124645,
          0.60389874,
          0.96262929,
          0.95234903,
          1.59934751,
          1.42103238,
          0.70928361,
          1.28572476,
          0.84628519,
          0.95931909,
          1.10415692,
          1.23481509,
          0.68459601,
          0.90445026,
          1.03550087,
          0.88478589,
          1.27423219,
          0.8464332,
          0.51546637,
          1.01196445,
          1.23156169,
          0.4615218,
          0.95101128,
          1.21311727,
          0.46282332,
          0.6720043000000001,
          1.75053444,
          0.95467887,
          1.07535114,
          0.57445174,
          0.68330516,
          0.59403576,
          0.968326,
          1.2321369,
          1.36759496,
          1.14456189,
          0.91337776,
          0.81874218,
          0.95437924,
          0.84581813,
          0.96991437,
          0.47260687,
          0.81059656,
          1.14616081,
          0.76757648,
          0.64879432,
          0.9203054,
          1.00336007,
          0.70203407,
          0.61262979,
          1.15816876,
          1.23425203,
          1.17650758,
          1.49814446,
          0.63764918,
          1.39133111,
          0.95407391,
          0.70186489,
          1.07967773,
          1.92228974,
          1.90998464,
          1.18755252,
          0.62812494,
          1.45612757,
          1.56958873,
          1.19966726,
          1.5400623,
          1.44048585,
          1.10710068,
          0.49819876,
          1.16750497,
          0.73828192,
          0.73535125,
          1.84794422,
          0.38845794,
          0.89951011,
          1.01232085,
          1.04247795,
          0.50759847,
          0.81411018,
          1.38677389,
          1.12881975,
          0.78747125,
          1.31993636,
          0.76004644,
          0.92304356,
          1.10500374,
          0.71854348,
          1.29552991,
          1.10726571,
          0.7905869000000001,
          0.78320263,
          0.91872446,
          1.24260446,
          0.65508821,
          0.83888896
         ]
        },
        {
         "line": {
          "dash": "dash"
         },
         "name": "estimated C[1]",
         "type": "scatter",
         "x": [
          0,
          1,
          2,
          3,
          4,
          5,
          6,
          7,
          8,
          9,
          10,
          11,
          12,
          13,
          14,
          15,
          16,
          17,
          18,
          19,
          20,
          21,
          22,
          23,
          24,
          25,
          26,
          27,
          28,
          29,
          30,
          31,
          32,
          33,
          34,
          35,
          36,
          37,
          38,
          39,
          40,
          41,
          42,
          43,
          44,
          45,
          46,
          47,
          48,
          49,
          50,
          51,
          52,
          53,
          54,
          55,
          56,
          57,
          58,
          59,
          60,
          61,
          62,
          63,
          64,
          65,
          66,
          67,
          68,
          69,
          70,
          71,
          72,
          73,
          74,
          75,
          76,
          77,
          78,
          79,
          80,
          81,
          82,
          83,
          84,
          85,
          86,
          87,
          88,
          89,
          90,
          91,
          92,
          93,
          94,
          95,
          96,
          97,
          98,
          99
         ],
         "y": [
          0.11419018621790827,
          0.06629341239491064,
          0.07310502971879872,
          1.4766327865359907,
          0.4517247162521004,
          -0.7761063941612913,
          -0.05085171263008876,
          -0.36172210647368314,
          0.6494244756884426,
          1.0686765726510572,
          -0.1596554216298305,
          0.7224007882723203,
          -0.38395252263974383,
          0.7152265224187281,
          0.012038988357459951,
          -0.34143139505966597,
          -0.10260351346422175,
          -0.35921002172956723,
          0.11839177628096381,
          -0.5138955789377775,
          -0.08996023043218432,
          0.18638190144798705,
          -0.7630603467250866,
          0.06671256924686975,
          0.19317336901425577,
          -0.6637227272126459,
          0.2767592774638087,
          0.18977320666213846,
          -0.31611819032601285,
          0.014899334718327379,
          1.1029220965486073,
          0.5046314793623389,
          0.25150916412215457,
          -0.6676067643137249,
          -0.6116244226587463,
          -0.5819352131468642,
          0.9321340897297021,
          0.5049839835355698,
          0.32107893065628695,
          -0.2344422749944934,
          -0.01844857848167066,
          -0.3295689181130524,
          -0.3602873882831034,
          0.38330732505650666,
          0.28280855220659384,
          -0.8794688242481147,
          0.19770296985527364,
          1.0927177205660892,
          -0.630610079586918,
          -0.5227830337104988,
          -0.038792793211862776,
          0.028870633259451117,
          0.20508137109779112,
          -0.7518846382554659,
          0.7695702064225237,
          0.23860573625058076,
          0.5217604908467799,
          1.5713917392777295,
          -0.32355073391888667,
          -0.1312287300440838,
          -0.02717761844681747,
          -0.48300865337520116,
          -0.024543028351190162,
          1.9108544457019363,
          0.8199904904023472,
          0.6440467207401657,
          0.18373091213218762,
          0.8916044758295019,
          1.0906151019772348,
          0.6689316420984495,
          0.6234133430012,
          1.1155917560364628,
          0.9338799856723468,
          -1.0591993014423409,
          -0.04338384581446711,
          -0.4289441099941079,
          -0.3402653943774604,
          1.049087854318077,
          -0.5102382748101855,
          -0.27508126794431836,
          0.6860487325415506,
          0.39644572791191207,
          -0.7371740161143445,
          -0.09575351321522135,
          1.020548103349853,
          -0.05538991158245367,
          0.24112562309093413,
          0.7426987569166585,
          0.045091182439332585,
          0.562620106420269,
          0.06678736419454503,
          -0.3812141016036493,
          0.24064746920025598,
          0.12975922027168552,
          -0.27007566963149343,
          0.1961290069592806,
          0.5569186372921122,
          0.41801520734782305,
          -0.4465488392491923,
          -0.1883111450746954
         ]
        },
        {
         "line": {
          "dash": "solid"
         },
         "name": "true d",
         "type": "scatter",
         "x": [
          0,
          1,
          2,
          3,
          4,
          5,
          6,
          7,
          8,
          9,
          10,
          11,
          12,
          13,
          14,
          15,
          16,
          17,
          18,
          19,
          20,
          21,
          22,
          23,
          24,
          25,
          26,
          27,
          28,
          29,
          30,
          31,
          32,
          33,
          34,
          35,
          36,
          37,
          38,
          39,
          40,
          41,
          42,
          43,
          44,
          45,
          46,
          47,
          48,
          49,
          50,
          51,
          52,
          53,
          54,
          55,
          56,
          57,
          58,
          59,
          60,
          61,
          62,
          63,
          64,
          65,
          66,
          67,
          68,
          69,
          70,
          71,
          72,
          73,
          74,
          75,
          76,
          77,
          78,
          79,
          80,
          81,
          82,
          83,
          84,
          85,
          86,
          87,
          88,
          89,
          90,
          91,
          92,
          93,
          94,
          95,
          96,
          97,
          98,
          99
         ],
         "y": [
          0.80932416,
          1.22056921,
          1.11007406,
          0.85629896,
          1.23685894,
          0.86116815,
          1.73633768,
          0.57482973,
          1.46456187,
          1.26857354,
          1.05378444,
          0.96622798,
          1.12050408,
          1.36410212,
          1.17737678,
          1.1619099,
          1.12530041,
          1.81304179,
          0.92501173,
          1.24855658,
          1.12785509,
          1.00439368,
          0.71862836,
          1.00309261,
          0.34058782,
          0.92027224,
          0.55358631,
          0.95120214,
          1.1832155,
          1.27723652,
          1.06093246,
          1.27660028,
          1.23388305,
          1.01229211,
          1.06902742,
          1.39155789,
          1.1585128999999998,
          1.20430616,
          0.89219805,
          1.06312696,
          1.20440313,
          0.90697948,
          0.78653216,
          0.65228998,
          1.01016383,
          0.8896431999999999,
          1.01374991,
          1.04580552,
          0.98075361,
          1.35787377,
          1.53696653,
          1.02771861,
          1.16292026,
          0.91910475,
          0.57459316,
          1.21605178,
          0.67153223,
          0.62252835,
          1.45517928,
          1.02423403,
          0.89570129,
          0.71581276,
          1.19327271,
          1.245547,
          0.95802479,
          0.55728182,
          0.29233597,
          0.80194884,
          0.94200076,
          1.29081696,
          0.69925013,
          1.45015894,
          0.65505554,
          0.89387779,
          1.44816068,
          1.60682583,
          0.64994582,
          1.11026774,
          1.32071974,
          0.90217894,
          1.01155846,
          1.15852267,
          0.83250625,
          1.37561986,
          0.99948977,
          1.05166586,
          1.33897989,
          1.16531793,
          0.77464046,
          0.95527666,
          1.74712383,
          1.25907388,
          0.96530877,
          0.78082049,
          1.21536286,
          1.3539459999999999,
          0.74077128,
          1.24491754,
          1.35612154,
          0.9343792
         ]
        },
        {
         "line": {
          "dash": "dash"
         },
         "name": "estimated d",
         "type": "scatter",
         "x": [
          0,
          1,
          2,
          3,
          4,
          5,
          6,
          7,
          8,
          9,
          10,
          11,
          12,
          13,
          14,
          15,
          16,
          17,
          18,
          19,
          20,
          21,
          22,
          23,
          24,
          25,
          26,
          27,
          28,
          29,
          30,
          31,
          32,
          33,
          34,
          35,
          36,
          37,
          38,
          39,
          40,
          41,
          42,
          43,
          44,
          45,
          46,
          47,
          48,
          49,
          50,
          51,
          52,
          53,
          54,
          55,
          56,
          57,
          58,
          59,
          60,
          61,
          62,
          63,
          64,
          65,
          66,
          67,
          68,
          69,
          70,
          71,
          72,
          73,
          74,
          75,
          76,
          77,
          78,
          79,
          80,
          81,
          82,
          83,
          84,
          85,
          86,
          87,
          88,
          89,
          90,
          91,
          92,
          93,
          94,
          95,
          96,
          97,
          98,
          99
         ],
         "y": [
          2.956867654168472,
          3.0756527184774316,
          2.924985946239991,
          2.3344697064867845,
          2.9112646956065418,
          2.78462580372002,
          3.0912955859072975,
          3.018374734764622,
          3.1348897433618155,
          2.5491532999566338,
          2.509608465616013,
          2.594389457523231,
          2.823426901009888,
          2.0892825015515957,
          2.8100739365693155,
          3.364547539428463,
          2.335269124038796,
          2.9692629680416793,
          2.8879410280290654,
          3.1516966690467036,
          3.185273447218988,
          2.596037142883235,
          2.3351470114335706,
          2.8167474766808995,
          2.9279634563405357,
          2.530374754417267,
          2.492839447862669,
          3.0327193825552214,
          2.4123606025173827,
          2.185660118798309,
          2.9369757215294148,
          2.5095480515642823,
          2.678765631068648,
          2.771577097676121,
          2.7832701436308818,
          2.826493153985754,
          1.992536368212736,
          2.7504229434462903,
          3.0146718517768076,
          3.2022890446629413,
          2.8007385862887477,
          2.7497214417945104,
          3.0354983054866778,
          2.1807139623275633,
          2.2899961457868496,
          2.912534035002576,
          2.3598601427811277,
          2.193360165793798,
          3.0908702309653773,
          2.3679842874758084,
          2.6243251918858856,
          2.82930234020628,
          2.234165117512851,
          2.827277891026089,
          2.4299357392561283,
          2.925966286573139,
          2.729084282805774,
          2.418110257668013,
          2.4785419872580468,
          3.2538136859940106,
          2.675227415591183,
          2.8663743089887035,
          2.9821213074919144,
          2.525916581607302,
          3.2401421945735893,
          2.5458947298464434,
          2.478307241571088,
          2.6828059310314436,
          2.6502032215340003,
          2.689835184338931,
          2.926396805797561,
          2.492383765220957,
          2.3630588736066422,
          2.9964759755603363,
          3.065382313246468,
          2.6975465802459313,
          2.5643111216620524,
          3.0341631952806627,
          2.347568164517749,
          2.9389021952045047,
          2.446678825773407,
          2.553671784275553,
          2.76639723695349,
          2.576580162260436,
          2.623308245533168,
          2.945237885574003,
          2.149518506670958,
          2.452945694240068,
          2.378237783849839,
          2.231443064052847,
          2.6899584719483864,
          2.631812318246424,
          2.894255348223266,
          2.7462417401525543,
          2.9079804572904417,
          2.4847028082728797,
          2.1451180461452766,
          2.6120048531305455,
          2.657037835286034,
          2.76147856296459
         ]
        }
       ],
       "layout": {
        "template": {
         "data": {
          "bar": [
           {
            "error_x": {
             "color": "#2a3f5f"
            },
            "error_y": {
             "color": "#2a3f5f"
            },
            "marker": {
             "line": {
              "color": "#E5ECF6",
              "width": 0.5
             }
            },
            "type": "bar"
           }
          ],
          "barpolar": [
           {
            "marker": {
             "line": {
              "color": "#E5ECF6",
              "width": 0.5
             }
            },
            "type": "barpolar"
           }
          ],
          "carpet": [
           {
            "aaxis": {
             "endlinecolor": "#2a3f5f",
             "gridcolor": "white",
             "linecolor": "white",
             "minorgridcolor": "white",
             "startlinecolor": "#2a3f5f"
            },
            "baxis": {
             "endlinecolor": "#2a3f5f",
             "gridcolor": "white",
             "linecolor": "white",
             "minorgridcolor": "white",
             "startlinecolor": "#2a3f5f"
            },
            "type": "carpet"
           }
          ],
          "choropleth": [
           {
            "colorbar": {
             "outlinewidth": 0,
             "ticks": ""
            },
            "type": "choropleth"
           }
          ],
          "contour": [
           {
            "colorbar": {
             "outlinewidth": 0,
             "ticks": ""
            },
            "colorscale": [
             [
              0,
              "#0d0887"
             ],
             [
              0.1111111111111111,
              "#46039f"
             ],
             [
              0.2222222222222222,
              "#7201a8"
             ],
             [
              0.3333333333333333,
              "#9c179e"
             ],
             [
              0.4444444444444444,
              "#bd3786"
             ],
             [
              0.5555555555555556,
              "#d8576b"
             ],
             [
              0.6666666666666666,
              "#ed7953"
             ],
             [
              0.7777777777777778,
              "#fb9f3a"
             ],
             [
              0.8888888888888888,
              "#fdca26"
             ],
             [
              1,
              "#f0f921"
             ]
            ],
            "type": "contour"
           }
          ],
          "contourcarpet": [
           {
            "colorbar": {
             "outlinewidth": 0,
             "ticks": ""
            },
            "type": "contourcarpet"
           }
          ],
          "heatmap": [
           {
            "colorbar": {
             "outlinewidth": 0,
             "ticks": ""
            },
            "colorscale": [
             [
              0,
              "#0d0887"
             ],
             [
              0.1111111111111111,
              "#46039f"
             ],
             [
              0.2222222222222222,
              "#7201a8"
             ],
             [
              0.3333333333333333,
              "#9c179e"
             ],
             [
              0.4444444444444444,
              "#bd3786"
             ],
             [
              0.5555555555555556,
              "#d8576b"
             ],
             [
              0.6666666666666666,
              "#ed7953"
             ],
             [
              0.7777777777777778,
              "#fb9f3a"
             ],
             [
              0.8888888888888888,
              "#fdca26"
             ],
             [
              1,
              "#f0f921"
             ]
            ],
            "type": "heatmap"
           }
          ],
          "heatmapgl": [
           {
            "colorbar": {
             "outlinewidth": 0,
             "ticks": ""
            },
            "colorscale": [
             [
              0,
              "#0d0887"
             ],
             [
              0.1111111111111111,
              "#46039f"
             ],
             [
              0.2222222222222222,
              "#7201a8"
             ],
             [
              0.3333333333333333,
              "#9c179e"
             ],
             [
              0.4444444444444444,
              "#bd3786"
             ],
             [
              0.5555555555555556,
              "#d8576b"
             ],
             [
              0.6666666666666666,
              "#ed7953"
             ],
             [
              0.7777777777777778,
              "#fb9f3a"
             ],
             [
              0.8888888888888888,
              "#fdca26"
             ],
             [
              1,
              "#f0f921"
             ]
            ],
            "type": "heatmapgl"
           }
          ],
          "histogram": [
           {
            "marker": {
             "colorbar": {
              "outlinewidth": 0,
              "ticks": ""
             }
            },
            "type": "histogram"
           }
          ],
          "histogram2d": [
           {
            "colorbar": {
             "outlinewidth": 0,
             "ticks": ""
            },
            "colorscale": [
             [
              0,
              "#0d0887"
             ],
             [
              0.1111111111111111,
              "#46039f"
             ],
             [
              0.2222222222222222,
              "#7201a8"
             ],
             [
              0.3333333333333333,
              "#9c179e"
             ],
             [
              0.4444444444444444,
              "#bd3786"
             ],
             [
              0.5555555555555556,
              "#d8576b"
             ],
             [
              0.6666666666666666,
              "#ed7953"
             ],
             [
              0.7777777777777778,
              "#fb9f3a"
             ],
             [
              0.8888888888888888,
              "#fdca26"
             ],
             [
              1,
              "#f0f921"
             ]
            ],
            "type": "histogram2d"
           }
          ],
          "histogram2dcontour": [
           {
            "colorbar": {
             "outlinewidth": 0,
             "ticks": ""
            },
            "colorscale": [
             [
              0,
              "#0d0887"
             ],
             [
              0.1111111111111111,
              "#46039f"
             ],
             [
              0.2222222222222222,
              "#7201a8"
             ],
             [
              0.3333333333333333,
              "#9c179e"
             ],
             [
              0.4444444444444444,
              "#bd3786"
             ],
             [
              0.5555555555555556,
              "#d8576b"
             ],
             [
              0.6666666666666666,
              "#ed7953"
             ],
             [
              0.7777777777777778,
              "#fb9f3a"
             ],
             [
              0.8888888888888888,
              "#fdca26"
             ],
             [
              1,
              "#f0f921"
             ]
            ],
            "type": "histogram2dcontour"
           }
          ],
          "mesh3d": [
           {
            "colorbar": {
             "outlinewidth": 0,
             "ticks": ""
            },
            "type": "mesh3d"
           }
          ],
          "parcoords": [
           {
            "line": {
             "colorbar": {
              "outlinewidth": 0,
              "ticks": ""
             }
            },
            "type": "parcoords"
           }
          ],
          "pie": [
           {
            "automargin": true,
            "type": "pie"
           }
          ],
          "scatter": [
           {
            "marker": {
             "colorbar": {
              "outlinewidth": 0,
              "ticks": ""
             }
            },
            "type": "scatter"
           }
          ],
          "scatter3d": [
           {
            "line": {
             "colorbar": {
              "outlinewidth": 0,
              "ticks": ""
             }
            },
            "marker": {
             "colorbar": {
              "outlinewidth": 0,
              "ticks": ""
             }
            },
            "type": "scatter3d"
           }
          ],
          "scattercarpet": [
           {
            "marker": {
             "colorbar": {
              "outlinewidth": 0,
              "ticks": ""
             }
            },
            "type": "scattercarpet"
           }
          ],
          "scattergeo": [
           {
            "marker": {
             "colorbar": {
              "outlinewidth": 0,
              "ticks": ""
             }
            },
            "type": "scattergeo"
           }
          ],
          "scattergl": [
           {
            "marker": {
             "colorbar": {
              "outlinewidth": 0,
              "ticks": ""
             }
            },
            "type": "scattergl"
           }
          ],
          "scattermapbox": [
           {
            "marker": {
             "colorbar": {
              "outlinewidth": 0,
              "ticks": ""
             }
            },
            "type": "scattermapbox"
           }
          ],
          "scatterpolar": [
           {
            "marker": {
             "colorbar": {
              "outlinewidth": 0,
              "ticks": ""
             }
            },
            "type": "scatterpolar"
           }
          ],
          "scatterpolargl": [
           {
            "marker": {
             "colorbar": {
              "outlinewidth": 0,
              "ticks": ""
             }
            },
            "type": "scatterpolargl"
           }
          ],
          "scatterternary": [
           {
            "marker": {
             "colorbar": {
              "outlinewidth": 0,
              "ticks": ""
             }
            },
            "type": "scatterternary"
           }
          ],
          "surface": [
           {
            "colorbar": {
             "outlinewidth": 0,
             "ticks": ""
            },
            "colorscale": [
             [
              0,
              "#0d0887"
             ],
             [
              0.1111111111111111,
              "#46039f"
             ],
             [
              0.2222222222222222,
              "#7201a8"
             ],
             [
              0.3333333333333333,
              "#9c179e"
             ],
             [
              0.4444444444444444,
              "#bd3786"
             ],
             [
              0.5555555555555556,
              "#d8576b"
             ],
             [
              0.6666666666666666,
              "#ed7953"
             ],
             [
              0.7777777777777778,
              "#fb9f3a"
             ],
             [
              0.8888888888888888,
              "#fdca26"
             ],
             [
              1,
              "#f0f921"
             ]
            ],
            "type": "surface"
           }
          ],
          "table": [
           {
            "cells": {
             "fill": {
              "color": "#EBF0F8"
             },
             "line": {
              "color": "white"
             }
            },
            "header": {
             "fill": {
              "color": "#C8D4E3"
             },
             "line": {
              "color": "white"
             }
            },
            "type": "table"
           }
          ]
         },
         "layout": {
          "annotationdefaults": {
           "arrowcolor": "#2a3f5f",
           "arrowhead": 0,
           "arrowwidth": 1
          },
          "autotypenumbers": "strict",
          "coloraxis": {
           "colorbar": {
            "outlinewidth": 0,
            "ticks": ""
           }
          },
          "colorscale": {
           "diverging": [
            [
             0,
             "#8e0152"
            ],
            [
             0.1,
             "#c51b7d"
            ],
            [
             0.2,
             "#de77ae"
            ],
            [
             0.3,
             "#f1b6da"
            ],
            [
             0.4,
             "#fde0ef"
            ],
            [
             0.5,
             "#f7f7f7"
            ],
            [
             0.6,
             "#e6f5d0"
            ],
            [
             0.7,
             "#b8e186"
            ],
            [
             0.8,
             "#7fbc41"
            ],
            [
             0.9,
             "#4d9221"
            ],
            [
             1,
             "#276419"
            ]
           ],
           "sequential": [
            [
             0,
             "#0d0887"
            ],
            [
             0.1111111111111111,
             "#46039f"
            ],
            [
             0.2222222222222222,
             "#7201a8"
            ],
            [
             0.3333333333333333,
             "#9c179e"
            ],
            [
             0.4444444444444444,
             "#bd3786"
            ],
            [
             0.5555555555555556,
             "#d8576b"
            ],
            [
             0.6666666666666666,
             "#ed7953"
            ],
            [
             0.7777777777777778,
             "#fb9f3a"
            ],
            [
             0.8888888888888888,
             "#fdca26"
            ],
            [
             1,
             "#f0f921"
            ]
           ],
           "sequentialminus": [
            [
             0,
             "#0d0887"
            ],
            [
             0.1111111111111111,
             "#46039f"
            ],
            [
             0.2222222222222222,
             "#7201a8"
            ],
            [
             0.3333333333333333,
             "#9c179e"
            ],
            [
             0.4444444444444444,
             "#bd3786"
            ],
            [
             0.5555555555555556,
             "#d8576b"
            ],
            [
             0.6666666666666666,
             "#ed7953"
            ],
            [
             0.7777777777777778,
             "#fb9f3a"
            ],
            [
             0.8888888888888888,
             "#fdca26"
            ],
            [
             1,
             "#f0f921"
            ]
           ]
          },
          "colorway": [
           "#636efa",
           "#EF553B",
           "#00cc96",
           "#ab63fa",
           "#FFA15A",
           "#19d3f3",
           "#FF6692",
           "#B6E880",
           "#FF97FF",
           "#FECB52"
          ],
          "font": {
           "color": "#2a3f5f"
          },
          "geo": {
           "bgcolor": "white",
           "lakecolor": "white",
           "landcolor": "#E5ECF6",
           "showlakes": true,
           "showland": true,
           "subunitcolor": "white"
          },
          "hoverlabel": {
           "align": "left"
          },
          "hovermode": "closest",
          "mapbox": {
           "style": "light"
          },
          "paper_bgcolor": "white",
          "plot_bgcolor": "#E5ECF6",
          "polar": {
           "angularaxis": {
            "gridcolor": "white",
            "linecolor": "white",
            "ticks": ""
           },
           "bgcolor": "#E5ECF6",
           "radialaxis": {
            "gridcolor": "white",
            "linecolor": "white",
            "ticks": ""
           }
          },
          "scene": {
           "xaxis": {
            "backgroundcolor": "#E5ECF6",
            "gridcolor": "white",
            "gridwidth": 2,
            "linecolor": "white",
            "showbackground": true,
            "ticks": "",
            "zerolinecolor": "white"
           },
           "yaxis": {
            "backgroundcolor": "#E5ECF6",
            "gridcolor": "white",
            "gridwidth": 2,
            "linecolor": "white",
            "showbackground": true,
            "ticks": "",
            "zerolinecolor": "white"
           },
           "zaxis": {
            "backgroundcolor": "#E5ECF6",
            "gridcolor": "white",
            "gridwidth": 2,
            "linecolor": "white",
            "showbackground": true,
            "ticks": "",
            "zerolinecolor": "white"
           }
          },
          "shapedefaults": {
           "line": {
            "color": "#2a3f5f"
           }
          },
          "ternary": {
           "aaxis": {
            "gridcolor": "white",
            "linecolor": "white",
            "ticks": ""
           },
           "baxis": {
            "gridcolor": "white",
            "linecolor": "white",
            "ticks": ""
           },
           "bgcolor": "#E5ECF6",
           "caxis": {
            "gridcolor": "white",
            "linecolor": "white",
            "ticks": ""
           }
          },
          "title": {
           "x": 0.05
          },
          "xaxis": {
           "automargin": true,
           "gridcolor": "white",
           "linecolor": "white",
           "ticks": "",
           "title": {
            "standoff": 15
           },
           "zerolinecolor": "white",
           "zerolinewidth": 2
          },
          "yaxis": {
           "automargin": true,
           "gridcolor": "white",
           "linecolor": "white",
           "ticks": "",
           "title": {
            "standoff": 15
           },
           "zerolinecolor": "white",
           "zerolinewidth": 2
          }
         }
        },
        "xaxis": {
         "title": {
          "text": "Neuron Index"
         }
        },
        "yaxis": {
         "title": {
          "text": "Coefficient Value"
         }
        }
       }
      },
      "text/html": [
       "<div>                            <div id=\"dc712a71-21e8-463d-9c91-0b7fa1f30336\" class=\"plotly-graph-div\" style=\"height:525px; width:100%;\"></div>            <script type=\"text/javascript\">                require([\"plotly\"], function(Plotly) {                    window.PLOTLYENV=window.PLOTLYENV || {};                                    if (document.getElementById(\"dc712a71-21e8-463d-9c91-0b7fa1f30336\")) {                    Plotly.newPlot(                        \"dc712a71-21e8-463d-9c91-0b7fa1f30336\",                        [{\"line\": {\"dash\": \"solid\"}, \"name\": \"true C[0]\", \"type\": \"scatter\", \"x\": [0, 1, 2, 3, 4, 5, 6, 7, 8, 9, 10, 11, 12, 13, 14, 15, 16, 17, 18, 19, 20, 21, 22, 23, 24, 25, 26, 27, 28, 29, 30, 31, 32, 33, 34, 35, 36, 37, 38, 39, 40, 41, 42, 43, 44, 45, 46, 47, 48, 49, 50, 51, 52, 53, 54, 55, 56, 57, 58, 59, 60, 61, 62, 63, 64, 65, 66, 67, 68, 69, 70, 71, 72, 73, 74, 75, 76, 77, 78, 79, 80, 81, 82, 83, 84, 85, 86, 87, 88, 89, 90, 91, 92, 93, 94, 95, 96, 97, 98, 99], \"y\": [4.34381768, 5.09217003, 4.34265187, 2.19886109, 4.18359179, 4.84075049, 4.74070305, 4.97965126, 4.24049157, 3.31293725, 3.64212343, 2.85760948, 4.57704691, 2.24026673, 4.09342889, 6.57103515, 3.1542391, 4.53263105, 4.16940449, 5.573117099999999, 5.22555739, 3.4928236000000004, 3.86959182, 3.93104395, 4.19987557, 3.34799375, 3.28656286, 4.40689773, 3.00411395, 3.06478128, 3.80590945, 2.87791928, 3.69684493, 4.23875432, 4.62812424, 4.06792526, 1.71397614, 3.80764248, 4.40920727, 5.9847052000000005, 4.17540473, 4.53396877, 5.26772177, 2.31088676, 3.33107276, 4.99195862, 3.30644898, 1.89965652, 5.94085165, 3.91706997, 3.69657815, 4.05480491, 2.15623047, 4.6203477, 2.76432375, 4.31323992, 3.7240176, 2.53814943, 3.66643623, 5.95448956, 4.17630711, 4.87035703, 4.58115252, 2.80398139, 4.74924282, 3.44198844, 2.69091987, 3.51412889, 3.34222107, 3.47836568, 4.45858575, 2.96106977, 2.49052383, 5.80510577, 4.68639993, 4.15595182, 3.86508543, 3.72747937, 3.03824828, 4.85546601, 2.88686832, 3.47964652, 4.47931472, 3.86935771, 3.05835746, 4.63218841, 2.55337691, 3.02815218, 3.25322352, 2.37654925, 4.02464088, 4.12712382, 4.22828725, 3.88139891, 4.50095332, 3.57310157, 2.20837009, 3.7142218999999996, 4.30272224, 3.9510769999999997]}, {\"line\": {\"dash\": \"dash\"}, \"name\": \"estimated C[0]\", \"type\": \"scatter\", \"x\": [0, 1, 2, 3, 4, 5, 6, 7, 8, 9, 10, 11, 12, 13, 14, 15, 16, 17, 18, 19, 20, 21, 22, 23, 24, 25, 26, 27, 28, 29, 30, 31, 32, 33, 34, 35, 36, 37, 38, 39, 40, 41, 42, 43, 44, 45, 46, 47, 48, 49, 50, 51, 52, 53, 54, 55, 56, 57, 58, 59, 60, 61, 62, 63, 64, 65, 66, 67, 68, 69, 70, 71, 72, 73, 74, 75, 76, 77, 78, 79, 80, 81, 82, 83, 84, 85, 86, 87, 88, 89, 90, 91, 92, 93, 94, 95, 96, 97, 98, 99], \"y\": [-4.622866433670544, -4.650718042426233, -4.749949165910052, -3.842489877818416, -4.704688095002857, -5.209151469234547, -4.357844034254347, -4.70090202801911, -4.216225338978477, -4.928249604888216, -4.958502939372493, -4.11282370695212, -5.029759610676011, -3.842131914045016, -4.908640742826209, -3.9723237757329715, -4.932270000252636, -4.595200225203561, -4.717564624746558, -4.454817359893327, -4.351124921498906, -4.704444814232396, -5.727781652042049, -4.634703525918904, -4.6540293275841575, -4.275324949496672, -4.915777230492109, -4.451291790949953, -4.314252128966603, -5.3030735977992185, -4.53444499606367, -3.792926953713482, -4.946445167551061, -4.901983597909025, -5.181615204540481, -4.55533402886447, -3.2365300987940144, -4.707006728813529, -4.659576984348732, -4.39187526547245, -4.773170063370272, -5.257812560733861, -4.779394480363386, -3.89009336977229, -5.481513098056551, -4.815804035876538, -5.1648235394500395, -3.2809707677934723, -4.649043024108982, -5.855056680102229, -5.126799853744598, -4.8345625629946545, -3.009233392204753, -4.969262730372525, -4.159059040729229, -4.8121014970385145, -4.651196651773553, -4.280283757248725, -5.079882932845848, -4.292650823157112, -5.486038649857712, -5.039426388467647, -4.725387497154794, -4.670123008076148, -4.0875548577375795, -5.075584237473835, -3.384791523302729, -4.873855719110665, -4.909364864626321, -4.78372187957161, -4.856696635723945, -4.7271049359103925, -3.6317108873400072, -4.7825606924767685, -4.527818710806653, -5.107786299153003, -5.109780399232098, -4.1478000172855545, -4.1098310885745075, -4.887766485348759, -4.4850564984459185, -4.797747821426668, -4.999140136842582, -5.255182061614932, -4.467079294828611, -4.849975323875349, -4.613135219555709, -5.030630424138796, -4.922982130349388, -3.89921474549081, -5.194497486215529, -5.348035642154795, -4.811786348200507, -4.895399981590197, -4.73582926519781, -5.114893204597529, -3.785842920512603, -5.103850298036903, -5.269692891081758, -4.7318934331021625]}, {\"line\": {\"dash\": \"solid\"}, \"name\": \"true C[1]\", \"type\": \"scatter\", \"x\": [0, 1, 2, 3, 4, 5, 6, 7, 8, 9, 10, 11, 12, 13, 14, 15, 16, 17, 18, 19, 20, 21, 22, 23, 24, 25, 26, 27, 28, 29, 30, 31, 32, 33, 34, 35, 36, 37, 38, 39, 40, 41, 42, 43, 44, 45, 46, 47, 48, 49, 50, 51, 52, 53, 54, 55, 56, 57, 58, 59, 60, 61, 62, 63, 64, 65, 66, 67, 68, 69, 70, 71, 72, 73, 74, 75, 76, 77, 78, 79, 80, 81, 82, 83, 84, 85, 86, 87, 88, 89, 90, 91, 92, 93, 94, 95, 96, 97, 98, 99], \"y\": [1.17953515, 1.25418682, 1.054768, 1.43584557, 1.25124645, 0.60389874, 0.96262929, 0.95234903, 1.59934751, 1.42103238, 0.70928361, 1.28572476, 0.84628519, 0.95931909, 1.10415692, 1.23481509, 0.68459601, 0.90445026, 1.03550087, 0.88478589, 1.27423219, 0.8464332, 0.51546637, 1.01196445, 1.23156169, 0.4615218, 0.95101128, 1.21311727, 0.46282332, 0.6720043000000001, 1.75053444, 0.95467887, 1.07535114, 0.57445174, 0.68330516, 0.59403576, 0.968326, 1.2321369, 1.36759496, 1.14456189, 0.91337776, 0.81874218, 0.95437924, 0.84581813, 0.96991437, 0.47260687, 0.81059656, 1.14616081, 0.76757648, 0.64879432, 0.9203054, 1.00336007, 0.70203407, 0.61262979, 1.15816876, 1.23425203, 1.17650758, 1.49814446, 0.63764918, 1.39133111, 0.95407391, 0.70186489, 1.07967773, 1.92228974, 1.90998464, 1.18755252, 0.62812494, 1.45612757, 1.56958873, 1.19966726, 1.5400623, 1.44048585, 1.10710068, 0.49819876, 1.16750497, 0.73828192, 0.73535125, 1.84794422, 0.38845794, 0.89951011, 1.01232085, 1.04247795, 0.50759847, 0.81411018, 1.38677389, 1.12881975, 0.78747125, 1.31993636, 0.76004644, 0.92304356, 1.10500374, 0.71854348, 1.29552991, 1.10726571, 0.7905869000000001, 0.78320263, 0.91872446, 1.24260446, 0.65508821, 0.83888896]}, {\"line\": {\"dash\": \"dash\"}, \"name\": \"estimated C[1]\", \"type\": \"scatter\", \"x\": [0, 1, 2, 3, 4, 5, 6, 7, 8, 9, 10, 11, 12, 13, 14, 15, 16, 17, 18, 19, 20, 21, 22, 23, 24, 25, 26, 27, 28, 29, 30, 31, 32, 33, 34, 35, 36, 37, 38, 39, 40, 41, 42, 43, 44, 45, 46, 47, 48, 49, 50, 51, 52, 53, 54, 55, 56, 57, 58, 59, 60, 61, 62, 63, 64, 65, 66, 67, 68, 69, 70, 71, 72, 73, 74, 75, 76, 77, 78, 79, 80, 81, 82, 83, 84, 85, 86, 87, 88, 89, 90, 91, 92, 93, 94, 95, 96, 97, 98, 99], \"y\": [0.11419018621790827, 0.06629341239491064, 0.07310502971879872, 1.4766327865359907, 0.4517247162521004, -0.7761063941612913, -0.05085171263008876, -0.36172210647368314, 0.6494244756884426, 1.0686765726510572, -0.1596554216298305, 0.7224007882723203, -0.38395252263974383, 0.7152265224187281, 0.012038988357459951, -0.34143139505966597, -0.10260351346422175, -0.35921002172956723, 0.11839177628096381, -0.5138955789377775, -0.08996023043218432, 0.18638190144798705, -0.7630603467250866, 0.06671256924686975, 0.19317336901425577, -0.6637227272126459, 0.2767592774638087, 0.18977320666213846, -0.31611819032601285, 0.014899334718327379, 1.1029220965486073, 0.5046314793623389, 0.25150916412215457, -0.6676067643137249, -0.6116244226587463, -0.5819352131468642, 0.9321340897297021, 0.5049839835355698, 0.32107893065628695, -0.2344422749944934, -0.01844857848167066, -0.3295689181130524, -0.3602873882831034, 0.38330732505650666, 0.28280855220659384, -0.8794688242481147, 0.19770296985527364, 1.0927177205660892, -0.630610079586918, -0.5227830337104988, -0.038792793211862776, 0.028870633259451117, 0.20508137109779112, -0.7518846382554659, 0.7695702064225237, 0.23860573625058076, 0.5217604908467799, 1.5713917392777295, -0.32355073391888667, -0.1312287300440838, -0.02717761844681747, -0.48300865337520116, -0.024543028351190162, 1.9108544457019363, 0.8199904904023472, 0.6440467207401657, 0.18373091213218762, 0.8916044758295019, 1.0906151019772348, 0.6689316420984495, 0.6234133430012, 1.1155917560364628, 0.9338799856723468, -1.0591993014423409, -0.04338384581446711, -0.4289441099941079, -0.3402653943774604, 1.049087854318077, -0.5102382748101855, -0.27508126794431836, 0.6860487325415506, 0.39644572791191207, -0.7371740161143445, -0.09575351321522135, 1.020548103349853, -0.05538991158245367, 0.24112562309093413, 0.7426987569166585, 0.045091182439332585, 0.562620106420269, 0.06678736419454503, -0.3812141016036493, 0.24064746920025598, 0.12975922027168552, -0.27007566963149343, 0.1961290069592806, 0.5569186372921122, 0.41801520734782305, -0.4465488392491923, -0.1883111450746954]}, {\"line\": {\"dash\": \"solid\"}, \"name\": \"true d\", \"type\": \"scatter\", \"x\": [0, 1, 2, 3, 4, 5, 6, 7, 8, 9, 10, 11, 12, 13, 14, 15, 16, 17, 18, 19, 20, 21, 22, 23, 24, 25, 26, 27, 28, 29, 30, 31, 32, 33, 34, 35, 36, 37, 38, 39, 40, 41, 42, 43, 44, 45, 46, 47, 48, 49, 50, 51, 52, 53, 54, 55, 56, 57, 58, 59, 60, 61, 62, 63, 64, 65, 66, 67, 68, 69, 70, 71, 72, 73, 74, 75, 76, 77, 78, 79, 80, 81, 82, 83, 84, 85, 86, 87, 88, 89, 90, 91, 92, 93, 94, 95, 96, 97, 98, 99], \"y\": [0.80932416, 1.22056921, 1.11007406, 0.85629896, 1.23685894, 0.86116815, 1.73633768, 0.57482973, 1.46456187, 1.26857354, 1.05378444, 0.96622798, 1.12050408, 1.36410212, 1.17737678, 1.1619099, 1.12530041, 1.81304179, 0.92501173, 1.24855658, 1.12785509, 1.00439368, 0.71862836, 1.00309261, 0.34058782, 0.92027224, 0.55358631, 0.95120214, 1.1832155, 1.27723652, 1.06093246, 1.27660028, 1.23388305, 1.01229211, 1.06902742, 1.39155789, 1.1585128999999998, 1.20430616, 0.89219805, 1.06312696, 1.20440313, 0.90697948, 0.78653216, 0.65228998, 1.01016383, 0.8896431999999999, 1.01374991, 1.04580552, 0.98075361, 1.35787377, 1.53696653, 1.02771861, 1.16292026, 0.91910475, 0.57459316, 1.21605178, 0.67153223, 0.62252835, 1.45517928, 1.02423403, 0.89570129, 0.71581276, 1.19327271, 1.245547, 0.95802479, 0.55728182, 0.29233597, 0.80194884, 0.94200076, 1.29081696, 0.69925013, 1.45015894, 0.65505554, 0.89387779, 1.44816068, 1.60682583, 0.64994582, 1.11026774, 1.32071974, 0.90217894, 1.01155846, 1.15852267, 0.83250625, 1.37561986, 0.99948977, 1.05166586, 1.33897989, 1.16531793, 0.77464046, 0.95527666, 1.74712383, 1.25907388, 0.96530877, 0.78082049, 1.21536286, 1.3539459999999999, 0.74077128, 1.24491754, 1.35612154, 0.9343792]}, {\"line\": {\"dash\": \"dash\"}, \"name\": \"estimated d\", \"type\": \"scatter\", \"x\": [0, 1, 2, 3, 4, 5, 6, 7, 8, 9, 10, 11, 12, 13, 14, 15, 16, 17, 18, 19, 20, 21, 22, 23, 24, 25, 26, 27, 28, 29, 30, 31, 32, 33, 34, 35, 36, 37, 38, 39, 40, 41, 42, 43, 44, 45, 46, 47, 48, 49, 50, 51, 52, 53, 54, 55, 56, 57, 58, 59, 60, 61, 62, 63, 64, 65, 66, 67, 68, 69, 70, 71, 72, 73, 74, 75, 76, 77, 78, 79, 80, 81, 82, 83, 84, 85, 86, 87, 88, 89, 90, 91, 92, 93, 94, 95, 96, 97, 98, 99], \"y\": [2.956867654168472, 3.0756527184774316, 2.924985946239991, 2.3344697064867845, 2.9112646956065418, 2.78462580372002, 3.0912955859072975, 3.018374734764622, 3.1348897433618155, 2.5491532999566338, 2.509608465616013, 2.594389457523231, 2.823426901009888, 2.0892825015515957, 2.8100739365693155, 3.364547539428463, 2.335269124038796, 2.9692629680416793, 2.8879410280290654, 3.1516966690467036, 3.185273447218988, 2.596037142883235, 2.3351470114335706, 2.8167474766808995, 2.9279634563405357, 2.530374754417267, 2.492839447862669, 3.0327193825552214, 2.4123606025173827, 2.185660118798309, 2.9369757215294148, 2.5095480515642823, 2.678765631068648, 2.771577097676121, 2.7832701436308818, 2.826493153985754, 1.992536368212736, 2.7504229434462903, 3.0146718517768076, 3.2022890446629413, 2.8007385862887477, 2.7497214417945104, 3.0354983054866778, 2.1807139623275633, 2.2899961457868496, 2.912534035002576, 2.3598601427811277, 2.193360165793798, 3.0908702309653773, 2.3679842874758084, 2.6243251918858856, 2.82930234020628, 2.234165117512851, 2.827277891026089, 2.4299357392561283, 2.925966286573139, 2.729084282805774, 2.418110257668013, 2.4785419872580468, 3.2538136859940106, 2.675227415591183, 2.8663743089887035, 2.9821213074919144, 2.525916581607302, 3.2401421945735893, 2.5458947298464434, 2.478307241571088, 2.6828059310314436, 2.6502032215340003, 2.689835184338931, 2.926396805797561, 2.492383765220957, 2.3630588736066422, 2.9964759755603363, 3.065382313246468, 2.6975465802459313, 2.5643111216620524, 3.0341631952806627, 2.347568164517749, 2.9389021952045047, 2.446678825773407, 2.553671784275553, 2.76639723695349, 2.576580162260436, 2.623308245533168, 2.945237885574003, 2.149518506670958, 2.452945694240068, 2.378237783849839, 2.231443064052847, 2.6899584719483864, 2.631812318246424, 2.894255348223266, 2.7462417401525543, 2.9079804572904417, 2.4847028082728797, 2.1451180461452766, 2.6120048531305455, 2.657037835286034, 2.76147856296459]}],                        {\"template\": {\"data\": {\"bar\": [{\"error_x\": {\"color\": \"#2a3f5f\"}, \"error_y\": {\"color\": \"#2a3f5f\"}, \"marker\": {\"line\": {\"color\": \"#E5ECF6\", \"width\": 0.5}}, \"type\": \"bar\"}], \"barpolar\": [{\"marker\": {\"line\": {\"color\": \"#E5ECF6\", \"width\": 0.5}}, \"type\": \"barpolar\"}], \"carpet\": [{\"aaxis\": {\"endlinecolor\": \"#2a3f5f\", \"gridcolor\": \"white\", \"linecolor\": \"white\", \"minorgridcolor\": \"white\", \"startlinecolor\": \"#2a3f5f\"}, \"baxis\": {\"endlinecolor\": \"#2a3f5f\", \"gridcolor\": \"white\", \"linecolor\": \"white\", \"minorgridcolor\": \"white\", \"startlinecolor\": \"#2a3f5f\"}, \"type\": \"carpet\"}], \"choropleth\": [{\"colorbar\": {\"outlinewidth\": 0, \"ticks\": \"\"}, \"type\": \"choropleth\"}], \"contour\": [{\"colorbar\": {\"outlinewidth\": 0, \"ticks\": \"\"}, \"colorscale\": [[0.0, \"#0d0887\"], [0.1111111111111111, \"#46039f\"], [0.2222222222222222, \"#7201a8\"], [0.3333333333333333, \"#9c179e\"], [0.4444444444444444, \"#bd3786\"], [0.5555555555555556, \"#d8576b\"], [0.6666666666666666, \"#ed7953\"], [0.7777777777777778, \"#fb9f3a\"], [0.8888888888888888, \"#fdca26\"], [1.0, \"#f0f921\"]], \"type\": \"contour\"}], \"contourcarpet\": [{\"colorbar\": {\"outlinewidth\": 0, \"ticks\": \"\"}, \"type\": \"contourcarpet\"}], \"heatmap\": [{\"colorbar\": {\"outlinewidth\": 0, \"ticks\": \"\"}, \"colorscale\": [[0.0, \"#0d0887\"], [0.1111111111111111, \"#46039f\"], [0.2222222222222222, \"#7201a8\"], [0.3333333333333333, \"#9c179e\"], [0.4444444444444444, \"#bd3786\"], [0.5555555555555556, \"#d8576b\"], [0.6666666666666666, \"#ed7953\"], [0.7777777777777778, \"#fb9f3a\"], [0.8888888888888888, \"#fdca26\"], [1.0, \"#f0f921\"]], \"type\": \"heatmap\"}], \"heatmapgl\": [{\"colorbar\": {\"outlinewidth\": 0, \"ticks\": \"\"}, \"colorscale\": [[0.0, \"#0d0887\"], [0.1111111111111111, \"#46039f\"], [0.2222222222222222, \"#7201a8\"], [0.3333333333333333, \"#9c179e\"], [0.4444444444444444, \"#bd3786\"], [0.5555555555555556, \"#d8576b\"], [0.6666666666666666, \"#ed7953\"], [0.7777777777777778, \"#fb9f3a\"], [0.8888888888888888, \"#fdca26\"], [1.0, \"#f0f921\"]], \"type\": \"heatmapgl\"}], \"histogram\": [{\"marker\": {\"colorbar\": {\"outlinewidth\": 0, \"ticks\": \"\"}}, \"type\": \"histogram\"}], \"histogram2d\": [{\"colorbar\": {\"outlinewidth\": 0, \"ticks\": \"\"}, \"colorscale\": [[0.0, \"#0d0887\"], [0.1111111111111111, \"#46039f\"], [0.2222222222222222, \"#7201a8\"], [0.3333333333333333, \"#9c179e\"], [0.4444444444444444, \"#bd3786\"], [0.5555555555555556, \"#d8576b\"], [0.6666666666666666, \"#ed7953\"], [0.7777777777777778, \"#fb9f3a\"], [0.8888888888888888, \"#fdca26\"], [1.0, \"#f0f921\"]], \"type\": \"histogram2d\"}], \"histogram2dcontour\": [{\"colorbar\": {\"outlinewidth\": 0, \"ticks\": \"\"}, \"colorscale\": [[0.0, \"#0d0887\"], [0.1111111111111111, \"#46039f\"], [0.2222222222222222, \"#7201a8\"], [0.3333333333333333, \"#9c179e\"], [0.4444444444444444, \"#bd3786\"], [0.5555555555555556, \"#d8576b\"], [0.6666666666666666, \"#ed7953\"], [0.7777777777777778, \"#fb9f3a\"], [0.8888888888888888, \"#fdca26\"], [1.0, \"#f0f921\"]], \"type\": \"histogram2dcontour\"}], \"mesh3d\": [{\"colorbar\": {\"outlinewidth\": 0, \"ticks\": \"\"}, \"type\": \"mesh3d\"}], \"parcoords\": [{\"line\": {\"colorbar\": {\"outlinewidth\": 0, \"ticks\": \"\"}}, \"type\": \"parcoords\"}], \"pie\": [{\"automargin\": true, \"type\": \"pie\"}], \"scatter\": [{\"marker\": {\"colorbar\": {\"outlinewidth\": 0, \"ticks\": \"\"}}, \"type\": \"scatter\"}], \"scatter3d\": [{\"line\": {\"colorbar\": {\"outlinewidth\": 0, \"ticks\": \"\"}}, \"marker\": {\"colorbar\": {\"outlinewidth\": 0, \"ticks\": \"\"}}, \"type\": \"scatter3d\"}], \"scattercarpet\": [{\"marker\": {\"colorbar\": {\"outlinewidth\": 0, \"ticks\": \"\"}}, \"type\": \"scattercarpet\"}], \"scattergeo\": [{\"marker\": {\"colorbar\": {\"outlinewidth\": 0, \"ticks\": \"\"}}, \"type\": \"scattergeo\"}], \"scattergl\": [{\"marker\": {\"colorbar\": {\"outlinewidth\": 0, \"ticks\": \"\"}}, \"type\": \"scattergl\"}], \"scattermapbox\": [{\"marker\": {\"colorbar\": {\"outlinewidth\": 0, \"ticks\": \"\"}}, \"type\": \"scattermapbox\"}], \"scatterpolar\": [{\"marker\": {\"colorbar\": {\"outlinewidth\": 0, \"ticks\": \"\"}}, \"type\": \"scatterpolar\"}], \"scatterpolargl\": [{\"marker\": {\"colorbar\": {\"outlinewidth\": 0, \"ticks\": \"\"}}, \"type\": \"scatterpolargl\"}], \"scatterternary\": [{\"marker\": {\"colorbar\": {\"outlinewidth\": 0, \"ticks\": \"\"}}, \"type\": \"scatterternary\"}], \"surface\": [{\"colorbar\": {\"outlinewidth\": 0, \"ticks\": \"\"}, \"colorscale\": [[0.0, \"#0d0887\"], [0.1111111111111111, \"#46039f\"], [0.2222222222222222, \"#7201a8\"], [0.3333333333333333, \"#9c179e\"], [0.4444444444444444, \"#bd3786\"], [0.5555555555555556, \"#d8576b\"], [0.6666666666666666, \"#ed7953\"], [0.7777777777777778, \"#fb9f3a\"], [0.8888888888888888, \"#fdca26\"], [1.0, \"#f0f921\"]], \"type\": \"surface\"}], \"table\": [{\"cells\": {\"fill\": {\"color\": \"#EBF0F8\"}, \"line\": {\"color\": \"white\"}}, \"header\": {\"fill\": {\"color\": \"#C8D4E3\"}, \"line\": {\"color\": \"white\"}}, \"type\": \"table\"}]}, \"layout\": {\"annotationdefaults\": {\"arrowcolor\": \"#2a3f5f\", \"arrowhead\": 0, \"arrowwidth\": 1}, \"autotypenumbers\": \"strict\", \"coloraxis\": {\"colorbar\": {\"outlinewidth\": 0, \"ticks\": \"\"}}, \"colorscale\": {\"diverging\": [[0, \"#8e0152\"], [0.1, \"#c51b7d\"], [0.2, \"#de77ae\"], [0.3, \"#f1b6da\"], [0.4, \"#fde0ef\"], [0.5, \"#f7f7f7\"], [0.6, \"#e6f5d0\"], [0.7, \"#b8e186\"], [0.8, \"#7fbc41\"], [0.9, \"#4d9221\"], [1, \"#276419\"]], \"sequential\": [[0.0, \"#0d0887\"], [0.1111111111111111, \"#46039f\"], [0.2222222222222222, \"#7201a8\"], [0.3333333333333333, \"#9c179e\"], [0.4444444444444444, \"#bd3786\"], [0.5555555555555556, \"#d8576b\"], [0.6666666666666666, \"#ed7953\"], [0.7777777777777778, \"#fb9f3a\"], [0.8888888888888888, \"#fdca26\"], [1.0, \"#f0f921\"]], \"sequentialminus\": [[0.0, \"#0d0887\"], [0.1111111111111111, \"#46039f\"], [0.2222222222222222, \"#7201a8\"], [0.3333333333333333, \"#9c179e\"], [0.4444444444444444, \"#bd3786\"], [0.5555555555555556, \"#d8576b\"], [0.6666666666666666, \"#ed7953\"], [0.7777777777777778, \"#fb9f3a\"], [0.8888888888888888, \"#fdca26\"], [1.0, \"#f0f921\"]]}, \"colorway\": [\"#636efa\", \"#EF553B\", \"#00cc96\", \"#ab63fa\", \"#FFA15A\", \"#19d3f3\", \"#FF6692\", \"#B6E880\", \"#FF97FF\", \"#FECB52\"], \"font\": {\"color\": \"#2a3f5f\"}, \"geo\": {\"bgcolor\": \"white\", \"lakecolor\": \"white\", \"landcolor\": \"#E5ECF6\", \"showlakes\": true, \"showland\": true, \"subunitcolor\": \"white\"}, \"hoverlabel\": {\"align\": \"left\"}, \"hovermode\": \"closest\", \"mapbox\": {\"style\": \"light\"}, \"paper_bgcolor\": \"white\", \"plot_bgcolor\": \"#E5ECF6\", \"polar\": {\"angularaxis\": {\"gridcolor\": \"white\", \"linecolor\": \"white\", \"ticks\": \"\"}, \"bgcolor\": \"#E5ECF6\", \"radialaxis\": {\"gridcolor\": \"white\", \"linecolor\": \"white\", \"ticks\": \"\"}}, \"scene\": {\"xaxis\": {\"backgroundcolor\": \"#E5ECF6\", \"gridcolor\": \"white\", \"gridwidth\": 2, \"linecolor\": \"white\", \"showbackground\": true, \"ticks\": \"\", \"zerolinecolor\": \"white\"}, \"yaxis\": {\"backgroundcolor\": \"#E5ECF6\", \"gridcolor\": \"white\", \"gridwidth\": 2, \"linecolor\": \"white\", \"showbackground\": true, \"ticks\": \"\", \"zerolinecolor\": \"white\"}, \"zaxis\": {\"backgroundcolor\": \"#E5ECF6\", \"gridcolor\": \"white\", \"gridwidth\": 2, \"linecolor\": \"white\", \"showbackground\": true, \"ticks\": \"\", \"zerolinecolor\": \"white\"}}, \"shapedefaults\": {\"line\": {\"color\": \"#2a3f5f\"}}, \"ternary\": {\"aaxis\": {\"gridcolor\": \"white\", \"linecolor\": \"white\", \"ticks\": \"\"}, \"baxis\": {\"gridcolor\": \"white\", \"linecolor\": \"white\", \"ticks\": \"\"}, \"bgcolor\": \"#E5ECF6\", \"caxis\": {\"gridcolor\": \"white\", \"linecolor\": \"white\", \"ticks\": \"\"}}, \"title\": {\"x\": 0.05}, \"xaxis\": {\"automargin\": true, \"gridcolor\": \"white\", \"linecolor\": \"white\", \"ticks\": \"\", \"title\": {\"standoff\": 15}, \"zerolinecolor\": \"white\", \"zerolinewidth\": 2}, \"yaxis\": {\"automargin\": true, \"gridcolor\": \"white\", \"linecolor\": \"white\", \"ticks\": \"\", \"title\": {\"standoff\": 15}, \"zerolinecolor\": \"white\", \"zerolinewidth\": 2}}}, \"xaxis\": {\"title\": {\"text\": \"Neuron Index\"}}, \"yaxis\": {\"title\": {\"text\": \"Coefficient Value\"}}},                        {\"responsive\": true}                    ).then(function(){\n",
       "                            \n",
       "var gd = document.getElementById('dc712a71-21e8-463d-9c91-0b7fa1f30336');\n",
       "var x = new MutationObserver(function (mutations, observer) {{\n",
       "        var display = window.getComputedStyle(gd).display;\n",
       "        if (!display || display === 'none') {{\n",
       "            console.log([gd, 'removed!']);\n",
       "            Plotly.purge(gd);\n",
       "            observer.disconnect();\n",
       "        }}\n",
       "}});\n",
       "\n",
       "// Listen for the removal of the full notebook cells\n",
       "var notebookContainer = gd.closest('#notebook-container');\n",
       "if (notebookContainer) {{\n",
       "    x.observe(notebookContainer, {childList: true});\n",
       "}}\n",
       "\n",
       "// Listen for the clearing of the current output cell\n",
       "var outputEl = gd.closest('.output');\n",
       "if (outputEl) {{\n",
       "    x.observe(outputEl, {childList: true});\n",
       "}}\n",
       "\n",
       "                        })                };                });            </script>        </div>"
      ]
     },
     "metadata": {},
     "output_type": "display_data"
    }
   ],
   "source": [
    "estimatedC, estimatedD = model.getSVEmbeddingParams()                                                                               \n",
    "fig = plot.svGPFA.plotUtilsPlotly.getPlotTrueAndEstimatedEmbeddingParams(trueC=trueC, trueD=trueD, estimatedC=estimatedC, estimatedD=estimatedD)\n",
    "fig.show()\n",
    "# IPython.display.HTML(fig.to_html())\n"
   ]
  },
  {
   "cell_type": "markdown",
   "metadata": {
    "id": "NhA77H8s_Hzu"
   },
   "source": [
    "# Plot true and estimated kernels parameters"
   ]
  },
  {
   "cell_type": "code",
   "execution_count": 46,
   "metadata": {
    "colab": {
     "base_uri": "https://localhost:8080/",
     "height": 467
    },
    "id": "2ynUe0sw_Hzv",
    "outputId": "93fe62c1-e0c9-4a70-a4a1-6dce732c305e"
   },
   "outputs": [
    {
     "data": {
      "application/vnd.plotly.v1+json": {
       "config": {
        "plotlyServerURL": "https://plot.ly"
       },
       "data": [
        {
         "marker": {
          "color": "blue"
         },
         "name": "True",
         "showlegend": true,
         "type": "bar",
         "x": [
          "lengthscale"
         ],
         "y": [
          0.20000000298023224
         ]
        },
        {
         "marker": {
          "color": "red"
         },
         "name": "Estimated",
         "showlegend": true,
         "type": "bar",
         "x": [
          "lengthscale"
         ],
         "y": [
          0.321302592754364
         ]
        }
       ],
       "layout": {
        "template": {
         "data": {
          "bar": [
           {
            "error_x": {
             "color": "#2a3f5f"
            },
            "error_y": {
             "color": "#2a3f5f"
            },
            "marker": {
             "line": {
              "color": "#E5ECF6",
              "width": 0.5
             }
            },
            "type": "bar"
           }
          ],
          "barpolar": [
           {
            "marker": {
             "line": {
              "color": "#E5ECF6",
              "width": 0.5
             }
            },
            "type": "barpolar"
           }
          ],
          "carpet": [
           {
            "aaxis": {
             "endlinecolor": "#2a3f5f",
             "gridcolor": "white",
             "linecolor": "white",
             "minorgridcolor": "white",
             "startlinecolor": "#2a3f5f"
            },
            "baxis": {
             "endlinecolor": "#2a3f5f",
             "gridcolor": "white",
             "linecolor": "white",
             "minorgridcolor": "white",
             "startlinecolor": "#2a3f5f"
            },
            "type": "carpet"
           }
          ],
          "choropleth": [
           {
            "colorbar": {
             "outlinewidth": 0,
             "ticks": ""
            },
            "type": "choropleth"
           }
          ],
          "contour": [
           {
            "colorbar": {
             "outlinewidth": 0,
             "ticks": ""
            },
            "colorscale": [
             [
              0,
              "#0d0887"
             ],
             [
              0.1111111111111111,
              "#46039f"
             ],
             [
              0.2222222222222222,
              "#7201a8"
             ],
             [
              0.3333333333333333,
              "#9c179e"
             ],
             [
              0.4444444444444444,
              "#bd3786"
             ],
             [
              0.5555555555555556,
              "#d8576b"
             ],
             [
              0.6666666666666666,
              "#ed7953"
             ],
             [
              0.7777777777777778,
              "#fb9f3a"
             ],
             [
              0.8888888888888888,
              "#fdca26"
             ],
             [
              1,
              "#f0f921"
             ]
            ],
            "type": "contour"
           }
          ],
          "contourcarpet": [
           {
            "colorbar": {
             "outlinewidth": 0,
             "ticks": ""
            },
            "type": "contourcarpet"
           }
          ],
          "heatmap": [
           {
            "colorbar": {
             "outlinewidth": 0,
             "ticks": ""
            },
            "colorscale": [
             [
              0,
              "#0d0887"
             ],
             [
              0.1111111111111111,
              "#46039f"
             ],
             [
              0.2222222222222222,
              "#7201a8"
             ],
             [
              0.3333333333333333,
              "#9c179e"
             ],
             [
              0.4444444444444444,
              "#bd3786"
             ],
             [
              0.5555555555555556,
              "#d8576b"
             ],
             [
              0.6666666666666666,
              "#ed7953"
             ],
             [
              0.7777777777777778,
              "#fb9f3a"
             ],
             [
              0.8888888888888888,
              "#fdca26"
             ],
             [
              1,
              "#f0f921"
             ]
            ],
            "type": "heatmap"
           }
          ],
          "heatmapgl": [
           {
            "colorbar": {
             "outlinewidth": 0,
             "ticks": ""
            },
            "colorscale": [
             [
              0,
              "#0d0887"
             ],
             [
              0.1111111111111111,
              "#46039f"
             ],
             [
              0.2222222222222222,
              "#7201a8"
             ],
             [
              0.3333333333333333,
              "#9c179e"
             ],
             [
              0.4444444444444444,
              "#bd3786"
             ],
             [
              0.5555555555555556,
              "#d8576b"
             ],
             [
              0.6666666666666666,
              "#ed7953"
             ],
             [
              0.7777777777777778,
              "#fb9f3a"
             ],
             [
              0.8888888888888888,
              "#fdca26"
             ],
             [
              1,
              "#f0f921"
             ]
            ],
            "type": "heatmapgl"
           }
          ],
          "histogram": [
           {
            "marker": {
             "colorbar": {
              "outlinewidth": 0,
              "ticks": ""
             }
            },
            "type": "histogram"
           }
          ],
          "histogram2d": [
           {
            "colorbar": {
             "outlinewidth": 0,
             "ticks": ""
            },
            "colorscale": [
             [
              0,
              "#0d0887"
             ],
             [
              0.1111111111111111,
              "#46039f"
             ],
             [
              0.2222222222222222,
              "#7201a8"
             ],
             [
              0.3333333333333333,
              "#9c179e"
             ],
             [
              0.4444444444444444,
              "#bd3786"
             ],
             [
              0.5555555555555556,
              "#d8576b"
             ],
             [
              0.6666666666666666,
              "#ed7953"
             ],
             [
              0.7777777777777778,
              "#fb9f3a"
             ],
             [
              0.8888888888888888,
              "#fdca26"
             ],
             [
              1,
              "#f0f921"
             ]
            ],
            "type": "histogram2d"
           }
          ],
          "histogram2dcontour": [
           {
            "colorbar": {
             "outlinewidth": 0,
             "ticks": ""
            },
            "colorscale": [
             [
              0,
              "#0d0887"
             ],
             [
              0.1111111111111111,
              "#46039f"
             ],
             [
              0.2222222222222222,
              "#7201a8"
             ],
             [
              0.3333333333333333,
              "#9c179e"
             ],
             [
              0.4444444444444444,
              "#bd3786"
             ],
             [
              0.5555555555555556,
              "#d8576b"
             ],
             [
              0.6666666666666666,
              "#ed7953"
             ],
             [
              0.7777777777777778,
              "#fb9f3a"
             ],
             [
              0.8888888888888888,
              "#fdca26"
             ],
             [
              1,
              "#f0f921"
             ]
            ],
            "type": "histogram2dcontour"
           }
          ],
          "mesh3d": [
           {
            "colorbar": {
             "outlinewidth": 0,
             "ticks": ""
            },
            "type": "mesh3d"
           }
          ],
          "parcoords": [
           {
            "line": {
             "colorbar": {
              "outlinewidth": 0,
              "ticks": ""
             }
            },
            "type": "parcoords"
           }
          ],
          "pie": [
           {
            "automargin": true,
            "type": "pie"
           }
          ],
          "scatter": [
           {
            "marker": {
             "colorbar": {
              "outlinewidth": 0,
              "ticks": ""
             }
            },
            "type": "scatter"
           }
          ],
          "scatter3d": [
           {
            "line": {
             "colorbar": {
              "outlinewidth": 0,
              "ticks": ""
             }
            },
            "marker": {
             "colorbar": {
              "outlinewidth": 0,
              "ticks": ""
             }
            },
            "type": "scatter3d"
           }
          ],
          "scattercarpet": [
           {
            "marker": {
             "colorbar": {
              "outlinewidth": 0,
              "ticks": ""
             }
            },
            "type": "scattercarpet"
           }
          ],
          "scattergeo": [
           {
            "marker": {
             "colorbar": {
              "outlinewidth": 0,
              "ticks": ""
             }
            },
            "type": "scattergeo"
           }
          ],
          "scattergl": [
           {
            "marker": {
             "colorbar": {
              "outlinewidth": 0,
              "ticks": ""
             }
            },
            "type": "scattergl"
           }
          ],
          "scattermapbox": [
           {
            "marker": {
             "colorbar": {
              "outlinewidth": 0,
              "ticks": ""
             }
            },
            "type": "scattermapbox"
           }
          ],
          "scatterpolar": [
           {
            "marker": {
             "colorbar": {
              "outlinewidth": 0,
              "ticks": ""
             }
            },
            "type": "scatterpolar"
           }
          ],
          "scatterpolargl": [
           {
            "marker": {
             "colorbar": {
              "outlinewidth": 0,
              "ticks": ""
             }
            },
            "type": "scatterpolargl"
           }
          ],
          "scatterternary": [
           {
            "marker": {
             "colorbar": {
              "outlinewidth": 0,
              "ticks": ""
             }
            },
            "type": "scatterternary"
           }
          ],
          "surface": [
           {
            "colorbar": {
             "outlinewidth": 0,
             "ticks": ""
            },
            "colorscale": [
             [
              0,
              "#0d0887"
             ],
             [
              0.1111111111111111,
              "#46039f"
             ],
             [
              0.2222222222222222,
              "#7201a8"
             ],
             [
              0.3333333333333333,
              "#9c179e"
             ],
             [
              0.4444444444444444,
              "#bd3786"
             ],
             [
              0.5555555555555556,
              "#d8576b"
             ],
             [
              0.6666666666666666,
              "#ed7953"
             ],
             [
              0.7777777777777778,
              "#fb9f3a"
             ],
             [
              0.8888888888888888,
              "#fdca26"
             ],
             [
              1,
              "#f0f921"
             ]
            ],
            "type": "surface"
           }
          ],
          "table": [
           {
            "cells": {
             "fill": {
              "color": "#EBF0F8"
             },
             "line": {
              "color": "white"
             }
            },
            "header": {
             "fill": {
              "color": "#C8D4E3"
             },
             "line": {
              "color": "white"
             }
            },
            "type": "table"
           }
          ]
         },
         "layout": {
          "annotationdefaults": {
           "arrowcolor": "#2a3f5f",
           "arrowhead": 0,
           "arrowwidth": 1
          },
          "autotypenumbers": "strict",
          "coloraxis": {
           "colorbar": {
            "outlinewidth": 0,
            "ticks": ""
           }
          },
          "colorscale": {
           "diverging": [
            [
             0,
             "#8e0152"
            ],
            [
             0.1,
             "#c51b7d"
            ],
            [
             0.2,
             "#de77ae"
            ],
            [
             0.3,
             "#f1b6da"
            ],
            [
             0.4,
             "#fde0ef"
            ],
            [
             0.5,
             "#f7f7f7"
            ],
            [
             0.6,
             "#e6f5d0"
            ],
            [
             0.7,
             "#b8e186"
            ],
            [
             0.8,
             "#7fbc41"
            ],
            [
             0.9,
             "#4d9221"
            ],
            [
             1,
             "#276419"
            ]
           ],
           "sequential": [
            [
             0,
             "#0d0887"
            ],
            [
             0.1111111111111111,
             "#46039f"
            ],
            [
             0.2222222222222222,
             "#7201a8"
            ],
            [
             0.3333333333333333,
             "#9c179e"
            ],
            [
             0.4444444444444444,
             "#bd3786"
            ],
            [
             0.5555555555555556,
             "#d8576b"
            ],
            [
             0.6666666666666666,
             "#ed7953"
            ],
            [
             0.7777777777777778,
             "#fb9f3a"
            ],
            [
             0.8888888888888888,
             "#fdca26"
            ],
            [
             1,
             "#f0f921"
            ]
           ],
           "sequentialminus": [
            [
             0,
             "#0d0887"
            ],
            [
             0.1111111111111111,
             "#46039f"
            ],
            [
             0.2222222222222222,
             "#7201a8"
            ],
            [
             0.3333333333333333,
             "#9c179e"
            ],
            [
             0.4444444444444444,
             "#bd3786"
            ],
            [
             0.5555555555555556,
             "#d8576b"
            ],
            [
             0.6666666666666666,
             "#ed7953"
            ],
            [
             0.7777777777777778,
             "#fb9f3a"
            ],
            [
             0.8888888888888888,
             "#fdca26"
            ],
            [
             1,
             "#f0f921"
            ]
           ]
          },
          "colorway": [
           "#636efa",
           "#EF553B",
           "#00cc96",
           "#ab63fa",
           "#FFA15A",
           "#19d3f3",
           "#FF6692",
           "#B6E880",
           "#FF97FF",
           "#FECB52"
          ],
          "font": {
           "color": "#2a3f5f"
          },
          "geo": {
           "bgcolor": "white",
           "lakecolor": "white",
           "landcolor": "#E5ECF6",
           "showlakes": true,
           "showland": true,
           "subunitcolor": "white"
          },
          "hoverlabel": {
           "align": "left"
          },
          "hovermode": "closest",
          "mapbox": {
           "style": "light"
          },
          "paper_bgcolor": "white",
          "plot_bgcolor": "#E5ECF6",
          "polar": {
           "angularaxis": {
            "gridcolor": "white",
            "linecolor": "white",
            "ticks": ""
           },
           "bgcolor": "#E5ECF6",
           "radialaxis": {
            "gridcolor": "white",
            "linecolor": "white",
            "ticks": ""
           }
          },
          "scene": {
           "xaxis": {
            "backgroundcolor": "#E5ECF6",
            "gridcolor": "white",
            "gridwidth": 2,
            "linecolor": "white",
            "showbackground": true,
            "ticks": "",
            "zerolinecolor": "white"
           },
           "yaxis": {
            "backgroundcolor": "#E5ECF6",
            "gridcolor": "white",
            "gridwidth": 2,
            "linecolor": "white",
            "showbackground": true,
            "ticks": "",
            "zerolinecolor": "white"
           },
           "zaxis": {
            "backgroundcolor": "#E5ECF6",
            "gridcolor": "white",
            "gridwidth": 2,
            "linecolor": "white",
            "showbackground": true,
            "ticks": "",
            "zerolinecolor": "white"
           }
          },
          "shapedefaults": {
           "line": {
            "color": "#2a3f5f"
           }
          },
          "ternary": {
           "aaxis": {
            "gridcolor": "white",
            "linecolor": "white",
            "ticks": ""
           },
           "baxis": {
            "gridcolor": "white",
            "linecolor": "white",
            "ticks": ""
           },
           "bgcolor": "#E5ECF6",
           "caxis": {
            "gridcolor": "white",
            "linecolor": "white",
            "ticks": ""
           }
          },
          "title": {
           "x": 0.05
          },
          "xaxis": {
           "automargin": true,
           "gridcolor": "white",
           "linecolor": "white",
           "ticks": "",
           "title": {
            "standoff": 15
           },
           "zerolinecolor": "white",
           "zerolinewidth": 2
          },
          "yaxis": {
           "automargin": true,
           "gridcolor": "white",
           "linecolor": "white",
           "ticks": "",
           "title": {
            "standoff": 15
           },
           "zerolinecolor": "white",
           "zerolinewidth": 2
          }
         }
        },
        "title": {
         "text": "Latent 0"
        },
        "yaxis": {
         "title": {
          "text": "Parameter Value"
         }
        }
       }
      },
      "text/html": [
       "<div>                            <div id=\"b0d2c668-4db7-4794-8767-ecd9704430bd\" class=\"plotly-graph-div\" style=\"height:525px; width:100%;\"></div>            <script type=\"text/javascript\">                require([\"plotly\"], function(Plotly) {                    window.PLOTLYENV=window.PLOTLYENV || {};                                    if (document.getElementById(\"b0d2c668-4db7-4794-8767-ecd9704430bd\")) {                    Plotly.newPlot(                        \"b0d2c668-4db7-4794-8767-ecd9704430bd\",                        [{\"marker\": {\"color\": \"blue\"}, \"name\": \"True\", \"showlegend\": true, \"type\": \"bar\", \"x\": [\"lengthscale\"], \"y\": [0.20000000298023224]}, {\"marker\": {\"color\": \"red\"}, \"name\": \"Estimated\", \"showlegend\": true, \"type\": \"bar\", \"x\": [\"lengthscale\"], \"y\": [0.321302592754364]}],                        {\"template\": {\"data\": {\"bar\": [{\"error_x\": {\"color\": \"#2a3f5f\"}, \"error_y\": {\"color\": \"#2a3f5f\"}, \"marker\": {\"line\": {\"color\": \"#E5ECF6\", \"width\": 0.5}}, \"type\": \"bar\"}], \"barpolar\": [{\"marker\": {\"line\": {\"color\": \"#E5ECF6\", \"width\": 0.5}}, \"type\": \"barpolar\"}], \"carpet\": [{\"aaxis\": {\"endlinecolor\": \"#2a3f5f\", \"gridcolor\": \"white\", \"linecolor\": \"white\", \"minorgridcolor\": \"white\", \"startlinecolor\": \"#2a3f5f\"}, \"baxis\": {\"endlinecolor\": \"#2a3f5f\", \"gridcolor\": \"white\", \"linecolor\": \"white\", \"minorgridcolor\": \"white\", \"startlinecolor\": \"#2a3f5f\"}, \"type\": \"carpet\"}], \"choropleth\": [{\"colorbar\": {\"outlinewidth\": 0, \"ticks\": \"\"}, \"type\": \"choropleth\"}], \"contour\": [{\"colorbar\": {\"outlinewidth\": 0, \"ticks\": \"\"}, \"colorscale\": [[0.0, \"#0d0887\"], [0.1111111111111111, \"#46039f\"], [0.2222222222222222, \"#7201a8\"], [0.3333333333333333, \"#9c179e\"], [0.4444444444444444, \"#bd3786\"], [0.5555555555555556, \"#d8576b\"], [0.6666666666666666, \"#ed7953\"], [0.7777777777777778, \"#fb9f3a\"], [0.8888888888888888, \"#fdca26\"], [1.0, \"#f0f921\"]], \"type\": \"contour\"}], \"contourcarpet\": [{\"colorbar\": {\"outlinewidth\": 0, \"ticks\": \"\"}, \"type\": \"contourcarpet\"}], \"heatmap\": [{\"colorbar\": {\"outlinewidth\": 0, \"ticks\": \"\"}, \"colorscale\": [[0.0, \"#0d0887\"], [0.1111111111111111, \"#46039f\"], [0.2222222222222222, \"#7201a8\"], [0.3333333333333333, \"#9c179e\"], [0.4444444444444444, \"#bd3786\"], [0.5555555555555556, \"#d8576b\"], [0.6666666666666666, \"#ed7953\"], [0.7777777777777778, \"#fb9f3a\"], [0.8888888888888888, \"#fdca26\"], [1.0, \"#f0f921\"]], \"type\": \"heatmap\"}], \"heatmapgl\": [{\"colorbar\": {\"outlinewidth\": 0, \"ticks\": \"\"}, \"colorscale\": [[0.0, \"#0d0887\"], [0.1111111111111111, \"#46039f\"], [0.2222222222222222, \"#7201a8\"], [0.3333333333333333, \"#9c179e\"], [0.4444444444444444, \"#bd3786\"], [0.5555555555555556, \"#d8576b\"], [0.6666666666666666, \"#ed7953\"], [0.7777777777777778, \"#fb9f3a\"], [0.8888888888888888, \"#fdca26\"], [1.0, \"#f0f921\"]], \"type\": \"heatmapgl\"}], \"histogram\": [{\"marker\": {\"colorbar\": {\"outlinewidth\": 0, \"ticks\": \"\"}}, \"type\": \"histogram\"}], \"histogram2d\": [{\"colorbar\": {\"outlinewidth\": 0, \"ticks\": \"\"}, \"colorscale\": [[0.0, \"#0d0887\"], [0.1111111111111111, \"#46039f\"], [0.2222222222222222, \"#7201a8\"], [0.3333333333333333, \"#9c179e\"], [0.4444444444444444, \"#bd3786\"], [0.5555555555555556, \"#d8576b\"], [0.6666666666666666, \"#ed7953\"], [0.7777777777777778, \"#fb9f3a\"], [0.8888888888888888, \"#fdca26\"], [1.0, \"#f0f921\"]], \"type\": \"histogram2d\"}], \"histogram2dcontour\": [{\"colorbar\": {\"outlinewidth\": 0, \"ticks\": \"\"}, \"colorscale\": [[0.0, \"#0d0887\"], [0.1111111111111111, \"#46039f\"], [0.2222222222222222, \"#7201a8\"], [0.3333333333333333, \"#9c179e\"], [0.4444444444444444, \"#bd3786\"], [0.5555555555555556, \"#d8576b\"], [0.6666666666666666, \"#ed7953\"], [0.7777777777777778, \"#fb9f3a\"], [0.8888888888888888, \"#fdca26\"], [1.0, \"#f0f921\"]], \"type\": \"histogram2dcontour\"}], \"mesh3d\": [{\"colorbar\": {\"outlinewidth\": 0, \"ticks\": \"\"}, \"type\": \"mesh3d\"}], \"parcoords\": [{\"line\": {\"colorbar\": {\"outlinewidth\": 0, \"ticks\": \"\"}}, \"type\": \"parcoords\"}], \"pie\": [{\"automargin\": true, \"type\": \"pie\"}], \"scatter\": [{\"marker\": {\"colorbar\": {\"outlinewidth\": 0, \"ticks\": \"\"}}, \"type\": \"scatter\"}], \"scatter3d\": [{\"line\": {\"colorbar\": {\"outlinewidth\": 0, \"ticks\": \"\"}}, \"marker\": {\"colorbar\": {\"outlinewidth\": 0, \"ticks\": \"\"}}, \"type\": \"scatter3d\"}], \"scattercarpet\": [{\"marker\": {\"colorbar\": {\"outlinewidth\": 0, \"ticks\": \"\"}}, \"type\": \"scattercarpet\"}], \"scattergeo\": [{\"marker\": {\"colorbar\": {\"outlinewidth\": 0, \"ticks\": \"\"}}, \"type\": \"scattergeo\"}], \"scattergl\": [{\"marker\": {\"colorbar\": {\"outlinewidth\": 0, \"ticks\": \"\"}}, \"type\": \"scattergl\"}], \"scattermapbox\": [{\"marker\": {\"colorbar\": {\"outlinewidth\": 0, \"ticks\": \"\"}}, \"type\": \"scattermapbox\"}], \"scatterpolar\": [{\"marker\": {\"colorbar\": {\"outlinewidth\": 0, \"ticks\": \"\"}}, \"type\": \"scatterpolar\"}], \"scatterpolargl\": [{\"marker\": {\"colorbar\": {\"outlinewidth\": 0, \"ticks\": \"\"}}, \"type\": \"scatterpolargl\"}], \"scatterternary\": [{\"marker\": {\"colorbar\": {\"outlinewidth\": 0, \"ticks\": \"\"}}, \"type\": \"scatterternary\"}], \"surface\": [{\"colorbar\": {\"outlinewidth\": 0, \"ticks\": \"\"}, \"colorscale\": [[0.0, \"#0d0887\"], [0.1111111111111111, \"#46039f\"], [0.2222222222222222, \"#7201a8\"], [0.3333333333333333, \"#9c179e\"], [0.4444444444444444, \"#bd3786\"], [0.5555555555555556, \"#d8576b\"], [0.6666666666666666, \"#ed7953\"], [0.7777777777777778, \"#fb9f3a\"], [0.8888888888888888, \"#fdca26\"], [1.0, \"#f0f921\"]], \"type\": \"surface\"}], \"table\": [{\"cells\": {\"fill\": {\"color\": \"#EBF0F8\"}, \"line\": {\"color\": \"white\"}}, \"header\": {\"fill\": {\"color\": \"#C8D4E3\"}, \"line\": {\"color\": \"white\"}}, \"type\": \"table\"}]}, \"layout\": {\"annotationdefaults\": {\"arrowcolor\": \"#2a3f5f\", \"arrowhead\": 0, \"arrowwidth\": 1}, \"autotypenumbers\": \"strict\", \"coloraxis\": {\"colorbar\": {\"outlinewidth\": 0, \"ticks\": \"\"}}, \"colorscale\": {\"diverging\": [[0, \"#8e0152\"], [0.1, \"#c51b7d\"], [0.2, \"#de77ae\"], [0.3, \"#f1b6da\"], [0.4, \"#fde0ef\"], [0.5, \"#f7f7f7\"], [0.6, \"#e6f5d0\"], [0.7, \"#b8e186\"], [0.8, \"#7fbc41\"], [0.9, \"#4d9221\"], [1, \"#276419\"]], \"sequential\": [[0.0, \"#0d0887\"], [0.1111111111111111, \"#46039f\"], [0.2222222222222222, \"#7201a8\"], [0.3333333333333333, \"#9c179e\"], [0.4444444444444444, \"#bd3786\"], [0.5555555555555556, \"#d8576b\"], [0.6666666666666666, \"#ed7953\"], [0.7777777777777778, \"#fb9f3a\"], [0.8888888888888888, \"#fdca26\"], [1.0, \"#f0f921\"]], \"sequentialminus\": [[0.0, \"#0d0887\"], [0.1111111111111111, \"#46039f\"], [0.2222222222222222, \"#7201a8\"], [0.3333333333333333, \"#9c179e\"], [0.4444444444444444, \"#bd3786\"], [0.5555555555555556, \"#d8576b\"], [0.6666666666666666, \"#ed7953\"], [0.7777777777777778, \"#fb9f3a\"], [0.8888888888888888, \"#fdca26\"], [1.0, \"#f0f921\"]]}, \"colorway\": [\"#636efa\", \"#EF553B\", \"#00cc96\", \"#ab63fa\", \"#FFA15A\", \"#19d3f3\", \"#FF6692\", \"#B6E880\", \"#FF97FF\", \"#FECB52\"], \"font\": {\"color\": \"#2a3f5f\"}, \"geo\": {\"bgcolor\": \"white\", \"lakecolor\": \"white\", \"landcolor\": \"#E5ECF6\", \"showlakes\": true, \"showland\": true, \"subunitcolor\": \"white\"}, \"hoverlabel\": {\"align\": \"left\"}, \"hovermode\": \"closest\", \"mapbox\": {\"style\": \"light\"}, \"paper_bgcolor\": \"white\", \"plot_bgcolor\": \"#E5ECF6\", \"polar\": {\"angularaxis\": {\"gridcolor\": \"white\", \"linecolor\": \"white\", \"ticks\": \"\"}, \"bgcolor\": \"#E5ECF6\", \"radialaxis\": {\"gridcolor\": \"white\", \"linecolor\": \"white\", \"ticks\": \"\"}}, \"scene\": {\"xaxis\": {\"backgroundcolor\": \"#E5ECF6\", \"gridcolor\": \"white\", \"gridwidth\": 2, \"linecolor\": \"white\", \"showbackground\": true, \"ticks\": \"\", \"zerolinecolor\": \"white\"}, \"yaxis\": {\"backgroundcolor\": \"#E5ECF6\", \"gridcolor\": \"white\", \"gridwidth\": 2, \"linecolor\": \"white\", \"showbackground\": true, \"ticks\": \"\", \"zerolinecolor\": \"white\"}, \"zaxis\": {\"backgroundcolor\": \"#E5ECF6\", \"gridcolor\": \"white\", \"gridwidth\": 2, \"linecolor\": \"white\", \"showbackground\": true, \"ticks\": \"\", \"zerolinecolor\": \"white\"}}, \"shapedefaults\": {\"line\": {\"color\": \"#2a3f5f\"}}, \"ternary\": {\"aaxis\": {\"gridcolor\": \"white\", \"linecolor\": \"white\", \"ticks\": \"\"}, \"baxis\": {\"gridcolor\": \"white\", \"linecolor\": \"white\", \"ticks\": \"\"}, \"bgcolor\": \"#E5ECF6\", \"caxis\": {\"gridcolor\": \"white\", \"linecolor\": \"white\", \"ticks\": \"\"}}, \"title\": {\"x\": 0.05}, \"xaxis\": {\"automargin\": true, \"gridcolor\": \"white\", \"linecolor\": \"white\", \"ticks\": \"\", \"title\": {\"standoff\": 15}, \"zerolinecolor\": \"white\", \"zerolinewidth\": 2}, \"yaxis\": {\"automargin\": true, \"gridcolor\": \"white\", \"linecolor\": \"white\", \"ticks\": \"\", \"title\": {\"standoff\": 15}, \"zerolinecolor\": \"white\", \"zerolinewidth\": 2}}}, \"title\": {\"text\": \"Latent 0\"}, \"yaxis\": {\"title\": {\"text\": \"Parameter Value\"}}},                        {\"responsive\": true}                    ).then(function(){\n",
       "                            \n",
       "var gd = document.getElementById('b0d2c668-4db7-4794-8767-ecd9704430bd');\n",
       "var x = new MutationObserver(function (mutations, observer) {{\n",
       "        var display = window.getComputedStyle(gd).display;\n",
       "        if (!display || display === 'none') {{\n",
       "            console.log([gd, 'removed!']);\n",
       "            Plotly.purge(gd);\n",
       "            observer.disconnect();\n",
       "        }}\n",
       "}});\n",
       "\n",
       "// Listen for the removal of the full notebook cells\n",
       "var notebookContainer = gd.closest('#notebook-container');\n",
       "if (notebookContainer) {{\n",
       "    x.observe(notebookContainer, {childList: true});\n",
       "}}\n",
       "\n",
       "// Listen for the clearing of the current output cell\n",
       "var outputEl = gd.closest('.output');\n",
       "if (outputEl) {{\n",
       "    x.observe(outputEl, {childList: true});\n",
       "}}\n",
       "\n",
       "                        })                };                });            </script>        </div>"
      ]
     },
     "metadata": {},
     "output_type": "display_data"
    }
   ],
   "source": [
    "title = \"Latent {:d}\".format(latentToPlot)\n",
    "tKernelToPlot = trueKernels[latentToPlot]\n",
    "kernelsParams = model.getKernelsParams()\n",
    "eKernelParamsToPlot = kernelsParams[latentToPlot]\n",
    "fig = plot.svGPFA.plotUtilsPlotly.getPlotTrueAndEstimatedKernelsParamsOneLatent(trueKernel=tKernelToPlot, estimatedKernelParams=eKernelParamsToPlot, title=title)\n",
    "\n",
    "fig.show()\n",
    "# IPython.display.HTML(fig.to_html())"
   ]
  }
 ],
 "metadata": {
  "colab": {
   "collapsed_sections": [],
   "include_colab_link": true,
   "name": "doEstimateAndPlot.ipynb",
   "provenance": []
  },
  "kernelspec": {
   "display_name": "Python 3",
   "language": "python",
   "name": "python3"
  },
  "language_info": {
   "codemirror_mode": {
    "name": "ipython",
    "version": 3
   },
   "file_extension": ".py",
   "mimetype": "text/x-python",
   "name": "python",
   "nbconvert_exporter": "python",
   "pygments_lexer": "ipython3",
   "version": "3.7.4"
  }
 },
 "nbformat": 4,
 "nbformat_minor": 1
}
