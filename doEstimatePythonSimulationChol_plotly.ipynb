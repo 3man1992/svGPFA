{
  "nbformat": 4,
  "nbformat_minor": 0,
  "metadata": {
    "kernelspec": {
      "display_name": "Python 3",
      "language": "python",
      "name": "python3"
    },
    "language_info": {
      "codemirror_mode": {
        "name": "ipython",
        "version": 3
      },
      "file_extension": ".py",
      "mimetype": "text/x-python",
      "name": "python",
      "nbconvert_exporter": "python",
      "pygments_lexer": "ipython3",
      "version": "3.7.4"
    },
    "colab": {
      "name": "doEstimatePythonSimulationChol.ipynb",
      "provenance": [],
      "collapsed_sections": [],
      "include_colab_link": true
    }
  },
  "cells": [
    {
      "cell_type": "markdown",
      "metadata": {
        "id": "view-in-github",
        "colab_type": "text"
      },
      "source": [
        "<a href=\"https://colab.research.google.com/github/joacorapela/svGPFA/blob/master/doEstimatePythonSimulationChol_plotly.ipynb\" target=\"_parent\"><img src=\"https://colab.research.google.com/assets/colab-badge.svg\" alt=\"Open In Colab\"/></a>"
      ]
    },
    {
      "cell_type": "markdown",
      "metadata": {
        "id": "fN6ELszFC3Hp"
      },
      "source": [
        "# Clone repository"
      ]
    },
    {
      "cell_type": "code",
      "metadata": {
        "colab": {
          "base_uri": "https://localhost:8080/",
          "height": 542
        },
        "id": "NWC6yztZM8KG",
        "outputId": "cf563fed-1bda-479e-b0c0-110a13d1e9b0"
      },
      "source": [
        "import plotly.graph_objects as go\n",
        "fig = go.Figure({\n",
        "    \"data\": [{\"type\": \"bar\",\n",
        "              \"x\": [1, 2, 3],\n",
        "              \"y\": [1, 3, 2]}],\n",
        "    \"layout\": {\"title\": {\"text\": \"A Bar Chart\"}}\n",
        "})\n",
        "fig.show()"
      ],
      "execution_count": 1,
      "outputs": [
        {
          "output_type": "display_data",
          "data": {
            "text/html": [
              "<html>\n",
              "<head><meta charset=\"utf-8\" /></head>\n",
              "<body>\n",
              "    <div>\n",
              "            <script src=\"https://cdnjs.cloudflare.com/ajax/libs/mathjax/2.7.5/MathJax.js?config=TeX-AMS-MML_SVG\"></script><script type=\"text/javascript\">if (window.MathJax) {MathJax.Hub.Config({SVG: {font: \"STIX-Web\"}});}</script>\n",
              "                <script type=\"text/javascript\">window.PlotlyConfig = {MathJaxConfig: 'local'};</script>\n",
              "        <script src=\"https://cdn.plot.ly/plotly-latest.min.js\"></script>    \n",
              "            <div id=\"3411a826-3a4e-45e4-bb3b-77fa0131f88b\" class=\"plotly-graph-div\" style=\"height:525px; width:100%;\"></div>\n",
              "            <script type=\"text/javascript\">\n",
              "                \n",
              "                    window.PLOTLYENV=window.PLOTLYENV || {};\n",
              "                    \n",
              "                if (document.getElementById(\"3411a826-3a4e-45e4-bb3b-77fa0131f88b\")) {\n",
              "                    Plotly.newPlot(\n",
              "                        '3411a826-3a4e-45e4-bb3b-77fa0131f88b',\n",
              "                        [{\"type\": \"bar\", \"x\": [1, 2, 3], \"y\": [1, 3, 2]}],\n",
              "                        {\"template\": {\"data\": {\"bar\": [{\"error_x\": {\"color\": \"#2a3f5f\"}, \"error_y\": {\"color\": \"#2a3f5f\"}, \"marker\": {\"line\": {\"color\": \"#E5ECF6\", \"width\": 0.5}}, \"type\": \"bar\"}], \"barpolar\": [{\"marker\": {\"line\": {\"color\": \"#E5ECF6\", \"width\": 0.5}}, \"type\": \"barpolar\"}], \"carpet\": [{\"aaxis\": {\"endlinecolor\": \"#2a3f5f\", \"gridcolor\": \"white\", \"linecolor\": \"white\", \"minorgridcolor\": \"white\", \"startlinecolor\": \"#2a3f5f\"}, \"baxis\": {\"endlinecolor\": \"#2a3f5f\", \"gridcolor\": \"white\", \"linecolor\": \"white\", \"minorgridcolor\": \"white\", \"startlinecolor\": \"#2a3f5f\"}, \"type\": \"carpet\"}], \"choropleth\": [{\"colorbar\": {\"outlinewidth\": 0, \"ticks\": \"\"}, \"type\": \"choropleth\"}], \"contour\": [{\"colorbar\": {\"outlinewidth\": 0, \"ticks\": \"\"}, \"colorscale\": [[0.0, \"#0d0887\"], [0.1111111111111111, \"#46039f\"], [0.2222222222222222, \"#7201a8\"], [0.3333333333333333, \"#9c179e\"], [0.4444444444444444, \"#bd3786\"], [0.5555555555555556, \"#d8576b\"], [0.6666666666666666, \"#ed7953\"], [0.7777777777777778, \"#fb9f3a\"], [0.8888888888888888, \"#fdca26\"], [1.0, \"#f0f921\"]], \"type\": \"contour\"}], \"contourcarpet\": [{\"colorbar\": {\"outlinewidth\": 0, \"ticks\": \"\"}, \"type\": \"contourcarpet\"}], \"heatmap\": [{\"colorbar\": {\"outlinewidth\": 0, \"ticks\": \"\"}, \"colorscale\": [[0.0, \"#0d0887\"], [0.1111111111111111, \"#46039f\"], [0.2222222222222222, \"#7201a8\"], [0.3333333333333333, \"#9c179e\"], [0.4444444444444444, \"#bd3786\"], [0.5555555555555556, \"#d8576b\"], [0.6666666666666666, \"#ed7953\"], [0.7777777777777778, \"#fb9f3a\"], [0.8888888888888888, \"#fdca26\"], [1.0, \"#f0f921\"]], \"type\": \"heatmap\"}], \"heatmapgl\": [{\"colorbar\": {\"outlinewidth\": 0, \"ticks\": \"\"}, \"colorscale\": [[0.0, \"#0d0887\"], [0.1111111111111111, \"#46039f\"], [0.2222222222222222, \"#7201a8\"], [0.3333333333333333, \"#9c179e\"], [0.4444444444444444, \"#bd3786\"], [0.5555555555555556, \"#d8576b\"], [0.6666666666666666, \"#ed7953\"], [0.7777777777777778, \"#fb9f3a\"], [0.8888888888888888, \"#fdca26\"], [1.0, \"#f0f921\"]], \"type\": \"heatmapgl\"}], \"histogram\": [{\"marker\": {\"colorbar\": {\"outlinewidth\": 0, \"ticks\": \"\"}}, \"type\": \"histogram\"}], \"histogram2d\": [{\"colorbar\": {\"outlinewidth\": 0, \"ticks\": \"\"}, \"colorscale\": [[0.0, \"#0d0887\"], [0.1111111111111111, \"#46039f\"], [0.2222222222222222, \"#7201a8\"], [0.3333333333333333, \"#9c179e\"], [0.4444444444444444, \"#bd3786\"], [0.5555555555555556, \"#d8576b\"], [0.6666666666666666, \"#ed7953\"], [0.7777777777777778, \"#fb9f3a\"], [0.8888888888888888, \"#fdca26\"], [1.0, \"#f0f921\"]], \"type\": \"histogram2d\"}], \"histogram2dcontour\": [{\"colorbar\": {\"outlinewidth\": 0, \"ticks\": \"\"}, \"colorscale\": [[0.0, \"#0d0887\"], [0.1111111111111111, \"#46039f\"], [0.2222222222222222, \"#7201a8\"], [0.3333333333333333, \"#9c179e\"], [0.4444444444444444, \"#bd3786\"], [0.5555555555555556, \"#d8576b\"], [0.6666666666666666, \"#ed7953\"], [0.7777777777777778, \"#fb9f3a\"], [0.8888888888888888, \"#fdca26\"], [1.0, \"#f0f921\"]], \"type\": \"histogram2dcontour\"}], \"mesh3d\": [{\"colorbar\": {\"outlinewidth\": 0, \"ticks\": \"\"}, \"type\": \"mesh3d\"}], \"parcoords\": [{\"line\": {\"colorbar\": {\"outlinewidth\": 0, \"ticks\": \"\"}}, \"type\": \"parcoords\"}], \"pie\": [{\"automargin\": true, \"type\": \"pie\"}], \"scatter\": [{\"marker\": {\"colorbar\": {\"outlinewidth\": 0, \"ticks\": \"\"}}, \"type\": \"scatter\"}], \"scatter3d\": [{\"line\": {\"colorbar\": {\"outlinewidth\": 0, \"ticks\": \"\"}}, \"marker\": {\"colorbar\": {\"outlinewidth\": 0, \"ticks\": \"\"}}, \"type\": \"scatter3d\"}], \"scattercarpet\": [{\"marker\": {\"colorbar\": {\"outlinewidth\": 0, \"ticks\": \"\"}}, \"type\": \"scattercarpet\"}], \"scattergeo\": [{\"marker\": {\"colorbar\": {\"outlinewidth\": 0, \"ticks\": \"\"}}, \"type\": \"scattergeo\"}], \"scattergl\": [{\"marker\": {\"colorbar\": {\"outlinewidth\": 0, \"ticks\": \"\"}}, \"type\": \"scattergl\"}], \"scattermapbox\": [{\"marker\": {\"colorbar\": {\"outlinewidth\": 0, \"ticks\": \"\"}}, \"type\": \"scattermapbox\"}], \"scatterpolar\": [{\"marker\": {\"colorbar\": {\"outlinewidth\": 0, \"ticks\": \"\"}}, \"type\": \"scatterpolar\"}], \"scatterpolargl\": [{\"marker\": {\"colorbar\": {\"outlinewidth\": 0, \"ticks\": \"\"}}, \"type\": \"scatterpolargl\"}], \"scatterternary\": [{\"marker\": {\"colorbar\": {\"outlinewidth\": 0, \"ticks\": \"\"}}, \"type\": \"scatterternary\"}], \"surface\": [{\"colorbar\": {\"outlinewidth\": 0, \"ticks\": \"\"}, \"colorscale\": [[0.0, \"#0d0887\"], [0.1111111111111111, \"#46039f\"], [0.2222222222222222, \"#7201a8\"], [0.3333333333333333, \"#9c179e\"], [0.4444444444444444, \"#bd3786\"], [0.5555555555555556, \"#d8576b\"], [0.6666666666666666, \"#ed7953\"], [0.7777777777777778, \"#fb9f3a\"], [0.8888888888888888, \"#fdca26\"], [1.0, \"#f0f921\"]], \"type\": \"surface\"}], \"table\": [{\"cells\": {\"fill\": {\"color\": \"#EBF0F8\"}, \"line\": {\"color\": \"white\"}}, \"header\": {\"fill\": {\"color\": \"#C8D4E3\"}, \"line\": {\"color\": \"white\"}}, \"type\": \"table\"}]}, \"layout\": {\"annotationdefaults\": {\"arrowcolor\": \"#2a3f5f\", \"arrowhead\": 0, \"arrowwidth\": 1}, \"coloraxis\": {\"colorbar\": {\"outlinewidth\": 0, \"ticks\": \"\"}}, \"colorscale\": {\"diverging\": [[0, \"#8e0152\"], [0.1, \"#c51b7d\"], [0.2, \"#de77ae\"], [0.3, \"#f1b6da\"], [0.4, \"#fde0ef\"], [0.5, \"#f7f7f7\"], [0.6, \"#e6f5d0\"], [0.7, \"#b8e186\"], [0.8, \"#7fbc41\"], [0.9, \"#4d9221\"], [1, \"#276419\"]], \"sequential\": [[0.0, \"#0d0887\"], [0.1111111111111111, \"#46039f\"], [0.2222222222222222, \"#7201a8\"], [0.3333333333333333, \"#9c179e\"], [0.4444444444444444, \"#bd3786\"], [0.5555555555555556, \"#d8576b\"], [0.6666666666666666, \"#ed7953\"], [0.7777777777777778, \"#fb9f3a\"], [0.8888888888888888, \"#fdca26\"], [1.0, \"#f0f921\"]], \"sequentialminus\": [[0.0, \"#0d0887\"], [0.1111111111111111, \"#46039f\"], [0.2222222222222222, \"#7201a8\"], [0.3333333333333333, \"#9c179e\"], [0.4444444444444444, \"#bd3786\"], [0.5555555555555556, \"#d8576b\"], [0.6666666666666666, \"#ed7953\"], [0.7777777777777778, \"#fb9f3a\"], [0.8888888888888888, \"#fdca26\"], [1.0, \"#f0f921\"]]}, \"colorway\": [\"#636efa\", \"#EF553B\", \"#00cc96\", \"#ab63fa\", \"#FFA15A\", \"#19d3f3\", \"#FF6692\", \"#B6E880\", \"#FF97FF\", \"#FECB52\"], \"font\": {\"color\": \"#2a3f5f\"}, \"geo\": {\"bgcolor\": \"white\", \"lakecolor\": \"white\", \"landcolor\": \"#E5ECF6\", \"showlakes\": true, \"showland\": true, \"subunitcolor\": \"white\"}, \"hoverlabel\": {\"align\": \"left\"}, \"hovermode\": \"closest\", \"mapbox\": {\"style\": \"light\"}, \"paper_bgcolor\": \"white\", \"plot_bgcolor\": \"#E5ECF6\", \"polar\": {\"angularaxis\": {\"gridcolor\": \"white\", \"linecolor\": \"white\", \"ticks\": \"\"}, \"bgcolor\": \"#E5ECF6\", \"radialaxis\": {\"gridcolor\": \"white\", \"linecolor\": \"white\", \"ticks\": \"\"}}, \"scene\": {\"xaxis\": {\"backgroundcolor\": \"#E5ECF6\", \"gridcolor\": \"white\", \"gridwidth\": 2, \"linecolor\": \"white\", \"showbackground\": true, \"ticks\": \"\", \"zerolinecolor\": \"white\"}, \"yaxis\": {\"backgroundcolor\": \"#E5ECF6\", \"gridcolor\": \"white\", \"gridwidth\": 2, \"linecolor\": \"white\", \"showbackground\": true, \"ticks\": \"\", \"zerolinecolor\": \"white\"}, \"zaxis\": {\"backgroundcolor\": \"#E5ECF6\", \"gridcolor\": \"white\", \"gridwidth\": 2, \"linecolor\": \"white\", \"showbackground\": true, \"ticks\": \"\", \"zerolinecolor\": \"white\"}}, \"shapedefaults\": {\"line\": {\"color\": \"#2a3f5f\"}}, \"ternary\": {\"aaxis\": {\"gridcolor\": \"white\", \"linecolor\": \"white\", \"ticks\": \"\"}, \"baxis\": {\"gridcolor\": \"white\", \"linecolor\": \"white\", \"ticks\": \"\"}, \"bgcolor\": \"#E5ECF6\", \"caxis\": {\"gridcolor\": \"white\", \"linecolor\": \"white\", \"ticks\": \"\"}}, \"title\": {\"x\": 0.05}, \"xaxis\": {\"automargin\": true, \"gridcolor\": \"white\", \"linecolor\": \"white\", \"ticks\": \"\", \"title\": {\"standoff\": 15}, \"zerolinecolor\": \"white\", \"zerolinewidth\": 2}, \"yaxis\": {\"automargin\": true, \"gridcolor\": \"white\", \"linecolor\": \"white\", \"ticks\": \"\", \"title\": {\"standoff\": 15}, \"zerolinecolor\": \"white\", \"zerolinewidth\": 2}}}, \"title\": {\"text\": \"A Bar Chart\"}},\n",
              "                        {\"responsive\": true}\n",
              "                    ).then(function(){\n",
              "                            \n",
              "var gd = document.getElementById('3411a826-3a4e-45e4-bb3b-77fa0131f88b');\n",
              "var x = new MutationObserver(function (mutations, observer) {{\n",
              "        var display = window.getComputedStyle(gd).display;\n",
              "        if (!display || display === 'none') {{\n",
              "            console.log([gd, 'removed!']);\n",
              "            Plotly.purge(gd);\n",
              "            observer.disconnect();\n",
              "        }}\n",
              "}});\n",
              "\n",
              "// Listen for the removal of the full notebook cells\n",
              "var notebookContainer = gd.closest('#notebook-container');\n",
              "if (notebookContainer) {{\n",
              "    x.observe(notebookContainer, {childList: true});\n",
              "}}\n",
              "\n",
              "// Listen for the clearing of the current output cell\n",
              "var outputEl = gd.closest('.output');\n",
              "if (outputEl) {{\n",
              "    x.observe(outputEl, {childList: true});\n",
              "}}\n",
              "\n",
              "                        })\n",
              "                };\n",
              "                \n",
              "            </script>\n",
              "        </div>\n",
              "</body>\n",
              "</html>"
            ]
          },
          "metadata": {
            "tags": []
          }
        }
      ]
    },
    {
      "cell_type": "code",
      "metadata": {
        "id": "ymMmBCac_NDp",
        "colab": {
          "base_uri": "https://localhost:8080/"
        },
        "outputId": "94e3f7d7-a4d6-4814-94d0-efeb9df36aba"
      },
      "source": [
        "!git clone https://github.com/joacorapela/svGPFA.git\n",
        "%cd /content/svGPFA/ipynb"
      ],
      "execution_count": 2,
      "outputs": [
        {
          "output_type": "stream",
          "text": [
            "Cloning into 'svGPFA'...\n",
            "remote: Enumerating objects: 6428, done.\u001b[K\n",
            "remote: Counting objects: 100% (635/635), done.\u001b[K\n",
            "remote: Compressing objects: 100% (338/338), done.\u001b[K\n",
            "remote: Total 6428 (delta 414), reused 487 (delta 291), pack-reused 5793\u001b[K\n",
            "Receiving objects: 100% (6428/6428), 204.49 MiB | 25.71 MiB/s, done.\n",
            "Resolving deltas: 100% (3823/3823), done.\n",
            "/content/svGPFA/ipynb\n"
          ],
          "name": "stdout"
        }
      ]
    },
    {
      "cell_type": "code",
      "metadata": {
        "colab": {
          "base_uri": "https://localhost:8080/"
        },
        "id": "4dsGSEPMFhCT",
        "outputId": "021c6b4c-df4c-4902-a129-8b8fa6ba3279"
      },
      "source": [
        "!pip install chart_studio"
      ],
      "execution_count": 10,
      "outputs": [
        {
          "output_type": "stream",
          "text": [
            "Collecting chart_studio\n",
            "  Downloading chart_studio-1.1.0-py3-none-any.whl (64 kB)\n",
            "\u001b[?25l\r\u001b[K     |█████                           | 10 kB 20.3 MB/s eta 0:00:01\r\u001b[K     |██████████▏                     | 20 kB 21.8 MB/s eta 0:00:01\r\u001b[K     |███████████████▎                | 30 kB 26.2 MB/s eta 0:00:01\r\u001b[K     |████████████████████▍           | 40 kB 20.8 MB/s eta 0:00:01\r\u001b[K     |█████████████████████████▍      | 51 kB 15.6 MB/s eta 0:00:01\r\u001b[K     |██████████████████████████████▌ | 61 kB 17.1 MB/s eta 0:00:01\r\u001b[K     |████████████████████████████████| 64 kB 1.9 MB/s \n",
            "\u001b[?25hRequirement already satisfied: requests in /usr/local/lib/python3.7/dist-packages (from chart_studio) (2.23.0)\n",
            "Requirement already satisfied: retrying>=1.3.3 in /usr/local/lib/python3.7/dist-packages (from chart_studio) (1.3.3)\n",
            "Requirement already satisfied: plotly in /usr/local/lib/python3.7/dist-packages (from chart_studio) (4.4.1)\n",
            "Requirement already satisfied: six in /usr/local/lib/python3.7/dist-packages (from chart_studio) (1.15.0)\n",
            "Requirement already satisfied: urllib3!=1.25.0,!=1.25.1,<1.26,>=1.21.1 in /usr/local/lib/python3.7/dist-packages (from requests->chart_studio) (1.24.3)\n",
            "Requirement already satisfied: certifi>=2017.4.17 in /usr/local/lib/python3.7/dist-packages (from requests->chart_studio) (2021.5.30)\n",
            "Requirement already satisfied: idna<3,>=2.5 in /usr/local/lib/python3.7/dist-packages (from requests->chart_studio) (2.10)\n",
            "Requirement already satisfied: chardet<4,>=3.0.2 in /usr/local/lib/python3.7/dist-packages (from requests->chart_studio) (3.0.4)\n",
            "Installing collected packages: chart-studio\n",
            "Successfully installed chart-studio-1.1.0\n"
          ],
          "name": "stdout"
        }
      ]
    },
    {
      "cell_type": "markdown",
      "metadata": {
        "id": "DoqMvR5j_HzN"
      },
      "source": [
        "# Import requirements"
      ]
    },
    {
      "cell_type": "code",
      "metadata": {
        "id": "MeHQdcLB_HzO",
        "colab": {
          "base_uri": "https://localhost:8080/"
        },
        "outputId": "8d20cf6f-d022-4013-96ac-58cf33cce7d1"
      },
      "source": [
        "import sys\n",
        "import os\n",
        "import pdb\n",
        "import math\n",
        "import random\n",
        "import torch\n",
        "import pickle\n",
        "import configparser\n",
        "import pandas as pd\n",
        "import statsmodels.tsa.stattools\n",
        "import sklearn.metrics\n",
        "import matplotlib.pyplot as plt\n",
        "\n",
        "sys.path.append(\"../src\")\n",
        "sys.path.append(\"../scripts\")\n",
        "import stats.svGPFA.svGPFAModelFactory\n",
        "import stats.svGPFA.svEM\n",
        "import plot.svGPFA.plotUtilsPlotly\n",
        "import utils.svGPFA.configUtils\n",
        "import stats.svGPFA.svGPFAModelFactory\n",
        "\n",
        "import stats.pointProcess.tests\n",
        "import utils.svGPFA.miscUtils\n",
        "import utils.svGPFA.initUtils"
      ],
      "execution_count": 3,
      "outputs": [
        {
          "output_type": "stream",
          "text": [
            "/usr/local/lib/python3.7/dist-packages/statsmodels/tools/_testing.py:19: FutureWarning:\n",
            "\n",
            "pandas.util.testing is deprecated. Use the functions in the public API at pandas.testing instead.\n",
            "\n"
          ],
          "name": "stderr"
        }
      ]
    },
    {
      "cell_type": "markdown",
      "metadata": {
        "id": "OwSbGk_Do1E9"
      },
      "source": [
        ""
      ]
    },
    {
      "cell_type": "code",
      "metadata": {
        "id": "YqU2a_0-obom"
      },
      "source": [
        "import chart_studio.plotly as py\n",
        "fig = plot.svGPFA.plotUtilsPlotly.getPlotLowerBoundHist(lowerBoundHist=[1,2,3,4,5,6])\n",
        "# fig.show()\n",
        "py.iplot(fig, filename='lowerBoundHist')"
      ],
      "execution_count": null,
      "outputs": []
    },
    {
      "cell_type": "markdown",
      "metadata": {
        "id": "_TVSULk5_HzT"
      },
      "source": [
        "# Load data and initial values"
      ]
    },
    {
      "cell_type": "code",
      "metadata": {
        "id": "mmFWGAgK_HzU",
        "colab": {
          "base_uri": "https://localhost:8080/"
        },
        "outputId": "068018ca-7fa9-4459-fc50-3d42302a84ea"
      },
      "source": [
        "    %cd /content/svGPFA/scripts\n",
        "    \n",
        "    simResNumber = 96652136\n",
        "    estInitNumber = 464\n",
        "    em_max_iter = 3\n",
        "    nTestPoints = 2000\n",
        "\n",
        "    estInitConfigFilename = \"data/{:08d}_estimation_metaData.ini\".format(estInitNumber)\n",
        "    estInitConfig = configparser.ConfigParser()\n",
        "    estInitConfig.read(estInitConfigFilename)\n",
        "    nQuad = int(estInitConfig[\"control_variables\"][\"nQuad\"])\n",
        "    indPointsLocsKMSRegEpsilon = float(estInitConfig[\"control_variables\"][\"indPointsLocsKMSRegEpsilon\"])\n",
        "\n",
        "    optimParamsConfig = estInitConfig._sections[\"optim_params\"]\n",
        "    optimMethod = optimParamsConfig[\"em_method\"]\n",
        "    optimParams = {}\n",
        "#     optimParams[\"em_max_iter\"] = int(optimParamsConfig[\"em_max_iter\"])\n",
        "    optimParams[\"em_max_iter\"] = em_max_iter\n",
        "    steps = [\"estep\", \"mstep_embedding\", \"mstep_kernels\", \"mstep_indpointslocs\"]\n",
        "    for step in steps:\n",
        "        optimParams[\"{:s}_estimate\".format(step)] = optimParamsConfig[\"{:s}_estimate\".format(step)]==\"True\"\n",
        "        optimParams[\"{:s}_optim_params\".format(step)] = {\n",
        "            \"max_iter\": int(optimParamsConfig[\"{:s}_max_iter\".format(step)]),\n",
        "            \"lr\": float(optimParamsConfig[\"{:s}_lr\".format(step)]),\n",
        "            \"tolerance_grad\": float(optimParamsConfig[\"{:s}_tolerance_grad\".format(step)]),\n",
        "            \"tolerance_change\": float(optimParamsConfig[\"{:s}_tolerance_change\".format(step)]),\n",
        "            \"line_search_fn\": optimParamsConfig[\"{:s}_line_search_fn\".format(step)],\n",
        "        }\n",
        "    optimParams[\"verbose\"] = optimParamsConfig[\"verbose\"]==\"True\"\n",
        "\n",
        "    # load data and initial values\n",
        "    simResConfigFilename = \"results/{:08d}_simulation_metaData.ini\".format(simResNumber)\n",
        "    simResConfig = configparser.ConfigParser()\n",
        "    simResConfig.read(simResConfigFilename)\n",
        "    simInitConfigFilename = simResConfig[\"simulation_params\"][\"simInitConfigFilename\"]\n",
        "    simResFilename = simResConfig[\"simulation_results\"][\"simResFilename\"]\n",
        "\n",
        "    simInitConfig = configparser.ConfigParser()\n",
        "    simInitConfig.read(simInitConfigFilename)\n",
        "    nLatents = int(simInitConfig[\"control_variables\"][\"nLatents\"])\n",
        "    nNeurons = int(simInitConfig[\"control_variables\"][\"nNeurons\"])\n",
        "    trialsLengths = [float(str) for str in simInitConfig[\"control_variables\"][\"trialsLengths\"][1:-1].split(\",\")]\n",
        "    nTrials = len(trialsLengths)\n",
        "\n",
        "    with open(simResFilename, \"rb\") as f: simRes = pickle.load(f)\n",
        "    spikesTimes = simRes[\"spikes\"]\n",
        "    trueLatentsTimes = simRes[\"times\"]\n",
        "    trueLatentsSamples = simRes[\"latents\"]\n",
        "    trueLatentsMeans = simRes[\"latentsMeans\"]\n",
        "    trueLatentsSTDs = simRes[\"latentsSTDs\"]\n",
        "    trueLatentsSamples = [trueLatentsSamples[r][:nLatents,:] for r in range(nTrials)]\n",
        "    trueLatentsMeans = [trueLatentsMeans[r][:nLatents,:] for r in range(nTrials)]\n",
        "    trueLatentsSTDs = [trueLatentsSTDs[r][:nLatents,:] for r in range(nTrials)]\n",
        "    timesTrueValues = torch.linspace(0, torch.max(torch.tensor(trialsLengths)), trueLatentsSamples[0].shape[1])\n",
        "    testTimes = torch.linspace(0, torch.max(torch.tensor(spikesTimes[0][0])), nTestPoints)\n",
        "    tIndPointsLocs = utils.svGPFA.configUtils.getIndPointsLocs0(nLatents=nLatents, nTrials=nTrials, config=simInitConfig)\n",
        "\n",
        "    randomEmbedding = estInitConfig[\"control_variables\"][\"randomEmbedding\"].lower()==\"true\"\n",
        "    if randomEmbedding:\n",
        "        C0 = torch.rand(nNeurons, nLatents, dtype=torch.double).contiguous()\n",
        "        d0 = torch.rand(nNeurons, 1, dtype=torch.double).contiguous()\n",
        "    else:\n",
        "        CFilename = estInitConfig[\"embedding_params\"][\"C_filename\"]\n",
        "        dFilename = estInitConfig[\"embedding_params\"][\"d_filename\"]\n",
        "        C, d = utils.svGPFA.configUtils.getLinearEmbeddingParams(CFilename=CFilename, dFilename=dFilename)\n",
        "        initCondEmbeddingSTD = float(estInitConfig[\"control_variables\"][\"initCondEmbeddingSTD\"])\n",
        "        C0 = (C + torch.randn(C.shape)*initCondEmbeddingSTD).contiguous()\n",
        "        d0 = (d + torch.randn(d.shape)*initCondEmbeddingSTD).contiguous()\n",
        "\n",
        "    legQuadPoints, legQuadWeights = utils.svGPFA.miscUtils.getLegQuadPointsAndWeights(nQuad=nQuad, trialsLengths=trialsLengths)\n",
        "\n",
        "    kernels = utils.svGPFA.configUtils.getKernels(nLatents=nLatents, config=estInitConfig, forceUnitScale=True)\n",
        "    kernelsScaledParams0 = utils.svGPFA.initUtils.getKernelsScaledParams0(kernels=kernels, noiseSTD=0.0)\n",
        "    Z0 = utils.svGPFA.configUtils.getIndPointsLocs0(nLatents=nLatents, nTrials=nTrials, config=estInitConfig)\n",
        "    nIndPointsPerLatent = [Z0[k].shape[1] for k in range(nLatents)]\n",
        "\n",
        "    qMu0 = utils.svGPFA.configUtils.getVariationalMean0(nLatents=nLatents, nTrials=nTrials, config=estInitConfig)\n",
        "\n",
        "    qSigma0 = utils.svGPFA.configUtils.getVariationalCov0(nLatents=nLatents, nTrials=nTrials, config=estInitConfig)\n",
        "    srQSigma0Vecs = utils.svGPFA.initUtils.getSRQSigmaVecsFromSRMatrices(srMatrices=qSigma0)\n",
        "\n",
        "    qUParams0 = {\"qMu0\": qMu0, \"srQSigma0Vecs\": srQSigma0Vecs}\n",
        "    kmsParams0 = {\"kernelsParams0\": kernelsScaledParams0,\n",
        "                  \"inducingPointsLocs0\": Z0}\n",
        "    qKParams0 = {\"svPosteriorOnIndPoints\": qUParams0,\n",
        "                 \"kernelsMatricesStore\": kmsParams0}\n",
        "    qHParams0 = {\"C0\": C0, \"d0\": d0}\n",
        "    initialParams = {\"svPosteriorOnLatents\": qKParams0,\n",
        "                     \"svEmbedding\": qHParams0}\n",
        "    quadParams = {\"legQuadPoints\": legQuadPoints,\n",
        "                  \"legQuadWeights\": legQuadWeights}\n",
        "\n"
      ],
      "execution_count": 5,
      "outputs": [
        {
          "output_type": "stream",
          "text": [
            "/content/svGPFA/scripts\n"
          ],
          "name": "stdout"
        },
        {
          "output_type": "stream",
          "text": [
            "/usr/local/lib/python3.7/dist-packages/ipykernel_launcher.py:55: UserWarning:\n",
            "\n",
            "To copy construct from a tensor, it is recommended to use sourceTensor.clone().detach() or sourceTensor.clone().detach().requires_grad_(True), rather than torch.tensor(sourceTensor).\n",
            "\n"
          ],
          "name": "stderr"
        }
      ]
    },
    {
      "cell_type": "markdown",
      "metadata": {
        "id": "cXayKbg__HzZ"
      },
      "source": [
        "# Create model"
      ]
    },
    {
      "cell_type": "code",
      "metadata": {
        "id": "GOH2JKRN_Hza",
        "colab": {
          "base_uri": "https://localhost:8080/"
        },
        "outputId": "29a14da6-6448-4a7f-cddb-908a14d26492"
      },
      "source": [
        "    # create model\n",
        "    model = stats.svGPFA.svGPFAModelFactory.SVGPFAModelFactory.buildModel(\n",
        "        conditionalDist=stats.svGPFA.svGPFAModelFactory.PointProcess,\n",
        "        linkFunction=stats.svGPFA.svGPFAModelFactory.ExponentialLink,\n",
        "        embeddingType=stats.svGPFA.svGPFAModelFactory.LinearEmbedding,\n",
        "        kernels=kernels)\n",
        "\n",
        "    model.setInitialParamsAndData(measurements=spikesTimes,\n",
        "                                  initialParams=initialParams,\n",
        "                                  quadParams=quadParams,\n",
        "                                  indPointsLocsKMSRegEpsilon=indPointsLocsKMSRegEpsilon)\n"
      ],
      "execution_count": 6,
      "outputs": [
        {
          "output_type": "stream",
          "text": [
            "../src/utils/svGPFA/miscUtils.py:156: UserWarning:\n",
            "\n",
            "torch.cholesky is deprecated in favor of torch.linalg.cholesky and will be removed in a future PyTorch release.\n",
            "L = torch.cholesky(A)\n",
            "should be replaced with\n",
            "L = torch.linalg.cholesky(A)\n",
            "and\n",
            "U = torch.cholesky(A, upper=True)\n",
            "should be replaced with\n",
            "U = torch.linalg.cholesky(A.transpose(-2, -1).conj()).transpose(-2, -1).conj() (Triggered internally at  /pytorch/aten/src/ATen/native/BatchLinearAlgebra.cpp:1284.)\n",
            "\n"
          ],
          "name": "stderr"
        }
      ]
    },
    {
      "cell_type": "markdown",
      "metadata": {
        "id": "rB6s0so2_Hze"
      },
      "source": [
        "# Maximize the Lower Bound\n",
        "<span style=\"color:red\">(Warning: with the parameters above, this step takes around 15 minutes)</span>"
      ]
    },
    {
      "cell_type": "code",
      "metadata": {
        "scrolled": false,
        "id": "ykvsp7cW_Hzf",
        "colab": {
          "base_uri": "https://localhost:8080/"
        },
        "outputId": "c8f2e04c-6bf8-4a83-c4ac-fbdcb05bf258"
      },
      "source": [
        "    svEM = stats.svGPFA.svEM.SVEM()\n",
        "    lowerBoundHist, elapsedTimeHist, terminationInfo, iterationsModelParams  = svEM.maximize(model=model, optimParams=optimParams, method=optimMethod)\n"
      ],
      "execution_count": 7,
      "outputs": [
        {
          "output_type": "stream",
          "text": [
            "Iteration 01, estep start: -inf\n",
            "Iteration 01, estep end: 145.802024, niter: 15, nfeval: 25\n",
            "Iteration 01, mstep_embedding start: 145.802024\n",
            "Iteration 01, mstep_embedding end: 135598.706516, niter: 18, nfeval: 25\n",
            "Iteration 01, mstep_kernels start: 135598.706516\n",
            "Kernel params: [tensor([1.2235], dtype=torch.float64), tensor([0.0773], dtype=torch.float64)]\n",
            "Iteration 01, mstep_kernels end: 134159.217618, niter: 18, nfeval: 19\n",
            "Iteration 01, mstep_indpointslocs start: 134159.217618\n",
            "Iteration 01, mstep_indpointslocs end: 134355.258027, niter: 20, nfeval: 25\n",
            "Iteration 02, estep start: 134355.258027\n",
            "Iteration 02, estep end: 146894.513995, niter: 19, nfeval: 26\n",
            "Iteration 02, mstep_embedding start: 146894.513995\n",
            "Iteration 02, mstep_embedding end: 151672.351318, niter: 20, nfeval: 23\n",
            "Iteration 02, mstep_kernels start: 151672.351318\n",
            "Kernel params: [tensor([0.7126], dtype=torch.float64), tensor([0.0662], dtype=torch.float64)]\n",
            "Iteration 02, mstep_kernels end: 150724.488873, niter: 17, nfeval: 18\n",
            "Iteration 02, mstep_indpointslocs start: 150724.488873\n",
            "Iteration 02, mstep_indpointslocs end: 151713.137697, niter: 20, nfeval: 22\n"
          ],
          "name": "stdout"
        }
      ]
    },
    {
      "cell_type": "markdown",
      "metadata": {
        "id": "Hljb2Rb6_Hzk"
      },
      "source": [
        "# Plot lower bound history"
      ]
    },
    {
      "cell_type": "code",
      "metadata": {
        "id": "h9HwSZ9TMFYc"
      },
      "source": [
        "# fig = plot.svGPFA.plotUtilsPlotly.getPlotLowerBoundHist(lowerBoundHist=lowerBoundHist)\n",
        "# fig.show()"
      ],
      "execution_count": 8,
      "outputs": []
    },
    {
      "cell_type": "markdown",
      "metadata": {
        "id": "R2jvMBqj_Hzp"
      },
      "source": [
        "# Predict and plot true and estimated latents"
      ]
    },
    {
      "cell_type": "code",
      "metadata": {
        "id": "479iGUsX_Hzq"
      },
      "source": [
        "    trialToPlot = 0\n",
        "\n",
        "    testMuK, testVarK = model.predictLatents(newTimes=trueLatentsTimes[0])                                                                                              \n",
        "    eIndPointsLocs = model.getIndPointsLocs()\n",
        "\n",
        "#     fig = plot.svGPFA.plotUtilsPlotly.getPlotTrueAndEstimatedLatents(\n",
        "#         tTimes=trueLatentsTimes[0],\n",
        "#         tLatentsSamples=trueLatentsSamples,\n",
        "#         tLatentsMeans=trueLatentsMeans,\n",
        "#         tLatentsSTDs=trueLatentsSTDs,\n",
        "#         tIndPointsLocs=tIndPointsLocs,\n",
        "#         eTimes=trueLatentsTimes[0],\n",
        "#         eLatentsMeans=testMuK,\n",
        "#         eLatentsSTDs=torch.sqrt(testVarK),\n",
        "#         eIndPointsLocs=eIndPointsLocs,\n",
        "#         trialToPlot=trialToPlot)                                                                                                                                         \n",
        "\n",
        "#     fig.show()"
      ],
      "execution_count": 9,
      "outputs": []
    },
    {
      "cell_type": "markdown",
      "metadata": {
        "id": "NhA77H8s_Hzu"
      },
      "source": [
        "# Plot true and estimated kernels parameters"
      ]
    },
    {
      "cell_type": "code",
      "metadata": {
        "id": "2ynUe0sw_Hzv",
        "colab": {
          "base_uri": "https://localhost:8080/",
          "height": 341
        },
        "outputId": "ab2a5bb8-861d-43f7-82e3-d309effb3a89"
      },
      "source": [
        "    kernelsParams = model.getKernelsParams()\n",
        "    fig = plot.svGPFA.plotUtilsPlotly.getPlotTrueAndEstimatedKernelsParams(trueKernels=kernels, estimatedKernelsParams=kernelsParams)\n",
        "    fig.show()"
      ],
      "execution_count": 10,
      "outputs": [
        {
          "output_type": "error",
          "ename": "Error",
          "evalue": "ignored",
          "traceback": [
            "\u001b[0;31m---------------------------------------------------------------------------\u001b[0m",
            "\u001b[0;31mError\u001b[0m                                     Traceback (most recent call last)",
            "\u001b[0;32m<ipython-input-10-2867204b674a>\u001b[0m in \u001b[0;36m<module>\u001b[0;34m()\u001b[0m\n\u001b[1;32m      1\u001b[0m \u001b[0mkernelsParams\u001b[0m \u001b[0;34m=\u001b[0m \u001b[0mmodel\u001b[0m\u001b[0;34m.\u001b[0m\u001b[0mgetKernelsParams\u001b[0m\u001b[0;34m(\u001b[0m\u001b[0;34m)\u001b[0m\u001b[0;34m\u001b[0m\u001b[0;34m\u001b[0m\u001b[0m\n\u001b[1;32m      2\u001b[0m \u001b[0mfig\u001b[0m \u001b[0;34m=\u001b[0m \u001b[0mplot\u001b[0m\u001b[0;34m.\u001b[0m\u001b[0msvGPFA\u001b[0m\u001b[0;34m.\u001b[0m\u001b[0mplotUtilsPlotly\u001b[0m\u001b[0;34m.\u001b[0m\u001b[0mgetPlotTrueAndEstimatedKernelsParams\u001b[0m\u001b[0;34m(\u001b[0m\u001b[0mtrueKernels\u001b[0m\u001b[0;34m=\u001b[0m\u001b[0mkernels\u001b[0m\u001b[0;34m,\u001b[0m \u001b[0mestimatedKernelsParams\u001b[0m\u001b[0;34m=\u001b[0m\u001b[0mkernelsParams\u001b[0m\u001b[0;34m)\u001b[0m\u001b[0;34m\u001b[0m\u001b[0;34m\u001b[0m\u001b[0m\n\u001b[0;32m----> 3\u001b[0;31m \u001b[0mfig\u001b[0m\u001b[0;34m.\u001b[0m\u001b[0mshow\u001b[0m\u001b[0;34m(\u001b[0m\u001b[0;34m)\u001b[0m\u001b[0;34m\u001b[0m\u001b[0;34m\u001b[0m\u001b[0m\n\u001b[0m",
            "\u001b[0;32m/usr/local/lib/python3.7/dist-packages/plotly/basedatatypes.py\u001b[0m in \u001b[0;36mshow\u001b[0;34m(self, *args, **kwargs)\u001b[0m\n\u001b[1;32m   2792\u001b[0m         \u001b[0;32mimport\u001b[0m \u001b[0mplotly\u001b[0m\u001b[0;34m.\u001b[0m\u001b[0mio\u001b[0m \u001b[0;32mas\u001b[0m \u001b[0mpio\u001b[0m\u001b[0;34m\u001b[0m\u001b[0;34m\u001b[0m\u001b[0m\n\u001b[1;32m   2793\u001b[0m \u001b[0;34m\u001b[0m\u001b[0m\n\u001b[0;32m-> 2794\u001b[0;31m         \u001b[0;32mreturn\u001b[0m \u001b[0mpio\u001b[0m\u001b[0;34m.\u001b[0m\u001b[0mshow\u001b[0m\u001b[0;34m(\u001b[0m\u001b[0mself\u001b[0m\u001b[0;34m,\u001b[0m \u001b[0;34m*\u001b[0m\u001b[0margs\u001b[0m\u001b[0;34m,\u001b[0m \u001b[0;34m**\u001b[0m\u001b[0mkwargs\u001b[0m\u001b[0;34m)\u001b[0m\u001b[0;34m\u001b[0m\u001b[0;34m\u001b[0m\u001b[0m\n\u001b[0m\u001b[1;32m   2795\u001b[0m \u001b[0;34m\u001b[0m\u001b[0m\n\u001b[1;32m   2796\u001b[0m     \u001b[0;32mdef\u001b[0m \u001b[0mto_json\u001b[0m\u001b[0;34m(\u001b[0m\u001b[0mself\u001b[0m\u001b[0;34m,\u001b[0m \u001b[0;34m*\u001b[0m\u001b[0margs\u001b[0m\u001b[0;34m,\u001b[0m \u001b[0;34m**\u001b[0m\u001b[0mkwargs\u001b[0m\u001b[0;34m)\u001b[0m\u001b[0;34m:\u001b[0m\u001b[0;34m\u001b[0m\u001b[0;34m\u001b[0m\u001b[0m\n",
            "\u001b[0;32m/usr/local/lib/python3.7/dist-packages/plotly/io/_renderers.py\u001b[0m in \u001b[0;36mshow\u001b[0;34m(fig, renderer, validate, **kwargs)\u001b[0m\n\u001b[1;32m    389\u001b[0m \u001b[0;34m\u001b[0m\u001b[0m\n\u001b[1;32m    390\u001b[0m     \u001b[0;31m# external renderers\u001b[0m\u001b[0;34m\u001b[0m\u001b[0;34m\u001b[0m\u001b[0;34m\u001b[0m\u001b[0m\n\u001b[0;32m--> 391\u001b[0;31m     \u001b[0mrenderers\u001b[0m\u001b[0;34m.\u001b[0m\u001b[0m_perform_external_rendering\u001b[0m\u001b[0;34m(\u001b[0m\u001b[0mfig_dict\u001b[0m\u001b[0;34m,\u001b[0m \u001b[0mrenderers_string\u001b[0m\u001b[0;34m=\u001b[0m\u001b[0mrenderer\u001b[0m\u001b[0;34m,\u001b[0m \u001b[0;34m**\u001b[0m\u001b[0mkwargs\u001b[0m\u001b[0;34m)\u001b[0m\u001b[0;34m\u001b[0m\u001b[0;34m\u001b[0m\u001b[0m\n\u001b[0m\u001b[1;32m    392\u001b[0m \u001b[0;34m\u001b[0m\u001b[0m\n\u001b[1;32m    393\u001b[0m \u001b[0;34m\u001b[0m\u001b[0m\n",
            "\u001b[0;32m/usr/local/lib/python3.7/dist-packages/plotly/io/_renderers.py\u001b[0m in \u001b[0;36m_perform_external_rendering\u001b[0;34m(self, fig_dict, renderers_string, **kwargs)\u001b[0m\n\u001b[1;32m    338\u001b[0m                         \u001b[0msetattr\u001b[0m\u001b[0;34m(\u001b[0m\u001b[0mrenderer\u001b[0m\u001b[0;34m,\u001b[0m \u001b[0mk\u001b[0m\u001b[0;34m,\u001b[0m \u001b[0mv\u001b[0m\u001b[0;34m)\u001b[0m\u001b[0;34m\u001b[0m\u001b[0;34m\u001b[0m\u001b[0m\n\u001b[1;32m    339\u001b[0m \u001b[0;34m\u001b[0m\u001b[0m\n\u001b[0;32m--> 340\u001b[0;31m                 \u001b[0mrenderer\u001b[0m\u001b[0;34m.\u001b[0m\u001b[0mrender\u001b[0m\u001b[0;34m(\u001b[0m\u001b[0mfig_dict\u001b[0m\u001b[0;34m)\u001b[0m\u001b[0;34m\u001b[0m\u001b[0;34m\u001b[0m\u001b[0m\n\u001b[0m\u001b[1;32m    341\u001b[0m \u001b[0;34m\u001b[0m\u001b[0m\n\u001b[1;32m    342\u001b[0m \u001b[0;34m\u001b[0m\u001b[0m\n",
            "\u001b[0;32m/usr/local/lib/python3.7/dist-packages/plotly/io/_base_renderers.py\u001b[0m in \u001b[0;36mrender\u001b[0;34m(self, fig_dict)\u001b[0m\n\u001b[1;32m    734\u001b[0m             \u001b[0mvalidate\u001b[0m\u001b[0;34m=\u001b[0m\u001b[0;32mFalse\u001b[0m\u001b[0;34m,\u001b[0m\u001b[0;34m\u001b[0m\u001b[0;34m\u001b[0m\u001b[0m\n\u001b[1;32m    735\u001b[0m         )\n\u001b[0;32m--> 736\u001b[0;31m         \u001b[0mopen_html_in_browser\u001b[0m\u001b[0;34m(\u001b[0m\u001b[0mhtml\u001b[0m\u001b[0;34m,\u001b[0m \u001b[0mself\u001b[0m\u001b[0;34m.\u001b[0m\u001b[0musing\u001b[0m\u001b[0;34m,\u001b[0m \u001b[0mself\u001b[0m\u001b[0;34m.\u001b[0m\u001b[0mnew\u001b[0m\u001b[0;34m,\u001b[0m \u001b[0mself\u001b[0m\u001b[0;34m.\u001b[0m\u001b[0mautoraise\u001b[0m\u001b[0;34m)\u001b[0m\u001b[0;34m\u001b[0m\u001b[0;34m\u001b[0m\u001b[0m\n\u001b[0m\u001b[1;32m    737\u001b[0m \u001b[0;34m\u001b[0m\u001b[0m\n\u001b[1;32m    738\u001b[0m \u001b[0;34m\u001b[0m\u001b[0m\n",
            "\u001b[0;32m/usr/local/lib/python3.7/dist-packages/plotly/io/_base_renderers.py\u001b[0m in \u001b[0;36mopen_html_in_browser\u001b[0;34m(html, using, new, autoraise)\u001b[0m\n\u001b[1;32m    679\u001b[0m \u001b[0;34m\u001b[0m\u001b[0m\n\u001b[1;32m    680\u001b[0m     \u001b[0mserver\u001b[0m \u001b[0;34m=\u001b[0m \u001b[0mHTTPServer\u001b[0m\u001b[0;34m(\u001b[0m\u001b[0;34m(\u001b[0m\u001b[0;34m\"127.0.0.1\"\u001b[0m\u001b[0;34m,\u001b[0m \u001b[0;36m0\u001b[0m\u001b[0;34m)\u001b[0m\u001b[0;34m,\u001b[0m \u001b[0mOneShotRequestHandler\u001b[0m\u001b[0;34m)\u001b[0m\u001b[0;34m\u001b[0m\u001b[0;34m\u001b[0m\u001b[0m\n\u001b[0;32m--> 681\u001b[0;31m     webbrowser.get(using).open(\n\u001b[0m\u001b[1;32m    682\u001b[0m         \u001b[0;34m\"http://127.0.0.1:%s\"\u001b[0m \u001b[0;34m%\u001b[0m \u001b[0mserver\u001b[0m\u001b[0;34m.\u001b[0m\u001b[0mserver_port\u001b[0m\u001b[0;34m,\u001b[0m \u001b[0mnew\u001b[0m\u001b[0;34m=\u001b[0m\u001b[0mnew\u001b[0m\u001b[0;34m,\u001b[0m \u001b[0mautoraise\u001b[0m\u001b[0;34m=\u001b[0m\u001b[0mautoraise\u001b[0m\u001b[0;34m\u001b[0m\u001b[0;34m\u001b[0m\u001b[0m\n\u001b[1;32m    683\u001b[0m     )\n",
            "\u001b[0;32m/usr/lib/python3.7/webbrowser.py\u001b[0m in \u001b[0;36mget\u001b[0;34m(using)\u001b[0m\n\u001b[1;32m     63\u001b[0m             \u001b[0;32melif\u001b[0m \u001b[0mcommand\u001b[0m\u001b[0;34m[\u001b[0m\u001b[0;36m0\u001b[0m\u001b[0;34m]\u001b[0m \u001b[0;32mis\u001b[0m \u001b[0;32mnot\u001b[0m \u001b[0;32mNone\u001b[0m\u001b[0;34m:\u001b[0m\u001b[0;34m\u001b[0m\u001b[0;34m\u001b[0m\u001b[0m\n\u001b[1;32m     64\u001b[0m                 \u001b[0;32mreturn\u001b[0m \u001b[0mcommand\u001b[0m\u001b[0;34m[\u001b[0m\u001b[0;36m0\u001b[0m\u001b[0;34m]\u001b[0m\u001b[0;34m(\u001b[0m\u001b[0;34m)\u001b[0m\u001b[0;34m\u001b[0m\u001b[0;34m\u001b[0m\u001b[0m\n\u001b[0;32m---> 65\u001b[0;31m     \u001b[0;32mraise\u001b[0m \u001b[0mError\u001b[0m\u001b[0;34m(\u001b[0m\u001b[0;34m\"could not locate runnable browser\"\u001b[0m\u001b[0;34m)\u001b[0m\u001b[0;34m\u001b[0m\u001b[0;34m\u001b[0m\u001b[0m\n\u001b[0m\u001b[1;32m     66\u001b[0m \u001b[0;34m\u001b[0m\u001b[0m\n\u001b[1;32m     67\u001b[0m \u001b[0;31m# Please note: the following definition hides a builtin function.\u001b[0m\u001b[0;34m\u001b[0m\u001b[0;34m\u001b[0m\u001b[0;34m\u001b[0m\u001b[0m\n",
            "\u001b[0;31mError\u001b[0m: could not locate runnable browser"
          ]
        }
      ]
    },
    {
      "cell_type": "markdown",
      "metadata": {
        "id": "agXaOVc8_Hzz"
      },
      "source": [
        "# Plot true and estimated latents means"
      ]
    },
    {
      "cell_type": "code",
      "metadata": {
        "id": "ww8dkWag_Hz0"
      },
      "source": [
        "    tLatentsMeansFuncs = utils.svGPFA.configUtils.getLatentsMeansFuncs(nLatents=nLatents, nTrials=nTrials, config=simInitConfig)\n",
        "    trialsTimes = utils.svGPFA.miscUtils.getTrialsTimes(trialsLengths=trialsLengths, dt=dtSimulate)\n",
        "    tLatentsMeans = utils.svGPFA.miscUtils.getLatentsMeanFuncsSamples(latentsMeansFuncs=tLatentsMeansFuncs, trialsTimes=trialsTimes, dtype=C.dtype)\n",
        "    with torch.no_grad(): latentsMeans, _ = model.predictLatents(newTimes=trialsTimes[0])\n",
        "    trueLatentsMeans = simRes[\"latentsMeans\"]\n",
        "    trueLatentsSTDs = simRes[\"latentsSTDs\"]\n",
        "    trueLatentsSTDs = [trueLatentsSTDs[r][:nLatents,:] for r in range(nTrials)]\n",
        "\n",
        "    plot.svGPFA.plotUtils.plotTrueAndEstimatedLatentsMeans(trueLatentsMeans=tLatentsMeans, estimatedLatentsMeans=latentsMeans, trialsTimes=trialsTimes)"
      ],
      "execution_count": null,
      "outputs": []
    },
    {
      "cell_type": "markdown",
      "metadata": {
        "id": "96ysODIs_Hz4"
      },
      "source": [
        "# Plot true and estimated linear embedding parameters"
      ]
    },
    {
      "cell_type": "code",
      "metadata": {
        "scrolled": true,
        "id": "GzAgotSH_Hz4"
      },
      "source": [
        "    with torch.no_grad(): estimatedC, estimatedD = model.getSVEmbeddingParams()\n",
        "    plt.figure()\n",
        "    plot.svGPFA.plotUtils.plotTrueAndEstimatedEmbeddingParams(trueC=C, trueD=d, estimatedC=estimatedC, estimatedD=estimatedD)\n"
      ],
      "execution_count": null,
      "outputs": []
    },
    {
      "cell_type": "markdown",
      "metadata": {
        "id": "_Cf_cCkY_Hz8"
      },
      "source": [
        "# Plot true and estimated CIF"
      ]
    },
    {
      "cell_type": "code",
      "metadata": {
        "id": "AKOZtPMd_Hz9"
      },
      "source": [
        "    title = \"Trial {:d}, Neuron {:d}\".format(trialToPlot, neuronToPlot)                                                                       \n",
        "    # CIF\n",
        "    T = torch.tensor(trialsLengths).max().item()\n",
        "    oneTrialCIFTimes = torch.arange(0, T, dtCIF)\n",
        "    cifTimes = torch.unsqueeze(torch.ger(torch.ones(nTrials), oneTrialCIFTimes), dim=2)\n",
        "    with torch.no_grad(): cifValues = model.computeMeanCIFs(times=cifTimes)\n",
        "    plt.figure()\n",
        "    plot.svGPFA.plotUtils.plotSimulatedAndEstimatedCIFs(times=cifTimes[trialToPlot, :, 0], simCIFValues=simCIFsValues[trialToPlot][neuronToPlot], estCIFValues=cifValues[trialToPlot][neuronToPlot], title=title)"
      ],
      "execution_count": null,
      "outputs": []
    },
    {
      "cell_type": "markdown",
      "metadata": {
        "id": "8VTtBxNZ_H0D"
      },
      "source": [
        "# KS time-rescaling GOF test -- numerical correction"
      ]
    },
    {
      "cell_type": "code",
      "metadata": {
        "id": "uctwu7A4_H0E"
      },
      "source": [
        "    gamma = 10 # number of resamples\n",
        "    spikesTimesKS = spikesTimes[trialToPlot][neuronToPlot]\n",
        "    cifTimesKS = cifTimes[trialToPlot,:,0]\n",
        "    cifValuesKS = cifValues[trialToPlot][neuronToPlot]\n",
        "\n",
        "    title = \"Trial {:d}, Neuron {:d} ({:d} spikes)\".format(trialToPlot, neuronToPlot, len(spikesTimesKS))\n",
        "\n",
        "    diffECDFsX, diffECDFsY, estECDFx, estECDFy, simECDFx, simECDFy, cb = stats.pointProcess.tests.KSTestTimeRescalingNumericalCorrection(spikesTimes=spikesTimesKS, cifTimes=cifTimesKS, cifValues=cifValuesKS, gamma=gamma)\n",
        "    plt.figure()\n",
        "    plot.svGPFA.plotUtils.plotResKSTestTimeRescalingNumericalCorrection(diffECDFsX=diffECDFsX, diffECDFsY=diffECDFsY, estECDFx=estECDFx, estECDFy=estECDFy, simECDFx=simECDFx, simECDFy=simECDFy, cb=cb, title=title)"
      ],
      "execution_count": null,
      "outputs": []
    },
    {
      "cell_type": "markdown",
      "metadata": {
        "id": "TYeT1uSe_H0I"
      },
      "source": [
        "# KS time-rescaling GOF test -- analytical correction"
      ]
    },
    {
      "cell_type": "code",
      "metadata": {
        "id": "l45h-6Fo_H0I"
      },
      "source": [
        "    t0 = math.floor(cifTimesKS.min())\n",
        "    tf = math.ceil(cifTimesKS.max())\n",
        "    dt = (cifTimesKS[1]-cifTimesKS[0]).item()\n",
        "    utSRISIs, uCDF, cb, utRISIs = stats.pointProcess.tests.KSTestTimeRescalingAnalyticalCorrectionUnbinned(spikesTimes=spikesTimesKS, cifValues=cifValuesKS, t0=t0, tf=tf, dt=dt)\n",
        "    sUTRISIs, _ = torch.sort(utSRISIs)\n",
        "\n",
        "    plt.figure()\n",
        "    plot.svGPFA.plotUtils.plotResKSTestTimeRescalingAnalyticalCorrection(sUTRISIs=sUTRISIs, uCDF=uCDF, cb=cb, title=title)\n"
      ],
      "execution_count": null,
      "outputs": []
    },
    {
      "cell_type": "markdown",
      "metadata": {
        "id": "ldA2wXRn_H0M"
      },
      "source": [
        "## Plot rescaled ISIs 1-lag scatter plot"
      ]
    },
    {
      "cell_type": "code",
      "metadata": {
        "id": "oDxTpLhs_H0N"
      },
      "source": [
        "    plt.figure()\n",
        "    plot.svGPFA.plotUtils.plotScatter1Lag(x=utRISIs, title=title)"
      ],
      "execution_count": null,
      "outputs": []
    },
    {
      "cell_type": "markdown",
      "metadata": {
        "id": "EWaxZACW_H0Q"
      },
      "source": [
        "## Plot rescaled ISIs autorocorrelogram"
      ]
    },
    {
      "cell_type": "code",
      "metadata": {
        "id": "o42cqN_b_H0R"
      },
      "source": [
        "    acfRes, confint = statsmodels.tsa.stattools.acf(x=utRISIs, unbiased=True, alpha=0.05)\n",
        "    plt.figure()\n",
        "    plot.svGPFA.plotUtils.plotACF(acf=acfRes, Fs=1/dt, confint=confint, title=title)"
      ],
      "execution_count": null,
      "outputs": []
    },
    {
      "cell_type": "markdown",
      "metadata": {
        "id": "-AG9VXQq_H0V"
      },
      "source": [
        "# ROC predictive analysis"
      ]
    },
    {
      "cell_type": "code",
      "metadata": {
        "id": "AlGSJWp9_H0W"
      },
      "source": [
        "    pk = cifValuesKS*dtCIF\n",
        "    bins = pd.interval_range(start=0, end=T, periods=len(pk))\n",
        "    cutRes, _ = pd.cut(spikesTimesKS, bins=bins, retbins=True)\n",
        "    Y = torch.from_numpy(cutRes.value_counts().values)\n",
        "    fpr, tpr, thresholds = sklearn.metrics.roc_curve(Y, pk, pos_label=1)\n",
        "    roc_auc = sklearn.metrics.auc(fpr, tpr)\n",
        "    plt.figure()\n",
        "    plot.svGPFA.plotUtils.plotResROCAnalysis(fpr=fpr, tpr=tpr, auc=roc_auc, title=title)\n"
      ],
      "execution_count": null,
      "outputs": []
    },
    {
      "cell_type": "code",
      "metadata": {
        "id": "_WlSMqxnlPDi"
      },
      "source": [
        ""
      ],
      "execution_count": null,
      "outputs": []
    }
  ]
}