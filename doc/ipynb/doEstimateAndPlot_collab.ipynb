{
  "cells": [
    {
      "cell_type": "markdown",
      "metadata": {
        "id": "view-in-github",
        "colab_type": "text"
      },
      "source": [
        "<a href=\"https://colab.research.google.com/github/joacorapela/svGPFA/blob/master/doc/ipynb/doEstimateAndPlot_collab.ipynb\" target=\"_parent\"><img src=\"https://colab.research.google.com/assets/colab-badge.svg\" alt=\"Open In Colab\"/></a>"
      ]
    },
    {
      "cell_type": "markdown",
      "metadata": {
        "id": "dr9Xn02ogP4L"
      },
      "source": [
        "# Contents:\n",
        "- [1 Estimation](#estimation)\n",
        "- [2 Plotting](#plotting)\n",
        "- [3 GOF](#GOF)"
      ]
    },
    {
      "cell_type": "markdown",
      "metadata": {
        "id": "fN6ELszFC3Hp"
      },
      "source": [
        "# Clone repository"
      ]
    },
    {
      "cell_type": "code",
      "metadata": {
        "id": "ymMmBCac_NDp",
        "colab": {
          "base_uri": "https://localhost:8080/"
        },
        "outputId": "5b315e61-f600-4221-a056-fa60296289e5"
      },
      "source": [
        "!rm -rf svGPFA/\n",
        "!git clone -b master https://github.com/joacorapela/svGPFA.git\n",
        "%pip install git+file:///content/svGPFA\n",
        "%cd svGPFA/doc/ipynb"
      ],
      "execution_count": 1,
      "outputs": [
        {
          "output_type": "stream",
          "name": "stdout",
          "text": [
            "Cloning into 'svGPFA'...\n",
            "remote: Enumerating objects: 9408, done.\u001b[K\n",
            "remote: Counting objects: 100% (271/271), done.\u001b[K\n",
            "remote: Compressing objects: 100% (161/161), done.\u001b[K\n",
            "remote: Total 9408 (delta 136), reused 215 (delta 96), pack-reused 9137\u001b[K\n",
            "Receiving objects: 100% (9408/9408), 256.26 MiB | 18.44 MiB/s, done.\n",
            "Resolving deltas: 100% (5677/5677), done.\n",
            "Looking in indexes: https://pypi.org/simple, https://us-python.pkg.dev/colab-wheels/public/simple/\n",
            "Collecting git+file:/content/svGPFA\n",
            "  Cloning file:///content/svGPFA to /tmp/pip-req-build-yusorki5\n",
            "  Running command git clone -q file:///content/svGPFA /tmp/pip-req-build-yusorki5\n",
            "  Installing build dependencies ... \u001b[?25l\u001b[?25hdone\n",
            "  Getting requirements to build wheel ... \u001b[?25l\u001b[?25hdone\n",
            "  Installing backend dependencies ... \u001b[?25l\u001b[?25hdone\n",
            "    Preparing wheel metadata ... \u001b[?25l\u001b[?25hdone\n",
            "Requirement already satisfied: scipy in /usr/local/lib/python3.7/dist-packages (from svGPFA==1.0.0) (1.7.3)\n",
            "Collecting gcnu-common\n",
            "  Downloading gcnu_common-0.0.9-py3-none-any.whl (11 kB)\n",
            "Requirement already satisfied: torch in /usr/local/lib/python3.7/dist-packages (from svGPFA==1.0.0) (1.12.1+cu113)\n",
            "Requirement already satisfied: numpy<1.23.0,>=1.16.5 in /usr/local/lib/python3.7/dist-packages (from scipy->svGPFA==1.0.0) (1.21.6)\n",
            "Requirement already satisfied: typing-extensions in /usr/local/lib/python3.7/dist-packages (from torch->svGPFA==1.0.0) (4.1.1)\n",
            "Building wheels for collected packages: svGPFA\n",
            "  Building wheel for svGPFA (PEP 517) ... \u001b[?25l\u001b[?25hdone\n",
            "  Created wheel for svGPFA: filename=svGPFA-1.0.0-py3-none-any.whl size=55511 sha256=66d9b318deb9e00fa12a14c21edc11376738eec18ee6e97e9173dee6b0b3b7cd\n",
            "  Stored in directory: /tmp/pip-ephem-wheel-cache-pdove8m1/wheels/fd/52/31/beff060e4ee2d55882e38d6a68cdc689dcdc0134a0e63cb9ae\n",
            "Successfully built svGPFA\n",
            "Installing collected packages: gcnu-common, svGPFA\n",
            "Successfully installed gcnu-common-0.0.9 svGPFA-1.0.0\n",
            "/content/svGPFA/doc/ipynb\n"
          ]
        }
      ]
    },
    {
      "cell_type": "markdown",
      "metadata": {
        "id": "Z-_rGijHgP4Q"
      },
      "source": [
        "# 1 Estimation <a class=\"anchor\" id=\"estimation\"></a>"
      ]
    },
    {
      "cell_type": "markdown",
      "metadata": {
        "id": "DoqMvR5j_HzN"
      },
      "source": [
        "## 1.1 Import requirements"
      ]
    },
    {
      "cell_type": "code",
      "execution_count": 2,
      "metadata": {
        "id": "MeHQdcLB_HzO"
      },
      "outputs": [],
      "source": [
        "import time\n",
        "import torch\n",
        "import pickle\n",
        "import plotly.colors\n",
        "\n",
        "import svGPFA.stats.kernels\n",
        "import svGPFA.stats.svGPFAModelFactory\n",
        "import svGPFA.stats.svEM\n",
        "import svGPFA.utils.miscUtils\n",
        "import svGPFA.utils.initUtils\n",
        "import gcnu_common.stats.pointProcesses.tests"
      ]
    },
    {
      "cell_type": "markdown",
      "metadata": {
        "id": "_TVSULk5_HzT"
      },
      "source": [
        "## 1.2 Set parameters"
      ]
    },
    {
      "cell_type": "code",
      "execution_count": 3,
      "metadata": {
        "id": "mmFWGAgK_HzU"
      },
      "outputs": [],
      "source": [
        "n_latents = 2                                      # number of latents\n",
        "n_neurons = 100                                    # number of neurons\n",
        "n_trials = 15                                      # number of trials\n",
        "prior_cov_reg_param = 1e-5                         # prior covariance regularization parameter\n",
        "trials_start_time = 0.0                             # trial start time\n",
        "trials_end_time = 1.0                               # trial end time\n",
        "em_max_iter = 30                                   # maximum number of EM iterations"
      ]
    },
    {
      "cell_type": "markdown",
      "metadata": {
        "id": "mp4PiUmzgP4V"
      },
      "source": [
        "## 1.3 Load spikes times"
      ]
    },
    {
      "cell_type": "code",
      "execution_count": 4,
      "metadata": {
        "id": "NbKoYM0jgP4W"
      },
      "outputs": [],
      "source": [
        "simResFilename = \"../../examples/data/32451751_simRes.pickle\" # simulation results filename\n",
        "with open(simResFilename, \"rb\") as f:\n",
        "    simRes = pickle.load(f)\n",
        "spikes_times = simRes[\"spikes\"]"
      ]
    },
    {
      "cell_type": "markdown",
      "metadata": {
        "id": "aPf2OIoPvEQE"
      },
      "source": [
        "## 1.4 Create initial values of parameters"
      ]
    },
    {
      "cell_type": "code",
      "execution_count": 5,
      "metadata": {
        "id": "GmWqzerVvLYi",
        "colab": {
          "base_uri": "https://localhost:8080/"
        },
        "outputId": "255e9afd-0aa0-4fad-e54d-30a62756fd85"
      },
      "outputs": [
        {
          "output_type": "stream",
          "name": "stdout",
          "text": [
            "Extracted default_params[model_structure_params][n_latents]=2\n",
            "Extracted default_params[optim_params][n_quad]=200\n",
            "Extracted default_params[ind_points_params0][n_ind_points]=10\n",
            "Extracted c0 from default\n",
            "Extracted d0 from default\n",
            "Extracted trials_start_times from default\n",
            "Extracted trials_end_times from default\n",
            "Extracted k_type=exponentialQuadratic and k_lengthsale0=1.0 from default\n",
            "Extracted ind_points_locs0_layout=equidistant from default\n",
            "Extracted variational_mean0 from default\n",
            "Extracted variational_cov0 from default\n",
            "Extracted default_params[optim_params][n_quad]=200\n",
            "Extracted default_params[optim_params][prior_cov_reg_param]=1e-05\n",
            "Extracted default_params[optim_params][optim_method]=ecm\n",
            "Extracted default_params[optim_params][em_max_iter]=30\n",
            "Extracted default_params[optim_params][verbose]=True\n",
            "Extracted default_params[optim_params][estep_estimate]=True\n",
            "Extracted default_params[optim_params][estep_max_iter]=20\n",
            "Extracted default_params[optim_params][estep_lr]=1.0\n",
            "Extracted default_params[optim_params][estep_tolerance_grad]=1e-07\n",
            "Extracted default_params[optim_params][estep_tolerance_change]=1e-09\n",
            "Extracted default_params[optim_params][estep_line_search_fn]=strong_wolfe\n",
            "Extracted default_params[optim_params][mstep_embedding_estimate]=True\n",
            "Extracted default_params[optim_params][mstep_embedding_max_iter]=20\n",
            "Extracted default_params[optim_params][mstep_embedding_lr]=1.0\n",
            "Extracted default_params[optim_params][mstep_embedding_tolerance_grad]=1e-07\n",
            "Extracted default_params[optim_params][mstep_embedding_tolerance_change]=1e-09\n",
            "Extracted default_params[optim_params][mstep_embedding_line_search_fn]=strong_wolfe\n",
            "Extracted default_params[optim_params][mstep_kernels_estimate]=True\n",
            "Extracted default_params[optim_params][mstep_kernels_max_iter]=20\n",
            "Extracted default_params[optim_params][mstep_kernels_lr]=1.0\n",
            "Extracted default_params[optim_params][mstep_kernels_tolerance_grad]=1e-07\n",
            "Extracted default_params[optim_params][mstep_kernels_tolerance_change]=1e-09\n",
            "Extracted default_params[optim_params][mstep_kernels_line_search_fn]=strong_wolfe\n",
            "Extracted default_params[optim_params][mstep_indpointslocs_estimate]=True\n",
            "Extracted default_params[optim_params][mstep_indpointslocs_max_iter]=20\n",
            "Extracted default_params[optim_params][mstep_indpointslocs_lr]=1.0\n",
            "Extracted default_params[optim_params][mstep_indpointslocs_tolerance_grad]=1e-07\n",
            "Extracted default_params[optim_params][mstep_indpointslocs_tolerance_change]=1e-09\n",
            "Extracted default_params[optim_params][mstep_indpointslocs_line_search_fn]=strong_wolfe\n"
          ]
        }
      ],
      "source": [
        "# refer to this https://joacorapela.github.io/svGPFA/params.html# for a full description\n",
        "# of different ways of specify svGPFA parameters\n",
        "\n",
        "# get default params\n",
        "default_params = svGPFA.utils.initUtils.getDefaultParamsDict(\n",
        "    n_neurons=n_neurons, n_trials=n_trials, n_latents=n_latents,\n",
        "    trials_start_time=trials_start_time, trials_end_time=trials_end_time,\n",
        "    em_max_iter=em_max_iter, prior_cov_reg_param=prior_cov_reg_param)\n",
        "\n",
        "# build the svGPFA parameters from their default and dynamic specifications\n",
        "initial_params, quad_params, kernels_types, optim_params = \\\n",
        "    svGPFA.utils.initUtils.getParams(\n",
        "        n_trials=n_trials, n_neurons=n_neurons,\n",
        "        default_params=default_params)\n",
        "kernels_params0 = initial_params[\"svPosteriorOnLatents\"][\"kernelsMatricesStore\"][\"kernelsParams0\"]\n",
        "optim_method = optim_params[\"optim_method\"]\n",
        "prior_cov_reg_param = optim_params[\"prior_cov_reg_param\"]"
      ]
    },
    {
      "cell_type": "markdown",
      "metadata": {
        "id": "cXayKbg__HzZ"
      },
      "source": [
        "## 1.5 Create a model and set its initial parameters"
      ]
    },
    {
      "cell_type": "code",
      "execution_count": 6,
      "metadata": {
        "id": "GOH2JKRN_Hza"
      },
      "outputs": [],
      "source": [
        "kernels = svGPFA.utils.miscUtils.buildKernels(\n",
        "    kernels_types=kernels_types, kernels_params=kernels_params0)\n",
        "\n",
        "kernelMatrixInvMethod = svGPFA.stats.svGPFAModelFactory.kernelMatrixInvChol\n",
        "indPointsCovRep = svGPFA.stats.svGPFAModelFactory.indPointsCovChol\n",
        "model = svGPFA.stats.svGPFAModelFactory.SVGPFAModelFactory.buildModelPyTorch(\n",
        "    conditionalDist=svGPFA.stats.svGPFAModelFactory.PointProcess,\n",
        "    linkFunction=svGPFA.stats.svGPFAModelFactory.ExponentialLink,\n",
        "    embeddingType=svGPFA.stats.svGPFAModelFactory.LinearEmbedding,\n",
        "    kernels=kernels, kernelMatrixInvMethod=kernelMatrixInvMethod,\n",
        "    indPointsCovRep=indPointsCovRep)\n",
        "model.setInitialParamsAndData(\n",
        "    measurements=spikes_times,\n",
        "    initialParams=initial_params,\n",
        "    eLLCalculationParams=quad_params,\n",
        "    priorCovRegParam=prior_cov_reg_param)"
      ]
    },
    {
      "cell_type": "markdown",
      "metadata": {
        "id": "rB6s0so2_Hze"
      },
      "source": [
        "## 1.7 Maximize the Lower Bound\n",
        "<span style=\"color:red\">(Warning: with the parameters above, this step takes around 10 minutes)</span>"
      ]
    },
    {
      "cell_type": "code",
      "execution_count": null,
      "metadata": {
        "id": "ykvsp7cW_Hzf",
        "scrolled": false,
        "colab": {
          "base_uri": "https://localhost:8080/"
        },
        "outputId": "43ab7818-5f86-4aaf-86b2-8ba4f84bfa4f"
      },
      "outputs": [
        {
          "output_type": "stream",
          "name": "stdout",
          "text": [
            "Iteration 01, estep start: -inf\n",
            "Iteration 01, estep end: 126319.588307, niter: 19, nfeval: 26\n",
            "Iteration 01, mstep_embedding start: 126319.588307\n",
            "Iteration 01, mstep_embedding end: 906612.882092, niter: 13, nfeval: 25\n",
            "Iteration 01, mstep_kernels start: 906612.882092\n"
          ]
        }
      ],
      "source": [
        "svEM = svGPFA.stats.svEM.SVEM_PyTorch()\n",
        "tic = time.perf_counter()\n",
        "lowerBoundHist, elapsedTimeHist, terminationInfo, iterationsModelParams = \\\n",
        "    svEM.maximize(model=model, optim_params=optim_params, method=optim_method)\n",
        "toc = time.perf_counter()\n",
        "print(f\"Elapsed time {toc - tic:0.4f} seconds\")"
      ]
    },
    {
      "cell_type": "markdown",
      "metadata": {
        "id": "BgnOrZdlgP4c"
      },
      "source": [
        "# 2 Plotting <a class=\"anchor\" id=\"plotting\"></a>"
      ]
    },
    {
      "cell_type": "markdown",
      "metadata": {
        "id": "1hhUd_NOgP4d"
      },
      "source": [
        "## 2.1 Setup for plotting"
      ]
    },
    {
      "cell_type": "code",
      "execution_count": null,
      "metadata": {
        "id": "kj5U1z_QgP4d"
      },
      "outputs": [],
      "source": [
        "import numpy as np\n",
        "import pandas as pd\n",
        "import sklearn.metrics\n",
        "import svGPFA.plot.plotUtilsPlotly\n",
        "\n",
        "trials_colors = plotly.colors.n_colors('rgb(0, 0, 255)', 'rgb(255, 0, 0)', n_trials, colortype = 'rgb')"
      ]
    },
    {
      "cell_type": "markdown",
      "metadata": {
        "id": "Hljb2Rb6_Hzk"
      },
      "source": [
        "## 2.2 Lower bound history"
      ]
    },
    {
      "cell_type": "code",
      "execution_count": null,
      "metadata": {
        "id": "h9HwSZ9TMFYc"
      },
      "outputs": [],
      "source": [
        "fig = svGPFA.plot.plotUtilsPlotly.getPlotLowerBoundHist(lowerBoundHist=lowerBoundHist)\n",
        "fig.show()"
      ]
    },
    {
      "cell_type": "markdown",
      "metadata": {
        "id": "L3MzcuMK8tcW"
      },
      "source": [
        "## 2.3 Set neuron, latent and times to plot"
      ]
    },
    {
      "cell_type": "code",
      "execution_count": null,
      "metadata": {
        "id": "uRJ5X8vO8x5E"
      },
      "outputs": [],
      "source": [
        "neuronToPlot = 0\n",
        "latentToPlot = 0\n",
        "sampling_rate = 1000.0 # Hz\n",
        "trials_times = torch.arange(trials_start_time, trials_end_time, 1.0/sampling_rate)"
      ]
    },
    {
      "cell_type": "markdown",
      "metadata": {
        "id": "R2jvMBqj_Hzp"
      },
      "source": [
        "## 2.4 Latents"
      ]
    },
    {
      "cell_type": "code",
      "execution_count": null,
      "metadata": {
        "id": "479iGUsX_Hzq"
      },
      "outputs": [],
      "source": [
        "# plot estimated latent across trials\n",
        "testMuK, testVarK = model.predictLatents(times=trials_times)\n",
        "indPointsLocs = model.getIndPointsLocs()\n",
        "fig = svGPFA.plot.plotUtilsPlotly.getPlotLatentAcrossTrials(times=trials_times.numpy(), latentsMeans=testMuK, latentsSTDs=torch.sqrt(testVarK), indPointsLocs=indPointsLocs, latentToPlot=latentToPlot, trials_colors=trials_colors, xlabel=\"Time (msec)\")\n",
        "fig.show()"
      ]
    },
    {
      "cell_type": "markdown",
      "metadata": {
        "id": "KEPW2v33gP4f"
      },
      "source": [
        "## 2.5 Embedding"
      ]
    },
    {
      "cell_type": "code",
      "execution_count": null,
      "metadata": {
        "id": "OcIPgzlcgP4f"
      },
      "outputs": [],
      "source": [
        "embeddingMeans, embeddingVars = model.predictEmbedding(times=trials_times)\n",
        "embeddingMeans = embeddingMeans.detach().numpy()\n",
        "embeddingVars = embeddingVars.detach().numpy()\n",
        "title = \"Neuron {:d}\".format(neuronToPlot)\n",
        "fig = svGPFA.plot.plotUtilsPlotly.getPlotEmbeddingAcrossTrials(times=trials_times.numpy(), embeddingsMeans=embeddingMeans[:,:,neuronToPlot], embeddingsSTDs=np.sqrt(embeddingVars[:,:,neuronToPlot]), trials_colors=trials_colors, title=title)\n",
        "fig.show()"
      ]
    },
    {
      "cell_type": "markdown",
      "metadata": {
        "id": "BL0X0sn3tngd"
      },
      "source": [
        "## 2.6 CIFs"
      ]
    },
    {
      "cell_type": "code",
      "execution_count": null,
      "metadata": {
        "id": "mG1cUZyptryw"
      },
      "outputs": [],
      "source": [
        "\n",
        "with torch.no_grad():\n",
        "    ePosCIFValues = model.computeExpectedPosteriorCIFs(times=trials_times)\n",
        "fig = svGPFA.plot.plotUtilsPlotly.getPlotCIFsOneNeuronAllTrials(times=trials_times, cif_values=ePosCIFValues, neuron_index=neuronToPlot, trials_colors=trials_colors)                                                                                                                                      \n",
        "fig.show()"
      ]
    },
    {
      "cell_type": "markdown",
      "metadata": {
        "id": "2EBxfv0i0vnf"
      },
      "source": [
        "## 2.7 Embedding parameters"
      ]
    },
    {
      "cell_type": "code",
      "execution_count": null,
      "metadata": {
        "id": "_JpkDelS02WA"
      },
      "outputs": [],
      "source": [
        "estimatedC, estimatedD = model.getSVEmbeddingParams()\n",
        "fig = svGPFA.plot.plotUtilsPlotly.getPlotEmbeddingParams(C=estimatedC.numpy(), d=estimatedD.numpy())\n",
        "fig.show()"
      ]
    },
    {
      "cell_type": "markdown",
      "metadata": {
        "id": "NhA77H8s_Hzu"
      },
      "source": [
        "## 2.8 Kernels parameters"
      ]
    },
    {
      "cell_type": "code",
      "execution_count": null,
      "metadata": {
        "id": "2ynUe0sw_Hzv"
      },
      "outputs": [],
      "source": [
        "kernelsParams = model.getKernelsParams()\n",
        "kernelsTypes = [type(kernel).__name__ for kernel in model.getKernels()]\n",
        "fig = svGPFA.plot.plotUtilsPlotly.getPlotKernelsParams(\n",
        "    kernelsTypes=kernelsTypes, kernelsParams=kernelsParams)\n",
        "fig.show()"
      ]
    },
    {
      "cell_type": "markdown",
      "metadata": {
        "id": "_7KHo6GsgP4g"
      },
      "source": [
        "# 3 Goodness of fit (GOF) tests <a class=\"anchor\" id=\"GOF\"></a>\n"
      ]
    },
    {
      "cell_type": "markdown",
      "metadata": {
        "id": "EMB_3zl8gP4g"
      },
      "source": [
        "## 3.1 Set trial and neuron for GOF assesment"
      ]
    },
    {
      "cell_type": "code",
      "execution_count": null,
      "metadata": {
        "id": "7ePGR2ERgP4h"
      },
      "outputs": [],
      "source": [
        "trialForGOF = 0\n",
        "neuronForGOF = 0"
      ]
    },
    {
      "cell_type": "markdown",
      "metadata": {
        "id": "8VTtBxNZ_H0D"
      },
      "source": [
        "## 3.2 KS time-rescaling GOF test"
      ]
    },
    {
      "cell_type": "code",
      "execution_count": null,
      "metadata": {
        "id": "O-ReDZyFJhYF"
      },
      "outputs": [],
      "source": [
        "ksTest_gamma = 20                                 # number of simulations for the KS test numerical correction\n",
        "with torch.no_grad():\n",
        "    epmcifValues = model.computeExpectedPosteriorCIFs(times=trials_times)\n",
        "cifValuesKS = epmcifValues[trialForGOF][neuronForGOF]\n",
        "spikesTimesKS = spikes_times[trialForGOF][neuronForGOF]\n",
        "diffECDFsX, diffECDFsY, estECDFx, estECDFy, simECDFx, simECDFy, cb = gcnu_common.stats.pointProcesses.tests.KSTestTimeRescalingNumericalCorrection(spikesTimes=spikesTimesKS, cifTimes=trials_times, cifValues=cifValuesKS, gamma=ksTest_gamma)\n",
        "title = \"Trial {:d}, Neuron {:d}\".format(trialForGOF, neuronForGOF)\n",
        "fig = svGPFA.plot.plotUtilsPlotly.getPlotResKSTestTimeRescalingNumericalCorrection(diffECDFsX=diffECDFsX, diffECDFsY=diffECDFsY, estECDFx=estECDFx, estECDFy=estECDFy, simECDFx=simECDFx, simECDFy=simECDFy, cb=cb, title=title)\n",
        "fig.show()"
      ]
    },
    {
      "cell_type": "markdown",
      "metadata": {
        "id": "Gia2oYbRM8FW"
      },
      "source": [
        "## 3.3 ROC predictive analysis"
      ]
    },
    {
      "cell_type": "code",
      "execution_count": null,
      "metadata": {
        "id": "DMIfMT8yM8Fi",
        "scrolled": true
      },
      "outputs": [],
      "source": [
        "dt = (trials_times[1] - trials_times[0]).item()\n",
        "pk = cifValuesKS.detach().numpy() * dt\n",
        "bins = pd.interval_range(start=trials_start_time, end=trials_end_time, periods=len(pk))\n",
        "cutRes, _ = pd.cut(spikesTimesKS.tolist(), bins=bins, retbins=True)\n",
        "Y = cutRes.value_counts().values\n",
        "fpr, tpr, thresholds = sklearn.metrics.roc_curve(Y, pk, pos_label=1)\n",
        "roc_auc = sklearn.metrics.auc(fpr, tpr)\n",
        "title = \"Trial {:d}, Neuron {:d}\".format(trialForGOF, neuronForGOF)\n",
        "fig = svGPFA.plot.plotUtilsPlotly.getPlotResROCAnalysis(fpr=fpr, tpr=tpr, auc=roc_auc, title=title)\n",
        "fig.show()"
      ]
    }
  ],
  "metadata": {
    "colab": {
      "collapsed_sections": [],
      "name": "doEstimateAndPlot.ipynb",
      "provenance": [],
      "include_colab_link": true
    },
    "kernelspec": {
      "display_name": "Python 3",
      "language": "python",
      "name": "python3"
    },
    "language_info": {
      "codemirror_mode": {
        "name": "ipython",
        "version": 3
      },
      "file_extension": ".py",
      "mimetype": "text/x-python",
      "name": "python",
      "nbconvert_exporter": "python",
      "pygments_lexer": "ipython3",
      "version": "3.7.4"
    }
  },
  "nbformat": 4,
  "nbformat_minor": 0
}