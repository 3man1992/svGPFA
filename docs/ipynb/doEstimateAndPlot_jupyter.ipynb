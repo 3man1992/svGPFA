{
 "cells": [
  {
   "cell_type": "markdown",
   "metadata": {},
   "source": [
    "# Contents:\n",
    "- [1 Estimation](#estimation)\n",
    "- [2 Plotting](#plotting)\n",
    "- [3 GOF](#GOF)"
   ]
  },
  {
   "cell_type": "markdown",
   "metadata": {},
   "source": [
    "# 1 Estimation <a class=\"anchor\" id=\"estimation\"></a>"
   ]
  },
  {
   "cell_type": "markdown",
   "metadata": {
    "id": "DoqMvR5j_HzN"
   },
   "source": [
    "## 1.1 Import requirements"
   ]
  },
  {
   "cell_type": "code",
   "execution_count": 1,
   "metadata": {
    "colab": {
     "base_uri": "https://localhost:8080/"
    },
    "id": "MeHQdcLB_HzO",
    "outputId": "e7fdcaaf-4b75-453a-ebba-83d6bda1d14a"
   },
   "outputs": [],
   "source": [
    "import sys\n",
    "import time\n",
    "import torch\n",
    "import pickle\n",
    "\n",
    "sys.path.append(\"../../src\")\n",
    "import stats.kernels\n",
    "import stats.svGPFA.svGPFAModelFactory\n",
    "import stats.svGPFA.svEM\n",
    "import stats.pointProcess.tests                                                  \n",
    "import utils.svGPFA.miscUtils\n",
    "import utils.svGPFA.initUtils"
   ]
  },
  {
   "cell_type": "markdown",
   "metadata": {
    "id": "_TVSULk5_HzT"
   },
   "source": [
    "## 1.2 Set parameters"
   ]
  },
  {
   "cell_type": "code",
   "execution_count": 2,
   "metadata": {
    "id": "mmFWGAgK_HzU"
   },
   "outputs": [],
   "source": [
    "nLatents = 2                                      # number of latents\n",
    "nNeurons = 100                                    # number of neurons\n",
    "nTrials = 15                                      # number of trials\n",
    "nQuad = 200                                       # number of quadrature points\n",
    "nIndPoints = 9                                    # number of inducing points\n",
    "indPointsLocsKMSRegEpsilon = 1e-5                 # prior covariance regularization parameter\n",
    "trial_start_time = 0.0                            # trial start time\n",
    "trial_end_time = 1.0                              # trial end time"
   ]
  },
  {
   "cell_type": "markdown",
   "metadata": {},
   "source": [
    "## 1.3 Load spikes times"
   ]
  },
  {
   "cell_type": "code",
   "execution_count": 3,
   "metadata": {},
   "outputs": [],
   "source": [
    "# spikesTimes should be a list of lists\n",
    "# spikesTimes[r][n] is the list of spikes times of neuron n in trial r\n",
    "simResFilename = \"../../scripts/results/32451751_simRes.pickle\" # simulation results filename\n",
    "with open(simResFilename, \"rb\") as f:\n",
    "    simRes = pickle.load(f)                                                 \n",
    "spikesTimes = simRes[\"spikes\"]"
   ]
  },
  {
   "cell_type": "markdown",
   "metadata": {
    "id": "aPf2OIoPvEQE"
   },
   "source": [
    "## 1.4 Set model parameters initial values"
   ]
  },
  {
   "cell_type": "code",
   "execution_count": 4,
   "metadata": {
    "id": "GmWqzerVvLYi"
   },
   "outputs": [],
   "source": [
    "# embedding parameters initial values: uniform[0,1]\n",
    "# Duncker and Sahani, 2018, Eq. 1 (middle)\n",
    "C0 = torch.normal(mean=0.0, std=1.0, size=(nNeurons, nLatents), dtype=torch.double).contiguous()\n",
    "d0 = torch.normal(mean=0.0, std=1.0, size=(nNeurons, 1), dtype=torch.double).contiguous()\n",
    "\n",
    "# kernels of latents: all ExponentialQuadratic Kernels\n",
    "# Duncker and Sahani, 2018, Eq. 1 (top)\n",
    "kernels = [[] for r in range(nLatents)]\n",
    "for k in range(nLatents):\n",
    "    kernels[k] = stats.kernels.ExponentialQuadraticKernel()\n",
    "\n",
    "# kernels parameters initial values: all kernels have the same initial\n",
    "# lengthscale0\n",
    "# Duncker and Sahani, 2018, Eq. 1 (top)\n",
    "lengthscale0 = 1.0                                # initial value of the lengthscale parameter\n",
    "kernelsScaledParams0 = [torch.tensor([lengthscale0], dtype=torch.double)\n",
    "                        for r in range(nLatents)]\n",
    "\n",
    "# inducing points locations initial values: equally spaced nIndPoints\n",
    "# between trial_start_time and trial_end_time\n",
    "# Duncker and Sahani, 2018, paragraph above Eq. 2\n",
    "Z0 = [[] for k in range(nLatents)]\n",
    "for k in range(nLatents):\n",
    "    Z0[k] = torch.empty((nTrials, nIndPoints, 1), dtype=torch.double)\n",
    "    for r in range(nTrials):\n",
    "        Z0[k][r, :, 0] = torch.linspace(trial_start_time, trial_end_time,\n",
    "                                        nIndPoints, dtype=torch.double)\n",
    "\n",
    "# variational mean initial value: Uniform[0, 1]\n",
    "# Duncker and Sahani, 2018, m_k in paragraph above Eq. 4\n",
    "qMu0 = [[] for r in range(nLatents)]\n",
    "for k in range(nLatents):\n",
    "    qMu0[k] = torch.empty((nTrials, nIndPoints, 1), dtype=torch.double)\n",
    "    for r in range(nTrials):\n",
    "        qMu0[k][r, :, 0] = torch.normal(mean=0.0, std=1.0, size=(nIndPoints,))                                                                                                                                                                                                  \n",
    "\n",
    "# variational covariance initial value: Identity*1e-2\n",
    "# Duncker and Sahani, 2018, V_k in paragraph above Eq. 4\n",
    "diag_value = 1e-2\n",
    "qSigma0 = [[] for r in range(nLatents)]\n",
    "for k in range(nLatents):\n",
    "    qSigma0[k] = torch.empty((nTrials, nIndPoints, nIndPoints),\n",
    "                             dtype=torch.double)\n",
    "    for r in range(nTrials):\n",
    "        qSigma0[k][r, :, :] = torch.eye(nIndPoints)*diag_value\n",
    "\n",
    "# we use the Cholesky lower-triangular matrix to represent the variational\n",
    "# covariance. The following utility function extracts the lower-triangular\n",
    "# elements from its input of list matrices.\n",
    "srQSigma0Vecs = utils.svGPFA.initUtils.getSRQSigmaVecsFromSRMatrices(\n",
    "    srMatrices=qSigma0)\n",
    "\n",
    "# legendre quadrature points and weights used to calculate the integral in\n",
    "# the first term of Eq. 7 in Duncker and Sahani, 2018.\n",
    "trials_start_times = [trial_start_time for r in range(nTrials)]\n",
    "trials_end_times = [trial_end_time for r in range(nTrials)]\n",
    "legQuadPoints, legQuadWeights = \\\n",
    "    utils.svGPFA.miscUtils.getLegQuadPointsAndWeights(\n",
    "        nQuad=nQuad, trials_start_times=trials_start_times,\n",
    "        trials_end_times=trials_end_times)\n",
    "\n",
    "# Finally, we build the dictionaries of initial parameters and quadrature\n",
    "# parameters that we will use below to initialize the svGPFA model\n",
    "qUParams0 = {\"qMu0\": qMu0, \"srQSigma0Vecs\": srQSigma0Vecs}\n",
    "kmsParams0 = {\"kernelsParams0\": kernelsScaledParams0,\n",
    "              \"inducingPointsLocs0\": Z0}\n",
    "qKParams0 = {\"svPosteriorOnIndPoints\": qUParams0,\n",
    "             \"kernelsMatricesStore\": kmsParams0}\n",
    "qHParams0 = {\"C0\": C0, \"d0\": d0}\n",
    "initialParams = {\"svPosteriorOnLatents\": qKParams0,\n",
    "                 \"svEmbedding\": qHParams0}\n",
    "quadParams = {\"legQuadPoints\": legQuadPoints,\n",
    "              \"legQuadWeights\": legQuadWeights}\n"
   ]
  },
  {
   "cell_type": "code",
   "execution_count": 5,
   "metadata": {},
   "outputs": [],
   "source": [
    "qMu0[k][r, :, 0] = torch.normal(mean=0.0, std=1.0, size=(nIndPoints,))"
   ]
  },
  {
   "cell_type": "markdown",
   "metadata": {
    "id": "cXayKbg__HzZ"
   },
   "source": [
    "## 1.5 Create a model and set its initial parameters"
   ]
  },
  {
   "cell_type": "code",
   "execution_count": 6,
   "metadata": {
    "colab": {
     "base_uri": "https://localhost:8080/"
    },
    "id": "GOH2JKRN_Hza",
    "outputId": "a1e4adb6-9cef-4b24-a041-7f2766f9b1e7"
   },
   "outputs": [],
   "source": [
    "kernelMatrixInvMethod = stats.svGPFA.svGPFAModelFactory.kernelMatrixInvChol\n",
    "indPointsCovRep = stats.svGPFA.svGPFAModelFactory.indPointsCovChol\n",
    "model = stats.svGPFA.svGPFAModelFactory.SVGPFAModelFactory.buildModelPyTorch(\n",
    "    conditionalDist=stats.svGPFA.svGPFAModelFactory.PointProcess,\n",
    "    linkFunction=stats.svGPFA.svGPFAModelFactory.ExponentialLink,\n",
    "    embeddingType=stats.svGPFA.svGPFAModelFactory.LinearEmbedding,\n",
    "    kernels=kernels, kernelMatrixInvMethod=kernelMatrixInvMethod,\n",
    "    indPointsCovRep=indPointsCovRep)\n",
    "model.setInitialParamsAndData(\n",
    "    measurements=spikesTimes,\n",
    "    initialParams=initialParams,\n",
    "    eLLCalculationParams=quadParams,\n",
    "    indPointsLocsKMSRegEpsilon=indPointsLocsKMSRegEpsilon)"
   ]
  },
  {
   "cell_type": "markdown",
   "metadata": {
    "id": "YqU28BLw5T6j"
   },
   "source": [
    "## 1.6 Set the optimization parameters"
   ]
  },
  {
   "cell_type": "code",
   "execution_count": 7,
   "metadata": {
    "id": "V2IJjBAK5Y87"
   },
   "outputs": [],
   "source": [
    "optimMethod = \"EM\"\n",
    "optimParams = dict(\n",
    "    em_max_iter=30,\n",
    "    #\n",
    "    estep_estimate=True,\n",
    "    estep_optim_params=dict(\n",
    "        max_iter=20,\n",
    "        lr=1.0,\n",
    "        tolerance_grad=1e-7,\n",
    "        tolerance_change=1e-9,\n",
    "        line_search_fn=\"strong_wolfe\"\n",
    "    ),\n",
    "    #\n",
    "    mstep_embedding_estimate=True,\n",
    "    mstep_embedding_optim_params=dict(\n",
    "        max_iter=20,\n",
    "        lr=1.0,\n",
    "        tolerance_grad=1e-7,\n",
    "        tolerance_change=1e-9,\n",
    "        line_search_fn=\"strong_wolfe\"\n",
    "    ),\n",
    "    #\n",
    "    mstep_kernels_estimate=True,\n",
    "    mstep_kernels_optim_params=dict(\n",
    "        max_iter=20,\n",
    "        lr=1.0,\n",
    "        tolerance_grad=1e-7,\n",
    "        tolerance_change=1e-9,\n",
    "        line_search_fn=\"strong_wolfe\"\n",
    "    ),\n",
    "    #\n",
    "    mstep_indpointslocs_estimate=True,\n",
    "    mstep_indpointslocs_optim_params=dict(\n",
    "        max_iter=20,\n",
    "        lr=1.0,\n",
    "        tolerance_grad=1e-7,\n",
    "        tolerance_change=1e-9,\n",
    "        line_search_fn=\"strong_wolfe\"\n",
    "    ),\n",
    "    verbose=True\n",
    ")"
   ]
  },
  {
   "cell_type": "markdown",
   "metadata": {
    "id": "rB6s0so2_Hze"
   },
   "source": [
    "## 1.7 Maximize the Lower Bound\n",
    "<span style=\"color:red\">(Warning: with the parameters above, this step takes around 15 minutes)</span>"
   ]
  },
  {
   "cell_type": "code",
   "execution_count": null,
   "metadata": {
    "colab": {
     "base_uri": "https://localhost:8080/"
    },
    "id": "ykvsp7cW_Hzf",
    "outputId": "bf464ac2-7e0c-4da8-959a-b09b6af2f756",
    "scrolled": false
   },
   "outputs": [
    {
     "name": "stdout",
     "output_type": "stream",
     "text": [
      "Iteration 01, estep start: -inf\n",
      "Iteration 01, estep end: -2014.637965, niter: 15, nfeval: 26\n",
      "Iteration 01, mstep_embedding start: -2014.637965\n",
      "Iteration 01, mstep_embedding end: 720762.646155, niter: 11, nfeval: 25\n",
      "Iteration 01, mstep_kernels start: 720762.646155\n",
      "Iteration 01, mstep_kernels end: 719725.429823, niter: 11, nfeval: 19\n",
      "Iteration 01, mstep_indpointslocs start: 719725.429823\n"
     ]
    }
   ],
   "source": [
    "svEM = stats.svGPFA.svEM.SVEM_PyTorch()\n",
    "tic = time.perf_counter()\n",
    "lowerBoundHist, elapsedTimeHist, terminationInfo, iterationsModelParams = \\\n",
    "    svEM.maximize(model=model, optimParams=optimParams, method=optimMethod)\n",
    "toc = time.perf_counter()\n",
    "print(f\"Elapsed time {toc - tic:0.4f} seconds\")"
   ]
  },
  {
   "cell_type": "markdown",
   "metadata": {},
   "source": [
    "# 2 Plotting <a class=\"anchor\" id=\"plotting\"></a>"
   ]
  },
  {
   "cell_type": "markdown",
   "metadata": {},
   "source": [
    "## 2.1 Imports for plotting"
   ]
  },
  {
   "cell_type": "code",
   "execution_count": null,
   "metadata": {},
   "outputs": [],
   "source": [
    "import numpy as np\n",
    "import pandas as pd\n",
    "import sklearn.metrics\n",
    "import plot.svGPFA.plotUtilsPlotly"
   ]
  },
  {
   "cell_type": "markdown",
   "metadata": {
    "id": "Hljb2Rb6_Hzk"
   },
   "source": [
    "## 2.2 Lower bound history"
   ]
  },
  {
   "cell_type": "code",
   "execution_count": null,
   "metadata": {
    "colab": {
     "base_uri": "https://localhost:8080/",
     "height": 467
    },
    "id": "h9HwSZ9TMFYc",
    "outputId": "e37e7c66-84f6-4f82-b89d-550017700f9c"
   },
   "outputs": [],
   "source": [
    "fig = plot.svGPFA.plotUtilsPlotly.getPlotLowerBoundHist(lowerBoundHist=lowerBoundHist)\n",
    "fig.show()"
   ]
  },
  {
   "cell_type": "markdown",
   "metadata": {
    "id": "L3MzcuMK8tcW"
   },
   "source": [
    "## 2.3 Set neuron, latent and times to plot"
   ]
  },
  {
   "cell_type": "code",
   "execution_count": null,
   "metadata": {
    "id": "uRJ5X8vO8x5E"
   },
   "outputs": [],
   "source": [
    "neuronToPlot = 0\n",
    "latentToPlot = 0\n",
    "sampling_rate = 1000.0 # Hz\n",
    "trial_times = torch.arange(trial_start_time, trial_end_time, 1.0/sampling_rate)"
   ]
  },
  {
   "cell_type": "markdown",
   "metadata": {
    "id": "R2jvMBqj_Hzp"
   },
   "source": [
    "## 2.4 Latents"
   ]
  },
  {
   "cell_type": "code",
   "execution_count": null,
   "metadata": {
    "colab": {
     "base_uri": "https://localhost:8080/",
     "height": 467
    },
    "id": "479iGUsX_Hzq",
    "outputId": "1d8c999b-7fae-48a9-d2a0-69aea71991a8"
   },
   "outputs": [],
   "source": [
    "# plot estimated latent across trials\n",
    "testMuK, testVarK = model.predictLatents(times=trial_times)\n",
    "indPointsLocs = model.getIndPointsLocs()\n",
    "fig = plot.svGPFA.plotUtilsPlotly.getPlotLatentAcrossTrials(times=trial_times.numpy(), latentsMeans=testMuK, latentsSTDs=torch.sqrt(testVarK), indPointsLocs=indPointsLocs, latentToPlot=latentToPlot, xlabel=\"Time (msec)\")\n",
    "fig.show()"
   ]
  },
  {
   "cell_type": "markdown",
   "metadata": {},
   "source": [
    "## 2.5 Embedding"
   ]
  },
  {
   "cell_type": "code",
   "execution_count": null,
   "metadata": {},
   "outputs": [],
   "source": [
    "embeddingMeans, embeddingVars = model.predictEmbedding(times=trial_times)\n",
    "embeddingMeans = embeddingMeans.detach().numpy()\n",
    "embeddingVars = embeddingVars.detach().numpy()\n",
    "title = \"Neuron {:d}\".format(neuronToPlot)\n",
    "fig = plot.svGPFA.plotUtilsPlotly.getPlotEmbeddingAcrossTrials(times=trial_times.numpy(), embeddingsMeans=embeddingMeans[:,:,neuronToPlot], embeddingsSTDs=np.sqrt(embeddingVars[:,:,neuronToPlot]), title=title)\n",
    "fig.show()"
   ]
  },
  {
   "cell_type": "markdown",
   "metadata": {
    "id": "BL0X0sn3tngd"
   },
   "source": [
    "## 2.6 CIFs"
   ]
  },
  {
   "cell_type": "code",
   "execution_count": null,
   "metadata": {
    "colab": {
     "base_uri": "https://localhost:8080/",
     "height": 467
    },
    "id": "mG1cUZyptryw",
    "outputId": "9bbafc13-5afe-4c56-8a08-79a0ff789d63"
   },
   "outputs": [],
   "source": [
    "with torch.no_grad():\n",
    "    ePosCIFValues = model.computeExpectedPosteriorCIFs(times=trial_times)\n",
    "fig = plot.svGPFA.plotUtilsPlotly.getPlotCIFsOneNeuronAllTrials(times=trial_times, cif_values=ePosCIFValues, neuron_index=neuronToPlot)                                                                                                                                      \n",
    "fig.show()"
   ]
  },
  {
   "cell_type": "markdown",
   "metadata": {
    "id": "2EBxfv0i0vnf"
   },
   "source": [
    "## 2.7 Embedding parameters"
   ]
  },
  {
   "cell_type": "code",
   "execution_count": null,
   "metadata": {
    "colab": {
     "base_uri": "https://localhost:8080/",
     "height": 467
    },
    "id": "_JpkDelS02WA",
    "outputId": "38c9cea7-71d5-4028-bd74-c4714e7db0ef"
   },
   "outputs": [],
   "source": [
    "estimatedC, estimatedD = model.getSVEmbeddingParams()\n",
    "fig = plot.svGPFA.plotUtilsPlotly.getPlotEmbeddingParams(C=estimatedC.numpy(), d=estimatedD.numpy())\n",
    "fig.show()"
   ]
  },
  {
   "cell_type": "markdown",
   "metadata": {
    "id": "NhA77H8s_Hzu"
   },
   "source": [
    "## 2.8 Kernels parameters"
   ]
  },
  {
   "cell_type": "code",
   "execution_count": null,
   "metadata": {
    "colab": {
     "base_uri": "https://localhost:8080/",
     "height": 467
    },
    "id": "2ynUe0sw_Hzv",
    "outputId": "93fe62c1-e0c9-4a70-a4a1-6dce732c305e"
   },
   "outputs": [],
   "source": [
    "kernelsParams = model.getKernelsParams()\n",
    "kernelsTypes = [type(kernel).__name__ for kernel in model.getKernels()]\n",
    "fig = plot.svGPFA.plotUtilsPlotly.getPlotKernelsParams(\n",
    "    kernelsTypes=kernelsTypes, kernelsParams=kernelsParams)\n",
    "fig.show()"
   ]
  },
  {
   "cell_type": "markdown",
   "metadata": {},
   "source": [
    "# 3 Goodness of fit (GOF) <a class=\"anchor\" id=\"GOF\"></a>"
   ]
  },
  {
   "cell_type": "markdown",
   "metadata": {},
   "source": [
    "## 3.1 Set trial and neuron for GOF assesment"
   ]
  },
  {
   "cell_type": "code",
   "execution_count": null,
   "metadata": {},
   "outputs": [],
   "source": [
    "trialForGOF = 0\n",
    "neuronForGOF = 0"
   ]
  },
  {
   "cell_type": "markdown",
   "metadata": {
    "id": "8VTtBxNZ_H0D"
   },
   "source": [
    "## 3.2 KS time-rescaling GOF test"
   ]
  },
  {
   "cell_type": "code",
   "execution_count": null,
   "metadata": {
    "colab": {
     "base_uri": "https://localhost:8080/",
     "height": 482
    },
    "id": "O-ReDZyFJhYF",
    "outputId": "458ce9e9-8fcc-42fc-a17e-85aca63fff79"
   },
   "outputs": [],
   "source": [
    "ksTest_gamma = 20                                 # number of simulations for the KS test numerical correction\n",
    "with torch.no_grad():                                                                                                                                                                                                                                                             \n",
    "    epmcifValues = model.computeExpectedPosteriorCIFs(times=trial_times)\n",
    "cifValuesKS = epmcifValues[trialForGOF][neuronForGOF]\n",
    "spikesTimesKS = spikesTimes[trialForGOF][neuronForGOF]\n",
    "diffECDFsX, diffECDFsY, estECDFx, estECDFy, simECDFx, simECDFy, cb = stats.pointProcess.tests.KSTestTimeRescalingNumericalCorrection(spikesTimes=spikesTimesKS, cifTimes=trial_times, cifValues=cifValuesKS, gamma=ksTest_gamma)\n",
    "title = \"Trial {:d}, Neuron {:d}\".format(trialForGOF, neuronForGOF)\n",
    "fig = plot.svGPFA.plotUtilsPlotly.getPlotResKSTestTimeRescalingNumericalCorrection(diffECDFsX=diffECDFsX, diffECDFsY=diffECDFsY, estECDFx=estECDFx, estECDFy=estECDFy, simECDFx=simECDFx, simECDFy=simECDFy, cb=cb, title=title)\n",
    "fig.show()"
   ]
  },
  {
   "cell_type": "markdown",
   "metadata": {
    "id": "Gia2oYbRM8FW"
   },
   "source": [
    "## 3.3 ROC predictive analysis"
   ]
  },
  {
   "cell_type": "code",
   "execution_count": null,
   "metadata": {
    "colab": {
     "base_uri": "https://localhost:8080/",
     "height": 295
    },
    "id": "DMIfMT8yM8Fi",
    "outputId": "3ec6c63c-4b5e-47d5-f422-ef29fd57e4ad",
    "scrolled": true
   },
   "outputs": [],
   "source": [
    "dt = (trial_times[1] - trial_times[0]).item()\n",
    "pk = cifValuesKS.detach().numpy() * dt\n",
    "bins = pd.interval_range(start=trial_start_time, end=trial_end_time, periods=len(pk))\n",
    "cutRes, _ = pd.cut(spikesTimesKS.tolist(), bins=bins, retbins=True)\n",
    "Y = cutRes.value_counts().values\n",
    "fpr, tpr, thresholds = sklearn.metrics.roc_curve(Y, pk, pos_label=1)\n",
    "roc_auc = sklearn.metrics.auc(fpr, tpr)\n",
    "title = \"Trial {:d}, Neuron {:d}\".format(trialForGOF, neuronForGOF)\n",
    "fig = plot.svGPFA.plotUtilsPlotly.getPlotResROCAnalysis(fpr=fpr, tpr=tpr, auc=roc_auc, title=title)\n",
    "fig.show()"
   ]
  }
 ],
 "metadata": {
  "colab": {
   "collapsed_sections": [],
   "include_colab_link": true,
   "name": "doEstimateAndPlot.ipynb",
   "provenance": []
  },
  "kernelspec": {
   "display_name": "Python 3",
   "language": "python",
   "name": "python3"
  },
  "language_info": {
   "codemirror_mode": {
    "name": "ipython",
    "version": 3
   },
   "file_extension": ".py",
   "mimetype": "text/x-python",
   "name": "python",
   "nbconvert_exporter": "python",
   "pygments_lexer": "ipython3",
   "version": "3.7.4"
  }
 },
 "nbformat": 4,
 "nbformat_minor": 1
}
